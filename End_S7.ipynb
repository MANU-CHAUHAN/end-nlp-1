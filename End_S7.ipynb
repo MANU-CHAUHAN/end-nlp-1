{
  "nbformat": 4,
  "nbformat_minor": 0,
  "metadata": {
    "colab": {
      "name": "End S7 Sen Analysis using LSTM RNN.ipynb",
      "provenance": [],
      "collapsed_sections": []
    },
    "kernelspec": {
      "name": "python3",
      "display_name": "Python 3"
    },
    "accelerator": "GPU"
  },
  "cells": [
    {
      "cell_type": "markdown",
      "metadata": {
        "id": "GYiRsFGD6iUC"
      },
      "source": [
        "# 0 TorchText"
      ]
    },
    {
      "cell_type": "markdown",
      "metadata": {
        "id": "tp5IzBGsPGHs"
      },
      "source": [
        "## Dataset Preview\n",
        "\n",
        "Your first step to deep learning in NLP. We will be mostly using PyTorch. Just like torchvision, PyTorch provides an official library, torchtext, for handling text-processing pipelines. \n",
        "\n",
        "We will be using previous session tweet dataset. Let's just preview the dataset."
      ]
    },
    {
      "cell_type": "code",
      "metadata": {
        "colab": {
          "base_uri": "https://localhost:8080/"
        },
        "id": "QT0yleQ-fn-k",
        "outputId": "60e3bb9f-ba6e-4c1d-b106-0d7d73a2970b"
      },
      "source": [
        "from google.colab import drive\r\n",
        "drive.mount('/content/drive')"
      ],
      "execution_count": 43,
      "outputs": [
        {
          "output_type": "stream",
          "text": [
            "Drive already mounted at /content/drive; to attempt to forcibly remount, call drive.mount(\"/content/drive\", force_remount=True).\n"
          ],
          "name": "stdout"
        }
      ]
    },
    {
      "cell_type": "code",
      "metadata": {
        "id": "1SpyRqKYfqBd"
      },
      "source": [
        "file = \"/content/drive/My Drive/tweets.csv\""
      ],
      "execution_count": 44,
      "outputs": []
    },
    {
      "cell_type": "code",
      "metadata": {
        "id": "o1-Yz-5RRFYc",
        "colab": {
          "base_uri": "https://localhost:8080/",
          "height": 204
        },
        "outputId": "c0ca5ca4-5b29-45d3-a0f7-2999cbdc6040"
      },
      "source": [
        "import pandas as pd\n",
        "df = pd.read_csv(file)\n",
        "df.head()"
      ],
      "execution_count": 45,
      "outputs": [
        {
          "output_type": "execute_result",
          "data": {
            "text/html": [
              "<div>\n",
              "<style scoped>\n",
              "    .dataframe tbody tr th:only-of-type {\n",
              "        vertical-align: middle;\n",
              "    }\n",
              "\n",
              "    .dataframe tbody tr th {\n",
              "        vertical-align: top;\n",
              "    }\n",
              "\n",
              "    .dataframe thead th {\n",
              "        text-align: right;\n",
              "    }\n",
              "</style>\n",
              "<table border=\"1\" class=\"dataframe\">\n",
              "  <thead>\n",
              "    <tr style=\"text-align: right;\">\n",
              "      <th></th>\n",
              "      <th>tweets</th>\n",
              "      <th>labels</th>\n",
              "    </tr>\n",
              "  </thead>\n",
              "  <tbody>\n",
              "    <tr>\n",
              "      <th>0</th>\n",
              "      <td>Obama has called the GOP budget social Darwini...</td>\n",
              "      <td>1</td>\n",
              "    </tr>\n",
              "    <tr>\n",
              "      <th>1</th>\n",
              "      <td>In his teen years, Obama has been known to use...</td>\n",
              "      <td>0</td>\n",
              "    </tr>\n",
              "    <tr>\n",
              "      <th>2</th>\n",
              "      <td>IPA Congratulates President Barack Obama for L...</td>\n",
              "      <td>0</td>\n",
              "    </tr>\n",
              "    <tr>\n",
              "      <th>3</th>\n",
              "      <td>RT @Professor_Why: #WhatsRomneyHiding - his co...</td>\n",
              "      <td>0</td>\n",
              "    </tr>\n",
              "    <tr>\n",
              "      <th>4</th>\n",
              "      <td>RT @wardollarshome: Obama has approved more ta...</td>\n",
              "      <td>1</td>\n",
              "    </tr>\n",
              "  </tbody>\n",
              "</table>\n",
              "</div>"
            ],
            "text/plain": [
              "                                              tweets  labels\n",
              "0  Obama has called the GOP budget social Darwini...       1\n",
              "1  In his teen years, Obama has been known to use...       0\n",
              "2  IPA Congratulates President Barack Obama for L...       0\n",
              "3  RT @Professor_Why: #WhatsRomneyHiding - his co...       0\n",
              "4  RT @wardollarshome: Obama has approved more ta...       1"
            ]
          },
          "metadata": {
            "tags": []
          },
          "execution_count": 45
        }
      ]
    },
    {
      "cell_type": "code",
      "metadata": {
        "id": "R7JdpCW-YbAG",
        "colab": {
          "base_uri": "https://localhost:8080/"
        },
        "outputId": "6c656219-54a9-4be3-da8b-b6218d5c90ba"
      },
      "source": [
        "df.shape"
      ],
      "execution_count": 46,
      "outputs": [
        {
          "output_type": "execute_result",
          "data": {
            "text/plain": [
              "(1364, 2)"
            ]
          },
          "metadata": {
            "tags": []
          },
          "execution_count": 46
        }
      ]
    },
    {
      "cell_type": "code",
      "metadata": {
        "id": "zqRsoF6xYdgl",
        "colab": {
          "base_uri": "https://localhost:8080/"
        },
        "outputId": "6205bb99-a97b-4655-95f9-0db6d3b4e994"
      },
      "source": [
        "df.labels.value_counts()"
      ],
      "execution_count": 47,
      "outputs": [
        {
          "output_type": "execute_result",
          "data": {
            "text/plain": [
              "0    931\n",
              "1    352\n",
              "2     81\n",
              "Name: labels, dtype: int64"
            ]
          },
          "metadata": {
            "tags": []
          },
          "execution_count": 47
        }
      ]
    },
    {
      "cell_type": "markdown",
      "metadata": {
        "id": "XJ6o_79ISSVb"
      },
      "source": [
        "## Defining Fields"
      ]
    },
    {
      "cell_type": "markdown",
      "metadata": {
        "id": "e63g08ijOrf7"
      },
      "source": [
        "Now we shall be defining LABEL as a LabelField, which is a subclass of Field that sets sequen tial to False (as it’s our numerical category class). TWEET is a standard Field object, where we have decided to use the spaCy tokenizer and convert all the text to lower‐ case."
      ]
    },
    {
      "cell_type": "code",
      "metadata": {
        "id": "qk8IP4SK1Lrp",
        "colab": {
          "base_uri": "https://localhost:8080/"
        },
        "outputId": "0ceb19c5-82bd-49a0-97ee-062ef75094b8"
      },
      "source": [
        "# Import Library\n",
        "import random\n",
        "import torch, torchtext\n",
        "from torchtext import data \n",
        "\n",
        "# Manual Seed\n",
        "SEED = 43\n",
        "torch.manual_seed(SEED)"
      ],
      "execution_count": 105,
      "outputs": [
        {
          "output_type": "execute_result",
          "data": {
            "text/plain": [
              "<torch._C.Generator at 0x7f589f2d1c78>"
            ]
          },
          "metadata": {
            "tags": []
          },
          "execution_count": 105
        }
      ]
    },
    {
      "cell_type": "code",
      "metadata": {
        "id": "u6bKQax2Mf_U"
      },
      "source": [
        "Tweet = data.Field(sequential = True, tokenize = 'spacy', batch_first =True, include_lengths=True)\n",
        "Label = data.LabelField(tokenize ='spacy', is_target=True, batch_first =True, sequential =False)"
      ],
      "execution_count": 144,
      "outputs": []
    },
    {
      "cell_type": "markdown",
      "metadata": {
        "id": "mX-lYIe_O7Vy"
      },
      "source": [
        "Having defined those fields, we now need to produce a list that maps them onto the list of rows that are in the CSV:"
      ]
    },
    {
      "cell_type": "code",
      "metadata": {
        "id": "VawdWq36O6td"
      },
      "source": [
        "fields = [('tweets', Tweet),('labels',Label)]"
      ],
      "execution_count": 145,
      "outputs": []
    },
    {
      "cell_type": "markdown",
      "metadata": {
        "id": "ZbtZ-Ph2P1xL"
      },
      "source": [
        "Armed with our declared fields, lets convert from pandas to list to torchtext. We could also use TabularDataset to apply that definition to the CSV directly but showing an alternative approach too."
      ]
    },
    {
      "cell_type": "code",
      "metadata": {
        "id": "L3OLcJ5B7rHz"
      },
      "source": [
        "example = [data.Example.fromlist([df.tweets[i],df.labels[i]], fields) for i in range(df.shape[0])] "
      ],
      "execution_count": 213,
      "outputs": []
    },
    {
      "cell_type": "code",
      "metadata": {
        "id": "nT-flpH-P1cd"
      },
      "source": [
        "# Creating dataset\n",
        "#twitterDataset = data.TabularDataset(path=\"tweets.csv\", format=\"CSV\", fields=fields, skip_header=True)\n",
        "\n",
        "twitterDataset = data.Dataset(example, fields)"
      ],
      "execution_count": 214,
      "outputs": []
    },
    {
      "cell_type": "markdown",
      "metadata": {
        "id": "g6ZnyCPaR08F"
      },
      "source": [
        "Finally, we can split into training, testing, and validation sets by using the split() method:"
      ]
    },
    {
      "cell_type": "code",
      "metadata": {
        "id": "uPYXyuKhRpBk"
      },
      "source": [
        "(train, valid) = twitterDataset.split(split_ratio=[0.85, 0.15], random_state=random.seed(SEED))"
      ],
      "execution_count": 215,
      "outputs": []
    },
    {
      "cell_type": "code",
      "metadata": {
        "id": "ykvsCGQMR6UD",
        "colab": {
          "base_uri": "https://localhost:8080/"
        },
        "outputId": "e6274b0d-535e-4399-c56f-e1c891b502a2"
      },
      "source": [
        "(len(train), len(valid))"
      ],
      "execution_count": 216,
      "outputs": [
        {
          "output_type": "execute_result",
          "data": {
            "text/plain": [
              "(1159, 205)"
            ]
          },
          "metadata": {
            "tags": []
          },
          "execution_count": 216
        }
      ]
    },
    {
      "cell_type": "markdown",
      "metadata": {
        "id": "kix8P2IKSBaV"
      },
      "source": [
        "An example from the dataset:"
      ]
    },
    {
      "cell_type": "code",
      "metadata": {
        "id": "dUpEOQruR9JL",
        "colab": {
          "base_uri": "https://localhost:8080/"
        },
        "outputId": "2cef3ecc-3d99-4e23-b583-0799e81c4513"
      },
      "source": [
        "vars(train.examples[10])"
      ],
      "execution_count": 217,
      "outputs": [
        {
          "output_type": "execute_result",
          "data": {
            "text/plain": [
              "{'labels': 0,\n",
              " 'tweets': ['Obama',\n",
              "  ',',\n",
              "  'Romney',\n",
              "  'agree',\n",
              "  ':',\n",
              "  'Admit',\n",
              "  'women',\n",
              "  'to',\n",
              "  'Augusta',\n",
              "  'golf',\n",
              "  'club',\n",
              "  ':',\n",
              "  'US',\n",
              "  'President',\n",
              "  'Barack',\n",
              "  'Obama',\n",
              "  'believes',\n",
              "  'women',\n",
              "  'should',\n",
              "  'be',\n",
              "  'allowe',\n",
              "  '...',\n",
              "  'http://t.co/PVKrepqI']}"
            ]
          },
          "metadata": {
            "tags": []
          },
          "execution_count": 217
        }
      ]
    },
    {
      "cell_type": "markdown",
      "metadata": {
        "id": "AKdllP3FST4N"
      },
      "source": [
        "## Building Vocabulary"
      ]
    },
    {
      "cell_type": "markdown",
      "metadata": {
        "id": "SuvWQ-SpSmSz"
      },
      "source": [
        "At this point we would have built a one-hot encoding of each word that is present in the dataset—a rather tedious process. Thankfully, torchtext will do this for us, and will also allow a max_size parameter to be passed in to limit the vocabu‐ lary to the most common words. This is normally done to prevent the construction of a huge, memory-hungry model. We don’t want our GPUs too overwhelmed, after all. \n",
        "\n",
        "Let’s limit the vocabulary to a maximum of 5000 words in our training set:\n"
      ]
    },
    {
      "cell_type": "code",
      "metadata": {
        "id": "mx955u93SGeY"
      },
      "source": [
        "Tweet.build_vocab(train)\n",
        "Label.build_vocab(train)"
      ],
      "execution_count": 218,
      "outputs": []
    },
    {
      "cell_type": "markdown",
      "metadata": {
        "id": "xvyEeEjXTGhX"
      },
      "source": [
        "By default, torchtext will add two more special tokens, <unk> for unknown words and <pad>, a padding token that will be used to pad all our text to roughly the same size to help with efficient batching on the GPU."
      ]
    },
    {
      "cell_type": "code",
      "metadata": {
        "id": "rA3tIESdcJdN",
        "colab": {
          "base_uri": "https://localhost:8080/"
        },
        "outputId": "02b686d1-8330-4bd0-f301-d073f23d6731"
      },
      "source": [
        "print('Size of input vocab : ', len(Tweet.vocab))\n",
        "print('Size of label vocab : ', len(Label.vocab))\n",
        "print('Top 10 words appreared repeatedly :', list(Tweet.vocab.freqs.most_common(10)))\n",
        "print('Labels : ', Label.vocab.stoi)\n",
        "print(Tweet.vocab.stoi)"
      ],
      "execution_count": 219,
      "outputs": [
        {
          "output_type": "stream",
          "text": [
            "Size of input vocab :  4651\n",
            "Size of label vocab :  3\n",
            "Top 10 words appreared repeatedly : [('Obama', 1069), (':', 783), ('#', 780), ('.', 761), (',', 598), ('\"', 550), ('the', 542), ('RT', 516), ('?', 419), ('to', 400)]\n",
            "Labels :  defaultdict(<function _default_unk_index at 0x7f58507d0598>, {0: 0, 1: 1, 2: 2})\n",
            "defaultdict(<function _default_unk_index at 0x7f58507d0598>, {'<unk>': 0, '<pad>': 1, 'Obama': 2, ':': 3, '#': 4, '.': 5, ',': 6, '\"': 7, 'the': 8, 'RT': 9, '?': 10, 'to': 11, \"'s\": 12, 'of': 13, 'a': 14, 'you': 15, 'is': 16, '!': 17, 'with': 18, '-': 19, 'in': 20, 'on': 21, 'and': 22, 'I': 23, 'kid': 24, 'for': 25, '...': 26, 'he': 27, 'that': 28, 'WhatsRomneyHiding': 29, 'from': 30, 'do': 31, 'like': 32, ' ': 33, 'his': 34, 'Romney': 35, 'have': 36, 'President': 37, 'You': 38, 'So': 39, 'go': 40, \"'re\": 41, 'American': 42, 'Do': 43, 'at': 44, 'has': 45, 'cool': 46, \"'\": 47, '&': 48, 'British': 49, 'Mcdonalds': 50, 'Ohhh': 51, 'UK': 52, 'Queen': 53, 'tea': 54, '@ohgirlphrase': 55, 'not': 56, 'it': 57, 'GOP': 58, 'can': 59, \"n't\": 60, 'The': 61, 'be': 62, 'Barack': 63, 'obama': 64, 'tcot': 65, 'we': 66, 'will': 67, 'years': 68, 'Pres': 69, 'says': 70, 'are': 71, 'so': 72, 'about': 73, 'via': 74, 'was': 75, '@edshow': 76, 'but': 77, 'all': 78, ')': 79, 'In': 80, '%': 81, '(': 82, '@markknoller': 83, 'Mitt': 84, 'A': 85, 'just': 86, 'Court': 87, 'That': 88, 'wait': 89, 'Michelle': 90, 'get': 91, 'if': 92, 'who': 93, 'this': 94, 'Harvard': 95, 'campaign': 96, 'OBAMA': 97, 'US': 98, 'been': 99, 'they': 100, 'women': 101, 'any': 102, 'how': 103, 'Iran': 104, 'Oh': 105, 'up': 106, '2012': 107, 'If': 108, 'Is': 109, 'Supreme': 110, 'edshow': 111, 'p2': 112, 'time': 113, 'too': 114, 'use': 115, 'would': 116, '2': 117, '4': 118, 'by': 119, 'debate': 120, 'know': 121, 'should': 122, 'your': 123, ';': 124, 'He': 125, 'budget': 126, 'college': 127, 'now': 128, 'really': 129, 'as': 130, 'social': 131, 'It': 132, 'This': 133, 'believe': 134, 'my': 135, 'need': 136, 'tax': 137, 'what': 138, '$': 139, '..': 140, 'Americans': 141, 'i': 142, 'known': 143, 'were': 144, \"'d\": 145, 'Augusta': 146, 'cocaine': 147, 'going': 148, 'him': 149, 'marijuana': 150, 'or': 151, 'out': 152, 'teen': 153, 'more': 154, 'our': 155, \"'m\": 156, 'Act': 157, 'law': 158, 'most': 159, 'records': 160, 'say': 161, 'why': 162, 'Budget': 163, 'U.S.': 164, 'again': 165, 'an': 166, 'important': 167, 'much': 168, 'over': 169, 'than': 170, 'think': 171, 'tlot': 172, 'white': 173, '|': 174, '/': 175, '@JeffersonObama': 176, 'How': 177, 'Israel': 178, 'To': 179, 'does': 180, 'gas': 181, 'make': 182, 'one': 183, 'House': 184, 'Syria': 185, 'did': 186, 'president': 187, 'when': 188, 'America': 189, 'Campaign': 190, 'His': 191, 'big': 192, 'hiding': 193, 'returns': 194, 'JOBS': 195, 'What': 196, 'back': 197, 'fun': 198, 'into': 199, 'me': 200, 'nuke': 201, 'person': 202, 'support': 203, '....': 204, 'Holder': 205, 'No': 206, 'States': 207, 'With': 208, 'am': 209, 'before': 210, 'birth': 211, 'bully': 212, 'call': 213, 'good': 214, 'issue': 215, 'passed': 216, 'spending': 217, 'tweet': 218, 'whatsromneyhiding': 219, '*': 220, 'And': 221, 'For': 222, 'Harry': 223, 'Ignatius': 224, 'Muslim': 225, 'United': 226, 'We': 227, 'Why': 228, 'Women': 229, 'care': 230, 'certificate': 231, 'golf': 232, 'had': 233, 'hope': 234, 'let': 235, 'public': 236, 'signaled': 237, 'talking': 238, 'teaparty': 239, 'them': 240, 'thug': 241, 'truth': 242, '=': 243, '@MittRomney': 244, 'accept': 245, 'ca': 246, 'called': 247, 'could': 248, 'de': 249, 'only': 250, 'smart': 251, 'then': 252, 'things': 253, 'vote': 254, 'want': 255, '@BarackObama': 256, '@thinkprogress': 257, 'AT': 258, 'Darwinism': 259, 'National': 260, 'News': 261, 'Nice': 262, 'Says': 263, '[': 264, ']': 265, 'because': 266, 'blasts': 267, 'creationism': 268, 'degrees': 269, 'fundraiser': 270, 'got': 271, 'man': 272, 'name': 273, 'nt': 274, 'people': 275, 'right': 276, 'share': 277, 'side': 278, 'still': 279, 'there': 280, 'transcripts': 281, 'try': 282, 'two': 283, '62': 284, '@youtube': 285, 'Administration': 286, 'Bill': 287, 'Brotherhood': 288, 'Comment': 289, 'FB': 290, 'From': 291, 'THE': 292, 'against': 293, 'come': 294, 'ever': 295, 'health': 296, 'http://t.co/avbgNT57': 297, 'lol': 298, 'never': 299, 'ocra': 300, 'record': 301, 'respect': 302, 'said': 303, 'sgp': 304, 'signs': 305, 'trying': 306, \"'ll\": 307, '@DrewMTips': 308, 'Easter': 309, 'Haaretz': 310, 'Jews': 311, 'KimKardashiansNextBoyFriend': 312, 'Law': 313, 'NOT': 314, 'Saul': 315, 'White': 316, 'always': 317, 'comments': 318, 'country': 319, 'court': 320, 'denounced': 321, 'dumb': 322, 'el': 323, 'election': 324, 'else': 325, 'first': 326, 'four': 327, 'government': 328, 'her': 329, 'icymi': 330, 'interest': 331, 'its': 332, 'no': 333, 'reelect': 334, 'see': 335, 'take': 336, 'tonight': 337, 'understand': 338, '23': 339, '@TPO_Hisself': 340, '@Talkmaster': 341, '@handrewschwartz': 342, '@kesgardner': 343, '@wcptersn': 344, 'Anticipation': 345, 'Arianna': 346, 'But': 347, 'Congress': 348, 'Constitutional': 349, 'Continues': 350, 'DC': 351, 'Eric': 352, 'Gagme': 353, 'HE': 354, 'Huffington': 355, 'Like': 356, 'Lindsay': 357, 'Lohan': 358, 'My': 359, 'Not': 360, 'One': 361, 'Party': 362, 'Respects': 363, 'Secret': 364, 'Signs': 365, 'State': 366, 'USA': 367, 'Violence': 368, 'Washington': 369, 'Who': 370, '^': 371, 'agree': 372, 'another': 373, 'bad': 374, 'between': 375, 'blasting': 376, 'chance': 377, 'como': 378, 'conflicts': 379, 'even': 380, 'explains': 381, 'feel': 382, 'gives': 383, 'history': 384, 'hot': 385, 'http://t.co/Ov6I5CoS': 386, 'http://t.co/VhURDtdO': 387, 'http://t.co/gIGmn5kE': 388, 'issues': 389, 'jobs': 390, 'libertario': 391, 'menaces': 392, 'next': 393, 'off': 394, 'officials': 395, 'pic': 396, 'praising': 397, 'prices': 398, 'real': 399, 'reports': 400, 'shorthand': 401, 'term': 402, 'these': 403, 'under': 404, 'w': 405, 'wants': 406, 'way': 407, 'wonder': 408, '--': 409, '1000': 410, '@AddThis': 411, '@BelleInABow': 412, '@Professor_Why': 413, '@WhatTheFFacts': 414, 'Bush': 415, 'Democrats': 416, 'HBO': 417, 'Jobs': 418, 'Khameni': 419, 'New': 420, 'Of': 421, 'Review': 422, 'Senate': 423, 'Top': 424, 'War': 425, 'Will': 426, 'anti': 427, 'anything': 428, 'assess': 429, 'assure': 430, 'better': 431, 'boys': 432, 'business': 433, 'certtain': 434, 'civ': 435, 'class': 436, 'clear': 437, 'club': 438, 'coffee': 439, 'course': 440, 'deserves': 441, 'documentary': 442, 'economic': 443, 'end': 444, 'favorite': 445, 'federal': 446, 'great': 447, 'guess': 448, 'http://t.co/KkaAhGPq': 449, 'invited': 450, 'look': 451, 'meets': 452, 'new': 453, 'nukes': 454, 'party': 455, 'pgm': 456, 'plan': 457, 'program': 458, 'release': 459, 'run': 460, 's': 461, 'sayd': 462, 'seen': 463, 'some': 464, 'state': 465, 'tweets': 466, 'unemployment': 467, 'upset': 468, 'video': 469, 'weapons': 470, 'win': 471, 'wld': 472, 'world': 473, 'wrong': 474, '2019': 475, '@Messina2012': 476, '@baseballcrank': 477, '@blakehounshell': 478, 'Another': 479, 'As': 480, 'By': 481, 'Constitution': 482, 'Election': 483, 'G-8': 484, 'IS': 485, 'KCA': 486, 'Koch': 487, 'M': 488, 'Obama2012': 489, 'Putin': 490, 'RUMORS': 491, 'Righties': 492, 'STYLES': 493, 'Santorum': 494, 'TCOT': 495, 'They': 496, 'Time': 497, 'Trayvon': 498, 'Video': 499, 'administration': 500, 'after': 501, 'anyone': 502, 'beat': 503, 'broker': 504, 'change': 505, 'cont': 506, 'deal': 507, 'debt': 508, 'destroy': 509, 'doing': 510, 'fact': 511, 'give': 512, 'hearings': 513, 'l0l': 514, 'la': 515, 'less': 516, 'los': 517, 'money': 518, 'month': 519, 'other': 520, 'policies': 521, 'refuses': 522, 'report': 523, 'romney': 524, 'same': 525, 'sorry': 526, 'start': 527, 'summit': 528, 'those': 529, 'tpp': 530, 'us': 531, 'very': 532, 'votes': 533, 'where': 534, 'which': 535, 'withnewt': 536, 'wo': 537, '  ': 538, \"'ve\": 539, '1': 540, ':)': 541, '@': 542, '@Harry_Styles': 543, '@LouTommoBum': 544, '@djtechchicago': 545, 'Birth': 546, 'Can': 547, 'Caught': 548, 'Defense': 549, 'Did': 550, 'Even': 551, 'Examiner': 552, 'Exceed': 553, 'First': 554, 'Get': 555, 'Green': 556, 'Him': 557, 'Interest': 558, 'Iranian': 559, 'Khamenei': 560, 'Likely': 561, 'Look': 562, 'NDAA': 563, 'OF': 564, 'Online': 565, 'Our': 566, 'Payments': 567, 'Post': 568, 'REAL': 569, 'Release': 570, 'Republican': 571, 'Ryan': 572, 'Styles': 573, 'TO': 574, 'Tell': 575, 'absolutely': 576, 'agreement': 577, 'al': 578, 'ass': 579, 'assets': 580, 'backstage': 581, 'being': 582, 'believes': 583, 'black': 584, 'blame': 585, 'brother': 586, 'case': 587, 'civilian': 588, 'claim': 589, 'conservatives': 590, 'demand': 591, 'distract': 592, 'everyone': 593, 'failed': 594, 'future': 595, 'goes': 596, 'gop': 597, 'gt': 598, 'guy': 599, 'heard': 600, 'here': 601, 'http://t.co/svxFPoHq': 602, 'lame': 603, 'lot': 604, 'love': 605, 'making': 606, 'media': 607, 'michelle': 608, 'million': 609, 'move': 610, 'news': 611, 'nuclear': 612, 'para': 613, 'policy': 614, 'pursue': 615, 'push': 616, 'read': 617, 'reason': 618, 'since': 619, 'someone': 620, 'something': 621, 'sure': 622, 'tells': 623, 'thing': 624, 'trending': 625, 'trillion': 626, 'twitter': 627, 'una': 628, 'until': 629, 'voters': 630, 'well': 631, 'while': 632, 'work': 633, 'yet': 634, '10': 635, '18': 636, '200': 637, '3': 638, '@BORNCURIOUS': 639, '@GEsfandiari': 640, '@HarryFacts1D': 641, '@PAC43': 642, '@addthis': 643, '@anna12061': 644, '@geoff9cow': 645, '@obama': 646, 'AM': 647, 'AND': 648, 'Acts': 649, 'Advantage': 650, 'Alinsky': 651, 'Anti': 652, 'Autopen': 653, 'Bible': 654, 'Blanca': 655, 'CAMINO': 656, 'Ca': 657, 'Casa': 658, 'Chicago': 659, 'Clearance': 660, 'Concedes': 661, 'Courts': 662, 'Dim': 663, 'EN': 664, 'EPA': 665, 'ESCONDE': 666, 'ESPOSA': 667, 'Editorial': 668, 'Egypt': 669, 'En': 670, 'Everything': 671, 'Fraud': 672, 'Full': 673, 'Giving': 674, 'Go': 675, 'HIJOS': 676, 'Hiring': 677, 'Interesting': 678, 'Into': 679, 'JOE': 680, 'Jim': 681, 'Just': 682, 'Kid': 683, 'Lady': 684, 'MSM': 685, 'Misquotes': 686, 'Missing': 687, 'Napolitano': 688, 'Nope': 689, 'Obamacare': 690, 'Oil': 691, 'Pakistan': 692, 'Paul': 693, 'Politics': 694, 'Press': 695, 'Redistribution': 696, 'Rick': 697, 'Right': 698, 'Security': 699, 'Signing': 700, 'Speaking': 701, 'TREASON': 702, 'TU': 703, 'TUS': 704, 'Terrorist': 705, 'Thanks': 706, 'Think': 707, 'VIENE': 708, 'WH': 709, 'Wealth': 710, 'WhatsObamaHiding': 711, 'Wo': 712, 'World': 713, 'Y': 714, 'Yahoo': 715, 'administra': 716, 'affairs': 717, 'ago': 718, 'also': 719, 'appeals': 720, 'around': 721, 'atractiva': 722, 'attractive': 723, 'best': 724, 'bill': 725, 'blaming': 726, 'both': 727, 'bowling': 728, 'branches': 729, 'calling': 730, 'calls': 731, 'card': 732, 'cause': 733, 'certain': 734, 'citizensunited': 735, 'clean': 736, 'coal': 737, 'connection': 738, 'courier': 739, 'crap': 740, 'decided': 741, 'defense': 742, 'demanded': 743, 'describe': 744, 'desde': 745, 'desperate': 746, 'details': 747, 'disclosing': 748, 'donation': 749, 'down': 750, 'drawing': 751, 'economy': 752, 'either': 753, 'elected': 754, 'en': 755, 'fault': 756, 'find': 757, 'found': 758, 'game': 759, 'gay': 760, 'gon': 761, 'governing': 762, 'gun': 763, 'hacia': 764, 'haha': 765, 'half': 766, 'hashtag': 767, 'hedges': 768, 'hell': 769, 'high': 770, 'higher': 771, 'hoo': 772, 'hosts': 773, 'http://t.co/zneCZUTo': 774, 'illegal': 775, 'incl': 776, 'income': 777, 'incompetent': 778, 'industry': 779, 'job': 780, 'kids': 781, 'killed': 782, 'le': 783, 'letter': 784, 'line': 785, 'lnyhbt': 786, 'mean': 787, 'missing': 788, 'mocks': 789, 'mujer': 790, 'must': 791, 'muy': 792, 'needs': 793, 'office': 794, 'ongoing': 795, 'ordenar': 796, 'others': 797, 'pick': 798, 'pissed': 799, 'pizza': 800, 'politics': 801, 'pregunto': 802, 'price': 803, 'proud': 804, 'racist': 805, 'rate': 806, 'released': 807, 'rights': 808, 'sanctions': 809, 'secret': 810, 'seizing': 811, 'single': 812, 'small': 813, 'socialist': 814, 'son': 815, 'sport': 816, 'stands': 817, 'states': 818, 'student': 819, 'stuff': 820, 'stupid': 821, 'supporter': 822, 'swing': 823, 'ta': 824, 'tactics': 825, 'tag': 826, 'their': 827, 'through': 828, 'u': 829, 'voted': 830, 'whitehouse': 831, '0': 832, '1.5': 833, '15.2': 834, '19': 835, '1987': 836, '2000': 837, '2008': 838, '2016': 839, '2nd': 840, '3.6': 841, '35': 842, '99': 843, '@ClaireCMC': 844, '@DS_CT': 845, '@Drudge_Report': 846, '@Fake_Dispatch': 847, '@Gabby_Hoffman': 848, '@Im_Tyler': 849, '@JennyErikson': 850, '@JoeSixpackSays': 851, '@JoiningForces': 852, '@KayHagan': 853, '@LauraFlyMe': 854, '@MarcoRubio': 855, '@MarkWarner': 856, '@OrwellForce': 857, '@POLITICO': 858, '@RandPaul': 859, '@SenJimDeMint': 860, '@barackobama': 861, '@betseyross': 862, '@preciousliberty': 863, '@theblaze': 864, '@wilycyotee': 865, 'AIPAC': 866, 'AP': 867, 'About': 868, 'Admit': 869, 'After': 870, 'Against': 871, 'All': 872, 'Also': 873, 'Analyst64': 874, 'Apparently': 875, 'At': 876, 'Attorney': 877, 'Barry': 878, 'Been': 879, 'Bethesda': 880, 'Biden': 881, 'Billion': 882, 'Buddy': 883, 'Care': 884, 'Certificate': 885, 'Charge': 886, 'China': 887, 'Coalition': 888, 'Daily': 889, 'Damn': 890, 'Day': 891, 'DeMint': 892, 'Debt': 893, 'Direction': 894, 'Dodd': 895, 'Does': 896, 'Down': 897, 'Dr.': 898, 'Elections': 899, 'FAU': 900, 'Fox': 901, 'Friendly': 902, 'Future': 903, 'GO': 904, 'Gas': 905, 'Good': 906, 'Gop': 907, 'Great': 908, 'HAS': 909, 'Have': 910, 'Hmm': 911, 'IM': 912, 'IT': 913, 'Jesus': 914, 'KNOWS': 915, 'Kill': 916, 'LOOOOOOOOOOOOOOOOOOOOOOOOOOOOL': 917, 'Let': 918, 'Letter': 919, 'Liberal': 920, 'Libyan': 921, 'Limbaugh': 922, 'Love': 923, 'MOsen': 924, 'Maher': 925, 'Marine': 926, 'Martin': 927, 'Media': 928, 'Mockingbird': 929, 'More': 930, 'Mr': 931, 'NO': 932, 'Norquist': 933, 'Nothing': 934, 'Now': 935, 'O': 936, 'ON': 937, 'OUR': 938, 'OWN': 939, 'Opposite': 940, 'Organizational': 941, 'POTUS': 942, 'Palin': 943, 'Passover': 944, 'Photo': 945, 'Pictures': 946, 'Piece': 947, 'Policy': 948, 'Presidential': 949, 'Prosecutor': 950, 'RWNJ': 951, 'Read': 952, 'RealClearPolitics': 953, 'Reed': 954, 'Reforming': 955, 'Regime': 956, 'Republicans': 957, 'Reuters': 958, 'Roll': 959, 'Ron': 960, 'RonPaul': 961, 'SCOTUS': 962, 'SO': 963, 'ST': 964, 'STOP': 965, 'Sarah': 966, 'Say': 967, 'Seeing': 968, 'Slobbin': 969, 'Soetoro': 970, 'Story': 971, 'THAT': 972, 'THUG': 973, 'TV': 974, 'Taught': 975, 'TeaParty': 976, 'Thing': 977, 'Thug': 978, 'Tonight': 979, 'Too': 980, 'Trending': 981, 'Tweet': 982, 'UniteWomen': 983, 'Unreal': 984, 'Vote': 985, 'WASHINGTON': 986, 'Walter': 987, 'Warns': 988, 'WoundedWarrior': 989, 'Yeah': 990, 'ad': 991, 'admit': 992, 'admitted': 993, 'age': 994, 'ai': 995, 'answer': 996, 'antithetical': 997, 'anymore': 998, 'army': 999, 'arrogant': 1000, 'asking': 1001, 'asks': 1002, 'attack': 1003, 'away': 1004, 'backing': 1005, 'backtracked': 1006, 'bankrupt': 1007, 'battle': 1008, 'beginning': 1009, 'bite': 1010, 'book': 1011, 'boost': 1012, 'bring': 1013, 'brothers': 1014, 'bullshit': 1015, 'chamber': 1016, 'changes': 1017, 'charge': 1018, 'comes': 1019, 'companies': 1020, 'connector': 1021, 'created': 1022, 'credit': 1023, 'crowdfunding': 1024, 'done': 1025, 'due': 1026, 'echo': 1027, 'energy': 1028, 'every': 1029, 'face': 1030, 'fired': 1031, 'flexible': 1032, 'flip': 1033, 'flop': 1034, 'follow': 1035, 'followers': 1036, 'former': 1037, 'free': 1038, 'funding': 1039, 'funny': 1040, 'glad': 1041, 'greets': 1042, 'growing': 1043, 'hands': 1044, 'hashtags': 1045, 'hates': 1046, 'headline': 1047, 'hear': 1048, 'hide': 1049, 'honest': 1050, 'http://t.co/IwG56RDK': 1051, 'http://t.co/NFOS1n9d': 1052, 'http://t.co/rkNdEmIy': 1053, 'http://t.co/vsOYFhSa': 1054, 'http://t.co/wX1RzFKm': 1055, 'humanity': 1056, 'indicator': 1057, 'info': 1058, 'instead': 1059, 'judge': 1060, 'keep': 1061, 'lady': 1062, 'later': 1063, 'leader': 1064, 'leaking': 1065, 'legal': 1066, 'legislation': 1067, 'license': 1068, 'liked': 1069, 'linked': 1070, 'list': 1071, 'little': 1072, 'live': 1073, 'long': 1074, 'looking': 1075, 'losing': 1076, 'loss': 1077, 'lt': 1078, 'maddening': 1079, 'majority': 1080, 'male': 1081, 'market': 1082, 'meeting': 1083, 'men': 1084, 'na': 1085, 'notice': 1086, 'oil': 1087, 'older': 1088, 'online': 1089, 'overt': 1090, 'pass': 1091, 'phone': 1092, 'plans': 1093, 'polls': 1094, 'poop': 1095, 'porn': 1096, 'power': 1097, 'press': 1098, 'probably': 1099, 'professor': 1100, 'prolife': 1101, 'promise': 1102, 'protected': 1103, 'question': 1104, 'race': 1105, 'relentless': 1106, 'remarks': 1107, 'rich': 1108, 'saying': 1109, 'screening': 1110, 'sec': 1111, 'serious': 1112, 'setting': 1113, 'sexy': 1114, 'she': 1115, 'shit': 1116, 'show': 1117, 'sign': 1118, 'site': 1119, 'slur': 1120, 'soon': 1121, 'standing': 1122, 'startup': 1123, 'startups': 1124, 'stop': 1125, 'strong': 1126, 'styles': 1127, 'such': 1128, 'supports': 1129, 't': 1130, 'talk': 1131, 'taxes': 1132, 'tell': 1133, 'though': 1134, 'tired': 1135, 'titled': 1136, 'told': 1137, 'touch': 1138, 'tpn': 1139, 'turned': 1140, 'twisters': 1141, 'un': 1142, 'uncle': 1143, 'understands': 1144, 'visual': 1145, 'warfare': 1146, 'weak': 1147, 'wife': 1148, 'woman': 1149, 'worked': 1150, 'worried': 1151, 'wow': 1152, 'y': 1153, 'yeah': 1154, \"'em\": 1155, '+': 1156, '.....': 1157, '1/2': 1158, '10.6': 1159, '2007': 1160, '4/6/2012': 1161, '5': 1162, '50': 1163, '56': 1164, '57': 1165, '5th': 1166, '7': 1167, '90': 1168, ':-)': 1169, ':P': 1170, '@17bbomb': 1171, '@1Directionality': 1172, '@1LuisSandoval': 1173, '@ABC': 1174, '@A_Khanivore': 1175, '@AlinskyDefeater': 1176, '@American1st': 1177, '@Atrios': 1178, '@BrianBrownNet': 1179, '@COBrown': 1180, '@CatoInstitute': 1181, '@DanMoffTarkin': 1182, '@ErskineGrier': 1183, '@ForAmerica': 1184, '@GottaLaff': 1185, '@Habibaty_Souria': 1186, '@HuffPostPol': 1187, '@ItsLoopzProd': 1188, '@KarlRove': 1189, '@KevinWGlass': 1190, '@Libertarian_76': 1191, '@MOPNS': 1192, '@MsRock4Ever': 1193, '@NHLWingsfanKay': 1194, '@NatlWOW': 1195, '@Nicky2Things': 1196, '@Norsu2': 1197, '@Obama2012': 1198, '@Our4thEstate': 1199, '@PiratePartyGa': 1200, '@RednaxalA': 1201, '@RyanFecteau': 1202, '@TheDemocrats': 1203, '@WestJournalism': 1204, '@YouTube': 1205, '@_Ciroc_Obama': 1206, '@against_obama': 1207, '@angel__network': 1208, '@derekahunter': 1209, '@dierdrelewis': 1210, '@fredthompson': 1211, '@gardenofthegods': 1212, '@globeandmail': 1213, '@gop': 1214, '@gretawire': 1215, '@jodikyman': 1216, '@mittromney': 1217, '@mlake9': 1218, '@nprnews': 1219, '@pourmecoffee': 1220, '@psema4': 1221, '@robertcobrien': 1222, '@ryanjcroft': 1223, '@searfoss70': 1224, '@sparrowmedia': 1225, '@stinger5150': 1226, '@truthteam2012': 1227, '@workinmama': 1228, 'ABOUT': 1229, 'ACA': 1230, 'ACORN': 1231, 'ALL': 1232, 'ALWAYS': 1233, 'AMERICAN': 1234, 'ARE': 1235, 'ARPAIO': 1236, 'AS': 1237, 'Access': 1238, 'Admin': 1239, 'Africa': 1240, 'African': 1241, 'Aid': 1242, 'Akakakaka': 1243, 'Algae': 1244, 'Alinskyites': 1245, 'Amid': 1246, 'An': 1247, 'Analyt64': 1248, 'Antichrist': 1249, 'Anyone': 1250, 'April': 1251, 'Archbishop': 1252, 'Are': 1253, 'Assad': 1254, 'Attacks': 1255, 'Attempt': 1256, 'Auto': 1257, 'Ayers': 1258, 'BOOSTED': 1259, 'BULLY': 1260, 'Back': 1261, 'Backroom': 1262, 'Be': 1263, 'Ben': 1264, 'Bills': 1265, 'Black': 1266, 'BlameBush': 1267, 'Blueprints': 1268, 'Bringing': 1269, 'Bro': 1270, 'Business': 1271, 'CITIZENS': 1272, 'COLOR': 1273, 'COMING': 1274, 'CONTRARY': 1275, 'COUNTY': 1276, 'CREATED': 1277, 'Calling': 1278, 'Calls': 1279, 'Caring': 1280, 'Carney': 1281, 'Catholic': 1282, 'Catholics': 1283, 'Cause': 1284, 'Chicken': 1285, 'Circuit': 1286, 'Club': 1287, 'Conservative': 1288, 'Conspiracy': 1289, 'Cool': 1290, 'Covert': 1291, 'Critical': 1292, 'Criticizing': 1293, 'Czech': 1294, 'DEM': 1295, 'DEPT': 1296, 'DRAFT': 1297, 'Day&Half': 1298, 'Dealing': 1299, 'Demand': 1300, 'Dems': 1301, 'Despot': 1302, 'Details': 1303, 'Dismissal': 1304, 'Display': 1305, 'Dispute': 1306, 'Dolan': 1307, 'Drug': 1308, 'Dune': 1309, 'ELECTED': 1310, 'Ease': 1311, 'Egg': 1312, 'End': 1313, 'Ever': 1314, 'Exposing': 1315, 'FINALLY': 1316, 'FOR': 1317, 'FRAUD': 1318, 'Facebook': 1319, 'Faces': 1320, 'Fail': 1321, 'Federal': 1322, 'FoxNews': 1323, 'Free': 1324, 'Frightened': 1325, 'Fruhling': 1326, 'FuckGFW': 1327, 'GET': 1328, 'GFW': 1329, 'GRAND': 1330, 'GW': 1331, 'GW)KAPUT': 1332, 'Gamers': 1333, 'General': 1334, 'God': 1335, 'Golf': 1336, 'Goo': 1337, 'Google': 1338, 'HC': 1339, 'HIDE': 1340, 'HIDING': 1341, 'HIS': 1342, 'HOME': 1343, 'Hama': 1344, 'Hamas': 1345, 'Hashtag': 1346, 'Hatch': 1347, 'Health': 1348, 'Healthcare': 1349, 'Hey': 1350, 'Hidden': 1351, 'Hill': 1352, 'Hillary': 1353, 'Homs': 1354, 'IMPORTANT': 1355, 'IN': 1356, 'Illegal': 1357, 'Illuminati': 1358, 'Immigrants': 1359, 'Impact': 1360, 'Independent': 1361, 'Intel': 1362, 'Issue': 1363, 'JURY': 1364, 'JUSTICE': 1365, 'Jersey': 1366, 'Jerusalem': 1367, 'Jesse': 1368, 'Jewish': 1369, 'John': 1370, 'Judge': 1371, 'Jumpstart': 1372, 'K': 1373, 'KNOW': 1374, 'Keune': 1375, 'Killing': 1376, 'King': 1377, 'LETS': 1378, 'LIES': 1379, 'LOL': 1380, 'LYING': 1381, 'Landslide': 1382, 'Larry': 1383, 'Laws': 1384, 'Lee': 1385, 'Lets': 1386, 'Liberals': 1387, 'Lie': 1388, 'Live': 1389, 'Lizard': 1390, 'Lol': 1391, 'Lost': 1392, 'MARICOPA': 1393, 'MT': 1394, 'MUCH': 1395, 'MUST': 1396, 'Made': 1397, 'March': 1398, 'Marijuana': 1399, 'Marion': 1400, 'McCaskill': 1401, 'McConnell': 1402, 'Me': 1403, 'Medical': 1404, 'Meeting': 1405, 'Michael': 1406, 'Middle': 1407, 'Mir': 1408, 'Monday': 1409, 'Money': 1410, 'Mr.': 1411, 'Much': 1412, 'Music': 1413, 'N.H.': 1414, 'NATO': 1415, 'NEW': 1416, 'NOLA': 1417, 'NOW': 1418, 'Nash': 1419, 'Ngakak': 1420, 'Nicole': 1421, 'Nixon': 1422, 'NoObama': 1423, 'Nobody': 1424, 'Nov': 1425, 'Nugget': 1426, 'OH': 1427, 'OR': 1428, 'ObamaCare': 1429, 'Obey': 1430, 'Occupy': 1431, 'OhWait': 1432, 'On': 1433, 'Oops': 1434, 'Osawatomie': 1435, 'Other': 1436, 'Oust': 1437, 'Own': 1438, 'P': 1439, 'P2': 1440, 'PRESIDENT': 1441, 'Patriot': 1442, 'Podcast': 1443, 'Poor': 1444, 'Power': 1445, 'Pretty': 1446, 'Prices': 1447, 'Pride2012': 1448, 'Professor': 1449, 'Project': 1450, 'Puts': 1451, 'Qaeda': 1452, 'RACIST': 1453, 'ROMNEY': 1454, 'RULE?Mr': 1455, 'Race': 1456, 'Racism': 1457, 'Raw': 1458, 'Ready': 1459, 'Reagan': 1460, 'Remarks': 1461, 'Reporter': 1462, 'Rezko': 1463, 'Ronald': 1464, 'Rush': 1465, 'Russia': 1466, 'Russian': 1467, 'SHERIFF': 1468, 'SHERRIFF': 1469, 'SKIN': 1470, 'SOPA': 1471, 'SPR': 1472, 'Saints': 1473, 'Sand': 1474, 'Save': 1475, 'Schultz': 1476, 'Send': 1477, 'Sexy': 1478, 'Sharing': 1479, 'Sheet': 1480, 'Shell': 1481, 'Sheriff': 1482, 'Shout': 1483, 'Sinclair': 1484, 'Society': 1485, 'Speech': 1486, 'Spending': 1487, 'Spike': 1488, 'Startups': 1489, 'Supply': 1490, 'T': 1491, 'THEIR': 1492, 'THIS': 1493, 'TOO': 1494, 'TRYIN': 1495, 'Tanner': 1496, 'Tcot': 1497, 'Texas': 1498, 'Theory': 1499, 'Thursday': 1500, 'Today': 1501, 'Tomorrow': 1502, 'Tony': 1503, 'Topics': 1504, 'Truth': 1505, 'Tuesday': 1506, 'Twitter': 1507, 'Two': 1508, 'U': 1509, 'UN': 1510, 'UNELECTED': 1511, 'UR': 1512, 'VA': 1513, 'VIOLATING': 1514, 'VPN': 1515, 'VT': 1516, 'Vanished': 1517, 'VetThePrez': 1518, 'WHAT': 1519, 'WIFE': 1520, 'Wait': 1521, 'WarOnJobs': 1522, 'WarOnTheMiddleClass': 1523, 'WarOnThePoor': 1524, 'Watch': 1525, 'WhatsObamaSmoking': 1526, 'When': 1527, 'Whenever': 1528, 'While': 1529, 'Wins': 1530, 'Words': 1531, 'Worst': 1532, 'YOU': 1533, 'YOUR': 1534, 'Year': 1535, 'Yes': 1536, 'Yo': 1537, '_': 1538, 'able': 1539, 'aboga': 1540, 'act': 1541, 'actual': 1542, 'adds': 1543, 'admin': 1544, 'alien': 1545, 'allow': 1546, 'already': 1547, 'ama': 1548, 'apologize': 1549, 'appreciate': 1550, 'art': 1551, 'ask': 1552, 'association': 1553, 'attacking': 1554, 'attacks': 1555, 'attempts': 1556, 'b': 1557, 'baby': 1558, 'bahhh': 1559, 'barrack': 1560, 'becktips': 1561, 'bed': 1562, 'bedsheets': 1563, 'bicycle': 1564, 'blacks': 1565, 'boo': 1566, 'bornthisway': 1567, 'c*nts': 1568, 'candidate': 1569, 'cares': 1570, 'cell': 1571, 'chicos': 1572, 'chocolate': 1573, 'choice': 1574, 'city': 1575, 'classified': 1576, 'closet': 1577, 'code': 1578, 'coming': 1579, 'consnc': 1580, 'control': 1581, 'convicted': 1582, 'copy': 1583, 'crappy': 1584, 'crazy': 1585, 'cronies': 1586, 'cross': 1587, 'dad': 1588, 'damage': 1589, 'dat': 1590, 'day': 1591, 'dealing': 1592, 'deception': 1593, 'define': 1594, 'delivers': 1595, 'dem': 1596, 'democrats': 1597, 'described': 1598, 'designed': 1599, 'despot': 1600, 'diminish': 1601, 'directly': 1602, 'disabled': 1603, 'disappears': 1604, 'divisive': 1605, 'dollar': 1606, 'domestic': 1607, 'donor': 1608, 'draw': 1609, 'drivers': 1610, 'dum': 1611, 'effects': 1612, 'effort': 1613, 'eggs': 1614, 'eligibility': 1615, 'enemy': 1616, 'engaged': 1617, 'entire': 1618, 'es': 1619, 'etc': 1620, 'everything': 1621, 'exist': 1622, 'experts': 1623, 'explanation': 1624, 'exposed': 1625, 'facing': 1626, 'failedleader': 1627, 'fake': 1628, 'far': 1629, 'fast': 1630, 'favourite': 1631, 'fecklessness': 1632, 'feelings': 1633, 'felon': 1634, 'few': 1635, 'fighting': 1636, 'firms': 1637, 'flaps': 1638, 'fly': 1639, 'focus': 1640, 'force': 1641, 'forced': 1642, 'form': 1643, 'founders': 1644, 'freedom': 1645, 'friends': 1646, 'fucking': 1647, 'further': 1648, 'gave': 1649, 'girl': 1650, 'groups': 1651, 'h': 1652, 'habit': 1653, 'hah': 1654, 'hair': 1655, 'hammer': 1656, 'handshake': 1657, 'hash': 1658, 'hate': 1659, 'hated': 1660, 'healthcare': 1661, 'heat': 1662, 'help': 1663, 'housing': 1664, 'http://t': 1665, 'http://t.co/1Pso0ULz': 1666, 'http://t.co/2kXhMwKY': 1667, 'http://t.co/3fgWm3n4': 1668, 'http://t.co/AnxszxJn': 1669, 'http://t.co/GLopiyOC': 1670, 'http://t.co/GzD7DkRt': 1671, 'http://t.co/LUw7Ky66': 1672, 'http://t.co/NZaqvz3C': 1673, 'http://t.co/NcJH7Jgb': 1674, 'http://t.co/PUZRq7HU': 1675, 'http://t.co/YiFq4PKT': 1676, 'http://t.co/f8b7HLaf': 1677, 'http://t.co/fOrfWYMb': 1678, 'http://t.co/iqg1xarL': 1679, 'http://t.co/qmkaNjER': 1680, 'http://t.co/qwIsdV2n': 1681, 'http://t.co/s4XUUW1h': 1682, 'http://t.co/z4KU2HkN': 1683, 'http://t.co/ztufxsn1': 1684, 'huh': 1685, 'human': 1686, 'hussein': 1687, 'ideologues': 1688, 'idiot': 1689, 'idk': 1690, 'ill': 1691, 'independents': 1692, 'ingreso': 1693, 'inherited': 1694, 'interview': 1695, 'irony': 1696, 'judicial': 1697, 'keeper': 1698, 'kein': 1699, 'killing': 1700, 'laechelt': 1701, 'lapdog': 1702, 'las': 1703, 'last': 1704, 'latest': 1705, 'launch': 1706, 'laws': 1707, 'lawsuit': 1708, 'lazy': 1709, 'least': 1710, 'left': 1711, 'liberal': 1712, 'lied': 1713, 'lies': 1714, 'lights': 1715, 'likes': 1716, 'lo': 1717, 'loans': 1718, 'lololol': 1719, 'looks': 1720, 'loses': 1721, 'm': 1722, 'machiavellians': 1723, 'made': 1724, 'magnet': 1725, 'many': 1726, 'married': 1727, 'may': 1728, 'meet': 1729, 'members': 1730, 'membership': 1731, 'message': 1732, 'millenia': 1733, 'millions': 1734, 'minutes': 1735, 'mitt': 1736, 'mm': 1737, 'months': 1738, 'mouth': 1739, 'mujeres': 1740, 'n': 1741, 'newbedon': 1742, 'night': 1743, 'nothing': 1744, 'nyanyi': 1745, 'o': 1746, 'obama2012': 1747, 'once': 1748, 'ove': 1749, 'ows': 1750, 'page': 1751, 'particular': 1752, 'past': 1753, 'pay': 1754, 'penalty': 1755, 'perception': 1756, 'photo': 1757, 'photos': 1758, 'played': 1759, 'pledge': 1760, 'pocket': 1761, 'points': 1762, 'political': 1763, 'por': 1764, 'prepared': 1765, 'presidential': 1766, 'problems': 1767, 'promised': 1768, 'punishwork': 1769, 'put': 1770, 'puts': 1771, 'putting': 1772, 'que': 1773, 'r': 1774, 're': 1775, 'rebels': 1776, 'received': 1777, 'redistributing': 1778, 'refers': 1779, 'regarding': 1780, 'releases': 1781, 'research': 1782, 'resist44': 1783, 'respectability': 1784, 'responds': 1785, 'ridiculous': 1786, 'rule': 1787, 'runs': 1788, 'satisfied': 1789, 'scale': 1790, 'scams': 1791, 'scholar': 1792, 'school': 1793, 'scramble': 1794, 'screwytees': 1795, 'search': 1796, 'secretly': 1797, 'security': 1798, 'seeking': 1799, 'seizure': 1800, 'self': 1801, 'sell': 1802, 'sense': 1803, 'several': 1804, 'shape': 1805, 'ships': 1806, 'shout': 1807, 'showing': 1808, 'shut': 1809, 'si': 1810, 'signed': 1811, 'signing': 1812, 'simple': 1813, 'sing': 1814, 'slammed': 1815, 'slightly': 1816, 'socialism': 1817, 'sodomy': 1818, 'sort': 1819, 'sot': 1820, 'soul': 1821, 'speaks': 1822, 'special': 1823, 'spewing': 1824, 'spine': 1825, 'squ': 1826, 'strategy': 1827, 'style': 1828, 'subject': 1829, 'supporters': 1830, 'supporting': 1831, 'suppressing': 1832, 'taken': 1833, 'takes': 1834, 'taking': 1835, 'talks': 1836, 'telling': 1837, 'terrorist': 1838, 'theatre': 1839, 'thinks': 1840, 'this?': 1841, 'thought': 1842, 'three': 1843, 'throw': 1844, 'thugs': 1845, 'today': 1846, 'tomorrow': 1847, 'top': 1848, 'train': 1849, 'transparent': 1850, 'trend': 1851, 'tried': 1852, 'trillions': 1853, 'truly': 1854, 'tw*ts': 1855, 'twcot': 1856, 'type': 1857, 'uh': 1858, 'um': 1859, 'unable': 1860, 'using': 1861, 'v.': 1862, 'value': 1863, 'verification': 1864, 'vs': 1865, 'waiting': 1866, 'war': 1867, 'wasteful': 1868, 'wealth': 1869, 'week': 1870, 'whole': 1871, 'whose': 1872, 'wimp': 1873, 'wins': 1874, 'wishes': 1875, 'word': 1876, 'wording': 1877, 'worry': 1878, 'worst': 1879, 'writes': 1880, 'year': 1881, '   ': 1882, '#Obama': 1883, '&gt;&gt': 1884, '(:': 1885, '-&gt': 1886, '--&gt': 1887, '----': 1888, '-.-': 1889, '-me': 1890, '-thugnificent': 1891, '.#tcot': 1892, '......': 1893, '..........': 1894, '.@ResistTyranny': 1895, '.@USNavy': 1896, '08': 1897, '0ne': 1898, '1.92': 1899, '100': 1900, '12': 1901, '121': 1902, '15': 1903, '17': 1904, '1974': 1905, '1984': 1906, '1989': 1907, '1Dfact': 1908, '2.2': 1909, '2.50': 1910, '2/4': 1911, '20': 1912, '2004': 1913, '2009': 1914, '200daywar': 1915, '2010': 1916, '2013': 1917, '202': 1918, '221': 1919, '223': 1920, '24': 1921, '247': 1922, '25': 1923, '270': 1924, '3.5': 1925, '30': 1926, '300': 1927, '3087': 1928, '313': 1929, '33': 1930, '345': 1931, '3rd': 1932, '414': 1933, '43': 1934, '4:25:20': 1935, '4:27:33': 1936, '5.00': 1937, '500,000': 1938, '599': 1939, '5x': 1940, '6': 1941, '6th': 1942, '73': 1943, '76': 1944, '8': 1945, '80s': 1946, '87': 1947, '90s': 1948, '9212': 1949, '95': 1950, '97': 1951, ':-))': 1952, ':-p': 1953, ':/': 1954, ':D': 1955, ':O': 1956, ';)': 1957, '@/SheCallsMeLarryThe': 1958, '@/ThirdRailersObama': 1959, '@0ryuge': 1960, '@1DfactsOMG': 1961, '@1Dlover_carrots': 1962, '@4Mitt4USA': 1963, '@AC360': 1964, '@AIsForOrg': 1965, '@AP_Ken_Thomas': 1966, '@AnitaMarks': 1967, '@ArkansasBoys': 1968, '@Artco77': 1969, '@AudreyLPerry': 1970, '@Ausflatfish': 1971, '@AustinPaul19': 1972, '@BaisdenLive': 1973, '@BandDirFundRais': 1974, '@Bdcochese': 1975, '@Bellanieve': 1976, '@Boudicabpi': 1977, '@BuckSexton': 1978, '@BunkerBlast': 1979, '@CARepublican12': 1980, '@CAWright77': 1981, '@CArepub': 1982, '@CBSSports': 1983, '@CBrielle5': 1984, '@CNNnewsroom': 1985, '@CaptivatingNews': 1986, '@ChicoDelainky': 1987, '@Ciroc_Obama': 1988, '@Common_Sense4U': 1989, '@Creationtips': 1990, '@DJECOOL': 1991, '@DavidCornDC': 1992, '@DavidShuster': 1993, '@Deltagirl1326': 1994, '@Devils_for_Life': 1995, '@DrewMcKissick': 1996, '@Duckinthedesert': 1997, '@EMcLean1982': 1998, '@EWErickson': 1999, '@EileenLeft': 2000, '@ExtremeLiberal': 2001, '@FAU_Problems': 2002, '@FHQ': 2003, '@FRANCE24': 2004, '@Fer_SmilerJB': 2005, '@Fingersflying': 2006, '@FrankConniff': 2007, '@GarrettNBCNews': 2008, '@GatorNation41': 2009, '@GeorgeD_87': 2010, '@GetsGreased': 2011, '@Ghutsch': 2012, '@GlobalGrind': 2013, '@GranholmTWR': 2014, '@GrassRootRevolt': 2015, '@GregWHoward': 2016, '@GuyKawasaki': 2017, '@HeidiForLiberty': 2018, '@HeraMing': 2019, '@HesDanTheMan': 2020, '@HonestConservat': 2021, '@HonestMitt': 2022, '@HuffingtonPost': 2023, '@IBDinvestors': 2024, '@IamDonCheadle': 2025, '@IndyEnigma': 2026, '@JanOnAmerica': 2027, '@JaySekulow': 2028, '@JeffreyToobin': 2029, '@Jeri2': 2030, '@JoeNBC': 2031, '@JohnSMackenzie': 2032, '@John_37058': 2033, '@JonahNRO': 2034, '@Josh_Painter': 2035, '@JustAnotherMo': 2036, '@Justgod007': 2037, '@KatrinaNation': 2038, '@KeithOlbermann': 2039, '@Kerryepp': 2040, '@LMFAO': 2041, '@LeslieMarshall': 2042, '@Lever_OFA_NH': 2043, '@LongLiveShah': 2044, '@Lorebsponge': 2045, '@Ludacris': 2046, '@LyndsayFarlow': 2047, '@MJ_Obama': 2048, '@MacehuaHart': 2049, '@Mamadoxie': 2050, '@Media_Laws': 2051, '@MeganSmiles': 2052, '@MerlePearl': 2053, '@MiamiHerald': 2054, '@MichelleObama': 2055, '@MikeAllen': 2056, '@MikeLotito15': 2057, '@MiltShook': 2058, '@Mirandacan': 2059, '@MissusPowell': 2060, '@MooseOfReason': 2061, '@MrPartisan': 2062, '@MrTinyPenis': 2063, '@Mr_JPatt': 2064, '@MusicandFaith': 2065, '@NBCNews': 2066, '@NMsly': 2067, '@Notintheface1': 2068, '@NouvelleNom': 2069, '@OREILLY': 2070, '@PRINCE_POLO': 2071, '@PRIVATE_SLEEPY': 2072, '@PamMcAllister': 2073, '@PeteXU': 2074, '@PeterSchiff': 2075, '@PitchyPete': 2076, '@Po_st': 2077, '@PoliticalGal11': 2078, '@PresElections': 2079, '@RT_America': 2080, '@RandallHoven': 2081, '@RealClearScott': 2082, '@RealNichelle': 2083, '@Real_Liam_Payne': 2084, '@RickSantorum': 2085, '@RightWay2': 2086, '@River_City': 2087, '@RobertoManzana': 2088, '@RoheezyDoesIt': 2089, '@SamValley': 2090, '@SarahRoman11': 2091, '@SayfieReview': 2092, '@SexeadaPor1D': 2093, '@SgtPolite': 2094, '@SgtTim911': 2095, '@Shareaholic': 2096, '@SheCallsMeLarry': 2097, '@Solameanie': 2098, '@Spidyy32': 2099, '@Steto33': 2100, '@SteveDeaceShow': 2101, '@Stewart7Donna': 2102, '@Stranahan': 2103, '@SubwayEATTFRESH': 2104, '@TBCDG': 2105, '@TCOTvideos': 2106, '@Tacami222': 2107, '@TannerEnglish3': 2108, '@TheOnion': 2109, '@ThePlumLineGS': 2110, '@TheRealRoseanne': 2111, '@TheWrightWingv2': 2112, '@TimothyNoah1': 2113, '@Tiwaworks': 2114, '@TrackVeteran': 2115, '@TrentOn_YouOff': 2116, '@Trigonis': 2117, '@TylerSadonis': 2118, '@Un_OccupyWallSt': 2119, '@Un_Progressive': 2120, '@VRWCTexan': 2121, '@VoteHillary2012': 2122, '@WAMK': 2123, '@W_Paul_Williams': 2124, '@Wary12': 2125, '@WhineNot': 2126, '@WhiteHouse': 2127, '@WilliamShatner': 2128, '@Wozniak1': 2129, '@YahooNews': 2130, '@YungdashK': 2131, '@ZekeJMiller': 2132, '@Zulu_xo': 2133, '@_H_C_T': 2134, '@alexaforman': 2135, '@anthropocon': 2136, '@astroterf': 2137, '@attackwatch': 2138, '@benhurleycomedy': 2139, '@billmaher': 2140, '@blessmyliberty': 2141, '@brianwiersema': 2142, '@c_o_l_l_e_e_n': 2143, '@cannabis_times': 2144, '@cardinal623:#edshow': 2145, '@carrotgravy': 2146, '@charlesdavis84': 2147, '@charlesfrith': 2148, '@commondreams': 2149, '@daanxyelll': 2150, '@danwho': 2151, '@debv219': 2152, '@donjuanw': 2153, '@drecrumbs': 2154, '@edu_castillo': 2155, '@edwardvirtually': 2156, '@esqcapades': 2157, '@freegalt': 2158, '@funkmasterflex': 2159, '@haymakers': 2160, '@huffingtonpost': 2161, '@iChicagoScott': 2162, '@idkmanilove1D': 2163, '@informedblackmn': 2164, '@iowahawkblog': 2165, '@jaguarfreckles': 2166, '@jameshohmann': 2167, '@jaysekulow': 2168, '@jazzcattrio': 2169, '@jeffreytoobin': 2170, '@jennykassan': 2171, '@jimcramer': 2172, '@jltho': 2173, '@jmimac351': 2174, '@jswoopg76': 2175, '@katie_larson': 2176, '@katiehiggins_x': 2177, '@kellieo79': 2178, '@kkrebeka': 2179, '@kombiz': 2180, '@krauthammer': 2181, '@larryeldershow': 2182, '@letsrollforums': 2183, '@liberalminds': 2184, '@lilcode45': 2185, '@lilrascal01': 2186, '@maddow': 2187, '@marclamonthill': 2188, '@maryfranholm': 2189, '@marymauldin': 2190, '@mbenzgt': 2191, '@meganagerton': 2192, '@megynkelly': 2193, '@messina2012': 2194, '@michellemalkin': 2195, '@mmfa': 2196, '@motherjones': 2197, '@nakedsk8boy': 2198, '@nat_riverascott': 2199, '@nbcpolitics': 2200, '@newspin': 2201, '@nicholle': 2202, '@occupymarines': 2203, '@politifact': 2204, '@poorconservativ': 2205, '@pritikothari': 2206, '@rickjnewman': 2207, '@ridiamond': 2208, '@rightchange2012': 2209, '@robints': 2210, '@ronpaulrca2012': 2211, '@roobishimmer': 2212, '@rovibe71': 2213, '@rushlimbaugh777': 2214, '@samiksami': 2215, '@scarlett_0hara': 2216, '@schwingcat': 2217, '@seanhannity': 2218, '@sevenlayercake': 2219, '@sgaut': 2220, '@sierchioM': 2221, '@skeeteronmy': 2222, '@solomongebbs': 2223, '@southsalem': 2224, '@stonerjesus420': 2225, '@sugarscape': 2226, '@sunnyright': 2227, '@susie_c': 2228, '@sweetbay': 2229, '@tajan1': 2230, '@taylorswift13': 2231, '@teacherspets': 2232, '@terresamonroe': 2233, '@texaszman': 2234, '@therealrc': 2235, '@therightsarah': 2236, '@times247': 2237, '@timgRIGHTway': 2238, '@truebornstark': 2239, '@truthout': 2240, '@tsagliani': 2241, '@tweetslikeagirl': 2242, '@uscfandave': 2243, '@vaponte8': 2244, '@vflyby': 2245, '@washingtonpost': 2246, '@whatevrer': 2247, '@wolfblitzercnn': 2248, '@xShwag': 2249, '@yahoocanadanews': 2250, '@yaliberty': 2251, 'ABT': 2252, 'AC360': 2253, 'ACTIONS': 2254, 'AGAIN': 2255, 'AHUAHAHUHAHAUHUAHUAHHAUHA': 2256, 'AL': 2257, 'ALOT': 2258, 'ALREADY': 2259, 'ANYONE': 2260, 'ANYTHING': 2261, 'AWHOs': 2262, 'Abortion': 2263, 'Accusation': 2264, 'Accused': 2265, 'Accuses': 2266, 'Actions': 2267, 'Adams': 2268, 'Adviser': 2269, 'Again': 2270, 'Ahab': 2271, 'Airing': 2272, 'Airships': 2273, 'Al': 2274, 'Ali': 2275, 'Already': 2276, 'Alright': 2277, 'Always': 2278, 'Alzheimer': 2279, 'Am': 2280, 'Ame': 2281, 'Amendment': 2282, 'Amp': 2283, 'Announces': 2284, 'Anonymous': 2285, 'Answer': 2286, 'Anthony': 2287, 'Apologies': 2288, 'Appeals': 2289, 'Apple': 2290, 'Approve': 2291, 'Apuzzo': 2292, 'Architects': 2293, 'Army': 2294, 'ArmyofBreitbarts': 2295, 'Around': 2296, 'Art': 2297, 'Asians': 2298, 'Asked': 2299, 'Asking': 2300, 'Assailing': 2301, 'Assignment': 2302, 'Attack': 2303, 'Augusta//': 2304, 'Austan': 2305, 'AutoFollowBack': 2306, 'B': 2307, 'B.S.': 2308, 'BACK': 2309, 'BARACK': 2310, 'BASTARD': 2311, 'BEST': 2312, 'BIGFOOT': 2313, 'BLENDER': 2314, 'BO': 2315, 'BOSS': 2316, 'BRAIN': 2317, 'BRING': 2318, 'BULLSHIT': 2319, 'BUSH': 2320, 'BUT': 2321, 'BWAhahahahahaha': 2322, 'Baby': 2323, 'Background': 2324, 'Baker': 2325, 'Balances': 2326, 'Ballot': 2327, 'Bam': 2328, 'Baptist': 2329, 'Barbara': 2330, 'Barone': 2331, 'Barrack': 2332, 'Based': 2333, 'Bastard': 2334, 'Bd': 2335, 'Bean': 2336, 'Beastiality': 2337, 'Because': 2338, 'Beer': 2339, 'Before': 2340, 'Beloit': 2341, 'Bey': 2342, 'Beyond': 2343, 'Bieber': 2344, 'Bigfoot': 2345, 'Bipartisan': 2346, 'Biz': 2347, 'Blog': 2348, 'Bloodiest': 2349, 'Bo': 2350, 'Bob': 2351, 'Bobby': 2352, 'Boca': 2353, 'Bogus': 2354, 'Booming': 2355, 'Both': 2356, 'Bottles': 2357, 'Bounty': 2358, 'Bouvier': 2359, 'Breakfast': 2360, 'Breaking': 2361, 'Breitbart': 2362, 'Briefing': 2363, 'Bucco': 2364, 'Bucket': 2365, 'Buffet': 2366, 'Buffett': 2367, 'Bully': 2368, 'Busch': 2369, 'Byte': 2370, 'C': 2371, \"C'mon\": 2372, 'CAROLINE': 2373, 'CATERPILLAR': 2374, 'CBC': 2375, 'CBS': 2376, 'CEO': 2377, 'CIA': 2378, 'CLEARLY': 2379, 'CNS': 2380, 'COME': 2381, 'COMMERCIAL': 2382, 'CORE': 2383, 'Cab': 2384, 'Caller': 2385, 'Canada': 2386, 'Capital': 2387, 'Case': 2388, 'Center': 2389, 'Chairman': 2390, 'Challenge': 2391, 'Charles': 2392, 'Charlotte': 2393, 'Checking': 2394, 'Checks': 2395, 'Chicom': 2396, 'Children': 2397, 'Christian': 2398, 'Christians': 2399, 'Church': 2400, 'Civility': 2401, 'Clarifying': 2402, 'Clearly': 2403, 'Clinton': 2404, 'Close': 2405, 'Cloward': 2406, 'Co': 2407, 'Collection': 2408, 'College': 2409, 'Comes': 2410, 'Commentary': 2411, 'Commie': 2412, 'Common': 2413, 'Communal': 2414, 'Communist': 2415, 'Community': 2416, 'Compare': 2417, 'Completes': 2418, 'Concerning': 2419, 'Conclusive': 2420, 'Conference': 2421, 'Confidence': 2422, 'Conservatives': 2423, 'Consistently': 2424, 'Corn': 2425, 'Could': 2426, 'Courtroom': 2427, 'Cozies': 2428, 'Crackdown': 2429, 'Crashes': 2430, 'Create': 2431, 'Credit': 2432, 'Criticizes': 2433, 'Critique': 2434, 'Cross': 2435, 'Crossed': 2436, 'Crude': 2437, 'D': 2438, 'DATED': 2439, 'DAYMN': 2440, 'DBM': 2441, 'DEMOCRATS': 2442, 'DID': 2443, \"DIDN'T\": 2444, 'DIE': 2445, 'DNC': 2446, 'DOJ': 2447, 'DOWN': 2448, 'DUM': 2449, 'Da': 2450, 'Dan': 2451, 'Dangerous': 2452, 'Dangerously': 2453, 'Dapper': 2454, 'Dear': 2455, 'Debbie': 2456, 'Declaration': 2457, 'Decoded': 2458, 'Defend': 2459, 'Defends': 2460, 'Deficit': 2461, 'Delivers': 2462, 'Dem': 2463, 'Designers': 2464, 'Despite': 2465, 'Destruction': 2466, 'Dick': 2467, 'Dies': 2468, 'Digital': 2469, 'Dine': 2470, 'Discuss': 2471, 'Disobedience': 2472, 'Dog': 2473, 'Donor': 2474, 'Doomsday': 2475, 'Drama': 2476, 'Dreams': 2477, 'DrillHereDrillNow': 2478, 'Drive': 2479, 'Drones': 2480, 'Drool': 2481, 'Duh': 2482, 'Dumbest': 2483, 'Dunce': 2484, 'During': 2485, 'E.': 2486, 'EARTH': 2487, 'ED': 2488, 'EDITORIAL': 2489, 'ENDORSES': 2490, 'EVERYONE': 2491, 'EVERYTHING': 2492, 'EXCLUSIVE': 2493, 'East': 2494, 'Easy': 2495, 'Ebinger': 2496, 'Echoes': 2497, 'Economics101': 2498, 'Economist': 2499, 'Economy': 2500, 'Ed': 2501, 'Eff': 2502, 'Elected': 2503, 'Election2012': 2504, 'Emergency': 2505, 'Endorses': 2506, 'Enemies': 2507, 'Ermey': 2508, 'Escalades': 2509, 'Espionage': 2510, 'Estados': 2511, 'Everyone': 2512, 'Ewell': 2513, 'Examiner-': 2514, 'Example': 2515, 'Expect': 2516, 'Exploited': 2517, 'Exposed': 2518, 'Extends': 2519, 'Extermination': 2520, 'FACT': 2521, 'FACTS': 2522, 'FAILURE': 2523, 'FAR': 2524, 'FEAR': 2525, 'FFL': 2526, 'FFX': 2527, 'FI': 2528, 'FIRST': 2529, 'FLsen': 2530, 'FORGET': 2531, 'FREE': 2532, 'FUCK': 2533, 'FULLERTON': 2534, 'FUNGI': 2535, 'FYI': 2536, 'Face': 2537, 'FactChecked': 2538, 'Fake': 2539, 'Fantasy': 2540, 'FastAndFurious': 2541, 'FastandFurious': 2542, 'Fed': 2543, 'Feds': 2544, 'Figurative': 2545, 'Files': 2546, 'Finally': 2547, 'Finnish': 2548, 'FireObama': 2549, 'Fired': 2550, 'Fix': 2551, 'Fla': 2552, 'FlipFlop': 2553, 'Follows': 2554, 'Foot': 2555, 'Forbes': 2556, 'Fort': 2557, 'Forums': 2558, 'Front': 2559, 'Fuck': 2560, 'Fuel': 2561, 'Funding': 2562, 'Fwank': 2563, 'G': 2564, 'GA': 2565, 'GIven': 2566, 'GONE': 2567, 'GOp': 2568, 'Gal': 2569, 'Gay': 2570, 'Geither': 2571, 'Gender': 2572, 'Generation': 2573, 'George': 2574, 'Getting': 2575, 'Ghandi': 2576, 'Gimme': 2577, 'Gingrich': 2578, 'Globalist': 2579, 'Goals&gt': 2580, 'Godfather': 2581, 'Godwins': 2582, 'Goes': 2583, 'Goolsbee': 2584, 'Gop2012': 2585, 'Got': 2586, 'Governor': 2587, 'Grammar': 2588, 'Grand': 2589, 'Graph': 2590, 'Grave': 2591, 'Grimaces': 2592, 'Groups': 2593, 'Gun': 2594, 'HAARP': 2595, 'HARD': 2596, \"HASN'T\": 2597, 'HD': 2598, 'HINT': 2599, 'HOLD': 2600, 'HOUSE': 2601, 'HOW': 2602, 'Had': 2603, 'Hannity': 2604, 'Happy': 2605, 'Hate': 2606, 'Hazz': 2607, 'Headlines': 2608, 'Heard': 2609, 'Heart': 2610, 'Heat': 2611, 'Hedges': 2612, 'Herald': 2613, 'Here': 2614, 'Hernandez': 2615, 'High': 2616, 'Hillarys': 2617, 'Hinderaker': 2618, 'Hints': 2619, 'Hispanic': 2620, 'Hispanics': 2621, 'Homework': 2622, 'HonestMitt': 2623, 'Honey': 2624, 'Hoodie': 2625, 'Hoping': 2626, 'Hosting': 2627, 'Hot': 2628, 'Hussein': 2629, \"I'M\": 2630, 'IBLOCKA': 2631, 'IBM': 2632, 'ID': 2633, 'IDIC': 2634, 'IDK': 2635, 'IF': 2636, 'IL': 2637, 'ILikeObamacare': 2638, 'INSIDE': 2639, 'INTERNSHIP': 2640, 'IRS': 2641, 'IT(Cover': 2642, 'ITS': 2643, 'IWantToPunchPeopleWho': 2644, 'Ignorant': 2645, 'Illinois': 2646, 'Immelt': 2647, 'Impeachment': 2648, 'Impossible': 2649, 'Independence': 2650, 'Industry': 2651, 'Infidel': 2652, 'Influence': 2653, 'Initial': 2654, 'Injuries': 2655, 'Instead': 2656, 'Insults': 2657, 'Insurance': 2658, 'Invite': 2659, 'Iowa': 2660, 'Irony': 2661, 'Irregulars': 2662, 'Islamists': 2663, 'Issues': 2664, 'Its': 2665, 'J': 2666, 'JD': 2667, 'JFK': 2668, 'JOBSAct': 2669, 'JUST': 2670, 'Jacket': 2671, 'Jackson': 2672, 'Jam': 2673, 'Jay': 2674, 'Jeans': 2675, 'Jefferson': 2676, 'Jewbags': 2677, 'JobsAct': 2678, 'Joe': 2679, 'Jokes': 2680, 'Joking': 2681, 'Jones': 2682, 'Judges': 2683, 'Judicial': 2684, 'Justice': 2685, 'Justices': 2686, 'Justin': 2687, 'KIM': 2688, 'KNEW': 2689, 'KNOCK': 2690, 'Kagan': 2691, 'Kal': 2692, 'Kansas': 2693, 'Kappa': 2694, 'Katie': 2695, 'Katrina': 2696, 'Keystone': 2697, 'Khady': 2698, 'Khalidi': 2699, 'Kids': 2700, 'Kim': 2701, 'Kinda': 2702, 'Kiriakou': 2703, 'Kneed': 2704, 'Know': 2705, 'Knox': 2706, 'Kristol': 2707, 'Kryptonite': 2708, 'LATimes': 2709, 'LET': 2710, 'LIARS': 2711, 'LIKE': 2712, 'LIMBAUGH': 2713, 'LIVE': 2714, 'LLAP': 2715, 'LMAO': 2716, 'LMBO': 2717, 'LMFAO': 2718, 'LONGBOARD': 2719, 'LUIS!RT': 2720, 'LaFollette': 2721, 'Laden': 2722, 'Lamont': 2723, 'Last': 2724, 'Late': 2725, 'Latest': 2726, 'Latinos': 2727, 'Launch': 2728, 'Leaders': 2729, 'League': 2730, 'Leak': 2731, 'Leave': 2732, 'Legislator': 2733, 'Less': 2734, 'Lexington': 2735, 'Libs': 2736, 'Lied': 2737, 'Lies': 2738, 'Life': 2739, 'Lil': 2740, 'Lines': 2741, 'List': 2742, 'Literally': 2743, 'Little': 2744, 'Living': 2745, 'Logic': 2746, 'Looks': 2747, 'Los': 2748, 'Lower': 2749, 'Lying': 2750, 'M.': 2751, 'MAD': 2752, 'MBA': 2753, 'MEAN': 2754, 'MEET': 2755, 'MICHELLE': 2756, 'MINDKILLER': 2757, 'MLK': 2758, 'MMJ': 2759, 'MUMMMYYYYYYYYYY': 2760, 'MY': 2761, 'Madison': 2762, 'Mahjong': 2763, 'Major': 2764, 'Makes': 2765, 'Making': 2766, 'Man': 2767, 'Mandate': 2768, 'Mannnnn': 2769, 'Marbury': 2770, 'Marc': 2771, 'Mario': 2772, 'Marriage|': 2773, 'Marxist': 2774, 'Masters': 2775, 'Matters': 2776, 'Maverick': 2777, 'Max': 2778, 'Maybe': 2779, 'Meetings': 2780, 'Megan': 2781, 'Meltdown': 2782, 'Men': 2783, 'Messina': 2784, 'Metal': 2785, 'Metropolitan': 2786, 'Mic': 2787, 'Military': 2788, 'Million': 2789, 'Minaj': 2790, 'Mining': 2791, 'Miraculous': 2792, 'Mistake': 2793, 'Mittens': 2794, 'Mixalot': 2795, 'Mmm': 2796, 'Mom': 2797, 'Mormon': 2798, 'Moving': 2799, 'Mrs': 2800, 'Muhammad': 2801, 'Murderers': 2802, 'Museum': 2803, 'Muslims': 2804, 'Must': 2805, 'N.C.': 2806, 'NAACP': 2807, 'NBC': 2808, 'NEED': 2809, 'NEEDS': 2810, 'NEWSXOOMcom': 2811, 'NEXT': 2812, 'NGVs': 2813, 'NH': 2814, 'NOBODY': 2815, 'NONE': 2816, 'NOT&gt': 2817, 'NOTHING': 2818, 'NPR': 2819, 'NRO': 2820, 'NUTS': 2821, 'NW': 2822, 'Naked': 2823, 'Namun': 2824, 'Nancy': 2825, 'NatGas': 2826, 'Nation': 2827, 'Naval': 2828, 'Navy': 2829, 'Newshounds': 2830, 'Newt': 2831, 'Next': 2832, 'Nicki': 2833, 'Nigeria': 2834, 'Night': 2835, 'Nobeles': 2836, 'November': 2837, 'Nyrell': 2838, \"O'Reilly\": 2839, 'O.': 2840, 'OCRA': 2841, 'OIL': 2842, 'OK': 2843, 'OKAY': 2844, 'OMFG': 2845, 'OOOORAH': 2846, 'OUT': 2847, 'OVER': 2848, 'OVERSOLD': 2849, 'OWS': 2850, 'Off': 2851, 'Officially': 2852, 'Old': 2853, 'Ooh': 2854, 'Operation': 2855, 'Opinion': 2856, 'Oprah': 2857, 'Or': 2858, 'Ordained': 2859, 'Organizations': 2860, 'Organizers': 2861, 'Orin': 2862, 'Osama': 2863, 'Otherwise': 2864, 'Ouch': 2865, 'Out': 2866, 'Over': 2867, 'PA': 2868, 'PANTS': 2869, 'PETTY': 2870, 'POLICIES': 2871, 'POLITICIANS': 2872, 'POSITIVE': 2873, 'PRESIDENTIAL': 2874, 'PROD': 2875, 'PRODUCTION': 2876, 'PUT': 2877, 'Package': 2878, 'Pages': 2879, 'Panthers': 2880, 'Park': 2881, 'Past': 2882, 'Patriots': 2883, 'Pavlich': 2884, 'Pay': 2885, 'Pelosi': 2886, 'Penn': 2887, 'Pennsylvania': 2888, 'Pepsi': 2889, 'Perfect': 2890, 'Perry': 2891, 'Photos': 2892, 'PickensPlan': 2893, 'Picture': 2894, 'Pin': 2895, 'Pipeline': 2896, 'Piss': 2897, 'Piven': 2898, 'Plan': 2899, 'Please': 2900, 'PolitiFact': 2901, 'Poll': 2902, 'Poop': 2903, 'Pope': 2904, 'Portugeese': 2905, 'Powerline': 2906, 'Powers': 2907, 'Pravda': 2908, 'Prayer': 2909, 'Predator': 2910, 'Presentation': 2911, 'Preserve': 2912, 'Presiden': 2913, 'Presidents': 2914, 'Pretzel': 2915, 'Prevent': 2916, 'Prevented': 2917, 'Prez': 2918, 'Probably': 2919, 'Progressive': 2920, 'Progressives': 2921, 'Promised': 2922, 'Promo': 2923, 'Propaganda': 2924, 'Proposal': 2925, 'Protect': 2926, 'Publishes': 2927, 'Purple': 2928, 'Push': 2929, 'QDR': 2930, 'QUITE': 2931, 'Questioning': 2932, 'Quran': 2933, 'R.': 2934, 'READ': 2935, 'REALLY': 2936, 'RIGHT': 2937, 'ROCK': 2938, 'RS': 2939, 'RTs': 2940, 'RW': 2941, 'RWers': 2942, 'Rachel': 2943, 'Racial': 2944, 'Radicals': 2945, 'Raids': 2946, 'Raising': 2947, 'Rare': 2948, 'Rashid': 2949, 'Rate': 2950, 'Re': 2951, 'Recession': 2952, 'Recycles': 2953, 'Regulatory': 2954, 'Research': 2955, 'Respect': 2956, 'Restraint': 2957, 'Reveals': 2958, 'Revolution': 2959, 'Ridicule': 2960, 'Riding': 2961, 'Rights': 2962, 'Rihanna': 2963, 'Rips': 2964, 'Romney&gt;Obama': 2965, 'Room': 2966, 'Row': 2967, 'Rules': 2968, 'Running': 2969, 'S': 2970, 'SAID': 2971, 'SANTORUM': 2972, 'SAYS': 2973, 'SC': 2974, 'SCHEMA': 2975, 'SCUM': 2976, 'SEAL': 2977, 'SEMPER': 2978, 'SEXY': 2979, 'SGP': 2980, 'SH': 2981, 'SHITGOTREAL': 2982, 'SHOW': 2983, 'SHREW': 2984, 'SOPHIA': 2985, 'SOTU': 2986, 'SPEAK': 2987, 'STEP': 2988, 'STFU': 2989, 'STOCK': 2990, 'SUMMER': 2991, 'SURE': 2992, 'Sales': 2993, 'Sanctioning': 2994, 'Saturn': 2995, 'Savage': 2996, 'SaveTheArctic': 2997, 'Saved': 2998, 'Saying': 2999, 'Scandal': 3000, 'Schumer': 3001, 'Scott': 3002, 'Scramble': 3003, 'Secretly': 3004, 'Seder': 3005, 'See': 3006, 'Selma': 3007, 'Service': 3008, 'Sets': 3009, 'Shaping': 3010, 'Share': 3011, 'Sharia': 3012, 'Sharpens': 3013, 'Sharpton': 3014, 'She': 3015, 'Ships': 3016, 'Shocked': 3017, 'Shop': 3018, 'Shorthand': 3019, 'Since': 3020, 'Single': 3021, 'Sipsey': 3022, 'Sir': 3023, 'Six': 3024, 'Skateboard': 3025, 'Skew': 3026, 'Skipper': 3027, 'Slobbers': 3028, 'Small': 3029, 'Soars': 3030, 'Socialist': 3031, 'Sodomy': 3032, 'Some': 3033, 'Son': 3034, 'Soooo': 3035, 'SouthFloridaGayNews.|': 3036, 'Southern': 3037, 'Soviet': 3038, 'Spaced': 3039, 'Speeches': 3040, 'Spent': 3041, 'Spoke': 3042, 'Spy': 3043, 'Standard': 3044, 'Startling': 3045, 'Stephen': 3046, 'Steroids': 3047, 'Steve': 3048, 'SteveJobs': 3049, 'Still': 3050, 'Street': 3051, 'Strike': 3052, 'Striking': 3053, 'Strong': 3054, 'Suburbanites': 3055, 'Supports': 3056, 'Susan': 3057, 'Swiftboat': 3058, 'TARP': 3059, 'TH': 3060, 'THINKIN': 3061, 'THINKS': 3062, 'THere': 3063, 'TMNT': 3064, 'TPP': 3065, 'TPie': 3066, 'TROOPS': 3067, 'TRUCKS': 3068, 'TWEETED': 3069, 'TWITTER': 3070, 'Table': 3071, 'Take': 3072, 'Taking': 3073, 'Tales': 3074, 'Taliban': 3075, 'Talking': 3076, 'Target': 3077, 'Tax': 3078, 'Taxes': 3079, 'Taxpayer': 3080, 'Tea': 3081, 'Team': 3082, 'TeamFollowBack': 3083, 'Teaparty': 3084, 'TelePrompter': 3085, 'Telegrap': 3086, 'Than': 3087, 'Thank': 3088, 'Thanx': 3089, 'TheAnonMessage': 3090, 'TheTavisSmileyShow': 3091, 'Their': 3092, 'Then': 3093, 'These': 3094, 'Three': 3095, 'Throughout': 3096, 'Tierney': 3097, 'Tiger': 3098, 'Tolak': 3099, 'Tonic': 3100, 'TopProg': 3101, 'Totalitarianism': 3102, 'TrackNation': 3103, 'Traditional': 3104, 'Transcripts': 3105, 'TrayvonMartin': 3106, 'Trekker': 3107, 'Trekkie': 3108, 'Trend': 3109, 'Trillion': 3110, 'Troops': 3111, 'Truly': 3112, 'Trying': 3113, 'Turning': 3114, 'Um': 3115, 'Umm': 3116, 'Un': 3117, 'Undangan': 3118, 'Under': 3119, 'Understood': 3120, 'Unelected': 3121, 'Unemployment': 3122, 'Unidos': 3123, 'Union': 3124, 'Unite': 3125, 'Universal': 3126, 'Unqualified': 3127, 'Unresolved': 3128, 'Unthinkable': 3129, 'Up': 3130, 'Using': 3131, 'VAsen': 3132, 'VIDS': 3133, 'VIEW': 3134, 'Van': 3135, 'Vera': 3136, 'Very': 3137, 'VetThePres': 3138, 'VetThePress': 3139, 'Veteran': 3140, 'Vets': 3141, 'Vetting': 3142, 'Via': 3143, 'Vision': 3144, 'Voters': 3145, 'Vulcan': 3146, 'W': 3147, 'WAIT': 3148, 'WANT': 3149, 'WANTS': 3150, 'WAS': 3151, 'WGCL': 3152, 'WHATS': 3153, 'WHEELS': 3154, 'WHFail': 3155, 'WHITE': 3156, 'WHITEHOUSE': 3157, 'WHO': 3158, 'WI': 3159, 'WITH': 3160, 'WMYB': 3161, 'WOMAN': 3162, 'WOMEN': 3163, 'WONDERING': 3164, 'WORD': 3165, 'WORLD': 3166, 'WOW': 3167, 'WSJ': 3168, 'WTH': 3169, 'Walker': 3170, 'Walt': 3171, 'Wants': 3172, 'WarOnWomen': 3173, 'Warin': 3174, 'Warning': 3175, 'Warren': 3176, 'Was': 3177, 'Wash': 3178, 'Wasserman': 3179, 'Water': 3180, 'Watters': 3181, 'Weak': 3182, 'Weekly': 3183, 'Well': 3184, 'West&gt': 3185, 'Western': 3186, 'WhatsBarackHiding': 3187, 'Which': 3188, 'Whites': 3189, 'Whitey': 3190, 'Whoops': 3191, 'Willard': 3192, 'Win': 3193, 'Wine': 3194, 'Wingnut': 3195, 'WoO': 3196, 'Wolf': 3197, 'WomenOnlyCourse': 3198, 'Wonder': 3199, 'Woods': 3200, 'Working': 3201, 'Wow': 3202, 'Writer': 3203, 'YR': 3204, 'Ya': 3205, 'Yeeeaah': 3206, 'Your': 3207, 'Zimmerman': 3208, 'Zombies': 3209, 'a$$': 3210, 'a.k.a': 3211, 'accomplishments': 3212, 'accuse': 3213, 'accuses': 3214, 'achieve': 3215, 'acolytes': 3216, 'across': 3217, 'actions': 3218, 'ada': 3219, 'added': 3220, 'addiction': 3221, 'addition': 3222, 'address': 3223, 'adm': 3224, 'adults': 3225, 'advantage': 3226, 'advisor': 3227, 'afte': 3228, 'agent': 3229, 'agusta': 3230, 'ah': 3231, 'air': 3232, 'ajajajaj': 3233, 'aka': 3234, 'algae': 3235, 'aliens': 3236, 'alive': 3237, 'allegations': 3238, 'alleged': 3239, 'allegedly': 3240, 'allowe': 3241, 'allowed': 3242, 'alone': 3243, 'along': 3244, 'amazing': 3245, 'americans': 3246, 'android': 3247, 'anger': 3248, 'answers': 3249, 'anystreet': 3250, 'anyways': 3251, 'appears': 3252, 'applaud': 3253, 'approved': 3254, 'areas': 3255, 'arkansasboyproblems': 3256, 'arm': 3257, 'arrested': 3258, 'ash': 3259, 'asked': 3260, 'asklessofbusiness': 3261, 'assassination': 3262, 'assassinations': 3263, 'assertion': 3264, 'assign': 3265, 'assinou': 3266, 'assorted': 3267, 'assuming': 3268, 'attacked': 3269, 'attcking': 3270, 'attempt': 3271, 'attention': 3272, 'attorney': 3273, 'audio': 3274, 'aunque': 3275, 'auto': 3276, 'autobiography': 3277, 'avatar': 3278, 'average': 3279, 'avoid': 3280, 'avoiding': 3281, 'awestruck': 3282, 'b4': 3283, 'backfire': 3284, 'backfiring': 3285, 'background': 3286, 'backoffdummies': 3287, 'bailout': 3288, 'bailouts': 3289, 'baiter': 3290, 'banks': 3291, 'banyak': 3292, 'barack': 3293, 'barnstorming': 3294, 'barry': 3295, 'baseball': 3296, 'based': 3297, 'bashes': 3298, 'bastard': 3299, 'battleship': 3300, 'bc': 3301, 'bcot': 3302, 'bear': 3303, 'beating': 3304, 'became': 3305, 'become': 3306, 'becomes': 3307, 'beef': 3308, 'beings': 3309, 'belive': 3310, 'belly': 3311, 'bench': 3312, 'bet': 3313, 'beyond': 3314, 'bias': 3315, 'bieber': 3316, 'biggest': 3317, 'billion': 3318, 'bitch': 3319, 'blast': 3320, 'blog': 3321, 'bloody': 3322, 'blue': 3323, 'blueCity': 3324, 'bogus': 3325, 'boldly': 3326, 'bom': 3327, 'bondage': 3328, 'booty': 3329, 'borders': 3330, 'bored': 3331, 'bound': 3332, 'boy': 3333, 'bracelet': 3334, 'brain': 3335, 'brainer': 3336, 'breakfast': 3337, 'breaks': 3338, 'brilliant': 3339, 'bro': 3340, 'broken': 3341, 'brown': 3342, 'buddies': 3343, 'budgets': 3344, 'build': 3345, 'bus': 3346, 'bush': 3347, 'businesses': 3348, 'button': 3349, 'buy': 3350, 'c': 3351, 'cake': 3352, 'calculate': 3353, 'calculus': 3354, 'caller': 3355, 'calm': 3356, 'campaigns': 3357, 'cantando': 3358, 'cantwait2vote': 3359, 'cap': 3360, 'capitalist': 3361, 'career': 3362, 'caring': 3363, 'cartel': 3364, 'casarte': 3365, 'cat': 3366, 'caught': 3367, 'cbs': 3368, 'celeb': 3369, 'celebrate': 3370, 'celebrities': 3371, 'celebrity': 3372, 'cert': 3373, 'challenge': 3374, 'challenging': 3375, 'champion': 3376, 'changing': 3377, 'channel': 3378, 'character': 3379, 'cheating': 3380, 'check': 3381, 'checked': 3382, 'cheeks': 3383, 'cheezin': 3384, 'choose': 3385, 'citizens': 3386, 'citizenship': 3387, 'civil': 3388, 'claims': 3389, 'click': 3390, 'climbing': 3391, 'clinics': 3392, 'clinton': 3393, 'cnn': 3394, 'co': 3395, 'co.': 3396, 'coats': 3397, 'coincidence': 3398, 'collapse': 3399, 'color': 3400, 'comb': 3401, 'combined': 3402, 'comfort': 3403, 'commie': 3404, 'common': 3405, 'communist': 3406, 'company': 3407, 'comparison': 3408, 'complaining': 3409, 'complete': 3410, 'con': 3411, 'conceded': 3412, 'concedes': 3413, 'conceived': 3414, 'conference': 3415, 'congratulate': 3416, 'congressional': 3417, 'conocieron': 3418, 'consecutive': 3419, 'consists': 3420, 'constantly': 3421, 'constitution': 3422, 'constitutional': 3423, 'contempt': 3424, 'contemptuos': 3425, 'contrast': 3426, 'contributed': 3427, 'controllers': 3428, 'convention': 3429, 'conversation': 3430, 'cops': 3431, 'corollary': 3432, 'correction': 3433, 'cost': 3434, 'couple': 3435, 'couples': 3436, 'covert': 3437, 'cozied': 3438, 'cries': 3439, 'crime': 3440, 'critical': 3441, 'criticism': 3442, 'crush': 3443, 'crying': 3444, 'cryogenically': 3445, 'cuz': 3446, 'd': 3447, 'daggers': 3448, 'dancing': 3449, 'dangerous': 3450, 'days': 3451, 'debacle': 3452, 'deceit': 3453, 'decent': 3454, 'decide': 3455, 'deciding': 3456, 'decisive': 3457, 'deeper': 3458, 'defeat': 3459, 'defeated': 3460, 'defeating': 3461, 'defend': 3462, 'defending': 3463, 'defensive': 3464, 'deficit': 3465, 'definitely': 3466, 'definition': 3467, 'del': 3468, 'demanding': 3469, 'democracy': 3470, 'democrat': 3471, 'dengan': 3472, 'denounce': 3473, 'denounces': 3474, 'depends': 3475, 'describes': 3476, 'deserve': 3477, 'despite': 3478, 'destroyed': 3479, 'destroying': 3480, 'detail': 3481, 'detrimental': 3482, 'development': 3483, 'dey': 3484, 'dial': 3485, 'diamonds': 3486, 'difference': 3487, 'dig': 3488, 'diggin': 3489, 'dignity': 3490, 'dimwit': 3491, 'dings': 3492, 'dinner': 3493, 'direct': 3494, 'direction': 3495, 'directioners': 3496, 'direspect': 3497, 'dirinya': 3498, 'dirty': 3499, 'dis': 3500, 'disagree': 3501, 'disaster': 3502, 'discharge': 3503, 'discuss': 3504, 'disguise': 3505, 'dislikes': 3506, 'divider': 3507, 'divorce': 3508, 'dm': 3509, 'dmv_twitter': 3510, 'documents': 3511, 'dollars': 3512, \"don't\": 3513, 'donated': 3514, 'donor$': 3515, \"dosen't\": 3516, 'double': 3517, 'dove': 3518, 'drama': 3519, 'dreamnt': 3520, 'dressing': 3521, 'driving': 3522, 'drop': 3523, 'drug': 3524, 'dudes': 3525, 'duel': 3526, 'duh': 3527, 'durante': 3528, 'duties': 3529, 'duty': 3530, 'dying': 3531, 'e': 3532, 'eBAY': 3533, 'eager': 3534, 'earn': 3535, 'earned': 3536, 'earth': 3537, 'easier': 3538, 'easily': 3539, 'ebay': 3540, 'econ': 3541, 'econo': 3542, 'economist': 3543, 'edit': 3544, 'educated': 3545, 'eerily': 3546, 'effected': 3547, 'effective': 3548, 'elections2012': 3549, 'electorally': 3550, 'else(i.e': 3551, 'embarrassing': 3552, 'emblematic': 3553, 'embracing': 3554, 'embryonic': 3555, 'emulate': 3556, 'encantaria': 3557, 'ends': 3558, 'enjoy': 3559, 'enough': 3560, 'entertaining': 3561, 'entitlements': 3562, 'entrando': 3563, 'equalization': 3564, 'era': 3565, 'esos': 3566, 'espouses': 3567, 'esta': 3568, 'eve': 3569, 'ex': 3570, 'exceed': 3571, 'exceptionalism': 3572, 'excessive': 3573, 'exchange': 3574, 'executive': 3575, 'exemption': 3576, 'explanations': 3577, 'exposes': 3578, 'extreme': 3579, 'facts': 3580, 'fail': 3581, 'failure': 3582, 'farce': 3583, 'fashion': 3584, 'fave': 3585, 'featured': 3586, 'featuring': 3587, 'feed': 3588, 'feet': 3589, 'fest': 3590, 'fiction': 3591, 'field': 3592, 'fight': 3593, 'figthing': 3594, 'figured': 3595, 'file': 3596, 'film': 3597, 'final': 3598, 'financial': 3599, 'financing': 3600, 'fine': 3601, 'firing': 3602, 'fix': 3603, 'flap': 3604, 'flipper': 3605, 'floor': 3606, 'flushing': 3607, 'fmr': 3608, 'followed': 3609, 'following': 3610, 'food': 3611, 'foodstamps': 3612, 'fool': 3613, 'fooled': 3614, 'fooling': 3615, 'foot': 3616, 'footrace': 3617, 'forces': 3618, 'forever': 3619, 'forgot': 3620, 'fortitude': 3621, 'forward.@BarackObama': 3622, 'fox': 3623, 'fraud': 3624, 'freedomfever': 3625, 'freedoms': 3626, 'freely': 3627, 'friendlier': 3628, 'fuck': 3629, 'fulfill': 3630, 'full': 3631, 'fundraisers': 3632, 'furiius': 3633, 'futile': 3634, 'futuremoonNewt': 3635, 'galaxy': 3636, 'gallon': 3637, 'gauge': 3638, 'gay|': 3639, 'gen44': 3640, 'generated': 3641, 'genio': 3642, 'genius': 3643, 'getchaObamaon': 3644, 'gets': 3645, 'getting': 3646, 'gif': 3647, 'girlfriends': 3648, 'given': 3649, 'giving': 3650, 'glbt': 3651, 'gloves': 3652, 'glutting': 3653, 'goin': 3654, 'golden': 3655, 'golfers': 3656, 'goon': 3657, 'gop2012': 3658, 'grad': 3659, 'grades': 3660, 'graduate': 3661, 'grain': 3662, 'gray': 3663, 'green': 3664, 'group': 3665, 'groupie': 3666, 'growth': 3667, 'grwth': 3668, 'gt;&gt': 3669, 'gt;RT': 3670, 'gt;__&lt': 3671, 'guarantee': 3672, 'guerra': 3673, 'guilty': 3674, 'guns': 3675, 'hahaha': 3676, 'halved': 3677, 'handle': 3678, 'handsome': 3679, 'harpoons': 3680, 'hater': 3681, 'hatin': 3682, 'heading': 3683, 'heist': 3684, 'hella': 3685, 'helpRomney': 3686, 'helped': 3687, 'hhrs': 3688, 'hi': 3689, 'highest': 3690, 'hija': 3691, 'hijas': 3692, 'himself': 3693, 'hint': 3694, 'hip': 3695, 'historically': 3696, 'hit': 3697, 'hits': 3698, 'hj': 3699, 'holds': 3700, 'home': 3701, 'homes': 3702, 'honestly': 3703, 'honesty': 3704, 'hoping': 3705, 'hora': 3706, 'horribly': 3707, 'hospitals': 3708, 'host': 3709, 'hosting': 3710, 'hotchoclateRomney': 3711, 'hotels': 3712, 'http://t.co/02AQUGPl': 3713, 'http://t.co/06rD6lCL': 3714, 'http://t.co/0NrH7GKj': 3715, 'http://t.co/0TBmBaKB': 3716, 'http://t.co/0TPBphCt': 3717, 'http://t.co/0bk8kViG': 3718, 'http://t.co/0wNSy7T6': 3719, 'http://t.co/14GbcXGO': 3720, 'http://t.co/19Frqx8C': 3721, 'http://t.co/1IiLN01H': 3722, 'http://t.co/1RimJk0Z': 3723, 'http://t.co/1kiskMUC': 3724, 'http://t.co/1nDIfI3y': 3725, 'http://t.co/1yZOM5d9': 3726, 'http://t.co/22GPDvLM': 3727, 'http://t.co/2Yy8Srct': 3728, 'http://t.co/2eaXDiOD': 3729, 'http://t.co/2gnXDo0f': 3730, 'http://t.co/2gtwMBtu': 3731, 'http://t.co/2i4SmoPM': 3732, 'http://t.co/35EWTJG7': 3733, 'http://t.co/37kEFtMg': 3734, 'http://t.co/3Ax22aBB': 3735, 'http://t.co/3COJeZ2F': 3736, 'http://t.co/3qzdFw1C': 3737, 'http://t.co/42Ak8yAq': 3738, 'http://t.co/48O3o6jd': 3739, 'http://t.co/4INNVGfC': 3740, 'http://t.co/4IOwLqh1': 3741, 'http://t.co/4LtEJRbL': 3742, 'http://t.co/4PEbWUGs': 3743, 'http://t.co/4vxMWaZv': 3744, 'http://t.co/5DLIc25x': 3745, 'http://t.co/5EO2RIfx': 3746, 'http://t.co/5QBOVrBw': 3747, 'http://t.co/5XJZbGSV': 3748, 'http://t.co/5xHkGMDg': 3749, 'http://t.co/7UpYOSnI': 3750, 'http://t.co/7W5qni2S': 3751, 'http://t.co/7eq8nebt': 3752, 'http://t.co/7jswRZAQ': 3753, 'http://t.co/89tb9uIl': 3754, 'http://t.co/8Go8oCpf': 3755, 'http://t.co/8HYLEeNW': 3756, 'http://t.co/8IhorwzV': 3757, 'http://t.co/8Mp8Bg3y': 3758, 'http://t.co/8UxiTXT9': 3759, 'http://t.co/8iSanDGS': 3760, 'http://t.co/91ecaJAE': 3761, 'http://t.co/9JQdRBUs': 3762, 'http://t.co/9WGiMra5': 3763, 'http://t.co/9a1deeP0': 3764, 'http://t.co/Au49TLVs': 3765, 'http://t.co/B2cYIX23': 3766, 'http://t.co/B3b4vkeX': 3767, 'http://t.co/BAUROUue': 3768, 'http://t.co/BFzSh3iz': 3769, 'http://t.co/BKn8RpkI': 3770, 'http://t.co/BX2ogeQN': 3771, 'http://t.co/BnBgHZx0': 3772, 'http://t.co/C54NpNfl': 3773, 'http://t.co/C67LiSDV': 3774, 'http://t.co/CK84NpUq': 3775, 'http://t.co/CQpMvkDJ': 3776, 'http://t.co/D9qwckJ3': 3777, 'http://t.co/DHvGqb1Z': 3778, 'http://t.co/DbYlHcSh': 3779, 'http://t.co/DmMaGbBz': 3780, 'http://t.co/DrZl9zwA': 3781, 'http://t.co/Duemei61': 3782, 'http://t.co/EAS8WNVU': 3783, 'http://t.co/EaNtlmO0': 3784, 'http://t.co/EmIhIKWh': 3785, 'http://t.co/FNPrvVDK': 3786, 'http://t.co/G2bb5AIS': 3787, 'http://t.co/G2kQrEmd': 3788, 'http://t.co/G68JEmkz': 3789, 'http://t.co/GHX5maQk': 3790, 'http://t.co/GP27CETj': 3791, 'http://t.co/GTmqufBo': 3792, 'http://t.co/GZDMIGVy': 3793, 'http://t.co/GaLabbKb': 3794, 'http://t.co/H1YRpYlV': 3795, 'http://t.co/HVQfUzgr': 3796, 'http://t.co/HdJiGiMe': 3797, 'http://t.co/Hi8NnhBT': 3798, 'http://t.co/Hl52R0AN': 3799, 'http://t.co/I004oH6s': 3800, 'http://t.co/I4J3Q5uG': 3801, 'http://t.co/IMcTUlsH': 3802, 'http://t.co/IP2xu3cW': 3803, 'http://t.co/IZXRte2e': 3804, 'http://t.co/Iw3pz7fy': 3805, 'http://t.co/JGbJwE9Z': 3806, 'http://t.co/JJQ5DfKb': 3807, 'http://t.co/JaHy0cnn': 3808, 'http://t.co/JdrQZSJr': 3809, 'http://t.co/JqlUcpRc': 3810, 'http://t.co/KW9dn9wq': 3811, 'http://t.co/KeC3MhTg': 3812, 'http://t.co/L5xqNFfD': 3813, 'http://t.co/LSCUC7P4': 3814, 'http://t.co/LdPffo7a': 3815, 'http://t.co/LojgGtGT': 3816, 'http://t.co/LuObjd1': 3817, 'http://t.co/MNq3PqOp': 3818, 'http://t.co/MhF1hyPC': 3819, 'http://t.co/MpMYwNyi': 3820, 'http://t.co/MuLmPaB2': 3821, 'http://t.co/MuovhZSc': 3822, 'http://t.co/MzerPkAh': 3823, 'http://t.co/NCe2nJzX': 3824, 'http://t.co/NDp6dISb': 3825, 'http://t.co/NKCZ0YqD.': 3826, 'http://t.co/NU1LDv2R': 3827, 'http://t.co/Ng1MH6hO': 3828, 'http://t.co/NkIYIkj1': 3829, 'http://t.co/NqjjCWMB': 3830, 'http://t.co/OGi7SdUq': 3831, 'http://t.co/OGyR4YUk': 3832, 'http://t.co/ONKneI5X': 3833, 'http://t.co/ONvpI8jR': 3834, 'http://t.co/OSb2gr3f': 3835, 'http://t.co/OTpHamKc': 3836, 'http://t.co/OVkDyuX9': 3837, 'http://t.co/Oqebcdlc': 3838, 'http://t.co/OtHTaRDK': 3839, 'http://t.co/PFmSWQsU': 3840, 'http://t.co/PVKrepqI': 3841, 'http://t.co/PsXJ71R3': 3842, 'http://t.co/Pu73AOEV': 3843, 'http://t.co/PxooFjTO': 3844, 'http://t.co/QDV1qQKn': 3845, 'http://t.co/QJYdOvLj': 3846, 'http://t.co/QTdmKZQe': 3847, 'http://t.co/R0LJqx8X': 3848, 'http://t.co/R80dwTeD': 3849, 'http://t.co/REuKvbgg': 3850, 'http://t.co/RQQpZJHd': 3851, 'http://t.co/RaKHSwfn': 3852, 'http://t.co/RhSzoEU7': 3853, 'http://t.co/RoLLLTt2': 3854, 'http://t.co/RpPh3u0V': 3855, 'http://t.co/S4UHjSVS': 3856, 'http://t.co/S5H0Er1B': 3857, 'http://t.co/S8YeopCr': 3858, 'http://t.co/S8lPX0SZ': 3859, 'http://t.co/SELMj7zZ': 3860, 'http://t.co/SGo5zdHy': 3861, 'http://t.co/SPn6jMXH': 3862, 'http://t.co/SaQa8V5w': 3863, 'http://t.co/Shv83Z0F': 3864, 'http://t.co/Sm9s2o9i': 3865, 'http://t.co/Su79rpyv': 3866, 'http://t.co/T4aopGDD': 3867, 'http://t.co/T8Mfzi0i': 3868, 'http://t.co/TGgLdkOo': 3869, 'http://t.co/TUqvEApu': 3870, 'http://t.co/Taa46B8j': 3871, 'http://t.co/TlfMmi0': 3872, 'http://t.co/UbLfVfdK': 3873, 'http://t.co/UejtlmGt': 3874, 'http://t.co/UiNfpoYP': 3875, 'http://t.co/UlXo9kp3': 3876, 'http://t.co/UnVSPmdy': 3877, 'http://t.co/UxKlvxaj': 3878, 'http://t.co/VGCUvWQN': 3879, 'http://t.co/W761OyXD': 3880, 'http://t.co/WCtllWno': 3881, 'http://t.co/WEbFZPlb': 3882, 'http://t.co/WI0ajzJX': 3883, 'http://t.co/WIDZGjRj': 3884, 'http://t.co/WYKgE3LZ': 3885, 'http://t.co/X8fkVleu': 3886, 'http://t.co/XjuQrb5w': 3887, 'http://t.co/XliEIxvs': 3888, 'http://t.co/XpHKzt5Y': 3889, 'http://t.co/XpXJJp9c': 3890, 'http://t.co/XwY62sep': 3891, 'http://t.co/YT7rGVL9': 3892, 'http://t.co/Yd8jzwoV': 3893, 'http://t.co/YtzeLXMt': 3894, 'http://t.co/YuBShHrj': 3895, 'http://t.co/Z2BCceVk': 3896, 'http://t.co/Z552mkRl': 3897, 'http://t.co/Zgsh2zyo': 3898, 'http://t.co/ZqAuGKOd': 3899, 'http://t.co/ZuKdTidE': 3900, 'http://t.co/aKzIOEDM': 3901, 'http://t.co/aViCL1rV': 3902, 'http://t.co/ab54HUve': 3903, 'http://t.co/asaEviZ5': 3904, 'http://t.co/avHENxrg': 3905, 'http://t.co/b7hy5nu1': 3906, 'http://t.co/bKUGLufH': 3907, 'http://t.co/bfC4gbBW': 3908, 'http://t.co/bgk2uOdY': 3909, 'http://t.co/cNr0Sr3c': 3910, 'http://t.co/cnHRuUBZ': 3911, 'http://t.co/cuHdVHYv': 3912, 'http://t.co/d2X461u2': 3913, 'http://t.co/d2tf13n0': 3914, 'http://t.co/dFTjxuKB': 3915, 'http://t.co/dKy7CI8': 3916, 'http://t.co/eEqWimgY': 3917, 'http://t.co/eamVPg6w': 3918, 'http://t.co/fCuFtbWm': 3919, 'http://t.co/fFZKYkLF': 3920, 'http://t.co/g5qKE6RS': 3921, 'http://t.co/gHQ3NrWP': 3922, 'http://t.co/gIb7UzdC': 3923, 'http://t.co/gVSs6ulN': 3924, 'http://t.co/gb87afx1': 3925, 'http://t.co/gk6vL04x': 3926, 'http://t.co/go9toJ8e': 3927, 'http://t.co/goZv1VU1': 3928, 'http://t.co/gpdr1y1C': 3929, 'http://t.co/hRbM9jal': 3930, 'http://t.co/hbWWnakJ': 3931, 'http://t.co/iR2DAMfM': 3932, 'http://t.co/j3K58zDO': 3933, 'http://t.co/j92pfp6': 3934, 'http://t.co/j9IJJsL5': 3935, 'http://t.co/kJdeKfKg': 3936, 'http://t.co/kexX62X8': 3937, 'http://t.co/l9LEKN8f': 3938, 'http://t.co/lFYgXSNS': 3939, 'http://t.co/ld3uspIs': 3940, 'http://t.co/ltBrqsgc': 3941, 'http://t.co/m3LFBhGY': 3942, 'http://t.co/mU1aHVLs': 3943, 'http://t.co/maoLb5Ia': 3944, 'http://t.co/mm4eGrZJ': 3945, 'http://t.co/mpTGvRvw': 3946, 'http://t.co/nAESlKQ9': 3947, 'http://t.co/nATmWclx': 3948, 'http://t.co/nBAjvfWA': 3949, 'http://t.co/njCfZuSd': 3950, 'http://t.co/ntzCSGeW': 3951, 'http://t.co/nxXJrxZe': 3952, 'http://t.co/oLxGUJE0': 3953, 'http://t.co/oSLQ94QM': 3954, 'http://t.co/oVMu9fKA': 3955, 'http://t.co/oZUoyoNN': 3956, 'http://t.co/oohsPWzs': 3957, 'http://t.co/p2vrYRFz': 3958, 'http://t.co/pAe0TYYI': 3959, 'http://t.co/pKDwxfGK': 3960, 'http://t.co/pS9fQaaL': 3961, 'http://t.co/pWArEGsR': 3962, 'http://t.co/pbY99uec': 3963, 'http://t.co/pp8XLXM4': 3964, 'http://t.co/q04cVYix': 3965, 'http://t.co/q5iS0Fyq': 3966, 'http://t.co/qCKXeVlI': 3967, 'http://t.co/qHrUeEoO': 3968, 'http://t.co/qSQXWxnl': 3969, 'http://t.co/qSyEjCZR': 3970, 'http://t.co/qxcmS5HU': 3971, 'http://t.co/rVWI6S1Y': 3972, 'http://t.co/rXWlPBKQ': 3973, 'http://t.co/rhDUtpLs': 3974, 'http://t.co/sCw6mZVz': 3975, 'http://t.co/sTR0vyJK': 3976, 'http://t.co/sVTTAKbW': 3977, 'http://t.co/sYSnUwUJ': 3978, 'http://t.co/sqG7ysWO': 3979, 'http://t.co/t9xniyJG': 3980, 'http://t.co/tFame7bZ': 3981, 'http://t.co/tIS5Umhh': 3982, 'http://t.co/ta0Gs2Su': 3983, 'http://t.co/taquWJUt': 3984, 'http://t.co/tmsSKR0': 3985, 'http://t.co/u0GrbKfi': 3986, 'http://t.co/uJwEroyW': 3987, 'http://t.co/uMDAWA7X': 3988, 'http://t.co/uMhu62nd': 3989, 'http://t.co/uOkvibi8': 3990, 'http://t.co/uddCXCjt': 3991, 'http://t.co/v68EEZhl': 3992, 'http://t.co/vHxp18EN': 3993, 'http://t.co/vQ7vnrdC': 3994, 'http://t.co/vbHf1w9e': 3995, 'http://t.co/vdBXgsyk': 3996, 'http://t.co/vvaTNwON': 3997, 'http://t.co/w0cUHRM5': 3998, 'http://t.co/w4gUGJIG': 3999, 'http://t.co/w77vkYru': 4000, 'http://t.co/wJVdoGyI': 4001, 'http://t.co/x40FUeqV': 4002, 'http://t.co/x5vw6vy4': 4003, 'http://t.co/xQMcasBa': 4004, 'http://t.co/xYdHGtKJ': 4005, 'http://t.co/xcNDC7jK': 4006, 'http://t.co/xluoi3GU': 4007, 'http://t.co/y1W2HmGS': 4008, 'http://t.co/ySzwNRxV': 4009, 'http://t.co/yg8Wl99P': 4010, 'http://t.co/yhJ55xhM': 4011, 'http://t.co/zHiGQqZi': 4012, 'http://t.co/zHkcmmyb': 4013, 'http://t.co/zcSKd1Jd': 4014, 'http://t.co/zejRChDn': 4015, 'http://t.co/zhKx6rQE': 4016, 'http://t.co/zkUbbBVN': 4017, 'http://t.co/zpg0TVm3': 4018, 'http://t.co/zq6zC4ZO': 4019, 'humor': 4020, 'hundreds': 4021, 'hypocritical': 4022, 'hypocriticalmarxist': 4023, 'i5800': 4024, 'icing': 4025, 'idiotic': 4026, 'ignorant': 4027, 'ignoring': 4028, 'illogical': 4029, 'illuminati': 4030, 'image': 4031, 'images': 4032, 'impeach': 4033, 'implying': 4034, 'improve': 4035, 'improvements': 4036, 'including': 4037, 'increased': 4038, 'increases': 4039, 'ind': 4040, 'indefensible': 4041, 'indicted': 4042, 'indicts': 4043, 'inept': 4044, 'inferred': 4045, 'inflation': 4046, 'initial': 4047, 'inside': 4048, 'insider': 4049, 'insult': 4050, 'integrity': 4051, 'intellectual': 4052, 'intended': 4053, 'intense': 4054, 'interesante': 4055, 'interesting': 4056, 'intimidate': 4057, 'intimidation': 4058, 'invest': 4059, 'investigation': 4060, 'involved': 4061, 'involvement': 4062, 'it&gt': 4063, 'ix': 4064, 'j': 4065, 'jadwal': 4066, 'jail': 4067, 'jargon': 4068, 'jealous': 4069, 'jerk': 4070, 'jobs&lt;Romney': 4071, 'join': 4072, 'joins': 4073, 'joking': 4074, 'journalism': 4075, 'judges': 4076, 'judiciary': 4077, 'justices': 4078, 'justin': 4079, 'justsayin': 4080, 'keeps': 4081, 'kicking': 4082, 'kidding': 4083, 'kill': 4084, 'kingdom': 4085, 'kisser': 4086, 'knew': 4087, 'knock': 4088, 'knowledge': 4089, 'knows': 4090, 'lack': 4091, 'lados': 4092, 'landmark': 4093, 'langsung': 4094, 'large': 4095, 'lately': 4096, 'laugh': 4097, 'laughing': 4098, 'launches': 4099, 'lavish': 4100, 'lawyer': 4101, 'lazymansmall': 4102, 'leading': 4103, 'learn': 4104, 'leave': 4105, 'lede': 4106, 'legalized': 4107, 'legitimacy': 4108, 'lets': 4109, 'liar': 4110, 'liberalism': 4111, 'liberty': 4112, 'life': 4113, 'light': 4114, 'limit': 4115, 'limited': 4116, \"line'--Times\": 4117, 'liquid': 4118, 'listen': 4119, 'listening': 4120, 'lives': 4121, 'living': 4122, 'lmfao': 4123, 'loan': 4124, 'locked': 4125, 'logic': 4126, 'logo': 4127, 'logos': 4128, 'longstanding': 4129, 'looked': 4130, 'lose': 4131, 'losers': 4132, 'lovers': 4133, 'lower': 4134, 'lowering': 4135, 'loyal': 4136, 'luck': 4137, 'luncheon': 4138, 'lying': 4139, 'machine': 4140, 'macro': 4141, 'mad': 4142, 'mail': 4143, 'makin': 4144, 'mande': 4145, 'manipulative': 4146, 'marched': 4147, 'marine': 4148, 'marxist': 4149, 'massive': 4150, 'matter': 4151, 'mature': 4152, 'maybe': 4153, 'me-': 4154, 'means': 4155, 'mejor': 4156, 'member': 4157, 'menghadiri': 4158, 'menjadi': 4159, 'merits': 4160, 'messing': 4161, 'met': 4162, 'middle': 4163, 'miggity': 4164, 'might': 4165, 'mike': 4166, 'milquetoast': 4167, 'min': 4168, 'mind': 4169, 'minute': 4170, 'mirrors': 4171, 'mish': 4172, 'misiles': 4173, 'missile': 4174, 'missiles': 4175, 'missions': 4176, 'misunderstanding': 4177, 'mittless': 4178, 'mode': 4179, 'modern': 4180, 'mom': 4181, 'moment': 4182, 'moneymaker': 4183, 'moon': 4184, 'morning': 4185, 'morons': 4186, 'mourning': 4187, 'movie': 4188, 'moving': 4189, 'much&WE': 4190, 'muito': 4191, 'mullahs': 4192, 'multi': 4193, 'muscle': 4194, 'music': 4195, 'narrative': 4196, 'narrow': 4197, 'nation': 4198, 'naw': 4199, 'ndaa': 4200, 'necessary': 4201, 'negative': 4202, 'neighborhood': 4203, 'newest': 4204, 'newly': 4205, 'newt': 4206, 'nice': 4207, 'nigg': 4208, 'niggas': 4209, 'nigger': 4210, 'noises': 4211, 'nominee': 4212, 'nonsense': 4213, 'nosing': 4214, 'notactuallyconfirmed': 4215, 'nottt': 4216, 'nra': 4217, 'nueva': 4218, 'number': 4219, 'oath': 4220, 'obama?&lt': 4221, 'obsession': 4222, 'occupy': 4223, 'odds': 4224, 'offensive': 4225, 'offer': 4226, 'officer': 4227, 'offices': 4228, 'oh': 4229, 'okay': 4230, 'old': 4231, 'ole': 4232, 'open': 4233, 'opened': 4234, 'opinion': 4235, 'opone': 4236, 'oppo': 4237, 'opportunity': 4238, 'option': 4239, 'orchestrated': 4240, 'order': 4241, 'ordering': 4242, 'orders': 4243, 'ordinary': 4244, 'organization': 4245, 'organizations': 4246, 'organizing': 4247, 'ormathorscienceorhistoryorteleprompterrepair': 4248, 'outta': 4249, 'oversold': 4250, 'owes': 4251, 'own': 4252, 'oxy': 4253, 'papers': 4254, 'parking': 4255, 'parties': 4256, 'passport': 4257, 'passports': 4258, 'patriot': 4259, 'paying': 4260, 'payments': 4261, 'paz': 4262, 'percent': 4263, 'perfectly': 4264, 'perform': 4265, 'personally': 4266, 'petition': 4267, 'phonyAnn': 4268, 'pierced': 4269, 'piling': 4270, 'pitching': 4271, 'place': 4272, 'places': 4273, 'please': 4274, 'plot': 4275, 'pockets': 4276, 'pointing': 4277, 'poll': 4278, 'polling': 4279, 'poor': 4280, 'porque': 4281, 'portray': 4282, 'posed': 4283, 'position': 4284, 'positive': 4285, 'posted': 4286, 'pouting': 4287, 'prank': 4288, 'pray': 4289, 'prayer': 4290, 'prayersgoup': 4291, 'precedents': 4292, 'precious': 4293, 'preemptive': 4294, 'premios': 4295, 'prepara': 4296, 'presiden': 4297, 'presidental': 4298, 'presidents': 4299, 'pressure': 4300, 'prettiest': 4301, 'pretzel': 4302, 'prez': 4303, 'private': 4304, 'pro': 4305, 'problem': 4306, 'professionals': 4307, 'profiling': 4308, 'prohibit': 4309, 'prohibits': 4310, 'projects': 4311, 'promises': 4312, 'proof': 4313, 'propogating': 4314, 'prove': 4315, 'proves': 4316, 'pt': 4317, 'pure': 4318, 'queen': 4319, 'queer': 4320, 'questioning': 4321, 'questions': 4322, 'quickstory': 4323, 'quisiera': 4324, 'quite': 4325, 'quitting': 4326, 'racial': 4327, 'racism': 4328, 'racists': 4329, 'radical': 4330, 'rally': 4331, 'range': 4332, 'rap': 4333, 'rat': 4334, 'rather': 4335, 'rats': 4336, 'reader': 4337, 'reality': 4338, 'reborn': 4339, 'rebounds': 4340, 'recap': 4341, 'recent': 4342, 'recession': 4343, 'recipe': 4344, 'recorded': 4345, 'records?RT': 4346, 'redistribution': 4347, 'redstate': 4348, 'refused': 4349, 'registered': 4350, 'regulations': 4351, 'related': 4352, 'relationship': 4353, 'reliable': 4354, 'remain': 4355, 'remember': 4356, 'remind': 4357, 'rent': 4358, \"rep.act'g\": 4359, 'repeal': 4360, 'replacement': 4361, 'reporter': 4362, 'representing': 4363, 'republicans': 4364, 'resort': 4365, 'result': 4366, 'retreat': 4367, 'return': 4368, 'retweet': 4369, 'reversed': 4370, 'review': 4371, 'reviewing': 4372, 'riding': 4373, 'rift': 4374, 'rising': 4375, 'rnc': 4376, 'ronpaul': 4377, 'rules': 4378, 'ruling': 4379, 'rumor': 4380, 'running': 4381, 'sale': 4382, 'salt': 4383, 'samsung': 4384, 'santorum': 4385, 'save': 4386, 'saved': 4387, 'savings': 4388, 'saw': 4389, 'sayfie': 4390, 'sayin': 4391, 'saywhatttt': 4392, 'scam': 4393, 'scared': 4394, 'scenarios': 4395, 'scheme': 4396, 'science': 4397, 'scoop': 4398, 'se': 4399, 'seat': 4400, 'seats': 4401, 'sec.card': 4402, 'second': 4403, 'secretive': 4404, 'selling': 4405, 'senate': 4406, 'senator': 4407, 'send': 4408, 'ser': 4409, 'seriously': 4410, 'serve': 4411, 'sexismo': 4412, 'sh*t': 4413, 'shake': 4414, 'shameonyou': 4415, 'ship': 4416, 'shirt': 4417, 'shocking': 4418, 'showed': 4419, 'shows': 4420, 'sickening': 4421, 'sides': 4422, 'signal': 4423, 'signature': 4424, 'significant': 4425, 'similar': 4426, 'similarity': 4427, 'sinners': 4428, 'sis': 4429, 'sixty': 4430, 'skeletons': 4431, 'skin': 4432, 'sleep': 4433, 'sliccck': 4434, 'smell': 4435, 'smh': 4436, 'smith': 4437, 'smoke': 4438, 'snafu': 4439, 'solar': 4440, 'sold': 4441, 'songs': 4442, 'sopa': 4443, 'sounds': 4444, 'soy': 4445, 'speak': 4446, 'speakers': 4447, 'speakes': 4448, 'speaking': 4449, 'spectacle': 4450, 'speech': 4451, 'speed': 4452, 'spell': 4453, 'spells': 4454, 'spent': 4455, 'spills': 4456, 'spins': 4457, 'spokesman': 4458, 'sprawl': 4459, 'spur': 4460, 'spy': 4461, 'ssm': 4462, 'staffers': 4463, 'stale': 4464, 'staring': 4465, 'started': 4466, 'starts': 4467, 'stash': 4468, 'statement': 4469, 'stats': 4470, 'steal': 4471, 'stem': 4472, 'step': 4473, 'stereotypes': 4474, 'stole': 4475, 'stopping': 4476, 'storm': 4477, 'straight': 4478, 'strange': 4479, 'strangest': 4480, 'street': 4481, 'stricter': 4482, 'strike': 4483, 'strip': 4484, 'struggling': 4485, 'stuck': 4486, 'stunt': 4487, 'suck': 4488, 'sucking': 4489, 'sucks': 4490, 'sudden': 4491, 'sue': 4492, 'sued': 4493, 'summer': 4494, 'super': 4495, 'supreme': 4496, 'surge': 4497, 'sus': 4498, 'suspicion': 4499, 'swear': 4500, 'sweet': 4501, 'swift': 4502, 'swore': 4503, 'table': 4504, 'tabloid': 4505, 'tail': 4506, 'tal': 4507, 'tan': 4508, 'targeted': 4509, 'taxpayer': 4510, 'taylor': 4511, 'te': 4512, 'teabagger': 4513, 'tear': 4514, 'technically': 4515, 'teeth': 4516, 'telemarketer': 4517, 'tentang': 4518, 'terpilih': 4519, 'terrorists': 4520, 'thank': 4521, 'thankmelater': 4522, 'theory': 4523, 'thesis': 4524, 'thetwisters': 4525, \"they'll\": 4526, 'thick': 4527, 'thinkaboutit': 4528, 'tho': 4529, 'threatening': 4530, 'ti': 4531, 'ties': 4532, 'til': 4533, 'toilet': 4534, 'took': 4535, 'topic': 4536, 'topics': 4537, 'topprog': 4538, 'torture': 4539, 'tough': 4540, 'toward': 4541, 'trading': 4542, 'traitor': 4543, 'trap': 4544, 'trashing': 4545, 'traveled': 4546, 'traveling': 4547, 'treason': 4548, 'trekkers': 4549, 'triple': 4550, 'trump': 4551, 'trust': 4552, 'tweeters': 4553, 'tweeting': 4554, 'twice': 4555, 'twit': 4556, 'ucla': 4557, 'ultimate': 4558, 'ultra': 4559, 'unconstitutional': 4560, 'undangan': 4561, 'understanding': 4562, 'understimate': 4563, 'underwears': 4564, 'unelected': 4565, 'unite': 4566, 'united': 4567, 'universities': 4568, 'unqualified': 4569, 'unseemly': 4570, 'update': 4571, 'uphold': 4572, 'usaf': 4573, 'usc': 4574, 'uses': 4575, 'usmc': 4576, 'usurped': 4577, 'utter': 4578, 'v': 4579, 'valid': 4580, 'verifiably': 4581, 'verses': 4582, 'versions': 4583, 'vets': 4584, 'vetthepresident': 4585, 'video&gt;&gt;&gt;The': 4586, 'videotape': 4587, 'view': 4588, 'violence': 4589, 'visit': 4590, 'volunteer': 4591, 'volunteered': 4592, 'voodoo': 4593, 'voting': 4594, 'vs.': 4595, 'w/': 4596, 'w/o': 4597, 'waging': 4598, 'walk': 4599, 'wanna': 4600, 'warming': 4601, 'warn': 4602, 'wars': 4603, 'waterboard': 4604, 'wave': 4605, 'weaknesses': 4606, 'weasel': 4607, 'web': 4608, 'website': 4609, 'wethepeople': 4610, 'whale': 4611, 'whatsObamahiding': 4612, 'whatsRomneyHiding': 4613, 'whatsobamahiding': 4614, 'whether': 4615, 'whim': 4616, 'whine': 4617, 'whiny': 4618, 'whistleblower': 4619, 'whiter': 4620, 'whores': 4621, 'wil': 4622, 'wild': 4623, 'wilding': 4624, 'winger': 4625, 'without': 4626, 'women&sends': 4627, 'wondering': 4628, 'woods': 4629, 'wooo': 4630, 'working': 4631, 'works': 4632, 'world&still': 4633, 'worse': 4634, 'worshippers': 4635, 'wrist': 4636, 'write': 4637, 'wtf': 4638, 'x': 4639, \"y'\": 4640, 'yea': 4641, 'yes': 4642, 'yesterday': 4643, 'youngsters': 4644, 'yourself': 4645, 'yup': 4646, 'zip': 4647, 'zone': 4648, '|#lgbt': 4649, '~': 4650})\n"
          ],
          "name": "stdout"
        }
      ]
    },
    {
      "cell_type": "markdown",
      "metadata": {
        "id": "rwjD2-ebTeUX"
      },
      "source": [
        "**Lots of stopwords!!**"
      ]
    },
    {
      "cell_type": "markdown",
      "metadata": {
        "id": "sLWW221gTpNs"
      },
      "source": [
        "Now we need to create a data loader to feed into our training loop. Torchtext provides the BucketIterator method that will produce what it calls a Batch, which is almost, but not quite, like the data loader we used on images."
      ]
    },
    {
      "cell_type": "markdown",
      "metadata": {
        "id": "EQqMhMoDUDmn"
      },
      "source": [
        "But at first declare the device we are using."
      ]
    },
    {
      "cell_type": "code",
      "metadata": {
        "id": "Zfo2QhGJUK4l"
      },
      "source": [
        "device = torch.device(\"cuda\" if torch.cuda.is_available() else \"cpu\")"
      ],
      "execution_count": 220,
      "outputs": []
    },
    {
      "cell_type": "code",
      "metadata": {
        "id": "zK2ORoqdTNsM"
      },
      "source": [
        "train_iterator, valid_iterator = data.BucketIterator.splits((train, valid), batch_size = 32, \n",
        "                                                            sort_key = lambda x: len(x.tweets),\n",
        "                                                            sort_within_batch=True, device = device)"
      ],
      "execution_count": 221,
      "outputs": []
    },
    {
      "cell_type": "markdown",
      "metadata": {
        "id": "Gg7gTFQO4fby"
      },
      "source": [
        "Save the vocabulary for later use"
      ]
    },
    {
      "cell_type": "code",
      "metadata": {
        "id": "niE9Cc6-2bD_"
      },
      "source": [
        "import os, pickle\n",
        "with open('s7_tokenizer.pkl', 'wb') as tokens: \n",
        "    pickle.dump(Tweet.vocab.stoi, tokens)"
      ],
      "execution_count": 222,
      "outputs": []
    },
    {
      "cell_type": "markdown",
      "metadata": {
        "id": "1AbsQwqkVyAy"
      },
      "source": [
        "## Defining Our Model"
      ]
    },
    {
      "cell_type": "markdown",
      "metadata": {
        "id": "E4PED4HJWH4t"
      },
      "source": [
        "We use the Embedding and LSTM modules in PyTorch to build a simple model for classifying tweets.\n",
        "\n",
        "In this model we create three layers. \n",
        "1. First, the words in our tweets are pushed into an Embedding layer, which we have established as a 300-dimensional vector embedding. \n",
        "2. That’s then fed into a 2 stacked-LSTMs with 100 hidden features (again, we’re compressing down from the 300-dimensional input like we did with images). We are using 2 LSTMs for using the dropout.\n",
        "3. Finally, the output of the LSTM (the final hidden state after processing the incoming tweet) is pushed through a standard fully connected layer with three outputs to correspond to our three possible classes (negative, positive, or neutral)."
      ]
    },
    {
      "cell_type": "code",
      "metadata": {
        "id": "43pVRccMT0bT"
      },
      "source": [
        "import torch.nn as nn\n",
        "import torch.nn.functional as F\n",
        "\n",
        "class classifier(nn.Module):\n",
        "    \n",
        "    # Define all the layers used in model\n",
        "    def __init__(self, vocab_size, embedding_dim, hidden_dim, output_dim, n_layers, dropout):\n",
        "        \n",
        "        super().__init__()          \n",
        "        \n",
        "        # Embedding layer\n",
        "        self.embedding = nn.Embedding(vocab_size, embedding_dim)\n",
        "        \n",
        "        # LSTM layer\n",
        "        self.encoder = nn.LSTM(embedding_dim, \n",
        "                           hidden_dim, \n",
        "                           num_layers=n_layers, \n",
        "                           dropout=dropout,\n",
        "                           batch_first=True,\n",
        "                           bidirectional=True)\n",
        "        # try using nn.GRU or nn.RNN here and compare their performances\n",
        "        # try bidirectional and compare their performances\n",
        "        \n",
        "        # Dense layer\n",
        "        self.fc = nn.Linear(hidden_dim, output_dim)\n",
        "        \n",
        "    def forward(self, text, text_lengths):\n",
        "        \n",
        "        # text = [batch size, sent_length]\n",
        "        embedded = self.embedding(text)\n",
        "        # embedded = [batch size, sent_len, emb dim]\n",
        "      \n",
        "        # packed sequence\n",
        "        packed_embedded = nn.utils.rnn.pack_padded_sequence(embedded, text_lengths.cpu(), batch_first=True)  # one to actually execute padding\n",
        "        \n",
        "        packed_output, (hidden, cell) = self.encoder(packed_embedded)\n",
        "        #hidden = [batch size, num layers * num directions,hid dim]\n",
        "        #cell = [batch size, num layers * num directions,hid dim]\n",
        "    \n",
        "        # Hidden = [batch size, hid dim * num, directions]\n",
        "        dense_outputs = self.fc(hidden)   \n",
        "        \n",
        "        # Final activation function softmax\n",
        "        output = F.softmax(dense_outputs[0], dim=1)\n",
        "            \n",
        "        return output"
      ],
      "execution_count": 223,
      "outputs": []
    },
    {
      "cell_type": "code",
      "metadata": {
        "id": "rwBoGE_X_Fl8"
      },
      "source": [
        "# Define hyperparameters\n",
        "size_of_vocab = len(Tweet.vocab)\n",
        "\n",
        "embedding_dim = 300\n",
        "\n",
        "num_hidden_nodes = 100\n",
        "\n",
        "num_output_nodes = 3\n",
        "\n",
        "num_layers = 2\n",
        "\n",
        "dropout = 0.2\n",
        "\n",
        "\n",
        "# Instantiate the model\n",
        "model = classifier(size_of_vocab, embedding_dim, num_hidden_nodes, num_output_nodes, num_layers, dropout = dropout)"
      ],
      "execution_count": 224,
      "outputs": []
    },
    {
      "cell_type": "code",
      "metadata": {
        "id": "O-pOMqzJ3eTv",
        "colab": {
          "base_uri": "https://localhost:8080/"
        },
        "outputId": "645672b0-6930-4d27-f978-85861997b3f0"
      },
      "source": [
        "print(model)\n",
        "\n",
        "#No. of trianable parameters\n",
        "def count_parameters(model):\n",
        "    return sum(p.numel() for p in model.parameters() if p.requires_grad)\n",
        "    \n",
        "print(f'The model has {count_parameters(model):,} trainable parameters')"
      ],
      "execution_count": 225,
      "outputs": [
        {
          "output_type": "stream",
          "text": [
            "classifier(\n",
            "  (embedding): Embedding(4651, 300)\n",
            "  (encoder): LSTM(300, 100, num_layers=2, batch_first=True, dropout=0.2, bidirectional=True)\n",
            "  (fc): Linear(in_features=100, out_features=3, bias=True)\n",
            ")\n",
            "The model has 1,958,803 trainable parameters\n"
          ],
          "name": "stdout"
        }
      ]
    },
    {
      "cell_type": "markdown",
      "metadata": {
        "id": "eXajorf5Xz7t"
      },
      "source": [
        "## Model Training and Evaluation"
      ]
    },
    {
      "cell_type": "markdown",
      "metadata": {
        "id": "PrE9RpMtZ1Vs"
      },
      "source": [
        "First define the optimizer and loss functions"
      ]
    },
    {
      "cell_type": "code",
      "metadata": {
        "id": "-u86JWdlXvu5"
      },
      "source": [
        "import torch.optim as optim\n",
        "\n",
        "# define optimizer and loss\n",
        "optimizer = optim.Adam(model.parameters(), lr=4e-5)\n",
        "criterion = nn.CrossEntropyLoss()\n",
        "\n",
        "# define metric\n",
        "def binary_accuracy(preds, y):\n",
        "    #round predictions to the closest integer\n",
        "    _, predictions = torch.max(preds, 1)  # max returns the max values and max indices, here we need only the max indices\n",
        "    \n",
        "    correct = (predictions == y).float() \n",
        "    acc = correct.sum() / len(correct)\n",
        "    return acc\n",
        "    \n",
        "# push to cuda if available\n",
        "model = model.to(device)\n",
        "criterion = criterion.to(device)"
      ],
      "execution_count": 226,
      "outputs": []
    },
    {
      "cell_type": "markdown",
      "metadata": {
        "id": "3VCJtNb3Zt8w"
      },
      "source": [
        "The main thing to be aware of in this new training loop is that we have to reference `batch.tweets` and `batch.labels` to get the particular fields we’re interested in; they don’t fall out quite as nicely from the enumerator as they do in torchvision."
      ]
    },
    {
      "cell_type": "markdown",
      "metadata": {
        "id": "2WjEPLKsAiS_"
      },
      "source": [
        "**Training Loop**"
      ]
    },
    {
      "cell_type": "code",
      "metadata": {
        "id": "HDWNnGK3Y5oJ"
      },
      "source": [
        "def train(model, iterator, optimizer, criterion):\n",
        "    \n",
        "    # initialize every epoch \n",
        "    epoch_loss = 0\n",
        "    epoch_acc = 0\n",
        "    \n",
        "    # set the model in training phase\n",
        "    model.train()  \n",
        "    \n",
        "    for batch in iterator:\n",
        "        \n",
        "        # resets the gradients after every batch\n",
        "        optimizer.zero_grad()   \n",
        "        \n",
        "        # retrieve text and no. of words\n",
        "        tweet, tweet_lengths = batch.tweets   \n",
        "        \n",
        "        # convert to 1D tensor\n",
        "        predictions = model(tweet, tweet_lengths).squeeze()  \n",
        "        \n",
        "        # compute the loss\n",
        "        loss = criterion(predictions, batch.labels)        \n",
        "        \n",
        "        # compute the binary accuracy\n",
        "        acc = binary_accuracy(predictions, batch.labels)   \n",
        "        \n",
        "        # backpropage the loss and compute the gradients\n",
        "        loss.backward()       \n",
        "        \n",
        "        # update the weights\n",
        "        optimizer.step()      \n",
        "        \n",
        "        # loss and accuracy\n",
        "        epoch_loss += loss.item()  \n",
        "        epoch_acc += acc.item()    \n",
        "        \n",
        "    return epoch_loss / len(iterator), epoch_acc / len(iterator)  # return average loss and average acc"
      ],
      "execution_count": 227,
      "outputs": []
    },
    {
      "cell_type": "markdown",
      "metadata": {
        "id": "CZcHhkkvAsCt"
      },
      "source": [
        "**Evaluation Loop**"
      ]
    },
    {
      "cell_type": "code",
      "metadata": {
        "id": "zHEe-zSVAriL"
      },
      "source": [
        "def evaluate(model, iterator, criterion):\n",
        "    \n",
        "    # initialize every epoch\n",
        "    epoch_loss = 0\n",
        "    epoch_acc = 0\n",
        "\n",
        "    # deactivating dropout layers\n",
        "    model.eval()\n",
        "    \n",
        "    # deactivates autograd\n",
        "    with torch.no_grad():\n",
        "    \n",
        "        for batch in iterator:\n",
        "        \n",
        "            # retrieve text and no. of words\n",
        "            tweet, tweet_lengths = batch.tweets\n",
        "            \n",
        "            # convert to 1d tensor\n",
        "            predictions = model(tweet, tweet_lengths).squeeze()\n",
        "            \n",
        "            # compute loss and accuracy\n",
        "            loss = criterion(predictions, batch.labels)\n",
        "            acc = binary_accuracy(predictions, batch.labels)\n",
        "            \n",
        "            # keep track of loss and accuracy\n",
        "            epoch_loss += loss.item()\n",
        "            epoch_acc += acc.item()\n",
        "        \n",
        "    return epoch_loss / len(iterator), epoch_acc / len(iterator)"
      ],
      "execution_count": 228,
      "outputs": []
    },
    {
      "cell_type": "markdown",
      "metadata": {
        "id": "L6LJFW7HaJoV"
      },
      "source": [
        "**Let's Train and Evaluate**"
      ]
    },
    {
      "cell_type": "code",
      "metadata": {
        "id": "tq330XlnaEU9",
        "colab": {
          "base_uri": "https://localhost:8080/"
        },
        "outputId": "eaf92a1d-801a-4437-e45e-d63b0107e489"
      },
      "source": [
        "N_EPOCHS = 100\n",
        "best_valid_loss = float('inf')  # initialize with float\n",
        "\n",
        "for epoch in range(N_EPOCHS):\n",
        "     \n",
        "    # train the model\n",
        "    train_loss, train_acc = train(model, train_iterator, optimizer, criterion)\n",
        "    \n",
        "    # evaluate the model\n",
        "    valid_loss, valid_acc = evaluate(model, valid_iterator, criterion)\n",
        "    \n",
        "    # save the best model\n",
        "    if valid_loss < best_valid_loss:\n",
        "        best_valid_loss = valid_loss\n",
        "        torch.save(model.state_dict(), 's7_saved_weights.pt')\n",
        "    \n",
        "    print(f'\\tTrain Loss: {train_loss:.3f} | Train Acc: {train_acc*100:.2f}%')\n",
        "    print(f'\\t Val. Loss: {valid_loss:.3f} |  Val. Acc: {valid_acc*100:.2f}% \\n')"
      ],
      "execution_count": 229,
      "outputs": [
        {
          "output_type": "stream",
          "text": [
            "\tTrain Loss: 1.089 | Train Acc: 44.84%\n",
            "\t Val. Loss: 1.078 |  Val. Acc: 56.25% \n",
            "\n",
            "\tTrain Loss: 1.072 | Train Acc: 57.38%\n",
            "\t Val. Loss: 1.059 |  Val. Acc: 62.50% \n",
            "\n",
            "\tTrain Loss: 1.055 | Train Acc: 62.62%\n",
            "\t Val. Loss: 1.042 |  Val. Acc: 65.62% \n",
            "\n",
            "\tTrain Loss: 1.039 | Train Acc: 65.07%\n",
            "\t Val. Loss: 1.023 |  Val. Acc: 68.75% \n",
            "\n",
            "\tTrain Loss: 1.023 | Train Acc: 67.10%\n",
            "\t Val. Loss: 1.007 |  Val. Acc: 70.09% \n",
            "\n",
            "\tTrain Loss: 1.007 | Train Acc: 68.79%\n",
            "\t Val. Loss: 0.991 |  Val. Acc: 70.98% \n",
            "\n",
            "\tTrain Loss: 0.991 | Train Acc: 69.88%\n",
            "\t Val. Loss: 0.976 |  Val. Acc: 71.43% \n",
            "\n",
            "\tTrain Loss: 0.977 | Train Acc: 70.98%\n",
            "\t Val. Loss: 0.963 |  Val. Acc: 70.54% \n",
            "\n",
            "\tTrain Loss: 0.962 | Train Acc: 70.81%\n",
            "\t Val. Loss: 0.950 |  Val. Acc: 70.09% \n",
            "\n",
            "\tTrain Loss: 0.948 | Train Acc: 70.64%\n",
            "\t Val. Loss: 0.938 |  Val. Acc: 69.20% \n",
            "\n",
            "\tTrain Loss: 0.935 | Train Acc: 70.22%\n",
            "\t Val. Loss: 0.927 |  Val. Acc: 69.20% \n",
            "\n",
            "\tTrain Loss: 0.922 | Train Acc: 70.22%\n",
            "\t Val. Loss: 0.917 |  Val. Acc: 69.20% \n",
            "\n",
            "\tTrain Loss: 0.910 | Train Acc: 70.22%\n",
            "\t Val. Loss: 0.906 |  Val. Acc: 69.20% \n",
            "\n",
            "\tTrain Loss: 0.897 | Train Acc: 70.56%\n",
            "\t Val. Loss: 0.897 |  Val. Acc: 70.54% \n",
            "\n",
            "\tTrain Loss: 0.885 | Train Acc: 70.98%\n",
            "\t Val. Loss: 0.888 |  Val. Acc: 70.98% \n",
            "\n",
            "\tTrain Loss: 0.872 | Train Acc: 72.67%\n",
            "\t Val. Loss: 0.878 |  Val. Acc: 73.21% \n",
            "\n",
            "\tTrain Loss: 0.859 | Train Acc: 73.94%\n",
            "\t Val. Loss: 0.869 |  Val. Acc: 73.66% \n",
            "\n",
            "\tTrain Loss: 0.847 | Train Acc: 73.77%\n",
            "\t Val. Loss: 0.860 |  Val. Acc: 73.66% \n",
            "\n",
            "\tTrain Loss: 0.835 | Train Acc: 74.19%\n",
            "\t Val. Loss: 0.853 |  Val. Acc: 72.77% \n",
            "\n",
            "\tTrain Loss: 0.825 | Train Acc: 75.21%\n",
            "\t Val. Loss: 0.847 |  Val. Acc: 72.32% \n",
            "\n",
            "\tTrain Loss: 0.817 | Train Acc: 76.05%\n",
            "\t Val. Loss: 0.842 |  Val. Acc: 72.77% \n",
            "\n",
            "\tTrain Loss: 0.810 | Train Acc: 76.13%\n",
            "\t Val. Loss: 0.838 |  Val. Acc: 72.77% \n",
            "\n",
            "\tTrain Loss: 0.803 | Train Acc: 76.98%\n",
            "\t Val. Loss: 0.835 |  Val. Acc: 72.77% \n",
            "\n",
            "\tTrain Loss: 0.797 | Train Acc: 76.98%\n",
            "\t Val. Loss: 0.831 |  Val. Acc: 72.77% \n",
            "\n",
            "\tTrain Loss: 0.792 | Train Acc: 77.79%\n",
            "\t Val. Loss: 0.828 |  Val. Acc: 72.77% \n",
            "\n",
            "\tTrain Loss: 0.787 | Train Acc: 77.87%\n",
            "\t Val. Loss: 0.826 |  Val. Acc: 72.77% \n",
            "\n",
            "\tTrain Loss: 0.782 | Train Acc: 78.38%\n",
            "\t Val. Loss: 0.823 |  Val. Acc: 73.66% \n",
            "\n",
            "\tTrain Loss: 0.778 | Train Acc: 78.63%\n",
            "\t Val. Loss: 0.820 |  Val. Acc: 73.66% \n",
            "\n",
            "\tTrain Loss: 0.775 | Train Acc: 78.89%\n",
            "\t Val. Loss: 0.818 |  Val. Acc: 73.66% \n",
            "\n",
            "\tTrain Loss: 0.770 | Train Acc: 79.05%\n",
            "\t Val. Loss: 0.815 |  Val. Acc: 73.66% \n",
            "\n",
            "\tTrain Loss: 0.766 | Train Acc: 79.65%\n",
            "\t Val. Loss: 0.813 |  Val. Acc: 74.11% \n",
            "\n",
            "\tTrain Loss: 0.762 | Train Acc: 79.98%\n",
            "\t Val. Loss: 0.811 |  Val. Acc: 74.11% \n",
            "\n",
            "\tTrain Loss: 0.757 | Train Acc: 80.24%\n",
            "\t Val. Loss: 0.809 |  Val. Acc: 74.11% \n",
            "\n",
            "\tTrain Loss: 0.754 | Train Acc: 80.32%\n",
            "\t Val. Loss: 0.807 |  Val. Acc: 74.11% \n",
            "\n",
            "\tTrain Loss: 0.750 | Train Acc: 80.66%\n",
            "\t Val. Loss: 0.804 |  Val. Acc: 75.45% \n",
            "\n",
            "\tTrain Loss: 0.747 | Train Acc: 81.17%\n",
            "\t Val. Loss: 0.802 |  Val. Acc: 75.89% \n",
            "\n",
            "\tTrain Loss: 0.744 | Train Acc: 81.33%\n",
            "\t Val. Loss: 0.801 |  Val. Acc: 75.45% \n",
            "\n",
            "\tTrain Loss: 0.741 | Train Acc: 82.01%\n",
            "\t Val. Loss: 0.797 |  Val. Acc: 76.34% \n",
            "\n",
            "\tTrain Loss: 0.738 | Train Acc: 82.26%\n",
            "\t Val. Loss: 0.796 |  Val. Acc: 77.23% \n",
            "\n",
            "\tTrain Loss: 0.735 | Train Acc: 82.69%\n",
            "\t Val. Loss: 0.792 |  Val. Acc: 77.23% \n",
            "\n",
            "\tTrain Loss: 0.732 | Train Acc: 83.11%\n",
            "\t Val. Loss: 0.791 |  Val. Acc: 77.23% \n",
            "\n",
            "\tTrain Loss: 0.729 | Train Acc: 83.45%\n",
            "\t Val. Loss: 0.792 |  Val. Acc: 78.57% \n",
            "\n",
            "\tTrain Loss: 0.727 | Train Acc: 84.12%\n",
            "\t Val. Loss: 0.790 |  Val. Acc: 78.57% \n",
            "\n",
            "\tTrain Loss: 0.724 | Train Acc: 84.46%\n",
            "\t Val. Loss: 0.786 |  Val. Acc: 78.57% \n",
            "\n",
            "\tTrain Loss: 0.722 | Train Acc: 84.63%\n",
            "\t Val. Loss: 0.784 |  Val. Acc: 78.57% \n",
            "\n",
            "\tTrain Loss: 0.719 | Train Acc: 84.80%\n",
            "\t Val. Loss: 0.786 |  Val. Acc: 78.57% \n",
            "\n",
            "\tTrain Loss: 0.717 | Train Acc: 85.30%\n",
            "\t Val. Loss: 0.784 |  Val. Acc: 78.57% \n",
            "\n",
            "\tTrain Loss: 0.714 | Train Acc: 85.56%\n",
            "\t Val. Loss: 0.782 |  Val. Acc: 78.57% \n",
            "\n",
            "\tTrain Loss: 0.712 | Train Acc: 85.64%\n",
            "\t Val. Loss: 0.783 |  Val. Acc: 78.57% \n",
            "\n",
            "\tTrain Loss: 0.713 | Train Acc: 85.90%\n",
            "\t Val. Loss: 0.779 |  Val. Acc: 79.46% \n",
            "\n",
            "\tTrain Loss: 0.709 | Train Acc: 85.90%\n",
            "\t Val. Loss: 0.782 |  Val. Acc: 78.57% \n",
            "\n",
            "\tTrain Loss: 0.707 | Train Acc: 86.23%\n",
            "\t Val. Loss: 0.780 |  Val. Acc: 78.57% \n",
            "\n",
            "\tTrain Loss: 0.705 | Train Acc: 86.23%\n",
            "\t Val. Loss: 0.779 |  Val. Acc: 79.46% \n",
            "\n",
            "\tTrain Loss: 0.704 | Train Acc: 86.32%\n",
            "\t Val. Loss: 0.778 |  Val. Acc: 79.46% \n",
            "\n",
            "\tTrain Loss: 0.702 | Train Acc: 86.32%\n",
            "\t Val. Loss: 0.778 |  Val. Acc: 79.46% \n",
            "\n",
            "\tTrain Loss: 0.701 | Train Acc: 86.49%\n",
            "\t Val. Loss: 0.777 |  Val. Acc: 79.91% \n",
            "\n",
            "\tTrain Loss: 0.699 | Train Acc: 86.57%\n",
            "\t Val. Loss: 0.776 |  Val. Acc: 80.36% \n",
            "\n",
            "\tTrain Loss: 0.697 | Train Acc: 86.66%\n",
            "\t Val. Loss: 0.774 |  Val. Acc: 80.80% \n",
            "\n",
            "\tTrain Loss: 0.696 | Train Acc: 86.91%\n",
            "\t Val. Loss: 0.777 |  Val. Acc: 79.46% \n",
            "\n",
            "\tTrain Loss: 0.694 | Train Acc: 87.08%\n",
            "\t Val. Loss: 0.773 |  Val. Acc: 80.36% \n",
            "\n",
            "\tTrain Loss: 0.692 | Train Acc: 87.42%\n",
            "\t Val. Loss: 0.775 |  Val. Acc: 79.02% \n",
            "\n",
            "\tTrain Loss: 0.691 | Train Acc: 87.50%\n",
            "\t Val. Loss: 0.772 |  Val. Acc: 79.46% \n",
            "\n",
            "\tTrain Loss: 0.689 | Train Acc: 87.58%\n",
            "\t Val. Loss: 0.773 |  Val. Acc: 79.02% \n",
            "\n",
            "\tTrain Loss: 0.687 | Train Acc: 87.58%\n",
            "\t Val. Loss: 0.771 |  Val. Acc: 79.02% \n",
            "\n",
            "\tTrain Loss: 0.686 | Train Acc: 87.67%\n",
            "\t Val. Loss: 0.775 |  Val. Acc: 79.46% \n",
            "\n",
            "\tTrain Loss: 0.684 | Train Acc: 88.09%\n",
            "\t Val. Loss: 0.770 |  Val. Acc: 79.91% \n",
            "\n",
            "\tTrain Loss: 0.682 | Train Acc: 88.43%\n",
            "\t Val. Loss: 0.769 |  Val. Acc: 79.91% \n",
            "\n",
            "\tTrain Loss: 0.680 | Train Acc: 88.60%\n",
            "\t Val. Loss: 0.769 |  Val. Acc: 79.46% \n",
            "\n",
            "\tTrain Loss: 0.678 | Train Acc: 88.85%\n",
            "\t Val. Loss: 0.769 |  Val. Acc: 79.46% \n",
            "\n",
            "\tTrain Loss: 0.677 | Train Acc: 89.02%\n",
            "\t Val. Loss: 0.768 |  Val. Acc: 79.02% \n",
            "\n",
            "\tTrain Loss: 0.676 | Train Acc: 89.10%\n",
            "\t Val. Loss: 0.772 |  Val. Acc: 79.02% \n",
            "\n",
            "\tTrain Loss: 0.674 | Train Acc: 89.10%\n",
            "\t Val. Loss: 0.770 |  Val. Acc: 79.02% \n",
            "\n",
            "\tTrain Loss: 0.672 | Train Acc: 89.36%\n",
            "\t Val. Loss: 0.770 |  Val. Acc: 79.02% \n",
            "\n",
            "\tTrain Loss: 0.670 | Train Acc: 89.53%\n",
            "\t Val. Loss: 0.768 |  Val. Acc: 79.02% \n",
            "\n",
            "\tTrain Loss: 0.669 | Train Acc: 89.61%\n",
            "\t Val. Loss: 0.768 |  Val. Acc: 79.46% \n",
            "\n",
            "\tTrain Loss: 0.667 | Train Acc: 89.78%\n",
            "\t Val. Loss: 0.767 |  Val. Acc: 79.46% \n",
            "\n",
            "\tTrain Loss: 0.665 | Train Acc: 89.95%\n",
            "\t Val. Loss: 0.767 |  Val. Acc: 79.91% \n",
            "\n",
            "\tTrain Loss: 0.664 | Train Acc: 90.12%\n",
            "\t Val. Loss: 0.766 |  Val. Acc: 79.46% \n",
            "\n",
            "\tTrain Loss: 0.663 | Train Acc: 90.20%\n",
            "\t Val. Loss: 0.778 |  Val. Acc: 78.12% \n",
            "\n",
            "\tTrain Loss: 0.662 | Train Acc: 90.71%\n",
            "\t Val. Loss: 0.764 |  Val. Acc: 79.02% \n",
            "\n",
            "\tTrain Loss: 0.661 | Train Acc: 90.88%\n",
            "\t Val. Loss: 0.776 |  Val. Acc: 79.02% \n",
            "\n",
            "\tTrain Loss: 0.660 | Train Acc: 91.13%\n",
            "\t Val. Loss: 0.762 |  Val. Acc: 79.46% \n",
            "\n",
            "\tTrain Loss: 0.658 | Train Acc: 91.30%\n",
            "\t Val. Loss: 0.762 |  Val. Acc: 79.46% \n",
            "\n",
            "\tTrain Loss: 0.656 | Train Acc: 91.30%\n",
            "\t Val. Loss: 0.762 |  Val. Acc: 79.46% \n",
            "\n",
            "\tTrain Loss: 0.655 | Train Acc: 91.30%\n",
            "\t Val. Loss: 0.762 |  Val. Acc: 79.91% \n",
            "\n",
            "\tTrain Loss: 0.654 | Train Acc: 91.30%\n",
            "\t Val. Loss: 0.761 |  Val. Acc: 79.46% \n",
            "\n",
            "\tTrain Loss: 0.653 | Train Acc: 91.30%\n",
            "\t Val. Loss: 0.761 |  Val. Acc: 78.57% \n",
            "\n",
            "\tTrain Loss: 0.651 | Train Acc: 91.30%\n",
            "\t Val. Loss: 0.762 |  Val. Acc: 78.57% \n",
            "\n",
            "\tTrain Loss: 0.650 | Train Acc: 91.39%\n",
            "\t Val. Loss: 0.762 |  Val. Acc: 78.12% \n",
            "\n",
            "\tTrain Loss: 0.649 | Train Acc: 91.39%\n",
            "\t Val. Loss: 0.765 |  Val. Acc: 77.68% \n",
            "\n",
            "\tTrain Loss: 0.647 | Train Acc: 91.47%\n",
            "\t Val. Loss: 0.766 |  Val. Acc: 77.68% \n",
            "\n",
            "\tTrain Loss: 0.646 | Train Acc: 91.55%\n",
            "\t Val. Loss: 0.766 |  Val. Acc: 77.68% \n",
            "\n",
            "\tTrain Loss: 0.645 | Train Acc: 91.64%\n",
            "\t Val. Loss: 0.767 |  Val. Acc: 76.79% \n",
            "\n",
            "\tTrain Loss: 0.644 | Train Acc: 91.64%\n",
            "\t Val. Loss: 0.766 |  Val. Acc: 77.23% \n",
            "\n",
            "\tTrain Loss: 0.643 | Train Acc: 91.81%\n",
            "\t Val. Loss: 0.767 |  Val. Acc: 77.23% \n",
            "\n",
            "\tTrain Loss: 0.641 | Train Acc: 92.15%\n",
            "\t Val. Loss: 0.767 |  Val. Acc: 77.68% \n",
            "\n",
            "\tTrain Loss: 0.640 | Train Acc: 92.40%\n",
            "\t Val. Loss: 0.767 |  Val. Acc: 77.23% \n",
            "\n",
            "\tTrain Loss: 0.640 | Train Acc: 92.48%\n",
            "\t Val. Loss: 0.765 |  Val. Acc: 76.79% \n",
            "\n",
            "\tTrain Loss: 0.638 | Train Acc: 92.57%\n",
            "\t Val. Loss: 0.767 |  Val. Acc: 76.79% \n",
            "\n",
            "\tTrain Loss: 0.638 | Train Acc: 92.74%\n",
            "\t Val. Loss: 0.768 |  Val. Acc: 77.23% \n",
            "\n"
          ],
          "name": "stdout"
        }
      ]
    },
    {
      "cell_type": "markdown",
      "metadata": {
        "id": "LZgzB0ZkHVTI"
      },
      "source": [
        "## Model Testing"
      ]
    },
    {
      "cell_type": "code",
      "metadata": {
        "id": "aZZfnWo0abRx"
      },
      "source": [
        "#load weights and tokenizer\n",
        "\n",
        "path='./s7_saved_weights.pt'\n",
        "model.load_state_dict(torch.load(path));\n",
        "model.eval();\n",
        "tokenizer_file = open('./s7_tokenizer.pkl', 'rb')\n",
        "tokenizer = pickle.load(tokenizer_file)\n",
        "\n",
        "#inference \n",
        "\n",
        "import spacy\n",
        "nlp = spacy.load('en')\n",
        "\n",
        "def classify_tweet(tweet):\n",
        "    \n",
        "    categories = {0: \"Negative\", 1:\"Positive\", 2:\"Neutral\"}\n",
        "    \n",
        "    # tokenize the tweet \n",
        "    tokenized = [tok.text for tok in nlp.tokenizer(tweet)] \n",
        "    # convert to integer sequence using predefined tokenizer dictionary\n",
        "    indexed = [tokenizer[t] for t in tokenized]        \n",
        "    # compute no. of words        \n",
        "    length = [len(indexed)]  # i.e length of incoming text\n",
        "    # convert to tensor                                    \n",
        "    tensor = torch.LongTensor(indexed).to(device)   \n",
        "    # reshape in form of batch, no. of words           \n",
        "    tensor = tensor.unsqueeze(1).T  \n",
        "    # convert to tensor                          \n",
        "    length_tensor = torch.LongTensor(length)\n",
        "    # Get the model prediction                  \n",
        "    prediction = model(tensor, length_tensor)\n",
        "\n",
        "    _, pred = torch.max(prediction, 1) \n",
        "    \n",
        "    return categories[pred.item()]"
      ],
      "execution_count": 68,
      "outputs": []
    },
    {
      "cell_type": "code",
      "metadata": {
        "colab": {
          "base_uri": "https://localhost:8080/"
        },
        "id": "jF_txrLT1VY8",
        "outputId": "ae5c68a1-743b-4097-b707-c740a501ae8f"
      },
      "source": [
        "device"
      ],
      "execution_count": 69,
      "outputs": [
        {
          "output_type": "execute_result",
          "data": {
            "text/plain": [
              "device(type='cuda')"
            ]
          },
          "metadata": {
            "tags": []
          },
          "execution_count": 69
        }
      ]
    },
    {
      "cell_type": "code",
      "metadata": {
        "id": "yTkHLEipIlM9",
        "colab": {
          "base_uri": "https://localhost:8080/",
          "height": 35
        },
        "outputId": "47e75cab-62fa-44c7-8899-2441777e2954"
      },
      "source": [
        "classify_tweet(\"A valid explanation for why Trump won't let women on the golf course.\")"
      ],
      "execution_count": 70,
      "outputs": [
        {
          "output_type": "execute_result",
          "data": {
            "application/vnd.google.colaboratory.intrinsic+json": {
              "type": "string"
            },
            "text/plain": [
              "'Positive'"
            ]
          },
          "metadata": {
            "tags": []
          },
          "execution_count": 70
        }
      ]
    },
    {
      "cell_type": "markdown",
      "metadata": {
        "id": "WVjCuKK_LVEF"
      },
      "source": [
        "## Discussion on Data Augmentation Techniques \n",
        "\n",
        "You might wonder exactly how you can augment text data. After all, you can’t really flip it horizontally as you can an image! :D \n",
        "\n",
        "In contrast to data augmentation in images, augmentation techniques on data is very specific to final product you are building. As its general usage on any type of textual data doesn't provides a significant performance boost, that's why unlike torchvision, torchtext doesn’t offer a augmentation pipeline. Due to powerful models as transformers, augmentation tecnhiques are not so preferred now-a-days. But its better to know about some techniques with text that will provide your model with a little more information for training. \n",
        "\n",
        "### Synonym Replacement\n",
        "\n",
        "First, you could replace words in the sentence with synonyms, like so:\n",
        "\n",
        "    The dog slept on the mat\n",
        "\n",
        "could become\n",
        "\n",
        "    The dog slept on the rug\n",
        "\n",
        "Aside from the dog's insistence that a rug is much softer than a mat, the meaning of the sentence hasn’t changed. But mat and rug will be mapped to different indices in the vocabulary, so the model will learn that the two sentences map to the same label, and hopefully that there’s a connection between those two words, as everything else in the sentences is the same."
      ]
    },
    {
      "cell_type": "markdown",
      "metadata": {
        "id": "T_uEfWJpL6Nq"
      },
      "source": [
        "### Random Insertion\n",
        "A random insertion technique looks at a sentence and then randomly inserts synonyms of existing non-stopwords into the sentence n times. Assuming you have a way of getting a synonym of a word and a way of eliminating stopwords (common words such as and, it, the, etc.), shown, but not implemented, in this function via get_synonyms() and get_stopwords(), an implementation of this would be as follows:\n"
      ]
    },
    {
      "cell_type": "code",
      "metadata": {
        "id": "7Alm5D7WIvAC"
      },
      "source": [
        "def random_insertion(sentence, n): \n",
        "    words = remove_stopwords(sentence) \n",
        "    for _ in range(n):\n",
        "        new_synonym = get_synonyms(random.choice(words))\n",
        "        sentence.insert(randrange(len(sentence)+1), new_synonym) \n",
        "    return sentence"
      ],
      "execution_count": 71,
      "outputs": []
    },
    {
      "cell_type": "markdown",
      "metadata": {
        "id": "gqLWzwJ3Mm8h"
      },
      "source": [
        "## Random Deletion\n",
        "As the name suggests, random deletion deletes words from a sentence. Given a probability parameter p, it will go through the sentence and decide whether to delete a word or not based on that random probability. Consider of it as pixel dropouts while treating images."
      ]
    },
    {
      "cell_type": "code",
      "metadata": {
        "id": "-7Dz7JJfMqyC"
      },
      "source": [
        "def random_deletion(words, p=0.2): \n",
        "    if len(words) == 1: # return if single word\n",
        "        return words[0]\n",
        "    remaining = list(filter(lambda x: random.uniform(0,1) > p,words)) \n",
        "    if len(remaining) == 0: # if not left, sample a random word\n",
        "        return random.choice(words)\n",
        "    else:\n",
        "        return ''.join(remaining)"
      ],
      "execution_count": 72,
      "outputs": []
    },
    {
      "cell_type": "markdown",
      "metadata": {
        "id": "zOIbi5WzO5OU"
      },
      "source": [
        "### Random Swap\n",
        "The random swap augmentation takes a sentence and then swaps words within it n times, with each iteration working on the previously swapped sentence. Here we sample two random numbers based on the length of the sentence, and then just keep swapping until we hit n."
      ]
    },
    {
      "cell_type": "code",
      "metadata": {
        "id": "LnkbG15HO3Yj"
      },
      "source": [
        "def random_swap(sentence, n=3):\n",
        "    if isinstance(sentence, str):\n",
        "        sentence = list(sentence) \n",
        "    length = range(len(sentence)) \n",
        "    for _ in range(n):\n",
        "        idx1, idx2 = random.sample(length, 2)\n",
        "        sentence[idx1], sentence[idx2] = sentence[idx2], sentence[idx1] \n",
        "    return \"\".join(sentence)"
      ],
      "execution_count": 73,
      "outputs": []
    },
    {
      "cell_type": "markdown",
      "metadata": {
        "id": "599NpwfMR5Vm"
      },
      "source": [
        "For more on this please go through this [paper](https://arxiv.org/pdf/1901.11196.pdf)."
      ]
    },
    {
      "cell_type": "markdown",
      "metadata": {
        "id": "a5aeKuNCRGip"
      },
      "source": [
        "### Back Translation\n",
        "\n",
        "Another popular approach for augmenting text datasets is back translation. This involves translating a sentence from our target language into one or more other languages and then translating all of them back to the original language. We can use the Python library googletrans for this purpose. "
      ]
    },
    {
      "cell_type": "code",
      "metadata": {
        "id": "61u-Sa_7eA0F"
      },
      "source": [
        "# !pip install googletrans"
      ],
      "execution_count": 74,
      "outputs": []
    },
    {
      "cell_type": "code",
      "metadata": {
        "id": "pHhNBbYrRXNy",
        "colab": {
          "base_uri": "https://localhost:8080/",
          "height": 367
        },
        "outputId": "64b9591f-db4e-4328-dddf-11563b1cc391"
      },
      "source": [
        "import random\n",
        "import googletrans\n",
        "from googletrans import Translator\n",
        "\n",
        "translator = Translator()\n",
        "sentence = ['The dog slept on the rug']\n",
        "\n",
        "available_langs = list(googletrans.LANGUAGES.keys()) \n",
        "\n",
        "trans_lang = random.choice(available_langs) \n",
        "print(f\"Translating to {googletrans.LANGUAGES[trans_lang]}\")\n",
        "\n",
        "translations = translator.translate(sentence, dest=trans_lang) \n",
        "t_text = [t.text for t in translations]\n",
        "print(t_text)\n",
        "\n",
        "translations_en_random = translator.translate(t_text, src=trans_lang, dest='en') \n",
        "en_text = [t.text for t in translations_en_random]\n",
        "print(en_text)"
      ],
      "execution_count": 75,
      "outputs": [
        {
          "output_type": "error",
          "ename": "ModuleNotFoundError",
          "evalue": "ignored",
          "traceback": [
            "\u001b[0;31m---------------------------------------------------------------------------\u001b[0m",
            "\u001b[0;31mModuleNotFoundError\u001b[0m                       Traceback (most recent call last)",
            "\u001b[0;32m<ipython-input-75-4323c2a81f3c>\u001b[0m in \u001b[0;36m<module>\u001b[0;34m()\u001b[0m\n\u001b[1;32m      1\u001b[0m \u001b[0;32mimport\u001b[0m \u001b[0mrandom\u001b[0m\u001b[0;34m\u001b[0m\u001b[0;34m\u001b[0m\u001b[0m\n\u001b[0;32m----> 2\u001b[0;31m \u001b[0;32mimport\u001b[0m \u001b[0mgoogletrans\u001b[0m\u001b[0;34m\u001b[0m\u001b[0;34m\u001b[0m\u001b[0m\n\u001b[0m\u001b[1;32m      3\u001b[0m \u001b[0;32mfrom\u001b[0m \u001b[0mgoogletrans\u001b[0m \u001b[0;32mimport\u001b[0m \u001b[0mTranslator\u001b[0m\u001b[0;34m\u001b[0m\u001b[0;34m\u001b[0m\u001b[0m\n\u001b[1;32m      4\u001b[0m \u001b[0;34m\u001b[0m\u001b[0m\n\u001b[1;32m      5\u001b[0m \u001b[0mtranslator\u001b[0m \u001b[0;34m=\u001b[0m \u001b[0mTranslator\u001b[0m\u001b[0;34m(\u001b[0m\u001b[0;34m)\u001b[0m\u001b[0;34m\u001b[0m\u001b[0;34m\u001b[0m\u001b[0m\n",
            "\u001b[0;31mModuleNotFoundError\u001b[0m: No module named 'googletrans'",
            "",
            "\u001b[0;31m---------------------------------------------------------------------------\u001b[0;32m\nNOTE: If your import is failing due to a missing package, you can\nmanually install dependencies using either !pip or !apt.\n\nTo view examples of installing some common dependencies, click the\n\"Open Examples\" button below.\n\u001b[0;31m---------------------------------------------------------------------------\u001b[0m\n"
          ]
        }
      ]
    },
    {
      "cell_type": "markdown",
      "metadata": {
        "id": "UwIb7lufju3W"
      },
      "source": [
        "# Runs with Text Augmentation\r\n"
      ]
    },
    {
      "cell_type": "code",
      "metadata": {
        "id": "0ni-W2bTxJJC"
      },
      "source": [
        "df['delete'] = df['tweets'].apply(random_deletion)"
      ],
      "execution_count": 80,
      "outputs": []
    },
    {
      "cell_type": "code",
      "metadata": {
        "colab": {
          "base_uri": "https://localhost:8080/",
          "height": 204
        },
        "id": "QHIZOlvsggFV",
        "outputId": "3465bd9f-91eb-4e46-b5b2-ba60e243ba6e"
      },
      "source": [
        "df.head()"
      ],
      "execution_count": 81,
      "outputs": [
        {
          "output_type": "execute_result",
          "data": {
            "text/html": [
              "<div>\n",
              "<style scoped>\n",
              "    .dataframe tbody tr th:only-of-type {\n",
              "        vertical-align: middle;\n",
              "    }\n",
              "\n",
              "    .dataframe tbody tr th {\n",
              "        vertical-align: top;\n",
              "    }\n",
              "\n",
              "    .dataframe thead th {\n",
              "        text-align: right;\n",
              "    }\n",
              "</style>\n",
              "<table border=\"1\" class=\"dataframe\">\n",
              "  <thead>\n",
              "    <tr style=\"text-align: right;\">\n",
              "      <th></th>\n",
              "      <th>tweets</th>\n",
              "      <th>labels</th>\n",
              "      <th>delete</th>\n",
              "    </tr>\n",
              "  </thead>\n",
              "  <tbody>\n",
              "    <tr>\n",
              "      <th>0</th>\n",
              "      <td>Obama has called the GOP budget social Darwini...</td>\n",
              "      <td>1</td>\n",
              "      <td>Obm as caled the GO bug social awinism. Nice t...</td>\n",
              "    </tr>\n",
              "    <tr>\n",
              "      <th>1</th>\n",
              "      <td>In his teen years, Obama has been known to use...</td>\n",
              "      <td>0</td>\n",
              "      <td>I his teen yeas, Obam habeen known to usemarju...</td>\n",
              "    </tr>\n",
              "    <tr>\n",
              "      <th>2</th>\n",
              "      <td>IPA Congratulates President Barack Obama for L...</td>\n",
              "      <td>0</td>\n",
              "      <td>IPA Cngratulate Prdet Brack Oma for Leadership...</td>\n",
              "    </tr>\n",
              "    <tr>\n",
              "      <th>3</th>\n",
              "      <td>RT @Professor_Why: #WhatsRomneyHiding - his co...</td>\n",
              "      <td>0</td>\n",
              "      <td>T @Profesr_Why: #WhatsRmneHin hisconnection t ...</td>\n",
              "    </tr>\n",
              "    <tr>\n",
              "      <th>4</th>\n",
              "      <td>RT @wardollarshome: Obama has approved more ta...</td>\n",
              "      <td>1</td>\n",
              "      <td>RTwardollarome: Obama ha appovd ore targee ass...</td>\n",
              "    </tr>\n",
              "  </tbody>\n",
              "</table>\n",
              "</div>"
            ],
            "text/plain": [
              "                                              tweets  ...                                             delete\n",
              "0  Obama has called the GOP budget social Darwini...  ...  Obm as caled the GO bug social awinism. Nice t...\n",
              "1  In his teen years, Obama has been known to use...  ...  I his teen yeas, Obam habeen known to usemarju...\n",
              "2  IPA Congratulates President Barack Obama for L...  ...  IPA Cngratulate Prdet Brack Oma for Leadership...\n",
              "3  RT @Professor_Why: #WhatsRomneyHiding - his co...  ...  T @Profesr_Why: #WhatsRmneHin hisconnection t ...\n",
              "4  RT @wardollarshome: Obama has approved more ta...  ...  RTwardollarome: Obama ha appovd ore targee ass...\n",
              "\n",
              "[5 rows x 3 columns]"
            ]
          },
          "metadata": {
            "tags": []
          },
          "execution_count": 81
        }
      ]
    },
    {
      "cell_type": "code",
      "metadata": {
        "id": "WLJIzBH6hsY_"
      },
      "source": [
        "df['swap'] = df['tweets'].apply(random_swap)"
      ],
      "execution_count": 82,
      "outputs": []
    },
    {
      "cell_type": "code",
      "metadata": {
        "colab": {
          "base_uri": "https://localhost:8080/",
          "height": 204
        },
        "id": "sorWSDRjiY_Q",
        "outputId": "6338add1-61ee-418b-85d1-f4157cb54e70"
      },
      "source": [
        "df.head()"
      ],
      "execution_count": 83,
      "outputs": [
        {
          "output_type": "execute_result",
          "data": {
            "text/html": [
              "<div>\n",
              "<style scoped>\n",
              "    .dataframe tbody tr th:only-of-type {\n",
              "        vertical-align: middle;\n",
              "    }\n",
              "\n",
              "    .dataframe tbody tr th {\n",
              "        vertical-align: top;\n",
              "    }\n",
              "\n",
              "    .dataframe thead th {\n",
              "        text-align: right;\n",
              "    }\n",
              "</style>\n",
              "<table border=\"1\" class=\"dataframe\">\n",
              "  <thead>\n",
              "    <tr style=\"text-align: right;\">\n",
              "      <th></th>\n",
              "      <th>tweets</th>\n",
              "      <th>labels</th>\n",
              "      <th>delete</th>\n",
              "      <th>swap</th>\n",
              "    </tr>\n",
              "  </thead>\n",
              "  <tbody>\n",
              "    <tr>\n",
              "      <th>0</th>\n",
              "      <td>Obama has called the GOP budget social Darwini...</td>\n",
              "      <td>1</td>\n",
              "      <td>Obm as caled the GO bug social awinism. Nice t...</td>\n",
              "      <td>Obama hashcalled t e GOP budget sicial Darwini...</td>\n",
              "    </tr>\n",
              "    <tr>\n",
              "      <th>1</th>\n",
              "      <td>In his teen years, Obama has been known to use...</td>\n",
              "      <td>0</td>\n",
              "      <td>I his teen yeas, Obam habeen known to usemarju...</td>\n",
              "      <td>In hi steen yeaus, Obama has been known to use...</td>\n",
              "    </tr>\n",
              "    <tr>\n",
              "      <th>2</th>\n",
              "      <td>IPA Congratulates President Barack Obama for L...</td>\n",
              "      <td>0</td>\n",
              "      <td>IPA Cngratulate Prdet Brack Oma for Leadership...</td>\n",
              "      <td>IPA Congratulates President Barack ObaIa for L...</td>\n",
              "    </tr>\n",
              "    <tr>\n",
              "      <th>3</th>\n",
              "      <td>RT @Professor_Why: #WhatsRomneyHiding - his co...</td>\n",
              "      <td>0</td>\n",
              "      <td>T @Profesr_Why: #WhatsRmneHin hisconnection t ...</td>\n",
              "      <td>RT @Professor_Why: #WhatsRomneyHidingh- his co...</td>\n",
              "    </tr>\n",
              "    <tr>\n",
              "      <th>4</th>\n",
              "      <td>RT @wardollarshome: Obama has approved more ta...</td>\n",
              "      <td>1</td>\n",
              "      <td>RTwardollarome: Obama ha appovd ore targee ass...</td>\n",
              "      <td>RT @waedollarshome: Obama has approved more ta...</td>\n",
              "    </tr>\n",
              "  </tbody>\n",
              "</table>\n",
              "</div>"
            ],
            "text/plain": [
              "                                              tweets  ...                                               swap\n",
              "0  Obama has called the GOP budget social Darwini...  ...  Obama hashcalled t e GOP budget sicial Darwini...\n",
              "1  In his teen years, Obama has been known to use...  ...  In hi steen yeaus, Obama has been known to use...\n",
              "2  IPA Congratulates President Barack Obama for L...  ...  IPA Congratulates President Barack ObaIa for L...\n",
              "3  RT @Professor_Why: #WhatsRomneyHiding - his co...  ...  RT @Professor_Why: #WhatsRomneyHidingh- his co...\n",
              "4  RT @wardollarshome: Obama has approved more ta...  ...  RT @waedollarshome: Obama has approved more ta...\n",
              "\n",
              "[5 rows x 4 columns]"
            ]
          },
          "metadata": {
            "tags": []
          },
          "execution_count": 83
        }
      ]
    },
    {
      "cell_type": "code",
      "metadata": {
        "id": "LcpIq-qpjDVW"
      },
      "source": [
        "df['combined_aug'] = df['tweets'].apply(random_deletion).apply(random_swap)"
      ],
      "execution_count": 84,
      "outputs": []
    },
    {
      "cell_type": "code",
      "metadata": {
        "id": "n4GuWnZBjKkI",
        "colab": {
          "base_uri": "https://localhost:8080/",
          "height": 204
        },
        "outputId": "81b5dd33-ba16-467f-a54e-603fc4db1c75"
      },
      "source": [
        "df.head()"
      ],
      "execution_count": 85,
      "outputs": [
        {
          "output_type": "execute_result",
          "data": {
            "text/html": [
              "<div>\n",
              "<style scoped>\n",
              "    .dataframe tbody tr th:only-of-type {\n",
              "        vertical-align: middle;\n",
              "    }\n",
              "\n",
              "    .dataframe tbody tr th {\n",
              "        vertical-align: top;\n",
              "    }\n",
              "\n",
              "    .dataframe thead th {\n",
              "        text-align: right;\n",
              "    }\n",
              "</style>\n",
              "<table border=\"1\" class=\"dataframe\">\n",
              "  <thead>\n",
              "    <tr style=\"text-align: right;\">\n",
              "      <th></th>\n",
              "      <th>tweets</th>\n",
              "      <th>labels</th>\n",
              "      <th>delete</th>\n",
              "      <th>swap</th>\n",
              "      <th>combined_aug</th>\n",
              "    </tr>\n",
              "  </thead>\n",
              "  <tbody>\n",
              "    <tr>\n",
              "      <th>0</th>\n",
              "      <td>Obama has called the GOP budget social Darwini...</td>\n",
              "      <td>1</td>\n",
              "      <td>Obm as caled the GO bug social awinism. Nice t...</td>\n",
              "      <td>Obama hashcalled t e GOP budget sicial Darwini...</td>\n",
              "      <td>Obama has cald he GOP bdgetsoia .arwirism.Nici...</td>\n",
              "    </tr>\n",
              "    <tr>\n",
              "      <th>1</th>\n",
              "      <td>In his teen years, Obama has been known to use...</td>\n",
              "      <td>0</td>\n",
              "      <td>I his teen yeas, Obam habeen known to usemarju...</td>\n",
              "      <td>In hi steen yeaus, Obama has been known to use...</td>\n",
              "      <td>n hin tenyak Obmahas eesnr ownt usemariuaa and...</td>\n",
              "    </tr>\n",
              "    <tr>\n",
              "      <th>2</th>\n",
              "      <td>IPA Congratulates President Barack Obama for L...</td>\n",
              "      <td>0</td>\n",
              "      <td>IPA Cngratulate Prdet Brack Oma for Leadership...</td>\n",
              "      <td>IPA Congratulates President Barack ObaIa for L...</td>\n",
              "      <td>IPA Congraubates PreidenBaac Olma for Laedersh...</td>\n",
              "    </tr>\n",
              "    <tr>\n",
              "      <th>3</th>\n",
              "      <td>RT @Professor_Why: #WhatsRomneyHiding - his co...</td>\n",
              "      <td>0</td>\n",
              "      <td>T @Profesr_Why: #WhatsRmneHin hisconnection t ...</td>\n",
              "      <td>RT @Professor_Why: #WhatsRomneyHidingh- his co...</td>\n",
              "      <td>RT Profsor_Wy: #hatsomoyiding -i coection to s...</td>\n",
              "    </tr>\n",
              "    <tr>\n",
              "      <th>4</th>\n",
              "      <td>RT @wardollarshome: Obama has approved more ta...</td>\n",
              "      <td>1</td>\n",
              "      <td>RTwardollarome: Obama ha appovd ore targee ass...</td>\n",
              "      <td>RT @waedollarshome: Obama has approved more ta...</td>\n",
              "      <td>R twardllarshome: O ma as apoved more targeted...</td>\n",
              "    </tr>\n",
              "  </tbody>\n",
              "</table>\n",
              "</div>"
            ],
            "text/plain": [
              "                                              tweets  ...                                       combined_aug\n",
              "0  Obama has called the GOP budget social Darwini...  ...  Obama has cald he GOP bdgetsoia .arwirism.Nici...\n",
              "1  In his teen years, Obama has been known to use...  ...  n hin tenyak Obmahas eesnr ownt usemariuaa and...\n",
              "2  IPA Congratulates President Barack Obama for L...  ...  IPA Congraubates PreidenBaac Olma for Laedersh...\n",
              "3  RT @Professor_Why: #WhatsRomneyHiding - his co...  ...  RT Profsor_Wy: #hatsomoyiding -i coection to s...\n",
              "4  RT @wardollarshome: Obama has approved more ta...  ...  R twardllarshome: O ma as apoved more targeted...\n",
              "\n",
              "[5 rows x 5 columns]"
            ]
          },
          "metadata": {
            "tags": []
          },
          "execution_count": 85
        }
      ]
    },
    {
      "cell_type": "markdown",
      "metadata": {
        "id": "N22tzdWrnhZw"
      },
      "source": [
        "# DELETE"
      ]
    },
    {
      "cell_type": "code",
      "metadata": {
        "id": "YkX-4W3JmL1z"
      },
      "source": [
        "Tweet = data.Field(sequential = True, tokenize = 'spacy', batch_first =True, include_lengths=True)\n",
        "Label = data.LabelField(tokenize ='spacy', is_target=True, batch_first =True, sequential =False)"
      ],
      "execution_count": 248,
      "outputs": []
    },
    {
      "cell_type": "markdown",
      "metadata": {
        "id": "c6FBziCYmL13"
      },
      "source": [
        "Having defined those fields, we now need to produce a list that maps them onto the list of rows that are in the CSV:"
      ]
    },
    {
      "cell_type": "code",
      "metadata": {
        "id": "8o3vwsq8mL13"
      },
      "source": [
        "fields = [('tweets', Tweet),('labels',Label)]"
      ],
      "execution_count": 249,
      "outputs": []
    },
    {
      "cell_type": "markdown",
      "metadata": {
        "id": "aW5YB5LpmL13"
      },
      "source": [
        "Armed with our declared fields, lets convert from pandas to list to torchtext. We could also use TabularDataset to apply that definition to the CSV directly but showing an alternative approach too."
      ]
    },
    {
      "cell_type": "code",
      "metadata": {
        "id": "SRq5XABMmL14"
      },
      "source": [
        "example = [data.Example.fromlist([df.delete[i],df.labels[i]], fields) for i in range(df.shape[0])] "
      ],
      "execution_count": 250,
      "outputs": []
    },
    {
      "cell_type": "code",
      "metadata": {
        "id": "Q-fyAnL8mL14"
      },
      "source": [
        "# Creating dataset\n",
        "#twitterDataset = data.TabularDataset(path=\"tweets.csv\", format=\"CSV\", fields=fields, skip_header=True)\n",
        "\n",
        "twitterDataset = data.Dataset(example, fields)"
      ],
      "execution_count": 251,
      "outputs": []
    },
    {
      "cell_type": "markdown",
      "metadata": {
        "id": "fBfc8mhzmL14"
      },
      "source": [
        "Finally, we can split into training, testing, and validation sets by using the split() method:"
      ]
    },
    {
      "cell_type": "code",
      "metadata": {
        "id": "VpyE9FcmmL14"
      },
      "source": [
        "(train, valid) = twitterDataset.split(split_ratio=[0.85, 0.15], random_state=random.seed(SEED))"
      ],
      "execution_count": 252,
      "outputs": []
    },
    {
      "cell_type": "code",
      "metadata": {
        "colab": {
          "base_uri": "https://localhost:8080/"
        },
        "id": "J3NW09wTmL14",
        "outputId": "da5b06e7-7e13-42ff-8a43-9e53ec6ba63d"
      },
      "source": [
        "(len(train), len(valid))"
      ],
      "execution_count": 253,
      "outputs": [
        {
          "output_type": "execute_result",
          "data": {
            "text/plain": [
              "(1159, 205)"
            ]
          },
          "metadata": {
            "tags": []
          },
          "execution_count": 253
        }
      ]
    },
    {
      "cell_type": "markdown",
      "metadata": {
        "id": "ymat6vjbmL15"
      },
      "source": [
        "An example from the dataset:"
      ]
    },
    {
      "cell_type": "code",
      "metadata": {
        "colab": {
          "base_uri": "https://localhost:8080/"
        },
        "id": "ZqWTanHAmL15",
        "outputId": "018cd046-3b52-49e1-94c5-189142f555b6"
      },
      "source": [
        "vars(train.examples[10])"
      ],
      "execution_count": 254,
      "outputs": [
        {
          "output_type": "execute_result",
          "data": {
            "text/plain": [
              "{'labels': 0,\n",
              " 'tweets': ['Obama',\n",
              "  ',',\n",
              "  'Rmney',\n",
              "  'agree',\n",
              "  ':',\n",
              "  'dmit',\n",
              "  'omen',\n",
              "  'touus',\n",
              "  'of',\n",
              "  'club',\n",
              "  ':',\n",
              "  'USPesident',\n",
              "  'Baack',\n",
              "  'Obaabeieves',\n",
              "  'women',\n",
              "  'shod',\n",
              "  'be',\n",
              "  'llowe',\n",
              "  '..',\n",
              "  'ttp:/.o',\n",
              "  '/',\n",
              "  'VKrepq']}"
            ]
          },
          "metadata": {
            "tags": []
          },
          "execution_count": 254
        }
      ]
    },
    {
      "cell_type": "markdown",
      "metadata": {
        "id": "c_R1xNjKmL16"
      },
      "source": [
        "## Building Vocabulary"
      ]
    },
    {
      "cell_type": "markdown",
      "metadata": {
        "id": "po1uagwPmL16"
      },
      "source": [
        "At this point we would have built a one-hot encoding of each word that is present in the dataset—a rather tedious process. Thankfully, torchtext will do this for us, and will also allow a max_size parameter to be passed in to limit the vocabu‐ lary to the most common words. This is normally done to prevent the construction of a huge, memory-hungry model. We don’t want our GPUs too overwhelmed, after all. \n",
        "\n",
        "Let’s limit the vocabulary to a maximum of 5000 words in our training set:\n"
      ]
    },
    {
      "cell_type": "code",
      "metadata": {
        "id": "psNxaCRZmL16"
      },
      "source": [
        "Tweet.build_vocab(train)\n",
        "Label.build_vocab(train)"
      ],
      "execution_count": 255,
      "outputs": []
    },
    {
      "cell_type": "markdown",
      "metadata": {
        "id": "eZmsPYoHmL16"
      },
      "source": [
        "By default, torchtext will add two more special tokens, <unk> for unknown words and <pad>, a padding token that will be used to pad all our text to roughly the same size to help with efficient batching on the GPU."
      ]
    },
    {
      "cell_type": "code",
      "metadata": {
        "colab": {
          "base_uri": "https://localhost:8080/"
        },
        "id": "UU-1UB46mL16",
        "outputId": "4ee4956b-61ce-43e1-dc25-006bce6b76e4"
      },
      "source": [
        "print('Size of input vocab : ', len(Tweet.vocab))\n",
        "print('Size of label vocab : ', len(Label.vocab))\n",
        "print('Top 10 words appreared repeatedly :', list(Tweet.vocab.freqs.most_common(10)))\n",
        "print('Labels : ', Label.vocab.stoi)\n",
        "print(Tweet.vocab.stoi)"
      ],
      "execution_count": 256,
      "outputs": [
        {
          "output_type": "stream",
          "text": [
            "Size of input vocab :  9227\n",
            "Size of label vocab :  3\n",
            "Top 10 words appreared repeatedly : [(':', 616), ('.', 587), ('#', 499), (',', 462), ('\"', 363), ('?', 290), ('RT', 264), (' ', 246), ('Obama', 243), ('/', 219)]\n",
            "Labels :  defaultdict(<function _default_unk_index at 0x7f58507d0598>, {0: 0, 1: 1, 2: 2})\n",
            "defaultdict(<function _default_unk_index at 0x7f58507d0598>, {'<unk>': 0, '<pad>': 1, ':': 2, '.': 3, '#': 4, ',': 5, '\"': 6, '?': 7, 'RT': 8, ' ': 9, 'Obama': 10, '/': 11, 'the': 12, 'o': 13, 'to': 14, 'a': 15, '!': 16, \"'s\": 17, \"'\": 18, '-': 19, 'of': 20, 'he': 21, 'is': 22, 'i': 23, 'I': 24, 't': 25, 'T': 26, '..': 27, 'on': 28, 'you': 29, 'Obam': 30, 'R': 31, 'in': 32, 'Obma': 33, 'th': 34, '...': 35, 'e': 36, 'n': 37, '&': 38, 'and': 39, 'bama': 40, 'Obaa': 41, 'kid': 42, 's': 43, 'Oama': 44, 'h': 45, 'go': 46, 'te': 47, 'with': 48, 'So': 49, 'for': 50, 'his': 51, 'd': 52, 'at': 53, 'like': 54, 'UK': 55, 'do': 56, 'it': 57, 'Do': 58, 'have': 59, 'Oba': 60, 'an': 61, 'that': 62, '(': 63, 'be': 64, ')': 65, 'tea': 66, 'f': 67, 'as': 68, 'cool': 69, 'A': 70, 'The': 71, 'from': 72, 'has': 73, 'or': 74, 'w': 75, 'baa': 76, 'not': 77, 'ou': 78, 'yu': 79, '%': 80, 'hat': 81, 'ith': 82, 'so': 83, 'tcot': 84, 'are': 85, 'fr': 86, 'nt': 87, 'we': 88, ';': 89, 'Ohhh': 90, 'S': 91, 'bma': 92, '$': 93, 'In': 94, 'Oam': 95, 'Oh': 96, 'ama': 97, 'm': 98, '2': 99, 'ad': 100, 'can': 101, 'g': 102, 'wit': 103, 'yo': 104, 'D': 105, 'GOP': 106, 'O': 107, 'Oma': 108, 'US': 109, 'You': 110, 'bam': 111, 'hs': 112, 'says': 113, 'was': 114, 'Obm': 115, 'Romney': 116, 'U': 117, 'col': 118, 'hav': 119, 'http:/t.co': 120, 'ot': 121, 'via': 122, 'years': 123, '@edshow': 124, 'Ohh': 125, 'all': 126, 'hi': 127, 'l': 128, 'obama': 129, 'u': 130, 'use': 131, 'wih': 132, '*': 133, '4': 134, 'Act': 135, 'British': 136, 'Queen': 137, 'by': 138, 'fo': 139, 'p2': 140, 'tha': 141, '|': 142, 'K': 143, 'about': 144, 'ar': 145, 'ea': 146, 'ee': 147, 'http': 148, 'kd': 149, 'nd': 150, 'need': 151, 'now': 152, 'p': 153, 're': 154, 'up': 155, 'who': 156, 'wth': 157, 'y': 158, '....': 159, 'It': 160, 'Mcdonalds': 161, 'Mitt': 162, 'Oa': 163, 'President': 164, 'Rmney': 165, 'That': 166, 'but': 167, 'een': 168, 'ha': 169, 'ki': 170, 'me': 171, 'no': 172, 'our': 173, 'ow': 174, 'say': 175, 'they': 176, 'tht': 177, 'tot': 178, 'will': 179, 'Barack': 180, 'GO': 181, 'He': 182, 'If': 183, 'Is': 184, 'al': 185, 'am': 186, 'b': 187, 'fro': 188, 'get': 189, 'ike': 190, \"n't\": 191, 'r': 192, 'this': 193, 'wait': 194, 'wh': 195, 'wil': 196, '=': 197, 'American': 198, 'How': 199, 'Pres': 200, 'Prs': 201, 'ave': 202, 'et': 203, 'gt': 204, 'how': 205, 'if': 206, 'll': 207, 'my': 208, 'ta': 209, 'tat': 210, 'ut': 211, 'wo': 212, \"'m\": 213, \"'re\": 214, '2012': 215, 'For': 216, 'Harvard': 217, 'Iran': 218, 'Quen': 219, 'any': 220, 'aw': 221, 'ay': 222, 'ba': 223, 'bt': 224, 'did': 225, 'fom': 226, 'hhh': 227, 'le': 228, 'lik': 229, 'one': 230, 'rom': 231, 'us': 232, 'wi': 233, '3': 234, 'B': 235, 'GP': 236, 'H': 237, 'His': 238, 'M': 239, 'Quee': 240, 'Romne': 241, 'This': 242, 'To': 243, 'Why': 244, ']': 245, 'ae': 246, 'cn': 247, 'fun': 248, 'ie': 249, 'just': 250, 'know': 251, 'law': 252, 'make': 253, 'more': 254, 'over': 255, 'res': 256, 'se': 257, 't.co': 258, 'than': 259, 've': 260, 'Augusta': 261, 'Court': 262, 'G-8': 263, 'Israel': 264, 'No': 265, 'OP': 266, 'Oaa': 267, 'P': 268, 'Pes': 269, 'Que': 270, 'Romey': 271, 'We': 272, '[': 273, 'back': 274, 'been': 275, 'ca': 276, 'coo': 277, 'ed': 278, 'edshow': 279, 'el': 280, 'en': 281, 'ho': 282, 'ht': 283, 'into': 284, 'li': 285, 'lke': 286, 'ned': 287, 'oo': 288, 'ool': 289, 'tax': 290, 'tco': 291, 'too': 292, 'tweet': 293, 'ws': 294, 'wy': 295, 'your': 296, '  ': 297, '1': 298, '23': 299, 'Aerican': 300, 'Ameria': 301, 'Bill': 302, 'But': 303, 'DC': 304, 'HE': 305, 'Jews': 306, 'Preident': 307, 'Says': 308, 'Supreme': 309, 'Th': 310, 'With': 311, 'care': 312, 'co': 313, 'college': 314, 'ere': 315, 'ew': 316, 'feel': 317, 'ga': 318, 'gas': 319, 'had': 320, 'here': 321, 'hh': 322, 'him': 323, 'hm': 324, 'htp': 325, 'htp:/t.co': 326, 'http://tco': 327, 'ill': 328, 'its': 329, 'known': 330, 'la': 331, 'let': 332, 'lie': 333, 'ma': 334, 'ne': 335, 'new': 336, 'ol': 337, 'omen': 338, 'omney': 339, 'op': 340, 'public': 341, 'rm': 342, 'ss': 343, 't.c': 344, 'ther': 345, 'thi': 346, 'think': 347, 'time': 348, 'ts': 349, 'un': 350, 'wa': 351, 'want': 352, 'wat': 353, 'what': 354, 'white': 355, 'woud': 356, 'woul': 357, \"'d\": 358, \"'ll\": 359, '10': 360, ':)': 361, '@edshw': 362, '@ohgirlphrase': 363, 'AT': 364, 'America': 365, 'As': 366, 'At': 367, 'Barck': 368, 'Brish': 369, 'Britih': 370, 'Bush': 371, 'Doyu': 372, 'Get': 373, 'God': 374, 'Holder': 375, 'Ira': 376, 'Law': 377, 'Mit': 378, 'New': 379, 'OBAMA': 380, 'Of': 381, 'Om': 382, 'One': 383, 'Presidnt': 384, 'Saul': 385, 'Sodo': 386, 'State': 387, 'Wat': 388, 'Who': 389, 'Women': 390, 'Y': 391, 'aain': 392, 'abou': 393, 'act': 394, 'ax': 395, 'before': 396, 'believe': 397, 'bi': 398, 'birth': 399, 'bm': 400, 'call': 401, 'come': 402, 'cont': 403, 'cot': 404, 'debate': 405, 'doyou': 406, 'eshow': 407, 'fromthe': 408, 'ging': 409, 'gs': 410, 'ht:/t.co': 411, 'http//t.co': 412, 'http:/t.o': 413, 'ia': 414, 'irth': 415, 'itt': 416, 'k': 417, 'knon': 418, 'lk': 419, 'man': 420, 'mn': 421, 'month': 422, 'most': 423, 'name': 424, 'next': 425, 'nuke': 426, 'ofthe': 427, 'old': 428, 'omey': 429, 'oney': 430, 'oure': 431, 'ourt': 432, 'out': 433, 'passed': 434, 'person': 435, 'ra': 436, 'ran': 437, 'real': 438, 'really': 439, 'ritish': 440, 'ro': 441, 'run': 442, 'sas': 443, 'side': 444, 'sport': 445, 'support': 446, 'then': 447, 'tis': 448, 'tt': 449, 'ttp:/t.o': 450, 'tw': 451, 'ueen': 452, 'undr': 453, 'ur': 454, 'va': 455, 'vote': 456, 'wai': 457, 'way': 458, 'were': 459, 'wha': 460, 'when': 461, 'whte': 462, 'wome': 463, 'world': 464, 'would': 465, 'yeas': 466, 'yers': 467, '.S.': 468, '0': 469, '0l': 470, '1.5': 471, '18': 472, '2019': 473, '202': 474, '212': 475, '5': 476, '62': 477, '99': 478, '@dshow': 479, '@markknller': 480, '@markknoller': 481, 'Advantage': 482, 'Amercan': 483, 'Amerian': 484, 'An': 485, 'And': 486, 'Ben': 487, 'Brack': 488, 'Brith': 489, 'Britsh': 490, 'Brtish': 491, 'Budget': 492, 'Caught': 493, 'Courts': 494, 'Doyo': 495, 'EN': 496, 'EPA': 497, 'FBor': 498, 'Harvad': 499, 'Hmm': 500, 'Hs': 501, 'IS': 502, 'Ignatius': 503, 'Isrel': 504, 'Les': 505, 'Mcdonald': 506, 'Muslim': 507, 'My': 508, 'N': 509, 'NEW': 510, 'NOT': 511, 'Nce': 512, 'OA': 513, 'OBMA': 514, 'OBS': 515, 'OT': 516, 'Ob': 517, 'Obamas': 518, 'Obamawas': 519, 'Ohhhcol': 520, 'Party': 521, 'Paul': 522, 'Photo': 523, 'Pre': 524, 'Preiden': 525, 'Presient': 526, 'Queen\"': 527, 'Roey': 528, 'Romny': 529, 'S.': 530, 'ST': 531, 'Sdo': 532, 'Secret': 533, 'Sria': 534, 'Suprme': 535, 'THE': 536, 'TO': 537, 'TU': 538, 'Te': 539, 'Tht': 540, 'U.': 541, 'U.S.': 542, 'Video': 543, 'W': 544, 'War': 545, 'What': 546, \"Wn't\": 547, 'Yu': 548, '^': 549, '_': 550, 'aa': 551, 'abot': 552, 'abut': 553, 'age': 554, 'agree': 555, 'ait': 556, 'anti': 557, 'ars': 558, 'ate': 559, 'aul': 560, 'bad': 561, 'bas': 562, 'bck': 563, 'bdge': 564, 'bdget': 565, 'beat': 566, 'beter': 567, 'big': 568, 'bos': 569, 'bout': 570, 'bu': 571, 'budget': 572, 'bully': 573, 'c': 574, 'cal': 575, 'campaign': 576, 'car': 577, 'case': 578, 'cdonalds': 579, 'ci': 580, 'ck': 581, 'cl': 582, 'cll': 583, 'cocaine': 584, 'could': 585, 'ct': 586, 'de': 587, 'debt': 588, 'does': 589, 'don': 590, 'done': 591, 'eal': 592, 'else': 593, 'es': 594, 'ess': 595, 'flop': 596, 'gives': 597, 'gm': 598, 'goin': 599, 'going': 600, 'good': 601, 'goto': 602, 'gues': 603, 'guy': 604, 'hae': 605, 'half': 606, 'havete': 607, 'hel': 608, 'her': 609, 'hey': 610, 'hope': 611, 'host': 612, 'htt://t.c': 613, 'htt:/t.co': 614, 'http//.co': 615, 'http:/.co': 616, 'http://t.c': 617, 'http://t.o': 618, 'http://to': 619, 'http:/t.c': 620, 'hve': 621, 'hw': 622, 'icymi': 623, 'iding': 624, 'ik': 625, 'ime': 626, 'ine': 627, 'ino': 628, 'interest': 629, 'invited': 630, 'ithe': 631, 'kno': 632, 'lot': 633, 'mae': 634, 'menaces': 635, 'merican': 636, 'mm': 637, 'mny': 638, 'mor': 639, 'muc': 640, 'much': 641, 'nke': 642, 'nly': 643, 'nw': 644, 'ny': 645, 'oama': 646, 'ob': 647, 'ocial': 648, 'ocr': 649, 'oe': 650, 'oen': 651, 'oin': 652, 'older': 653, 'only': 654, 'ope': 655, 'ost': 656, 'other': 657, \"ou're\": 658, 'ov': 659, 'ove': 660, 'pic': 661, 'praising': 662, 'presiden': 663, 'prices': 664, 'rap': 665, 'resident': 666, 'same': 667, 'sde': 668, 'see': 669, 'sh': 670, 'should': 671, 'sign': 672, 'slr': 673, 'smart': 674, 'social': 675, 'some': 676, 'son': 677, 'ssets': 678, 'ssue': 679, 'su': 680, 'sy': 681, 't.': 682, 'take': 683, 'talking': 684, 'tates': 685, 'teaparty': 686, 'tem': 687, 'ten': 688, 'term': 689, 'tet': 690, 'them': 691, 'thm': 692, 'thug': 693, 'thy': 694, 'tie': 695, 'tim': 696, 'tlot': 697, 'tp': 698, 'tp//t.co': 699, 'tpp': 700, 'tr': 701, 'truth': 702, 'try': 703, 'ttp:/t.co': 704, 'tx': 705, 'uh': 706, 'ust': 707, 'video': 708, 'wek': 709, 'which': 710, 'whn': 711, 'why': 712, 'wihObama': 713, 'women': 714, 'yars': 715, 'yeah': 716, 'yer': 717, 'youhave': 718, 'youlike': 719, '+': 720, '--': 721, '012': 722, '02': 723, '100': 724, '1000': 725, '15': 726, '20': 727, '200': 728, '201': 729, '6': 730, '7': 731, '@BelleInABow': 732, '@PAC43': 733, '@WatTheFFacts': 734, '@edow': 735, '@esho': 736, '@hgirphrse': 737, '@ohgirlhrase': 738, '@ohgirphrase': 739, '@ohgrlphrase': 740, '@wcptersn': 741, '@ytube': 742, 'AD': 743, 'AM': 744, 'AND': 745, 'ARE': 746, 'Acts': 747, 'Aerica': 748, 'Al': 749, 'Algae': 750, 'Ameican': 751, 'Americans': 752, 'AntherObama': 753, 'Attoney': 754, 'BMA': 755, 'Bara': 756, 'Barak': 757, 'Be': 758, 'Bethesda': 759, 'Biden': 760, 'Brac': 761, 'Britis': 762, 'Britishid': 763, 'Britishki': 764, 'Brits': 765, 'Brotherhod': 766, 'Bt': 767, 'Budt': 768, 'Budy': 769, 'Buget': 770, 'By': 771, 'CAIN': 772, 'Campaig': 773, 'Can': 774, 'Casa': 775, 'Corts': 776, 'Cour': 777, 'Cout': 778, 'Cur': 779, 'Day': 780, 'Debt': 781, 'Defese': 782, 'Details': 783, 'Did': 784, 'Dim': 785, 'Dodd': 786, 'Down': 787, 'Doyou': 788, 'Dr.': 789, 'Dune': 790, 'E': 791, 'En': 792, 'Erc': 793, 'Eri': 794, 'Even': 795, 'F': 796, 'Faces': 797, 'Fom': 798, 'Fraud': 799, 'From': 800, 'GRAND': 801, 'GW': 802, 'Ga': 803, 'Go': 804, 'Gop': 805, 'Green': 806, 'HIJO': 807, 'Haard': 808, 'Har': 809, 'Harard': 810, 'Harry': 811, 'Harvr': 812, 'Hary': 813, 'Him': 814, 'Hlder': 815, 'Hous': 816, 'IL': 817, 'IM': 818, 'Iam': 819, 'Inhis': 820, 'Interest': 821, 'Into': 822, 'Irael': 823, 'Iranian': 824, 'JBS': 825, 'JOE': 826, 'Jim': 827, 'Jobs': 828, 'Joes': 829, 'John': 830, 'Khameni': 831, 'KkaAhPq': 832, 'Koc': 833, 'LES': 834, 'LETS': 835, 'Lady': 836, 'Liberal': 837, 'Likey': 838, 'Lindsay': 839, 'Lohan': 840, 'Look': 841, 'Marine': 842, 'Mcdoals': 843, 'Mcdonlds': 844, 'Me': 845, 'Michele': 846, 'Michelle': 847, 'Michle': 848, 'MittRomney': 849, 'Mr': 850, 'Mt': 851, 'Muh': 852, 'Mulim': 853, 'NO': 854, 'NTO': 855, 'Nash': 856, 'Nes': 857, 'Nice': 858, 'Nope': 859, 'Not': 860, 'Nw': 861, 'OAMA': 862, 'OBAA': 863, 'OF': 864, 'OH': 865, 'ON': 866, 'OUR': 867, 'Obaas': 868, 'ObamaIs': 869, 'Obamais': 870, 'Obams': 871, 'Occupy': 872, 'Omas': 873, 'On': 874, 'Our': 875, 'PR': 876, 'Palin': 877, 'PesObama': 878, 'Poor': 879, 'Preidet': 880, 'Presdnt': 881, 'Presiden': 882, 'Presidt': 883, 'Prsident': 884, 'Qee': 885, 'Qeen': 886, 'Qen': 887, 'Qu': 888, 'Ran': 889, 'Read': 890, 'Respects': 891, 'Right': 892, 'Rmey': 893, 'Rmne': 894, 'Roll': 895, 'Romn': 896, 'Romneys': 897, 'Romy': 898, 'Roney': 899, 'Rush': 900, 'SKIN': 901, 'Sal': 902, 'Sand': 903, 'Satrum': 904, 'Say': 905, 'Seing': 906, 'She': 907, 'Shout': 908, 'Ss': 909, 'Sta': 910, 'States': 911, 'Syria': 912, 'THIS': 913, 'Ta': 914, 'Tat': 915, 'Tel': 916, 'Time': 917, 'Truth': 918, 'UA': 919, 'UK?Ohh': 920, 'UN': 921, 'Uited': 922, 'VIENE': 923, 'Vote': 924, 'WHT': 925, 'WS': 926, 'Wait': 927, 'WhatsRomeyHiding': 928, 'WhatsRomneyHidin': 929, 'WhatsRomneyHiding': 930, 'While': 931, 'Wil': 932, 'Win': 933, 'Yahoo': 934, 'Yea': 935, 'Yes': 936, \"Yo're\": 937, \"You'e\": 938, \"You'r\": 939, \"You'rfro\": 940, \"Yu'e\": 941, \"Yu're\": 942, 'aai': 943, 'able': 944, 'acept': 945, 'ada': 946, 'admitted': 947, 'again': 948, 'ai': 949, 'ake': 950, 'ale': 951, 'aln': 952, 'alway': 953, 'always': 954, 'ampaign': 955, 'andpraising': 956, 'another': 957, 'anyting': 958, 'aout': 959, 'arac': 960, 'arack': 961, 'ashtag': 962, 'ask': 963, 'assessany': 964, 'ast': 965, 'au': 966, 'bamaand': 967, 'bamas': 968, 'bee': 969, 'befor': 970, 'beleve': 971, 'bet': 972, 'betr': 973, 'between': 974, 'bit': 975, 'blame': 976, 'blast': 977, 'blieve': 978, 'blsts': 979, 'bn': 980, 'boh': 981, 'book': 982, 'bot': 983, 'boys': 984, 'broker': 985, 'brth': 986, 'bte': 987, 'bul': 988, 'caine': 989, 'calls': 990, 'cals': 991, 'campagn': 992, 'candidate': 993, 'cdonlds': 994, 'ce': 995, 'charge': 996, 'cia': 997, 'claim': 998, 'clled': 999, 'cme': 1000, 'cmo': 1001, 'cocaie': 1002, 'coffe': 1003, 'colege': 1004, 'colge': 1005, 'con': 1006, 'conflics': 1007, 'coul': 1008, 'courier': 1009, 'course': 1010, 'court': 1011, 'cro': 1012, 'deate': 1013, 'deba': 1014, 'debte': 1015, 'degrees': 1016, 'del': 1017, 'dh': 1018, 'dm': 1019, 'dmit': 1020, 'dou': 1021, 'doyouhve': 1022, 'du': 1023, 'due': 1024, 'dum': 1025, 'dumb': 1026, 'dumbto': 1027, 'dy': 1028, 'dyou': 1029, \"e'd\": 1030, 'eally': 1031, 'ealt': 1032, 'ears': 1033, 'ecords': 1034, 'ecret': 1035, 'edhow': 1036, 'edsho': 1037, 'edshw': 1038, 'edsow': 1039, 'eel': 1040, 'eer': 1041, 'either': 1042, 'elease': 1043, 'elieve': 1044, 'ell': 1045, 'erson': 1046, 'espect': 1047, 'est': 1048, 'ets': 1049, 'eve': 1050, 'ever': 1051, 'evey': 1052, 'ey': 1053, 'fact': 1054, 'fired': 1055, 'fm': 1056, 'follow': 1057, 'fothe': 1058, 'four': 1059, 'frm': 1060, 'fur': 1061, 'fuure': 1062, 'fvoite': 1063, 'gain': 1064, 'gay': 1065, 'ge': 1066, 'gme': 1067, 'gol': 1068, 'golf': 1069, 'goo': 1070, 'got': 1071, 'great': 1072, 'gtta': 1073, 'gun': 1074, \"h'd\": 1075, 'h/': 1076, 'habit': 1077, 'hah': 1078, 'haha': 1079, 'hane': 1080, 'hd': 1081, 'hear': 1082, 'heard': 1083, 'hehas': 1084, 'hem': 1085, 'hen': 1086, 'hid': 1087, 'hidg': 1088, 'hie': 1089, 'high': 1090, 'hing': 1091, 'hn': 1092, 'honest': 1093, 'hop': 1094, 'hot': 1095, 'hotcoffee': 1096, 'hpe': 1097, 'htes': 1098, 'htory': 1099, 'htp//tco': 1100, 'htp://co': 1101, 'htp://t.o': 1102, 'htp://tco': 1103, 'htt://tco': 1104, 'http//t.c': 1105, 'http//t.o': 1106, 'http://.co': 1107, 'http://.o': 1108, 'http://tc': 1109, 'http:/tco': 1110, 'huh': 1111, 'hy': 1112, 'i.': 1113, 'ichell': 1114, 'idi': 1115, 'ih': 1116, 'il': 1117, 'illgal': 1118, 'important': 1119, 'impotant': 1120, 'incl': 1121, 'int': 1122, 'irt': 1123, 'isa': 1124, 'issues': 1125, 'issus': 1126, 'itto': 1127, 'iv': 1128, 'jobs': 1129, 'jst': 1130, 'judge': 1131, 'jus': 1132, 'jut': 1133, 'kid\"Do': 1134, \"kidYou're\": 1135, 'kn': 1136, 'knw': 1137, 'kow': 1138, 'l0l': 1139, 'lame': 1140, 'lan': 1141, 'lass': 1142, 'last': 1143, 'lasts': 1144, 'ldy': 1145, 'less': 1146, 'libertrio': 1147, 'license': 1148, 'lives': 1149, 'llegal': 1150, 'lok': 1151, 'lol': 1152, 'look': 1153, 'los': 1154, 'losing': 1155, 'love': 1156, 'ls': 1157, 'lst': 1158, 'lt': 1159, 'lw': 1160, 'marijana': 1161, 'marijuan': 1162, 'market': 1163, 'may': 1164, 'mc': 1165, 'media': 1166, 'met': 1167, 'mit': 1168, 'mke': 1169, 'moe': 1170, 'mrican': 1171, 'muchtime': 1172, 'muh': 1173, 'mujer': 1174, 'ndh': 1175, 'nee': 1176, 'ney': 1177, 'nuclear': 1178, 'nws': 1179, 'obaa': 1180, 'obam': 1181, 'obma': 1182, 'obs': 1183, 'oc': 1184, 'ocra': 1185, 'oer': 1186, 'oes': 1187, 'oft': 1188, 'ofte': 1189, 'oget': 1190, 'ohe': 1191, 'ohgirlphrase': 1192, 'oil': 1193, 'olge': 1194, 'om': 1195, 'ome': 1196, 'omn': 1197, 'omo': 1198, 'ong': 1199, 'onthe': 1200, 'ony': 1201, 'ore': 1202, 'os': 1203, 'ote': 1204, \"ou'e\": 1205, 'ould': 1206, 'oulike': 1207, 'ouse': 1208, 'oyou': 1209, 'para': 1210, 'pi': 1211, 'pick': 1212, 'pizza': 1213, 'plan': 1214, 'policies': 1215, 'pon': 1216, 'poop': 1217, 'price': 1218, 'pt': 1219, 'qu': 1220, 'r.': 1221, 'raly': 1222, 'rcor': 1223, 'realy': 1224, 'reason': 1225, 'reay': 1226, 'recods': 1227, 'records': 1228, 'reelect': 1229, 'refuses': 1230, 'released': 1231, 'remarks': 1232, 'rend': 1233, 'report': 1234, 'reports': 1235, 'respect': 1236, 'riht': 1237, 'riishkid': 1238, 'rn': 1239, 'rs': 1240, 'rt': 1241, 'ruly': 1242, 's.': 1243, 'said': 1244, 'sg': 1245, 'shar': 1246, 'share': 1247, 'shis': 1248, 'shit': 1249, 'shold': 1250, 'shoud': 1251, 'shuld': 1252, 'sie': 1253, 'signs': 1254, 'sil': 1255, 'socal': 1256, 'socil': 1257, 'sory': 1258, 'sow': 1259, 'sp': 1260, 'speding': 1261, 'srt': 1262, 'sse': 1263, 'stat': 1264, 'states': 1265, 'ste': 1266, 'still': 1267, 'strong': 1268, 'stupid': 1269, 'supor': 1270, 'sure': 1271, 'sys': 1272, 'tain': 1273, 'tan': 1274, 'tate': 1275, 'tct': 1276, 'teaith': 1277, 'teawith': 1278, 'teen': 1279, 'tell': 1280, 'tey': 1281, 'thUK': 1282, 'theObama': 1283, 'theQueen': 1284, 'these': 1285, 'thing': 1286, 'things': 1287, 'those': 1288, 'thrugh': 1289, 'ths': 1290, 'tin': 1291, 'tired': 1292, 'tlo': 1293, 'tlt': 1294, 'tme': 1295, 'toFAU': 1296, 'tough': 1297, 'tpn': 1298, 'tried': 1299, 'trybut': 1300, 'tryigto': 1301, 'tth': 1302, 'ttp//tco': 1303, 'ttp://t.o': 1304, 'twet': 1305, 'twiter': 1306, \"u'r\": 1307, \"u're\": 1308, 'ue': 1309, 'uen': 1310, 'uld': 1311, 'ull': 1312, 'understand': 1313, 'unil': 1314, 'ure': 1315, 'urned': 1316, 'ver': 1317, 'very': 1318, 'voted': 1319, 'voters': 1320, 'wants': 1321, 'wepons': 1322, 'whts': 1323, 'wimp': 1324, 'wld': 1325, 'wll': 1326, 'wmen': 1327, 'wnts': 1328, 'wod': 1329, 'woen': 1330, 'womn': 1331, 'won': 1332, 'woried': 1333, 'wre': 1334, 'wt': 1335, 'wthth': 1336, 'xceed': 1337, 'year': 1338, 'yet': 1339, 'youlik': 1340, 'yri': 1341, 'yt': 1342, 'yulike': 1343, '   ': 1344, '\"#012': 1345, '\"http://.covbgNT57': 1346, '#Obm': 1347, '&t;&gt': 1348, \"''OAA\": 1349, \"'em\": 1350, '--&t;EDITOAL': 1351, '----': 1352, '-.-': 1353, '-Attorny': 1354, '-Haaretz': 1355, '-I': 1356, '-OBAMA': 1357, '-Oama': 1358, '-OamasLook': 1359, '-Sing': 1360, '-T': 1361, '-Top': 1362, '-aaretz': 1363, '-gt': 1364, '-il': 1365, '-is': 1366, '-thugnificent': 1367, '-ttp://tco': 1368, '-ustObm': 1369, '.#tt': 1370, '.....': 1371, '.00ga!Go': 1372, '.@Resstyray': 1373, '.@USNavwon': 1374, '.S': 1375, '//t.co': 1376, '/4': 1377, '/6/212': 1378, '/Soot': 1379, '/osoin': 1380, '0,00': 1381, '00': 1382, '000': 1383, '007': 1384, '00yearn': 1385, '012Decoed': 1386, '016': 1387, '06': 1388, '08Hillary': 1389, '0istedif': 1390, '1/2': 1391, '100%ertai': 1392, '12': 1393, '121I': 1394, '13mn': 1395, '15.2': 1396, '15.2Trllin': 1397, '19': 1398, '1974': 1399, '1984': 1400, '1987': 1401, '19aly64': 1402, '1Dfact': 1403, '1Dirctionality': 1404, '1TH': 1405, '2.2ttp://t.co/k2uO': 1406, '2.50': 1407, '2.W': 1408, '2007': 1409, '2008': 1410, '2010': 1411, '2012ein': 1412, '2013': 1413, '2016': 1414, '20daywr': 1415, '22': 1416, '22The': 1417, '247': 1418, '2:33': 1419, '2d': 1420, '2months': 1421, '2ndterm': 1422, '2ndtermfo': 1423, '3.6': 1424, '30': 1425, '300': 1426, '308,a': 1427, '33%hink': 1428, '345': 1429, '3r': 1430, '3yars': 1431, '4//2012': 1432, '43%sne': 1433, '4::20': 1434, '4Obma': 1435, '4a': 1436, '4yars': 1437, '50': 1438, '56isual': 1439, '57': 1440, '57taes': 1441, '599212appears': 1442, '5ircuit': 1443, '62%f': 1444, '62%of': 1445, '62of': 1446, '73of': 1447, '7ffics': 1448, '8': 1449, '80': 1450, '9': 1451, '90': 1452, '90s': 1453, '92': 1454, '97': 1455, '98': 1456, '987Anlyst64': 1457, ':-)': 1458, ':-))': 1459, ':-p': 1460, ':/': 1461, ':O': 1462, ':P': 1463, ';)': 1464, '@': 1465, '@/SheCalleLarryThe': 1466, '@1LuisSanovl': 1467, '@1irctonalty\"Harry': 1468, '@7bbom@geof9cow': 1469, '@ABC': 1470, '@AC360@jeffrytoobn': 1471, '@AIsFrOr': 1472, '@AKhaor': 1473, '@AP_Ken_Tomas': 1474, '@A_hanivre': 1475, '@AdThis': 1476, '@AddThis': 1477, '@AddThs': 1478, '@AmericanstUNEECED': 1479, '@Ario': 1480, '@Atros': 1481, '@Auslatfis': 1482, '@BC': 1483, '@BSports': 1484, '@BaackObaa': 1485, '@BaackObama': 1486, '@BaackObma': 1487, '@BadDirFndRais': 1488, '@BarackObama': 1489, '@Barackbama': 1490, '@Bdcochs': 1491, '@Belaniev': 1492, '@BeleInABo': 1493, '@BeleInABw': 1494, '@BianBrNet': 1495, '@BranBrownNt': 1496, '@Bsdnive': 1497, '@Buckexto': 1498, '@Bunkerst': 1499, '@C43': 1500, '@CARepblica1': 1501, '@CArub': 1502, '@COBron': 1503, '@COBrown': 1504, '@CaptivatingNews': 1505, '@Ceatintips': 1506, '@ChcoDelanky': 1507, '@Cio_Obama:#ILOCKA': 1508, '@ClaiCMC': 1509, '@ClaieCMC': 1510, '@Como_Sense4': 1511, '@DEOHey': 1512, '@DS_CT': 1513, '@DTs': 1514, '@DanMofarkiYeah': 1515, '@DanMoffarkin': 1516, '@Deltagir1326': 1517, '@Devi_fo_if': 1518, '@Dlovercarrots': 1519, '@Drdge_Repor': 1520, '@DrewMTip': 1521, '@DrewMTips': 1522, '@DrewMTp': 1523, '@DrewTs': 1524, '@DrwMTips#WhtsRomneyHing': 1525, '@EWErickson': 1526, '@Ecean192': 1527, '@EilnLet': 1528, '@ExreLiberal': 1529, '@FAU_Problems': 1530, '@FHQ': 1531, '@Fake_Disptch': 1532, '@FanConnif': 1533, '@Fer_SmrJB': 1534, '@Fingersing': 1535, '@ForAea': 1536, '@GEsadari': 1537, '@Gabby_HfanCmmuniy': 1538, '@Gabby_Hoffmn': 1539, '@Gabby_Hofmn': 1540, '@GarretNBNs': 1541, '@GasotRet': 1542, '@Geore_87': 1543, '@GetsGreaed': 1544, '@GregWowar': 1545, '@Gtschey': 1546, '@GttaLaff': 1547, '@HLWigsfanKay': 1548, '@Habbat_oia': 1549, \"@Habibat_SouaIon't\": 1550, '@HarryFats1D': 1551, '@HarrySty': 1552, '@Harryac1D': 1553, '@HaryStyles': 1554, '@Hary_e': 1555, '@HesDanTeMan': 1556, '@Hffingtonos': 1557, '@HonestMitt': 1558, '@HrryFcts1': 1559, '@HuffPotPol': 1560, '@IBDinvtors': 1561, '@I_Tler': 1562, '@ImTyer': 1563, '@Im_yler': 1564, '@IndyEnima': 1565, '@J_Oamyoright': 1566, '@JaOnAmerica': 1567, '@JeNBCIf': 1568, '@JeSxackSay': 1569, '@Jeferonaa': 1570, '@JefersonOam': 1571, '@JeffeonObam': 1572, '@JefferoObama': 1573, '@JeffersnOba': 1574, '@JeffersonOama': 1575, '@JeffersonOama62': 1576, '@JeffersonObama': 1577, '@JeffersonObma': 1578, '@Jeffersonbm': 1579, '@JeffesonObama': 1580, '@JeffrsonObaa': 1581, '@JeffrsonObma62': 1582, '@Jennyrso': 1583, '@JffersnObama': 1584, '@JoahNO': 1585, '@John_37058': 1586, '@JoiningFores': 1587, '@Jugod007': 1588, '@Karlove': 1589, '@KayHagn@MakWarer': 1590, '@Keithlberman': 1591, '@KevinWGass': 1592, '@KvnWGla': 1593, '@LFAO': 1594, '@LauraFlyMe': 1595, '@Lbertaran_76': 1596, '@Libertari_76': 1597, '@LlieMashal': 1598, '@LoTomBu': 1599, '@LoTooBu': 1600, '@Logeh': 1601, '@Lorbonges': 1602, '@Louommoum': 1603, '@LuisSadal': 1604, '@Lyndsayarlw': 1605, '@MNS': 1606, '@MOPS': 1607, '@Mamdoxie': 1608, '@MarcoRubio': 1609, '@MceHart': 1610, '@Meina201': 1611, '@Merleearl': 1612, '@Messina2012': 1613, '@Messna2012': 1614, '@MiaHeald': 1615, '@MiltShok': 1616, '@Mirndacn': 1617, '@MitRomne': 1618, '@MittRom': 1619, '@MittRomey': 1620, '@MittRomne': 1621, '@MittRomney': 1622, '@Mittomne': 1623, '@MrTinPenis': 1624, '@MsRock4Eer': 1625, '@MsRock4ver': 1626, '@Mssin202': 1627, '@MsuPwell@sevelayerakunt': 1628, '@MtRoney': 1629, '@NBCes': 1630, '@NHLngsfanay': 1631, '@NMly': 1632, '@NiThngsalaysay': 1633, '@Nik2Thigs': 1634, '@Nos2': 1635, '@Notinhface1': 1636, '@Nrsu2': 1637, '@OCUIUS': 1638, '@ORELY': 1639, '@Obama2012': 1640, '@OrwelForce': 1641, '@OrwellForc': 1642, '@PAC4': 1643, '@POITIC': 1644, '@PRATE_SLEPY': 1645, '@PRINCE_OLO': 1646, '@PamMcAlliter': 1647, '@PiratePrtGa': 1648, '@PitchyPete': 1649, '@Po_st': 1650, '@PratePatyGa': 1651, '@PresEtions': 1652, '@Proesor_Wh:#WatsRomeyHiding': 1653, '@Profesr_Why': 1654, '@Professor_Wh': 1655, '@ProfessrWy': 1656, '@RT_AmericaObamas': 1657, '@RandPaul': 1658, '@RandPul': 1659, '@Realiam_Pae': 1660, '@RednaxalA': 1661, '@RikSatou': 1662, '@SamValley:#WhatsRmHding': 1663, '@SarhRoa11': 1664, '@SeJDeMinarcRubi': 1665, '@SenimDeMnt@MrcoRuio': 1666, '@SexedaPoD': 1667, '@SgtTi1': 1668, '@Shreoi': 1669, '@Sidyy32': 1670, '@Solmanie': 1671, '@Steto3': 1672, '@Stewat7Do': 1673, '@TBDhatsRmeyHding': 1674, '@TCvideo': 1675, '@TPHielf': 1676, '@TPO_Hislf': 1677, '@TPO_Hself': 1678, '@TP_Hislf': 1679, '@Taketeran': 1680, '@Takmaster': 1681, '@Talkmaster': 1682, '@TalkmsterOh': 1683, '@Tannernglish3': 1684, '@Taworks': 1685, '@ThPluLineGS': 1686, '@TheDerats': 1687, '@TheDmocats': 1688, '@TheOnion': 1689, '@TheRelosenne': 1690, '@TheWrightWigv': 1691, '@TlerSdonis': 1692, '@TretO_YouOff': 1693, '@UnProgresiv': 1694, '@Un_OccuyWallS': 1695, '@VRWCTexan': 1696, '@WAM': 1697, '@WTheFact': 1698, '@W_Pul_Wlliams': 1699, '@Way2': 1700, '@WestJraim': 1701, '@Westonalim': 1702, '@WhinNot': 1703, '@WilliamSatr': 1704, '@Wrig77Anne': 1705, '@YahoNewsWhais': 1706, '@YouTub': 1707, '@YungdashKI': 1708, '@_H_C_T': 1709, '@_ioc_Oam': 1710, '@aSekulow': 1711, \"@aanxyellt'svermaure\": 1712, '@addths': 1713, '@adthis': 1714, '@aexaforman': 1715, '@aginobama': 1716, '@aguarfreckes': 1717, '@akehoushel': 1718, '@akknoller': 1719, '@ama': 1720, '@andPaul': 1721, '@andrschwrz': 1722, '@angel__network': 1723, '@angel_newor': 1724, '@anllven': 1725, '@ann1206': 1726, '@anna12061': 1727, '@anthrpocn': 1728, '@arackObamShel': 1729, '@arackamaOma': 1730, '@arckobmaLiterali': 1731, '@arfoss70': 1732, '@arkknoller': 1733, '@arkkoll': 1734, '@arkkolle': 1735, '@arknoler': 1736, '@arove': 1737, '@aryFact1D': 1738, '@aryStyes': 1739, '@aseballcrak': 1740, '@atorNaton4': 1741, '@attackwat': 1742, '@auraFlye': 1743, '@avidCornDC': 1744, '@ayHagn': 1745, '@barakobaa': 1746, '@baseballank': 1747, '@basebalrank': 1748, '@beandmai': 1749, '@benhuryoedy': 1750, '@beseyross': 1751, '@bessmyiberty': 1752, '@betseyross': 1753, '@blakehonshell': 1754, '@blakehousell': 1755, '@bseballcrank': 1756, '@carogvy': 1757, '@chesdvis8': 1758, '@ckOb': 1759, '@cptersn': 1760, '@cptesn': 1761, '@dThs': 1762, '@dcrumbs': 1763, '@derahnter': 1764, '@dho': 1765, '@dhow#Oamauld': 1766, '@djchchiago': 1767, '@djechhicag': 1768, '@djtechchicgo': 1769, '@dnwho': 1770, '@dsow': 1771, '@dtechchcago': 1772, '@dthis': 1773, '@du_castillo': 1774, '@eXU': 1775, '@edho': 1776, '@edhow': 1777, \"@edshowI'MA\": 1778, '@edshwPres': 1779, '@edwardvirtually': 1780, '@effersnObama': 1781, '@effersnObma:62%of': 1782, '@eganagrton': 1783, '@ekeJMller': 1784, '@eleInABow': 1785, '@elieo': 1786, '@ellenAow': 1787, '@ennyiksn': 1788, '@ereahunter': 1789, '@esa2012': 1790, '@esgardr': 1791, '@eshowTe': 1792, '@esina202': 1793, '@esow#Obama12': 1794, '@esqcapes': 1795, '@frdthompson': 1796, '@fregalt': 1797, '@funkmastefex': 1798, '@gadenoftegds': 1799, '@ganmles': 1800, '@geof9cow': 1801, '@getair': 1802, '@goff9cow': 1803, '@goptrh': 1804, '@grdoftheos': 1805, '@gtWay2:#Romney': 1806, '@gynely': 1807, '@handrwschwartz': 1808, '@handrwschwarz': 1809, '@hanrewschwrt': 1810, '@heCallseLary': 1811, '@hgilphrase': 1812, '@hgirlhrase': 1813, '@hgirlphrase': 1814, '@hgirlphraseAmerian': 1815, '@hgirlphrse': 1816, '@hgirphrase': 1817, '@hgrlphras': 1818, '@hightsarah': 1819, '@huffitonpos': 1820, '@iChicaoScott': 1821, '@ichi.oo': 1822, '@ichlleObmgratphotof': 1823, '@idknilve1D': 1824, '@ierdrelewis': 1825, '@illmaer': 1826, '@ilycyotee': 1827, '@inkprogress': 1828, '@ittRony': 1829, '@jayseulowObama': 1830, '@jennykasn': 1831, '@jltho': 1832, '@jmshohnn': 1833, '@jodikan': 1834, '@jodmn': 1835, '@kaiearson': 1836, '@ke_Dispat': 1837, '@kesgadn': 1838, '@kesgarder': 1839, '@kesgardner': 1840, '@kesgrder': 1841, '@kesgrdner': 1842, '@kkebea': 1843, '@kmbiz': 1844, '@krauthammer': 1845, '@ktiigs_x': 1846, '@laryeldersh': 1847, '@lbeadmail': 1848, '@lehousell': 1849, '@licode5': 1850, '@lsrollfrms': 1851, '@maddwRchel': 1852, '@makknlerA': 1853, '@makknoller': 1854, '@makknollerbamaCampaign': 1855, '@markknoler': 1856, '@markknolle': 1857, '@markknolr': 1858, '@marknolr': 1859, '@markoller': 1860, '@mayfranholm': 1861, '@mbnzt': 1862, '@mericn1st': 1863, '@mihllemain': 1864, '@mittrme': 1865, '@mma': 1866, '@mrkknller': 1867, '@mrkknllr': 1868, '@mrkknolle': 1869, '@mrkknolr': 1870, '@mrknoler': 1871, '@mrymulino': 1872, '@mthNoah': 1873, '@mttromney': 1874, '@nakdsk8oy': 1875, '@newspin': 1876, '@nformedblakn': 1877, '@nitark': 1878, '@nrnews': 1879, '@obama': 1880, '@obamadnouncethe': 1881, '@obma': 1882, '@ocupmaries': 1883, '@ofssWy#hatRomnHiing': 1884, '@ogirlph': 1885, '@ogirlphras': 1886, '@ogirlphrase': 1887, '@ogirphrase': 1888, '@oglphrase': 1889, '@ohgihrase': 1890, '@ohgilhae': 1891, '@ohgilhrae': 1892, '@ohgilpaeAmrican': 1893, '@ohgilphrase': 1894, '@ohgirlhrseAmercn': 1895, '@ohgirlphrae': 1896, '@ohgirlphrse': 1897, '@ohgirlprae': 1898, '@ohgirlpras': 1899, '@ohgirlprase': 1900, '@ohgirlrase': 1901, '@ohgirphraseAmrian': 1902, '@ohgirprae': 1903, '@ohgpras': 1904, '@ohgrlprase': 1905, '@ohgrphrse': 1906, '@ohiphrase': 1907, '@ohirlphase': 1908, '@ohirlphrase': 1909, '@ohirprase': 1910, '@ohnSMackenzie': 1911, '@ohrlphre': 1912, '@ohrlphrse': 1913, '@ohrlphrseAmican': 1914, '@oinigores': 1915, '@oirlpras': 1916, '@ommoBum': 1917, '@onetCnservt': 1918, '@onjuaw@vapote8': 1919, '@ouvelleNo': 1920, '@ozniak1': 1921, '@pitkothar': 1922, '@poorconsevativ': 1923, '@poumeffeeWhite': 1924, '@pourmeofeWte': 1925, '@preciouslbery': 1926, '@preciousliery': 1927, '@psema4': 1928, '@rParisan': 1929, '@rewMTis': 1930, '@rgni': 1931, '@rhrase': 1932, '@ridonWRD': 1933, '@rkineGrier': 1934, '@roertcobren': 1935, '@roetobrien': 1936, '@rofessor_Wy': 1937, '@roobiimer': 1938, '@rovi71': 1939, '@rudge_Report': 1940, '@rushimbaugh777': 1941, '@ryacroft': 1942, '@ryanjroft': 1943, '@scarlthara': 1944, '@seanhanniy': 1945, '@searfoss70': 1946, '@sfndiari:\"Obama': 1947, '@sgaut': 1948, '@shingtonpost': 1949, '@show': 1950, '@siner5150': 1951, '@skieriercism': 1952, '@smiksam': 1953, '@southslem': 1954, '@sparowmei': 1955, '@sprrowmedia': 1956, '@stinr510': 1957, '@stoneresus20': 1958, '@stroterf': 1959, '@sw': 1960, '@sweetbay': 1961, '@tajan1': 1962, '@taylswif3': 1963, '@teacherspets': 1964, '@techhicgo': 1965, '@terreamonroe': 1966, '@teveDeacehow': 1967, '@theblaz': 1968, '@theblaze': 1969, '@thereac': 1970, '@thikrgrss': 1971, '@thinkprogress': 1972, '@thinkprorss': 1973, '@thinprogress': 1974, '@tigRIHTway': 1975, '@tinkpgres': 1976, '@tmes247': 1977, '@trueborsark': 1978, '@truhout': 1979, '@tuht2012': 1980, '@tuthteam212@gop': 1981, '@twetslkeagirl': 1982, '@udryPerry': 1983, '@unyright': 1984, '@ur4thEstat': 1985, '@utinau19Why': 1986, '@vflb': 1987, '@watevrer': 1988, '@wcpersn': 1989, '@wilycyote': 1990, '@wlycyoteePe': 1991, '@wokimama@RnaxalA': 1992, '@yHaganMrkaner': 1993, '@yalierty': 1994, '@yfieeiew': 1995, 'AA': 1996, 'ABOT': 1997, 'AC36': 1998, 'ACORN': 1999, 'ACTIONSBOSTED#TCOT': 2000, 'AGIN': 2001, 'AHUAHHUHAHAUHUAHAHAUA': 2002, 'AIAC': 2003, 'AILUE': 2004, 'AL': 2005, 'ALL': 2006, 'ALLY': 2007, 'ALO': 2008, 'ALWA': 2009, 'ALWAYS': 2010, 'AMA': 2011, 'AMERICANCITIES': 2012, 'ANYNE': 2013, 'ANYTHNG': 2014, 'AOSS': 2015, 'AOUT': 2016, 'AP': 2017, 'APlunceon': 2018, 'APnne': 2019, 'ARPAO': 2020, 'ASINGTN': 2021, 'ATa': 2022, 'ATacapagn': 2023, 'AU': 2024, 'AUS': 2025, 'AWHOs': 2026, 'Aacampag': 2027, 'Aainst': 2028, 'Aakakaka': 2029, 'Aast4': 2030, 'Abott': 2031, 'About': 2032, 'Ac': 2033, 'AccssFederal': 2034, 'Accued': 2035, 'Acions': 2036, 'Acusaion': 2037, 'Ad': 2038, 'AdYo': 2039, 'Adantae': 2040, 'Adisraton': 2041, 'Adit': 2042, 'Administaton': 2043, 'Admintratin': 2044, 'Admistation': 2045, 'Admnistration': 2046, 'Admt': 2047, 'Adviser': 2048, 'Aerca': 2049, 'Aeria': 2050, 'Aerian': 2051, 'Aerians': 2052, 'Aericns': 2053, 'Aerin': 2054, 'Afer': 2055, 'Afian': 2056, 'AfinAmericn': 2057, 'Aformer': 2058, 'Afrca': 2059, 'Afria': 2060, 'Aft': 2061, 'Agusta': 2062, 'Ahab': 2063, 'Aiana': 2064, 'Aica': 2065, 'Aid': 2066, 'AidTgytAfter': 2067, 'Ainsky': 2068, 'Akd': 2069, 'Akkakaka': 2070, 'Ali': 2071, 'Alinsy': 2072, 'All': 2073, 'Alradyover': 2074, 'Also': 2075, 'Amaine': 2076, 'Amd': 2077, 'Ameca': 2078, 'Amecan': 2079, 'Amecans': 2080, 'Ameic': 2081, 'Ameica': 2082, 'Ameicakd\"Youre': 2083, 'Ameicanki': 2084, 'Ameicas': 2085, 'Ameran': 2086, 'Amerc': 2087, 'Amerca': 2088, 'Amercanki': 2089, 'Ameriankid': 2090, 'Americacan': 2091, 'Americancan': 2092, 'Americankd': 2093, 'Americankid': 2094, 'Americas': 2095, 'Americn': 2096, 'Americns': 2097, 'Amerin': 2098, 'Amic': 2099, 'Amid': 2100, 'Amrcan': 2101, 'Amrcnkid\"You\\'efom': 2102, 'Amrian': 2103, 'Amriankid': 2104, 'Amrians': 2105, 'Amrica': 2106, 'Amrican': 2107, 'Amricank\"ou\\'from': 2108, 'AmricansWho': 2109, 'Amricnswhie': 2110, 'Anaickopo': 2111, 'Analy4': 2112, 'Analyt6': 2113, 'Anddesnt': 2114, 'Annymous': 2115, 'Anoter': 2116, 'Another': 2117, 'Ant': 2118, 'Anthe': 2119, 'Anti': 2120, 'Antichrst': 2121, 'Anticipatino': 2122, 'Antiipaion': 2123, 'Anunes': 2124, 'AnxszxJ': 2125, 'Anyone': 2126, 'Ao': 2127, 'Aotion': 2128, 'Ap': 2129, 'Aparntl': 2130, 'Apl': 2131, 'Apolgies': 2132, 'Apparety': 2133, 'Applet': 2134, 'Aprl10&gt;_&lt': 2135, 'Aprly': 2136, 'Aprove': 2137, 'Apuzzo': 2138, 'Arcan': 2139, 'Arcankid': 2140, 'ArchishopDlan': 2141, 'Are': 2142, 'Areyou': 2143, 'Aria': 2144, 'Ariann': 2145, 'AriannaHuffntnblastig': 2146, 'AriannaHufington': 2147, 'Arican': 2148, 'Arinna': 2149, 'Arinnuffngto': 2150, 'Arto77': 2151, 'Ary': 2152, 'Asian': 2153, 'Asking': 2154, \"Assailing'Dibdiec\": 2155, 'Assiment': 2156, 'At2008': 2157, 'Atc': 2158, 'Atcptonof...hp://t.co/8p8Bg3y': 2159, 'Athny': 2160, 'Atiipain': 2161, 'Attack': 2162, 'Attempt': 2163, 'AttempttoEae': 2164, 'Augus?Obama': 2165, 'Augusa': 2166, 'AugusaNatna': 2167, 'AugustaNationa': 2168, 'Augut?Oba': 2169, 'Auguta': 2170, 'AuopenMissin': 2171, 'Austan': 2172, 'Auto': 2173, 'AutoFollowBack': 2174, 'AutoIndustryPrenteda': 2175, 'Autopen': 2176, 'AutpeMissing': 2177, 'Auusa': 2178, 'Auusta': 2179, 'Away': 2180, 'AxsxJn': 2181, 'Ayers': 2182, 'B.': 2183, 'B3b4vkeX': 2184, 'BACK': 2185, 'BAM': 2186, 'BAMA': 2187, 'BARACKBAMA': 2188, 'BASARD': 2189, 'BAUROUue': 2190, 'BBgHZ0': 2191, 'BFzS3iz': 2192, 'BGFOT': 2193, 'BLENDR': 2194, 'BLYELECTE': 2195, 'BO': 2196, 'BONCIOUS': 2197, 'BORNCURIO': 2198, 'BORNCURIOUS': 2199, 'BOSTED': 2200, 'BOdocuentry': 2201, 'BRANALEY': 2202, 'BRING': 2203, 'BS': 2204, 'BUT': 2205, 'Ba': 2206, 'Baa': 2207, 'Baack': 2208, 'Baak': 2209, 'Backrod': 2210, 'Backrom': 2211, 'Baedon': 2212, 'BameBush': 2213, 'Ban': 2214, 'Bar': 2215, 'BarObama': 2216, 'BaraObama': 2217, 'Barac': 2218, 'BarackOama': 2219, 'Barackb': 2220, 'Barakam': 2221, 'Barakbaa': 2222, 'Bark': 2223, 'Baronewrites': 2224, 'Barr': 2225, 'Barrckobama': 2226, 'Barry': 2227, 'BarySeoro': 2228, 'BayGt': 2229, 'Bb': 2230, 'Bbl': 2231, 'BckOfMcConnell': 2232, 'Bdet': 2233, 'Because': 2234, 'Been': 2235, 'BelleInABow': 2236, 'Beore': 2237, 'Ber': 2238, 'Bethsda': 2239, 'Beyond': 2240, 'Bfft': 2241, 'Bhahahhaha': 2242, 'Bible': 2243, 'Bibleon': 2244, 'Bieber': 2245, 'Biish': 2246, 'Biisid': 2247, 'Bil': 2248, 'Billio': 2249, 'Billion': 2250, 'Bilwill': 2251, 'Birt': 2252, 'Bish': 2253, 'Bitih': 2254, 'Bitish': 2255, 'Bitishkid': 2256, 'Bits': 2257, 'Bl': 2258, 'BlameBush': 2259, 'Blanc': 2260, 'Blck': 2261, 'Blna': 2262, 'Bluerints': 2263, 'Bo': 2264, 'Boca': 2265, 'Bogus': 2266, 'Bomin': 2267, 'Bothrhood': 2268, 'Bovierw': 2269, 'BpartisanJobsBi': 2270, 'Br.tmrw': 2271, 'BrakObaa': 2272, 'Braky': 2273, 'Breaking': 2274, 'Bri': 2275, 'Briefin': 2276, 'Brih': 2277, 'Briih': 2278, 'Briishid': 2279, 'Briishki': 2280, 'Brishki': 2281, 'Britba': 2282, 'Britihki': 2283, 'Britishkid': 2284, 'Britskd': 2285, 'BrkObma': 2286, 'Bro': 2287, 'Brothehood': 2288, 'Brotherhood': 2289, 'Brotherood': 2290, 'Brothrood': 2291, 'Brth': 2292, 'BrthCrtificate': 2293, 'Brtih': 2294, 'Brtihid': 2295, 'Brtihkid': 2296, 'Brtishkid': 2297, 'Bsh': 2298, 'Bthkid': 2299, 'Btiski': 2300, 'Bucc': 2301, 'Buddy': 2302, 'Bude': 2303, 'Budet': 2304, 'Budge': 2305, 'Budgt': 2306, 'Buet': 2307, 'Buge': 2308, 'Buh': 2309, 'Buke': 2310, 'Busch': 2311, 'BushTR': 2312, 'Busines': 2313, 'Busness': 2314, \"ButIdon't\": 2315, 'ByBarac': 2316, 'C': 2317, \"C'mon\": 2318, 'C4NpUq/': 2319, 'C54Nf': 2320, 'CA': 2321, \"CA'sHry\": 2322, 'CAMINO': 2323, 'CATERPILLAR': 2324, 'CBC': 2325, 'CE': 2326, 'CEATED': 2327, 'CIAofcr': 2328, 'CLue': 2329, 'CN': 2330, 'CNnewom': 2331, 'COMMERCIL': 2332, 'COMNG': 2333, 'CONRRY': 2334, 'COTRAR2': 2335, 'COU': 2336, 'COUNTY': 2337, 'COUNTY?VIOATING': 2338, 'CQpMvkJ': 2339, 'Ca': 2340, 'Caaig': 2341, 'Cab': 2342, 'Cae': 2343, 'Caliton': 2344, 'CallegeAnt': 2345, 'CallingOb': 2346, 'Calls': 2347, 'Calr': 2348, 'Cals': 2349, 'Campaign': 2350, 'Campaigseiing': 2351, 'Capin': 2352, 'Capital': 2353, 'Care': 2354, 'Cashes': 2355, 'Cathlic': 2356, 'Cathlics': 2357, 'Catholi': 2358, 'Cause': 2359, 'Cced': 2360, 'Ccedes': 2361, 'CeLw': 2362, 'Cearance': 2363, 'Cener': 2364, 'Ceriicae': 2365, 'Certifiate': 2366, 'Charg': 2367, 'Checks': 2368, 'Chicag': 2369, 'Chicago': 2370, 'Chickn': 2371, 'Children': 2372, 'Chin': 2373, 'Chrstian': 2374, 'Ci': 2375, 'Circuit': 2376, 'Civlity': 2377, 'Claac': 2378, 'ClearScott': 2379, 'Clearly': 2380, 'Clearnce': 2381, 'Close': 2382, 'Cloward': 2383, 'Cment': 2384, 'Cmenton': 2385, 'Cmpain': 2386, 'CnReview': 2387, 'CncdeTha': 2388, 'Cngress': 2389, 'Cnsevatve': 2390, 'Cnstittioal': 2391, 'Cnsttutional': 2392, 'Cnt': 2393, 'Cnteny': 2394, 'Cntinues': 2395, 'Cntius': 2396, 'Cnuggeto': 2397, 'Coaitin': 2398, 'Coaliionhttp:/t.co': 2399, 'Cocee': 2400, 'Coes': 2401, 'Colcton': 2402, 'Colgenscrits': 2403, 'CometesJges': 2404, 'Cometry': 2405, 'Commen': 2406, 'Comment': 2407, 'Commento': 2408, 'Commnist': 2409, 'Commnt': 2410, 'Common': 2411, 'Commual': 2412, 'Compar': 2413, 'Conerning': 2414, 'Congess': 2415, 'Congres': 2416, 'Congrss': 2417, 'Coniues': 2418, 'Conlusvroo': 2419, 'Conpracy!http:.co': 2420, 'Conres': 2421, 'Conress?Not': 2422, 'Consituion': 2423, 'Consitution#WatsRmneyHidin': 2424, 'Constittiona': 2425, 'Constitutional': 2426, 'Constitutionl\"schoar': 2427, 'Contitiol': 2428, 'Contiues': 2429, 'Coo': 2430, 'Cooldemocrat': 2431, 'Cor': 2432, 'Cort': 2433, 'Cospiacy': 2434, 'Costtional': 2435, 'Costto': 2436, 'Could': 2437, 'Courtoom': 2438, \"Cout'spowe\": 2439, 'Cout?@JeffreyToobin': 2440, 'Coververt': 2441, 'Cozis': 2442, 'Cr': 2443, 'Crackdow': 2444, 'Crc_Obama': 2445, 'CreateEnemiesList': 2446, 'Creit': 2447, 'Criica': 2448, 'Critial': 2449, 'CriticizigOba': 2450, 'Criticzes': 2451, 'Critique': 2452, 'Crney': 2453, 'Cross': 2454, 'Crossed': 2455, 'Crstins': 2456, 'Ctn': 2457, 'Cub': 2458, 'Cud': 2459, 'Cugh': 2460, 'Curt': 2461, 'CurtSays': 2462, 'Cuse': 2463, 'Cut': 2464, 'Czech': 2465, 'D?http//t.co': 2466, 'DAYM': 2467, 'DBMrool': 2468, 'DCT': 2469, 'DCfndrase': 2470, 'DE': 2471, 'DED': 2472, 'DEMOCRTS': 2473, 'DEPT': 2474, 'DID': 2475, \"DID'T\": 2476, 'DMBA': 2477, 'DRFT': 2478, 'DS_CT': 2479, 'DUM': 2480, 'Da&Hlf': 2481, 'Dail': 2482, 'Daily': 2483, 'Dainm': 2484, 'Damnhme': 2485, 'Dan': 2486, 'Daper': 2487, 'Darinis': 2488, 'Darwiism': 2489, 'Darwini': 2490, 'Darwinis': 2491, 'Dawnism': 2492, 'DbYlHch': 2493, 'De': 2494, 'DeMint': 2495, 'Dealg': 2496, 'Dealn': 2497, 'Dear': 2498, 'Debi': 2499, 'DebtWill': 2500, 'Deese': 2501, 'Defens': 2502, 'Defns': 2503, 'Delives': 2504, 'Democrats': 2505, 'Democratssai': 2506, 'Democrt': 2507, 'Democt': 2508, 'Dems': 2509, 'Deorats': 2510, 'Depite': 2511, 'Desis': 2512, 'Dest': 2513, 'Destuction': 2514, 'Dfend': 2515, 'Dfici': 2516, 'Dick': 2517, 'DidHe': 2518, 'DiecionTolak': 2519, 'Diita': 2520, 'Diplay': 2521, 'Discuss': 2522, 'Dispay': 2523, 'Disput': 2524, 'Dman': 2525, 'DmdEndtoMiaMijuana': 2526, 'DnOama': 2527, 'Dnor': 2528, 'Dnt': 2529, 'Doddand': 2530, 'Dog': 2531, \"Don'tnser\": 2532, 'Doou': 2533, 'Dosday': 2534, 'Dote': 2535, 'Doyolike': 2536, 'Doyouie': 2537, 'Dreams': 2538, 'Drection': 2539, 'DrewMips': 2540, 'DrillHereDrillNow': 2541, 'Droneshttp://.co': 2542, 'DrugPoicOganizations': 2543, 'Dsmsal': 2544, 'Dsmssal': 2545, 'Dubest': 2546, 'DuckithedesertWhy': 2547, 'Dunce-': 2548, 'Durin': 2549, 'DwKssick': 2550, 'Dy&Half': 2551, 'Dyo': 2552, 'Dyou': 2553, 'EA': 2554, 'EAS8WVU': 2555, 'EIhIWh': 2556, 'EL': 2557, 'ELECTED': 2558, 'EMzZ': 2559, 'ENDE': 2560, 'ENtlmO0': 2561, 'ERINCITIZENS': 2562, 'ERYTHN': 2563, 'ESCONDEA': 2564, 'ESONDE': 2565, 'ESPO': 2566, 'ESPOA': 2567, 'ESPOS': 2568, 'EXCLUSIE': 2569, 'Eaine': 2570, 'Easer': 2571, 'Easr': 2572, 'East': 2573, 'Easteparty': 2574, 'Easter': 2575, 'EasterEg': 2576, 'Easy': 2577, 'Ecalad': 2578, 'Economis': 2579, 'Ed': 2580, 'Edioral': 2581, 'Editoia': 2582, 'Edtorial': 2583, 'Een': 2584, 'Eerparty': 2585, 'Eff': 2586, 'Eg': 2587, 'Egypt': 2588, 'EgyptsAti': 2589, 'Eic': 2590, 'Elctons': 2591, 'Elecion2012': 2592, 'Elecions!#GOP': 2593, 'Electin': 2594, 'Election': 2595, 'Electns-': 2596, 'Electon': 2597, 'Eleio': 2598, 'Emergeny': 2599, 'Eminer': 2600, 'EndMMJ': 2601, 'Endoses': 2602, 'Eploited': 2603, 'EriHoler': 2604, 'Ermey': 2605, 'Estad': 2606, 'Ev': 2607, 'Ever': 2608, 'Everoehatin': 2609, 'Everyhing': 2610, 'Eveything': 2611, 'Evr': 2612, 'Evrythig': 2613, 'Ewelmarsoberethe': 2614, 'Examier': 2615, 'Examine-': 2616, 'Examnerditrial': 2617, 'Example': 2618, 'Exced': 2619, 'Exceed': 2620, 'Exmnerht:/t.co': 2621, 'ExposeFially': 2622, 'Exposig': 2623, 'Exsinthe': 2624, 'Extends': 2625, 'Extrmination': 2626, 'FAR': 2627, 'FARIS': 2628, 'FAT': 2629, 'FATSsortgyour': 2630, 'FB': 2631, 'FEE': 2632, 'FFX': 2633, 'FL': 2634, 'FLen': 2635, 'FNALY': 2636, 'FNews': 2637, 'FOR': 2638, 'FOTHEOLO': 2639, 'FRCAROLINE': 2640, 'FUCK': 2641, 'Faasy': 2642, 'Facebook': 2643, 'Faceok': 2644, 'FaeElectionYear': 2645, 'Fai': 2646, 'Fail': 2647, 'FastAndFriu': 2648, 'Fd': 2649, 'Fe': 2650, 'Fed': 2651, 'Federa': 2652, 'Fi': 2653, 'Fied': 2654, 'Finsh': 2655, 'Firdu': 2656, 'Fl': 2657, 'FlipFlo': 2658, 'Fll': 2659, 'Follows': 2660, 'Foo': 2661, 'ForAmeria': 2662, 'ForRepublicn': 2663, 'Forbes': 2664, 'Forte': 2665, 'Forums': 2666, 'FoxNews': 2667, 'Fr': 2668, 'FreMedcal': 2669, 'Frebama': 2670, 'Frendl': 2671, 'Friendly': 2672, 'Frightene': 2673, 'Frm': 2674, 'Frohe': 2675, 'Front': 2676, 'Frs': 2677, 'FrstAmndmet': 2678, 'Frt': 2679, 'Fruhig': 2680, 'Fruhling': 2681, 'FtCecke--': 2682, 'Ftanrus': 2683, 'Ftue': 2684, 'FuckGF': 2685, 'FuckGFW#VPN': 2686, 'Fuding': 2687, 'Fuel': 2688, 'Fuk': 2689, 'Fure': 2690, 'Future': 2691, 'Fx': 2692, 'G': 2693, 'G56RDK': 2694, 'G68JEkz': 2695, 'GEsfandii': 2696, 'GF': 2697, 'GH5maQk': 2698, 'GINSIDE': 2699, 'GN': 2700, 'GOP#M': 2701, 'GOPBudgt': 2702, 'GOPbuget': 2703, 'GOPbutay': 2704, 'GOPs': 2705, 'GOin': 2706, 'GOpwar': 2707, 'GTmquf': 2708, 'GZDMIGVy': 2709, 'GaLabK': 2710, 'Gage': 2711, 'Gagm': 2712, 'Gagme': 2713, 'Game': 2714, 'Gay': 2715, 'GbJw': 2716, 'Ge': 2717, 'Geatphoo': 2718, 'Gedr': 2719, 'Geen': 2720, 'Geeratio': 2721, 'Gerge': 2722, 'Ges': 2723, 'Gettg': 2724, 'Gge': 2725, 'Ghandi': 2726, 'Gingrich': 2727, 'Giving': 2728, 'GivingHim': 2729, 'Givingm': 2730, 'Gn': 2731, 'Gnerl': 2732, 'Go#Gp2012': 2733, 'Goas&g': 2734, 'GodfaherPoitics': 2735, 'Goernrsellin': 2736, 'GofClub': 2737, 'Golf': 2738, 'Goo': 2739, 'Good': 2740, 'Google': 2741, 'GrEmd': 2742, 'Gramar': 2743, 'Grand': 2744, 'Grea': 2745, 'Grenenergy': 2746, 'Grh': 2747, 'GrimacesAsOama': 2748, 'Gt': 2749, 'H.': 2750, 'HAAR': 2751, 'HARD': 2752, 'HAS': 2753, \"HASN'T\": 2754, 'HBO': 2755, 'HBOdocumentay': 2756, 'HC': 2757, 'HCFRAD': 2758, 'HD': 2759, 'HEIS': 2760, 'HI': 2761, 'HID': 2762, 'HIDE': 2763, 'HIDIG': 2764, 'HIDING': 2765, 'HINT': 2766, 'HOD': 2767, 'HOME': 2768, 'HUG': 2769, 'HVQfUzgr': 2770, 'HYpY': 2771, 'Haad': 2772, 'Haaret': 2773, 'Haltcar': 2774, 'Hama#Homs': 2775, 'Happy': 2776, 'Harr': 2777, 'HarryStyles': 2778, 'Hartz': 2779, 'Harvar': 2780, 'Harvd': 2781, 'Hath': 2782, 'Have': 2783, 'Havome': 2784, 'Havrd': 2785, 'Haz': 2786, 'Hd': 2787, 'HdJiG': 2788, \"He'san\": 2789, \"He'sdestroing\": 2790, 'HeCLERLY': 2791, 'HeJust': 2792, 'Headlinesamagns': 2793, 'Healhcae': 2794, 'Health': 2795, 'Heart': 2796, 'Hegesv': 2797, 'Henandez': 2798, 'Heral': 2799, 'Heres': 2800, 'Het': 2801, 'Hffingtn': 2802, 'HiFoLrty': 2803, 'Hianics': 2804, 'Hidd': 2805, 'HidenPat': 2806, 'High': 2807, 'Hil': 2808, 'Hilary': 2809, 'Hillys': 2810, 'HimLik': 2811, 'HirigMslimBrotherod': 2812, 'Hiring': 2813, 'Hirn': 2814, 'Hispaic': 2815, 'Hl50AN': 2816, 'Hnderaer': 2817, 'Ho': 2818, 'Holderto': 2819, 'Holdr': 2820, 'Hole': 2821, 'Homewor': 2822, 'Hoode': 2823, 'Hor': 2824, 'HoseEase': 2825, 'Hoseassed': 2826, 'Hot': 2827, 'Hou': 2828, 'House': 2829, 'Houseassd': 2830, 'Housed': 2831, 'Howdo': 2832, 'HrUeO': 2833, 'Hrar': 2834, 'Hrng': 2835, 'Hrry': 2836, 'Hrvar': 2837, 'Hrvard': 2838, 'Hrvardderees': 2839, 'Hry': 2840, 'HsPurple': 2841, 'Huffgto': 2842, 'Huffingn': 2843, 'Hufnnbastingresident': 2844, 'Hus': 2845, 'Hussei': 2846, 'Hvad': 2847, 'Hvrd': 2848, 'Hwlog': 2849, \"I'dprank\": 2850, \"I'drather\": 2851, 'I04os': 2852, 'I2012': 2853, 'I4J3Q5u': 2854, 'IAC': 2855, 'IAMSEXY': 2856, 'IBM': 2857, 'ID': 2858, 'IDI': 2859, 'IE': 2860, 'IETTOMEET': 2861, 'IF': 2862, 'IJOS': 2863, 'IK': 2864, 'IMPONT': 2865, 'IN': 2866, 'INLL-': 2867, 'INTERNSHIP': 2868, 'IORTNTMSM': 2869, 'ISTRYI2': 2870, 'IT': 2871, 'IZRe2': 2872, 'Ia': 2873, 'IamDonCheadle': 2874, 'Ianwl': 2875, 'Iaologizeoust': 2876, 'Idependent': 2877, 'Idl': 2878, 'Idonted': 2879, 'Iet': 2880, 'IfJeferso': 2881, 'IfOba': 2882, 'IfObaawere': 2883, 'IfObama': 2884, 'Ifbama': 2885, 'Ifehada': 2886, 'Ifucking': 2887, 'Igatiu': 2888, 'Igatius': 2889, 'Ignatiu': 2890, 'Ignatus': 2891, 'Ignius:\"US': 2892, 'Igntiu:\"U.S.': 2893, 'Igntius': 2894, 'Igrat?http://t.o': 2895, 'Igree': 2896, 'Iguess': 2897, 'Iherd': 2898, 'Ijeen': 2899, 'Ijst': 2900, 'Ijus': 2901, 'Ilik': 2902, 'Illnos': 2903, 'Illuma': 2904, 'Ime': 2905, 'Imirants': 2906, 'Impct': 2907, 'Impossible!R': 2908, \"In'teven\": 2909, 'In200': 2910, 'Indeendet': 2911, 'Inhstee': 2912, 'Injuries': 2913, 'Inluence': 2914, 'Ino': 2915, 'Inourview': 2916, 'Insults': 2917, 'Inte': 2918, 'Inteadof': 2919, 'Interesin': 2920, 'Intestin.#GOP': 2921, 'Intius': 2922, 'Intres': 2923, 'Intrest': 2924, 'Ipacton': 2925, 'Ipeachment': 2926, 'Iprois': 2927, 'Iralshod': 2928, 'Iranianivlian': 2929, 'Irel': 2930, 'Irnianciilan': 2931, 'Ironyis': 2932, 'IsBarac': 2933, 'IsDespot': 2934, 'IsLiThe': 2935, 'IsObama': 2936, \"IsObama'Dangeousy\": 2937, 'Isael': 2938, 'Issue': 2939, 'Issues': 2940, 'Iteestingtk': 2941, 'Ithin': 2942, 'Ithkwe': 2943, 'Its': 2944, 'Itsgreat.bam': 2945, 'Itsreding': 2946, 'Itthinkh': 2947, 'Itwold': 2948, 'Iw37fy': 2949, 'IwG56RD': 2950, 'Iwill': 2951, 'Iwonr': 2952, 'J': 2953, 'JFK': 2954, 'JHJgb': 2955, 'JOB': 2956, 'JOBS': 2957, 'JOBS#Actit': 2958, 'JOBSAc': 2959, 'JOBSAct': 2960, 'JOEARIO': 2961, 'JOS': 2962, 'JU!OAMA': 2963, 'JUST': 2964, 'JUTICE': 2965, 'Ja': 2966, 'Jam': 2967, 'Jcon': 2968, 'Jdge': 2969, 'JdrQZJ': 2970, 'Jeas': 2971, 'Jee': 2972, 'JefersonObaa': 2973, 'JennyErikson': 2974, 'Jerse': 2975, 'Jerusalemshoul': 2976, 'Jery': 2977, 'Jesh': 2978, 'Jesus': 2979, 'Jesusa': 2980, 'Jo': 2981, 'Joe': 2982, 'JoeSixpackSas': 2983, 'Joing': 2984, 'Jos': 2985, 'Jssyi': 2986, 'Jumpstart': 2987, 'Jusin': 2988, 'JustAnotherMo': 2989, 'Justa': 2990, 'Justice': 2991, 'Jut': 2992, 'Jw': 2993, 'K8RpkI': 2994, 'K9dn9q': 2995, 'K?hhhco': 2996, 'KCA': 2997, 'KCAs': 2998, 'KIM': 2999, 'KNOW': 3000, 'KNOWS': 3001, 'KNOWSITNOme': 3002, 'KNWIT(Coer': 3003, 'KNWObama': 3004, 'KOCKYUOT': 3005, 'KOhhh': 3006, 'Kagan': 3007, 'Kal': 3008, 'Kansas': 3009, 'Kappa': 3010, 'Katie': 3011, 'Katna': 3012, 'KatrinaNaton': 3013, 'Kch': 3014, 'Kd': 3015, 'Kene': 3016, 'Kerryepp:#WatsRomeyHiding': 3017, 'KgE3LZ': 3018, 'Khaeican': 3019, 'Khaenei': 3020, 'Khamenei': 3021, 'Khamne': 3022, 'Khamneiback': 3023, 'Khmni': 3024, 'KiKardashianNextByFriend': 3025, 'Kid': 3026, 'Kid\"D': 3027, 'Kid\"Yoe': 3028, 'Kiling': 3029, 'KimKadashiansNexByed': 3030, 'KimKardashaNextoyFrienbama': 3031, 'KimKardashiansexBoyFrien': 3032, 'KimKardashiasNxtByFrin': 3033, 'KimKardsansextoyrend': 3034, 'KimrdashiansNextoyend': 3035, 'Kinda': 3036, 'King': 3037, 'Kiriaku': 3038, 'KkaAhP': 3039, 'KkahPq': 3040, 'Kl': 3041, 'Klling': 3042, 'Km': 3043, 'KmKadashianextoFriend': 3044, 'Kneed': 3045, 'Know': 3046, 'Knox': 3047, 'Koch&Norquist': 3048, 'Kryponite': 3049, 'Kune': 3050, 'KwfGK': 3051, 'L': 3052, 'LATimes': 3053, 'LIAR': 3054, 'LIES': 3055, 'LIKE': 3056, 'LIMAUGH': 3057, 'LK': 3058, 'LL': 3059, 'LMBO': 3060, 'LMF': 3061, 'LMOhtp:/t.co': 3062, 'LO': 3063, 'LOOOOOOOOOOOOOOOOOOOOOL': 3064, 'LOOOOOOOOOOOOOOOOOOOOOOOOOOLhs': 3065, 'LSCUCP4': 3066, 'LUIS!T': 3067, 'La': 3068, 'LaFollte': 3069, 'Ladslide': 3070, 'Lamnt': 3071, 'Landslde': 3072, 'Lard?-': 3073, 'Last': 3074, 'Late': 3075, 'Lawfrom': 3076, 'Laws': 3077, 'Lay': 3078, 'Lbyan': 3079, 'Lda': 3080, 'Leilator': 3081, 'Lek': 3082, 'Ler_OA_N': 3083, 'Let': 3084, 'Lette': 3085, 'LetterClafyng': 3086, 'LhnRUMORS': 3087, 'Li': 3088, 'Libagh': 3089, 'Libaugh': 3090, 'Liberls': 3091, 'Libyanreelshttp://.o': 3092, 'Lidsay': 3093, 'LieOaaPromie.tp://t.co/vdBXgsk': 3094, 'LiedAbou': 3095, 'Lif': 3096, 'Lik': 3097, 'LikThe': 3098, 'Like': 3099, 'LikeObamacae': 3100, 'Likely': 3101, 'Limu': 3102, 'LindsayLoha': 3103, 'LingIn': 3104, 'Lingon': 3105, 'Lins': 3106, 'Lirals': 3107, 'Lit': 3108, 'Liv': 3109, 'Liyanrbels': 3110, 'Lizrd': 3111, 'Lk': 3112, 'Lo': 3113, 'Loan': 3114, 'Loe': 3115, 'Logic': 3116, 'Loha': 3117, 'Lokat': 3118, 'LolI': 3119, 'Looksli': 3120, 'LopiyOC': 3121, 'Loschios': 3122, 'Lot': 3123, 'Louommou': 3124, 'Love': 3125, 'Lt': 3126, 'LuObdM': 3127, 'Luacri': 3128, 'Luchof': 3129, 'Lve': 3130, 'M.': 3131, 'MAN': 3132, 'MARICOPA': 3133, 'MARICP': 3134, 'MCaskil': 3135, 'MF1hyP': 3136, 'MNDKILE': 3137, 'MNT': 3138, 'MNq3PqO': 3139, 'MOen': 3140, 'MOse': 3141, 'MOsen': 3142, 'MSM': 3143, 'MSMpp': 3144, 'MSO': 3145, 'MSTGO': 3146, 'MT': 3147, 'MUCH': 3148, 'MUST': 3149, 'MYPANTS': 3150, 'MaesStatlng': 3151, 'Maher.#WhatsRomnyHidg': 3152, 'MaherI': 3153, 'Mahr': 3154, 'Mai': 3155, 'Making': 3156, 'Manateis': 3157, 'Mari': 3158, 'MarkWarer@SenJimeMint': 3159, 'Maste': 3160, 'Matn': 3161, 'MaverckConsrive': 3162, 'Mcaskil': 3163, 'Mcdads': 3164, 'McdaldswitObma': 3165, 'Mcdaldwith': 3166, 'Mcdlds': 3167, 'Mcdnald': 3168, 'Mcdnalds': 3169, 'Mcdoalds': 3170, 'Mcdoas': 3171, 'Mcdoaswith': 3172, 'Mcdonads': 3173, 'Mcdonal': 3174, 'Mcdonaldswt': 3175, 'Mcdonaldwih': 3176, 'Mcdonaldwit': 3177, 'Mcdonals': 3178, 'Mcdonas': 3179, 'Mcdonds': 3180, 'Mcdonldswth': 3181, 'McdonldwihObama': 3182, 'Mcdonlswi': 3183, 'Mchell': 3184, 'Mchle': 3185, 'Mcldsith': 3186, 'Mconads': 3187, 'Mdiasarh': 3188, 'Mdisn': 3189, 'Mdnalds': 3190, 'Mdoalds': 3191, 'Mdonads': 3192, 'Mdonal': 3193, 'Mdonalds': 3194, 'Mdonaldswit': 3195, 'MedaT@Jos_Paintr': 3196, 'Medi:\"Obama': 3197, 'Medi_aws': 3198, 'MediaMatts': 3199, 'Meeings': 3200, 'Meetig': 3201, 'Megn': 3202, 'Men': 3203, 'Messinto': 3204, 'Metalckt': 3205, 'Metinith': 3206, 'Mhjong': 3207, 'Micelle': 3208, 'Michael': 3209, \"Michelain't\": 3210, 'MicheleOas': 3211, 'MichellObamaco': 3212, 'MichelleObama': 3213, 'MichlOama': 3214, 'Michlle': 3215, 'Middleclass': 3216, 'Miele': 3217, 'Mielle': 3218, 'MihellObama': 3219, 'Mihlle': 3220, 'Mii': 3221, 'MikeAllen': 3222, 'MinaRule': 3223, 'Mingi': 3224, 'Mir': 3225, 'Misqotes': 3226, 'Mistake': 3227, 'MitRome': 3228, 'MittRmey': 3229, 'MittRmny': 3230, 'MittRney': 3231, 'MittRomneyno': 3232, 'Mittneed': 3233, 'MiuoesBbl': 3234, 'Mn': 3235, 'Mnalds': 3236, 'Mnnnn': 3237, 'Mody': 3238, 'Mokngrd': 3239, 'Mom': 3240, 'Monaldwit': 3241, 'Monay': 3242, 'Money': 3243, 'More': 3244, 'Mormonhurch': 3245, 'MovigoIo': 3246, 'Mr_JPattdid': 3247, 'Mre': 3248, 'Mrriage|': 3249, 'Mrti': 3250, 'MslimBrothehood': 3251, 'Mslims': 3252, 'Mssing': 3253, 'Mtt': 3254, 'MttRmney': 3255, 'MttRmny': 3256, 'MuLmPaB2': 3257, 'Muammad': 3258, 'Mui': 3259, 'Musli': 3260, 'MustAnswer': 3261, 'Myfavourie': 3262, 'N.C': 3263, 'NA': 3264, 'NAA': 3265, 'NAAC': 3266, 'NBC': 3267, 'NCAMIO': 3268, 'NCe2nJzX': 3269, 'NDA': 3270, 'NDAA': 3271, 'NEDO': 3272, 'NEECTED': 3273, 'NEEDS': 3274, 'NESOom': 3275, 'NEXMCHELL': 3276, 'NH': 3277, 'NIT': 3278, 'NOBODY': 3279, 'NOLAaint': 3280, 'NOS1d': 3281, 'NOT&gt': 3282, 'NOTFRE': 3283, 'NOTHINGAB': 3284, 'NOWSOPHIA': 3285, 'NR': 3286, 'NU1D2R': 3287, 'NW': 3288, 'Naioal': 3289, 'Naiona': 3290, 'Namu': 3291, 'Naoitan': 3292, 'Napolitao': 3293, 'NapolitaoCaught': 3294, 'NatGas#PikensPlan#NGVshttp:/t.co': 3295, 'Natinalttp://t.cLU7Ky66': 3296, 'NatioaAlzheimers': 3297, 'National': 3298, 'NatonReewOlne': 3299, 'NatonaUnemploynt': 3300, 'Natonal': 3301, 'Naval': 3302, 'NcJH7Jgb': 3303, 'Ncki': 3304, 'Ne': 3305, 'NewSOPA': 3306, 'Newdtailon': 3307, 'News': 3308, 'NewsMax': 3309, 'NewsObama': 3310, 'Ng1MH6': 3311, 'Ngak': 3312, 'Ngkk': 3313, 'Ni': 3314, 'Nicetry': 3315, 'Nicry': 3316, 'Night': 3317, \"Niole'sdrawinof\": 3318, 'NkIYIkj1': 3319, 'Nked': 3320, 'NoBckrom': 3321, 'NoObam': 3322, 'Nobo': 3323, 'Nobody': 3324, 'Noe': 3325, 'Noeles': 3326, 'Nondestood': 3327, 'Noone': 3328, 'Norqst': 3329, 'Norquist': 3330, 'Nothig': 3331, 'Nothng.at': 3332, 'Novbate': 3333, 'Now': 3334, 'Nowait': 3335, 'Nowhats': 3336, 'Nowne': 3337, 'Npolano': 3338, 'Ns': 3339, 'NtWOW': 3340, 'Ntm': 3341, 'Nugget': 3342, 'Nwsuns': 3343, 'Nwt': 3344, 'Nxo': 3345, \"O'mouh\": 3346, 'O.': 3347, 'OAMAYOU': 3348, 'OB': 3349, 'OBAM': 3350, 'OBAMA.MUMYYYYYY': 3351, 'OBAMAESCNDEA': 3352, 'OBMAJUSTIC': 3353, 'OCRA': 3354, 'OGi7SdU': 3355, 'OJ': 3356, 'OK': 3357, 'OKAY': 3358, 'OLITCIANS': 3359, 'OMFG': 3360, 'OMIG': 3361, 'OMNE': 3362, 'ONE': 3363, 'ONpI8jR': 3364, 'OO': 3365, 'OOOOOOOOOOOOOOOOOOOOOOOOOOLTis': 3366, 'OOR': 3367, 'OORAH': 3368, 'OP#TCOT': 3369, 'OPis': 3370, 'ORDIE': 3371, 'ORE': 3372, 'OS': 3373, 'OTTE': 3374, 'OUSE': 3375, 'OVDyu': 3376, 'OVERSOLD': 3377, 'OVR': 3378, 'OW': 3379, 'OWN': 3380, 'OWNRU?Mr': 3381, \"Oa'-\": 3382, 'Oaa212': 3383, 'OaaSharen': 3384, 'OaaSoetoo': 3385, 'Oaacomments': 3386, 'Oaahs': 3387, 'Oaasins': 3388, 'Oalgos': 3389, 'Oam,4': 3390, \"Oama'ass\": 3391, \"Oama'fake\": 3392, 'OamaAdmin': 3393, 'Oamaaboga': 3394, 'Oamaampn': 3395, 'Oamaat': 3396, 'Oamanhrited(f': 3397, 'Oamarees': 3398, 'Oamascing': 3399, 'Oamasettig': 3400, 'Oamasignled': 3401, 'Oamassigning': 3402, 'Oamasthenlyonestndin': 3403, 'Oamatanycae': 3404, 'Oamawilmve': 3405, 'Oams': 3406, 'ObaAnd': 3407, \"Obaa'scollee\": 3408, 'ObaaLONBOARPackge': 3409, 'ObaaPu': 3410, 'Obaaagain': 3411, 'Obaabeieves': 3412, 'Obaacre': 3413, 'Obaaging': 3414, 'Obaahas': 3415, 'Obaahasntmade': 3416, 'Obaai': 3417, 'Obaais': 3418, 'Obaaon': 3419, 'Obaasayd\"I': 3420, 'Obaatakes': 3421, 'Obaetig': 3422, 'Obahos': 3423, 'ObainsJOBS': 3424, 'Obam!/': 3425, 'Obam#Ronaul': 3426, \"Obam's#collegethess\": 3427, \"Obam'sngoing\": 3428, 'Obam,4': 3429, 'Obama\"e': 3430, \"Obama'sSigning\": 3431, \"Obama'satementonladygolfrs\": 3432, \"Obama'sclleg\": 3433, \"Obama'scrapy\": 3434, \"Obama'siging\": 3435, \"Obama'soders\": 3436, \"Obama'sonfience\": 3437, \"Obama'sudet\": 3438, 'Obama.#ress44#tco': 3439, 'Obama2012': 3440, 'Obama202': 3441, 'Obama@esho': 3442, 'ObamaAdmistrtion': 3443, 'ObamaBeen': 3444, 'ObamaCampaig': 3445, 'ObamaCmaign': 3446, 'ObamaCmpaignHstng': 3447, 'ObamaHAS': 3448, 'ObamaM': 3449, 'ObamaPin': 3450, 'ObamaRespet': 3451, 'ObamaSigns': 3452, 'ObamaWansOur': 3453, 'ObamaWh': 3454, 'Obamaa': 3455, 'ObamaanBill': 3456, 'Obamaat': 3457, 'Obamacar': 3458, 'Obamacare': 3459, 'ObamadnoPrry': 3460, 'Obamaext': 3461, 'Obamafo': 3462, 'Obamafor': 3463, 'Obamain': 3464, 'Obamanderstands': 3465, 'Obamanew': 3466, 'Obamaostssceig': 3467, 'Obamaresed': 3468, 'Obamasa': 3469, 'Obamasay': 3470, 'Obamasays': 3471, 'Obamasaysthe': 3472, 'Obamasilleal': 3473, 'Obamaswore': 3474, 'Obamatart': 3475, 'Obamatht': 3476, 'Obamaua': 3477, 'Obamawaso': 3478, 'Obamawil': 3479, 'Obamceatd': 3480, 'Obamfor': 3481, 'Obamhtp:/t.c/8IhorwzV': 3482, 'Obamnvitedte': 3483, 'Obamsignaled': 3484, 'Obamwerewhi': 3485, 'Obasgnaled': 3486, 'Obasys': 3487, 'Obatels': 3488, 'Obey': 3489, \"Obma'sGlobalist\": 3490, 'Obma012': 3491, 'Obma201': 3492, 'ObmaAdinitation': 3493, 'ObmaCampa': 3494, 'ObmaCampainAnd': 3495, 'Obmadministrtio': 3496, 'Obmaiste': 3497, 'Obmas': 3498, 'Obmasigns': 3499, 'Obmgretsa': 3500, 'Obmhs': 3501, 'Obmis': 3502, 'Obmisverialy': 3503, 'Och': 3504, 'Oe': 3505, 'OfJBS': 3506, 'Ofcilly': 3507, 'Ogaizer': 3508, 'Ohcol': 3509, 'Ohhcoo': 3510, 'Ohhcool': 3511, 'Ohhel': 3512, 'Ohhhco': 3513, 'Ohhhcoo': 3514, 'Ohhhol': 3515, 'Ohhol': 3516, 'Ohnw': 3517, 'Oil': 3518, 'OilFrom': 3519, 'Oldarty': 3520, 'Olin': 3521, \"Oma'ssinss\": 3522, 'OmaMisqutes': 3523, 'Omafa': 3524, 'OnTheMilCass': 3525, 'OneDitionoke': 3526, 'OnlinGamrshttp//.co': 3527, 'Oopsthat': 3528, 'Op': 3529, 'Operaton': 3530, 'Oppsite': 3531, 'Oprahht://tco': 3532, 'Or': 3533, 'OrMb': 3534, 'Oranizatonal': 3535, 'Ordained': 3536, 'Orgaiztional': 3537, 'Orin': 3538, 'Os': 3539, 'Osama': 3540, 'Osawaomi': 3541, 'Osawatomiepeeh': 3542, 'Ot': 3543, 'Oter': 3544, 'Othr': 3545, 'Othrwise': 3546, 'Ou': 3547, 'Our4thEtate': 3548, 'Ous': 3549, 'Ov6I5CoS': 3550, 'Over': 3551, 'Owai': 3552, 'Owait': 3553, 'Own': 3554, 'P.': 3555, 'P.hi': 3556, 'P2': 3557, 'P2#TopPro#TPat': 3558, 'P27CTj': 3559, 'PA': 3560, 'PFmWQs': 3561, 'PIIES': 3562, 'POSITVE': 3563, 'POTU': 3564, 'POTUS': 3565, 'PO_Hisslf@barackbama': 3566, 'PREIENT': 3567, 'PRESDNIAL': 3568, 'PROD': 3569, 'PRODCTION': 3570, 'PTU': 3571, 'PUTTHAT': 3572, 'PUZRq7HU': 3573, 'Pakista': 3574, 'Pakistawit': 3575, 'Pakstan': 3576, 'Pamentso': 3577, 'Panthes': 3578, 'ParObaa': 3579, 'Pariots': 3580, 'Part': 3581, 'Passoer': 3582, 'Passor': 3583, 'Patiot': 3584, 'Paymet': 3585, 'Pdast': 3586, 'Peceof': 3587, 'PeeSchifObama': 3588, 'Peiden': 3589, 'PeidenObama': 3590, 'Peidet': 3591, 'Peidnt': 3592, 'Pelosi': 3593, 'Pennis': 3594, 'Pennslania': 3595, 'Per': 3596, 'Pesbma': 3597, 'Pesdent': 3598, 'Pesiden': 3599, 'Pesidet': 3600, 'Pesie': 3601, 'Phot': 3602, 'PicDv': 3603, 'Pictuesf': 3604, 'Pictures': 3605, 'Piece': 3606, 'Pient': 3607, 'Pipine': 3608, 'Piss': 3609, 'Piturs': 3610, 'Piven': 3611, 'Pkistan': 3612, 'Plan': 3613, 'PlaseShareurlatstudate': 3614, 'Podcast': 3615, 'Pogand': 3616, 'Poi': 3617, 'Politcs': 3618, 'PolitiFact': 3619, 'Politic': 3620, 'Politics': 3621, 'PoliyGropsUnit': 3622, 'Poll': 3623, 'Pop': 3624, 'Portugees': 3625, 'Pos': 3626, 'Post': 3627, 'Power': 3628, 'Powrine': 3629, 'Pr': 3630, 'Prayr': 3631, 'Prbalyhe': 3632, 'Prde01': 3633, 'Predaor': 3634, 'Predent': 3635, 'Preetation': 3636, 'Preidents': 3637, 'PreidnObaa': 3638, 'Preient': 3639, 'Presbama': 3640, 'Presd': 3641, 'Presden': 3642, 'Presdenial': 3643, 'Presdent': 3644, 'Presdentofthe': 3645, 'Presdet': 3646, 'PresdntObama': 3647, 'Preset': 3648, 'Presid': 3649, 'PresideOm*Lidsay': 3650, 'PresidentOama': 3651, 'PresidentObama': 3652, 'PresidentObamata': 3653, 'Presidet': 3654, 'Presidn': 3655, 'Press': 3656, 'Prety': 3657, 'Prez': 3658, 'Price': 3659, 'Pride2012': 3660, 'Prident': 3661, 'Proc': 3662, 'Proesor': 3663, 'Progressive': 3664, 'Project': 3665, 'Proposal': 3666, 'Prosectr': 3667, 'Prosecutr': 3668, 'Prosuto': 3669, 'Protc': 3670, 'PrsObamhold': 3671, 'Prsient': 3672, 'Prty': 3673, 'Pry': 3674, 'Ps': 3675, 'Psden': 3676, 'Psi': 3677, 'Psidet': 3678, 'Pst': 3679, 'Ptrio': 3680, 'Pu': 3681, 'Publishes': 3682, 'Pudg': 3683, 'Putin': 3684, 'Puts': 3685, 'Pvich': 3686, 'Pwers': 3687, 'QDR': 3688, 'QDV1qQKn': 3689, 'QJOvLj#liertai': 3690, 'QUIE': 3691, 'Qa': 3692, 'Qaedavia': 3693, 'Qe': 3694, 'Qn': 3695, 'Quee?\"': 3696, 'Queen?\"': 3697, 'Queen?.Britishkid:\"Do': 3698, 'Queen?.Brtish': 3699, 'Quen?\"': 3700, 'QuestiongOama': 3701, 'Quran': 3702, 'R.': 3703, 'R@JoeSipackSays': 3704, 'R@MooseOson': 3705, 'R@MusicandFaith': 3706, 'R@Tacm22': 3707, 'R@Talmater': 3708, 'R@alkmate': 3709, 'R@basbalrank': 3710, 'R@hgrlphras': 3711, 'R@na_rvrascot': 3712, 'R@ohgilphrase': 3713, 'R@ohgilpras': 3714, 'RACIST': 3715, 'RACT': 3716, 'RAFT': 3717, 'RAUD': 3718, 'RAliskyDefeaer': 3719, 'REA': 3720, 'REAL': 3721, 'REL': 3722, 'REuKvbgg': 3723, 'RIGH': 3724, 'RL': 3725, 'RLLt2': 3726, 'RMOR': 3727, 'RMRS': 3728, 'ROCK': 3729, 'ROMN': 3730, 'RQQpJd': 3731, 'RS': 3732, 'RT@0ryuge': 3733, 'RT@17bbomb': 3734, 'RT@1DctsOMG': 3735, 'RT@CBrielle5': 3736, 'RT@DrewMTi': 3737, 'RT@GottaLaf': 3738, 'RT@GranholmTWR': 3739, 'RT@HufPostP': 3740, 'RT@JnnForcs': 3741, 'RT@Mikeotito15Alrigh': 3742, 'RT@NatWW': 3743, 'RT@Orweoce': 3744, 'RT@POissel': 3745, 'RT@RANC24': 3746, 'RT@RbertoMnzana': 3747, 'RT@TPO_Hissl': 3748, 'RT@Talkmster': 3749, 'RT@Tlkaster': 3750, 'RT@WhatThFFcts': 3751, 'RT@a_sptc': 3752, 'RT@ann1061': 3753, 'RT@blakehounshel': 3754, 'RT@blakhounshell': 3755, 'RT@canabistmesDru': 3756, 'RT@dgeReport': 3757, 'RT@eri': 3758, 'RT@esgadnr': 3759, 'RT@eshow': 3760, 'RT@handewschwartz': 3761, 'RT@handreshar': 3762, 'RT@handrewscwartzgnatius': 3763, 'RT@insyDefeater': 3764, 'RT@kesganr': 3765, 'RT@make': 3766, 'RT@markknller': 3767, 'RT@markknllr': 3768, 'RT@marknllr': 3769, 'RT@marnole': 3770, 'RT@ogirlphras': 3771, 'RT@ogirlphrase': 3772, 'RT@ohgirlphrase': 3773, 'RT@ohgrlphrse': 3774, 'RT@raing': 3775, 'RT@sugarscae': 3776, 'RT@thikprores': 3777, 'RT@wtesn': 3778, 'RTCatoIntitute': 3779, 'RTGEsfandia:\"bama': 3780, 'RTLarFlM': 3781, 'RTThidRailerbama': 3782, 'RTfredthmpson': 3783, 'RTganst_obama': 3784, 'RThandrewschwat': 3785, 'RThgilrase': 3786, 'RThmks': 3787, 'RTittUS': 3788, 'RTmarkkoller': 3789, 'RTmrkknole': 3790, 'RTrkkller': 3791, 'RTroessorWhy': 3792, 'RTs': 3793, 'RTsi': 3794, 'RTskeeteronmy': 3795, 'RTtersn': 3796, 'RUE?Mr': 3797, 'RUOR': 3798, 'RUORS': 3799, 'RW': 3800, 'RWN': 3801, 'RWNJecho': 3802, 'Race': 3803, 'RaceTheo': 3804, 'Racismn': 3805, 'Raids': 3806, 'RalNichell': 3807, 'Rashid': 3808, 'Ray': 3809, 'Rdicals': 3810, 'Re': 3811, 'ReElected': 3812, 'Readyto': 3813, 'RealCearPoics': 3814, 'Reark': 3815, 'Redistribtion': 3816, 'Redistribuon': 3817, 'Reease': 3818, 'Reed': 3819, \"Regan'sInital\": 3820, 'Regime': 3821, 'RegulaoryRegim|': 3822, 'Reills': 3823, 'Releae': 3824, 'Releas': 3825, 'RellePiticsideo-': 3826, 'Reorming': 3827, 'Repblican': 3828, 'Replicns': 3829, 'Reportestuck': 3830, 'Repubias': 3831, 'Republcans': 3832, 'Repuican': 3833, 'Res': 3834, 'Respctorthe': 3835, 'Respets': 3836, 'Respetthe': 3837, 'Restribtionht://tco2BCcV': 3838, 'Reuters': 3839, 'Rev': 3840, 'Reveals': 3841, 'Review': 3842, 'Reviw': 3843, 'Revolutin#012-': 3844, 'Reyce': 3845, 'Rezko': 3846, 'Rghties': 3847, 'Rick': 3848, 'Ridicule': 3849, 'Ridin': 3850, 'Righies': 3851, 'Rightes': 3852, 'Rihanna': 3853, 'Rihies': 3854, 'Rihts': 3855, 'Riin': 3856, 'RikSanorum': 3857, 'RisnoObaa': 3858, 'Rit': 3859, 'River_ty:#DuhBien': 3860, 'RlobalGrid': 3861, 'Rme': 3862, 'Rmeyttacked': 3863, 'Rmneynot': 3864, 'Rmneyshould': 3865, 'Rmny': 3866, 'Rnal': 3867, 'Rney': 3868, 'Rney!#oneMtt': 3869, 'Ro': 3870, 'RoheeyDoeIt': 3871, 'Rol': 3872, 'Rom&gt;Obama': 3873, 'Rome': 3874, 'Romeyshould': 3875, 'Romeysould': 3876, 'Romneyb': 3877, 'Romneyby': 3878, 'Romnyataks': 3879, 'Romnys': 3880, 'Ron': 3881, 'RonPaul': 3882, 'Ronad': 3883, 'Ronal': 3884, 'Roneybama': 3885, 'Rony': 3886, 'Room': 3887, 'Row': 3888, 'RpPh3u0V': 3889, 'Rpblican': 3890, 'Rsia': 3891, 'Rspects': 3892, 'Rstit': 3893, 'Runnng': 3894, 'Russi': 3895, 'Russian': 3896, 'Rwhitehouse': 3897, \"Ryan's\": 3898, 'Ryanectea': 3899, 'Ryn': 3900, 'S4HjVS': 3901, 'SA': 3902, 'SAID': 3903, 'SAYS': 3904, 'SCHEMA.IM': 3905, 'SCUM': 3906, 'SEK': 3907, 'SGP': 3908, 'SHERIFF': 3909, 'SHERRIF': 3910, 'SHITREL': 3911, 'SHOW': 3912, 'SHRE': 3913, 'SHRFF': 3914, 'SHRIFF': 3915, 'SMER': 3916, 'SO': 3917, 'SOCK': 3918, 'SOPLIG': 3919, 'SOdesprate': 3920, 'SPSAY': 3921, 'SPn6jMXH': 3922, 'SRF': 3923, 'STEPDOWNOR': 3924, 'STLS': 3925, 'STOP': 3926, 'STOPLYI': 3927, 'STYES': 3928, 'STYLESNE': 3929, 'STYLS': 3930, 'SUER': 3931, 'Saah': 3932, 'SaeheArctifrom': 3933, 'Sain': 3934, 'Saing': 3935, 'Santorum': 3936, 'Sarah': 3937, 'Sarahal': 3938, 'Saria': 3939, 'Sates': 3940, 'Satur': 3941, 'Savd': 3942, 'SayOe': 3943, 'SayOn': 3944, 'Sburbaite': 3945, 'SbwyETTFREH': 3946, 'Schmer': 3947, 'Scndalhtp:/t.co': 3948, 'Scott': 3949, 'Scultz': 3950, 'Searecords': 3951, 'Seat': 3952, 'SecetSeurity': 3953, 'Secreteurity': 3954, 'Secs': 3955, 'Secuity': 3956, 'Security': 3957, 'Sederhttp:/co': 3958, 'Seiga': 3959, 'Sekin': 3960, 'Selma': 3961, 'Senate': 3962, 'Senaterecrds': 3963, 'Send': 3964, 'SendLttr': 3965, 'Sent': 3966, 'Sentercords': 3967, 'Seret': 3968, 'Seriff': 3969, 'Seve': 3970, 'Sey': 3971, 'Sgns': 3972, 'SgtPoite': 3973, 'Sgthe': 3974, 'Sh83Z0F': 3975, 'Sherff': 3976, 'ShetMusic': 3977, 'Ships': 3978, 'Shoced': 3979, 'Shulz': 3980, 'Si': 3981, 'Siftboa': 3982, 'Sign': 3983, 'Signs': 3984, 'Sincair': 3985, 'Since': 3986, 'Single': 3987, 'Sis': 3988, 'Skteboardy': 3989, 'Skw': 3990, 'Sllinsky': 3991, 'Slobbers': 3992, 'Slobbin': 3993, 'Snctoning': 3994, 'SoDoYou': 3995, 'Soalist': 3996, 'Soas': 3997, 'Society': 3998, 'Sod': 3999, 'Sodmy': 4000, 'Sodohave': 4001, 'Soit': 4002, 'Some': 4003, 'Soo': 4004, 'Sory': 4005, 'SotherBaptit': 4006, 'Sotoro': 4007, 'SouthFloidaGyNews.|': 4008, 'Spakin': 4009, 'Spced': 4010, 'Speaking': 4011, 'Speech': 4012, 'Spendingon': 4013, 'Spent': 4014, 'SpieLe': 4015, 'Spoke': 4016, 'Spree': 4017, 'Sprem': 4018, 'Spreme': 4019, 'Sprez': 4020, 'SraCtinues': 4021, 'Srablescam': 4022, 'SriaCntinuesnAnticiationof..http://t.co/DvGb1Z': 4023, 'Srvie': 4024, 'Staesf': 4025, 'Standr': 4026, 'Startu': 4027, 'Stas': 4028, 'Stat': 4029, 'Steet': 4030, 'Steroids\".#Economis101': 4031, 'StevJbs': 4032, 'Stike': 4033, 'Still': 4034, 'Str': 4035, 'Straahan': 4036, 'Strkng': 4037, 'Stronglttert': 4038, 'Strts': 4039, 'Stt': 4040, 'Sttes': 4041, 'Stts': 4042, 'Sty': 4043, 'Styles': 4044, 'Suan': 4045, 'Sume': 4046, 'Supem': 4047, 'Suply': 4048, 'Supme': 4049, 'Suppots': 4050, 'Suppy': 4051, 'Supree': 4052, 'SupremeCourt': 4053, 'SupremeCurt': 4054, 'Suprm': 4055, 'SuprmCourt': 4056, 'Sureme': 4057, 'Sve': 4058, 'Sxy': 4059, 'Sy': 4060, 'SyiConins': 4061, 'Syls': 4062, 'Syra': 4063, 'Syri': 4064, 'Syria#HamaomsAsad': 4065, 'SyriaCntines': 4066, 'T8zi0i': 4067, 'T@PolitcalGa11': 4068, 'T@TOHisself': 4069, 'T@Talkster': 4070, 'T@brianwierem': 4071, 'T@debv19': 4072, 'T@hgilphrae': 4073, 'T@markkoller': 4074, 'T@tsoopProd': 4075, 'T@txsza': 4076, 'T@wcpersn': 4077, 'TCO': 4078, 'TCOT': 4079, 'TCT': 4080, 'TE': 4081, 'TEIR': 4082, 'TEON': 4083, 'TFU': 4084, 'TH': 4085, 'THA': 4086, 'THATETYSANTORUENDORSE': 4087, 'THEART': 4088, 'THINKI': 4089, 'THINKSHE': 4090, 'THR': 4091, 'THUG': 4092, 'THer': 4093, 'TIN2BLLY': 4094, 'TItsLopzProd': 4095, 'TOVIEW': 4096, 'TPP': 4097, 'TPie': 4098, 'TPrty': 4099, 'TRASON': 4100, 'TREASN': 4101, 'TREASON': 4102, 'TROOPS': 4103, 'TRUS': 4104, 'TRvie': 4105, 'TUG': 4106, 'TUS': 4107, 'TUSIS': 4108, 'TUSThe': 4109, 'TUqvEAp': 4110, 'TV': 4111, 'TWEETED': 4112, 'TYL': 4113, 'TYLES': 4114, 'Tabl': 4115, 'Take': 4116, 'Taking': 4117, 'Takingabout': 4118, 'Taks': 4119, 'Tals': 4120, 'Tanner': 4121, 'Taonstit': 4122, 'Target': 4123, 'Taugh': 4124, 'TaughtObamahttp://.c': 4125, 'TaxTme': 4126, 'Taxpermneymker': 4127, 'Tayvo': 4128, 'Tcot': 4129, 'TeTlibanwins': 4130, 'Tea': 4131, 'TeaParty#tc': 4132, 'Tekker': 4133, 'Tell': 4134, 'Telle': 4135, 'TemFolwBack': 4136, 'Tending': 4137, 'Teory': 4138, 'Teparty': 4139, 'Terrist': 4140, 'Tet': 4141, 'Texas': 4142, \"ThHil'Bo\": 4143, 'ThO': 4144, 'ThTavisSmileyShow': 4145, 'Tha': 4146, 'Thak': 4147, 'Thank': 4148, 'Thanks': 4149, 'ThatCourts': 4150, 'Thatshat': 4151, 'Thax': 4152, \"The'r\": 4153, 'TheRiht': 4154, 'TheUnitd': 4155, 'TheWeekly': 4156, 'Theactual': 4157, 'Then': 4158, 'Theydo': 4159, 'Thi': 4160, 'Thignd': 4161, 'Thing': 4162, 'Think': 4163, 'Thinkthe#GOP': 4164, 'Thinth': 4165, 'Thng': 4166, 'Thon': 4167, 'Thperson': 4168, 'Ths': 4169, 'Thspic': 4170, \"Tht'sgreat\": 4171, 'ThtMihle': 4172, 'Thu': 4173, 'Thug': 4174, 'Thusday': 4175, 'Ti': 4176, 'Tics': 4177, 'Tierney': 4178, 'Tiger': 4179, 'Tim': 4180, 'Tink': 4181, 'Tis': 4182, 'Titter': 4183, 'TlfMmi0': 4184, 'Tll': 4185, 'Tmorows': 4186, 'Tn': 4187, 'Tnig': 4188, 'ToAORN': 4189, 'ToBulThe': 4190, 'ToCany': 4191, 'ToTheMarijun': 4192, 'Today': 4193, 'Tody': 4194, 'Toight': 4195, 'Tonc': 4196, 'Tonigt': 4197, 'Too': 4198, 'Toorrow': 4199, 'Top': 4200, 'Totaliarianism': 4201, 'Tp': 4202, 'TracNaton': 4203, 'Traditional': 4204, 'Trayvn': 4205, 'Trayvon': 4206, \"Trayvon'sGrave\": 4207, 'Trending': 4208, 'Trending#1': 4209, 'TrndMcCnel': 4210, 'Troo': 4211, 'Trorit': 4212, 'Trrrist': 4213, 'TrvonMrti': 4214, 'Ts': 4215, 'Tueda': 4216, 'Tuesdy': 4217, 'Tug': 4218, 'Tugt': 4219, 'Tw': 4220, 'Twter': 4221, 'Txes': 4222, 'Tying': 4223, 'U.S': 4224, 'U.S.ficas': 4225, 'U.S.not': 4226, 'U1aLs': 4227, 'U?Oh': 4228, 'UH': 4229, 'UK?Ohhcol': 4230, 'UK?Ohhh': 4231, 'UKOhh': 4232, 'UKOhhhcool': 4233, 'UKhh': 4234, 'ULLERTONAS': 4235, 'ULLIT': 4236, 'UMORS': 4237, 'UOhhcool': 4238, 'UR': 4239, 'URY!OMA': 4240, 'USA': 4241, 'USAhtHoue': 4242, 'USPesident': 4243, 'USPresidetBrack': 4244, 'USWhte': 4245, 'USdont': 4246, 'USld': 4247, 'USwl': 4248, 'USwould': 4249, 'UTS&gt': 4250, 'UejtlmG': 4251, 'UifpoYP': 4252, 'Un': 4253, 'UndaganMhele': 4254, 'Uned': 4255, 'Unee': 4256, 'Uner': 4257, 'Unied': 4258, 'Unin': 4259, 'Unios': 4260, 'Unitd': 4261, 'United': 4262, 'Uniteome': 4263, 'Uniteomen#eshow': 4264, 'Unreal': 4265, 'Unted': 4266, 'UntedStats': 4267, 'Uqaliied': 4268, 'Ur': 4269, 'Ural': 4270, 'Uresolvedhtp': 4271, 'Usig': 4272, 'Uted': 4273, 'Uw7Ky6': 4274, 'V': 4275, 'VA': 4276, 'VDS': 4277, 'VIEN': 4278, 'VKrepq': 4279, 'VOLATIG': 4280, 'VPN': 4281, 'VT': 4282, 'VWI6SY': 4283, 'Va': 4284, 'Van': 4285, 'Ver': 4286, 'VetTePezPresien': 4287, 'VetThePre': 4288, 'VhUDtO': 4289, 'VhURDdOhtp:/t.co': 4290, 'VhURDtdO': 4291, 'VhURDtdhttp://t.co': 4292, 'Vido': 4293, 'Vioene': 4294, 'Violence': 4295, 'Violnc': 4296, 'Vione': 4297, 'Vision': 4298, 'Vnised': 4299, 'Voene': 4300, 'Volee': 4301, 'Volencei': 4302, 'Volne': 4303, 'Vors': 4304, 'Vts': 4305, 'Vtting': 4306, 'Vulcan': 4307, 'W)KAPUT': 4308, 'W..htp://t.co/2y8Sct': 4309, 'WA': 4310, 'WAI': 4311, 'WANTS': 4312, 'WASHINTN': 4313, 'WASINGTON': 4314, 'WAT': 4315, 'WDZRj': 4316, 'WGCLObama': 4317, 'WH': 4318, 'WHAS': 4319, 'WHAT': 4320, 'WHEELS': 4321, 'WHFal': 4322, 'WHITEHOUSE': 4323, 'WHartesAND': 4324, 'WIFE': 4325, 'WIHA': 4326, 'WITTER': 4327, 'WM': 4328, 'WO': 4329, 'WOMN': 4330, 'WONDERING': 4331, 'WORLD': 4332, 'WOW': 4333, 'WWna': 4334, 'Wah': 4335, 'WaingtonPotreportn': 4336, 'Walt': 4337, 'Walter': 4338, 'Want': 4339, 'WaomeyHing': 4340, 'WarOJobs': 4341, 'WarOJos': 4342, 'WarOnWon': 4343, 'Warin': 4344, 'Warnng': 4345, 'Warns': 4346, 'Warreuffett': 4347, 'Was': 4348, 'WasRomneHidig': 4349, 'WasRoneyiding-': 4350, 'Washign': 4351, 'Washigt': 4352, 'Washington': 4353, 'WasingtonPst': 4354, 'WatAm': 4355, 'WatRmneyHiding': 4356, 'WatRomneyHiding': 4357, 'WatcliveeidentObma': 4358, 'Watersthat': 4359, 'Wath': 4360, 'Wats': 4361, 'WatsRmneyHidig': 4362, 'WatsRomneHiding': 4363, 'WatsRomneyHiding': 4364, 'WatsRomneyHidingBlueprino': 4365, 'WatsmneyHding': 4366, 'Watsomneidn': 4367, \"We'l\": 4368, 'Weak': 4369, 'Weath': 4370, 'Wedo': 4371, 'Wel': 4372, 'Welth': 4373, 'Weneed': 4374, 'West&gtot': 4375, 'Westen': 4376, 'Wf': 4377, 'WhaOmaHiig': 4378, 'WhaRmeyHiding': 4379, 'WhaRomeyiding': 4380, 'WhaRomneHdng': 4381, 'WhaTheFat': 4382, 'Whago': 4383, 'WhaomneHidig': 4384, 'WhasRmeHiding': 4385, 'WhasRmneyHid': 4386, 'WhasRomnHng': 4387, 'WhasRomneyHidingi': 4388, 'WhasRomneyHidng': 4389, 'WhasRomyHiin': 4390, 'WhasRoneyHiding': 4391, 'WhasomneyHiding': 4392, 'WhasomneyHiin': 4393, 'WhatRmneHding': 4394, 'WhatRomnHidngback': 4395, 'WhatRomneding': 4396, 'WhatRomneyHidihe': 4397, 'WhatRomneyHiig': 4398, 'WhatRomnyHidg': 4399, 'WhatRomnyHing': 4400, 'WhatRoneyHidng': 4401, 'WhateFFact': 4402, 'WhatneyHiding': 4403, 'WhatomnHin': 4404, 'WhatomneyHdig': 4405, 'WhatoneyHiding': 4406, 'WhatsBaackHiding': 4407, 'WhatsObmaHding': 4408, 'WhatsRmnHidig': 4409, 'WhatsRmnHiding': 4410, 'WhatsRmneHin': 4411, 'WhatsRmneyHdin': 4412, 'WhatsRmneyHidng': 4413, 'WhatsRmneyHiig': 4414, 'WhatsRmneyHiin': 4415, 'WhatsRmneyHiing': 4416, 'WhatsRneyHding': 4417, 'WhatsRomeyHidn': 4418, 'WhatsRomneHidngThe': 4419, 'WhatsRomneyHdng': 4420, 'WhatsRomneyHidg': 4421, 'WhatsRomneyHidig': 4422, 'WhatsRomneyHiig': 4423, 'WhatsRomneyidi': 4424, 'WhatsRomnyHiding': 4425, 'WhatsRomnyHiing': 4426, 'WhatsRomyHiding': 4427, 'WhatsRonHigHow': 4428, 'WhatsRoneyHidng': 4429, 'WhatsRoneyidinghashags': 4430, 'WhatsRoyHiing#OWait': 4431, 'WhatsmneHii': 4432, 'WhatsmneyHiding': 4433, 'Whatsnidig': 4434, 'WhatsnyHdin': 4435, 'WhatsomneyHiding': 4436, 'WhatsomnyHiingthe': 4437, 'Whatsomnyi': 4438, 'WhatsomyHiding': 4439, 'Whe': 4440, 'White': 4441, 'WhiteHose': 4442, 'WhiteHouse': 4443, 'Whitey': 4444, 'Whn': 4445, 'WhsRomneding': 4446, 'WhsRomnyHdng': 4447, \"Wht'wo\": 4448, 'WhtObmaHding': 4449, 'WhtRomnyHidig': 4450, 'WhtRoneyHin': 4451, 'WhtomnyHid': 4452, 'WhtsRmneyHiding': 4453, 'WhtsRneyHing': 4454, 'WhtsRneyiding': 4455, 'WhtsRomeyding': 4456, 'WhtsRomneyHidig': 4457, 'WhtsRomneyHidin': 4458, 'WhtsRomneyidin': 4459, 'WhtsRomnyin': 4460, 'WhtsRomyHidng': 4461, 'Whydo': 4462, 'Wih': 4463, 'Will': 4464, 'Winn': 4465, 'Wins': 4466, 'WiteHose': 4467, 'WithOnline': 4468, 'Withis': 4469, 'Wl': 4470, 'WllExceed': 4471, 'Wlth': 4472, 'Wmen': 4473, 'Wngt': 4474, 'Wo25': 4475, 'WodWarior': 4476, 'Wodr': 4477, 'Wome': 4478, 'Womenat': 4479, 'Word': 4480, 'Words': 4481, 'Workn': 4482, 'WorlWar': 4483, 'WoundeWarrio': 4484, 'WoundedWarrir': 4485, 'WrOnThePoor': 4486, 'WrTeor#arOnTheMiddlClas': 4487, 'Writes': 4488, 'Wrs': 4489, 'WsRmHiding': 4490, 'Wserman': 4491, 'Wshington': 4492, 'Wth': 4493, 'WthObma': 4494, 'Wtr': 4495, 'WtsmneHiing': 4496, 'Ww': 4497, 'Wy': 4498, 'X8kVeu': 4499, 'XK': 4500, 'XliEIx': 4501, 'XwY62sp': 4502, \"Y'r\": 4503, \"Y'refrom\": 4504, 'YA': 4505, 'YFqPKT': 4506, 'YOUR': 4507, 'YOURWIFE': 4508, 'YShHrj': 4509, 'YSpie': 4510, 'Ya': 4511, 'Yaah': 4512, 'Yh': 4513, 'Yiq4KT': 4514, 'Yo': 4515, \"Yo'r\": 4516, \"Yo'rfom\": 4517, 'Yoefrom': 4518, 'Yorfom': 4519, \"You'refrom\": 4520, \"You'rfrm\": 4521, \"You'rromt\": 4522, 'YouLke': 4523, 'Your': 4524, 'Yourefm': 4525, 'Yourefrom': 4526, \"Yu'frohe\": 4527, \"Yu'refom\": 4528, \"Yu'refrom\": 4529, \"Yu'rfrom\": 4530, 'Yue': 4531, 'Yure': 4532, 'Yurefrom': 4533, 'Z55mkRl': 4534, 'Zaqvz3C': 4535, 'Zgh2zia': 4536, 'Zimmerm': 4537, 'Zu_xo': 4538, '^Lsay': 4539, 'a\"buly': 4540, 'a\"strog': 4541, 'a\"thu': 4542, 'a$': 4543, \"a't\": 4544, 'a*ntsan': 4545, 'a.k.a': 4546, 'a@YouTubedeo': 4547, 'a@ssina22': 4548, 'aEi5': 4549, 'aFU': 4550, 'aMice': 4551, 'aMichell': 4552, 'aMockingbird': 4553, 'aNav': 4554, 'aSyria': 4555, 'aTrekkie': 4556, 'aViCL1rV': 4557, 'aaagiousould': 4558, 'aaas': 4559, 'aainst': 4560, 'aakObma': 4561, 'aaneds': 4562, 'aaretz': 4563, 'aarez': 4564, 'ab5Uve': 4565, 'abea': 4566, 'abgNT5': 4567, 'abgNT57#icymi': 4568, 'abidbat': 4569, 'aboga': 4570, 'aboute': 4571, 'abouthObama': 4572, \"aboutmullhthey'llne\": 4573, 'aboutobam': 4574, 'aboutomnmakig': 4575, 'aboutwegive': 4576, 'abt': 4577, 'abu': 4578, 'abuly': 4579, 'acObamSo': 4580, 'acce': 4581, 'accep': 4582, 'accept': 4583, 'accmlishents': 4584, 'accpt': 4585, 'accuses': 4586, 'ace': 4587, 'achane': 4588, 'achieve': 4589, 'acia': 4590, 'aciavellis': 4591, 'ack': 4592, 'acmpaign': 4593, 'acolyes': 4594, 'acontastin': 4595, 'actaed': 4596, 'ad\"bully': 4597, 'adcoine': 4598, 'add': 4599, 'addhi': 4600, 'additio': 4601, 'adds': 4602, 'ade': 4603, 'aden': 4604, 'ader': 4605, 'adhe': 4606, 'adi': 4607, 'adiistraion': 4608, 'adinisratonsma': 4609, 'adm': 4610, 'admin': 4611, 'administra': 4612, 'administrtion': 4613, 'adminitation': 4614, 'adminstra': 4615, 'admit': 4616, 'admnitatnisgoing': 4617, 'advntag': 4618, 'advsor': 4619, 'aeak': 4620, 'aechel': 4621, 'aeiw': 4622, 'aen': 4623, 'aeton': 4624, 'aetz': 4625, 'afer': 4626, 'affa': 4627, 'affairs': 4628, 'affir': 4629, 'afis': 4630, 'afr': 4631, 'after': 4632, 'afundebate': 4633, 'ag': 4634, 'agai': 4635, 'agaidnounced': 4636, 'agaidnunedit': 4637, 'agains': 4638, 'againstOama': 4639, 'againstbamain': 4640, 'agaist': 4641, 'agan': 4642, 'agant': 4643, 'agay': 4644, 'agent=': 4645, 'agi': 4646, 'agin': 4647, 'agme': 4648, 'ago': 4649, 'agreementhatRick': 4650, 'agrement': 4651, 'agrhat': 4652, 'agrl': 4653, 'agusta#golfhttp:/t.co': 4654, 'ah': 4655, 'ah?Lets': 4656, 'ahign': 4657, 'ahoo': 4658, 'aid': 4659, 'aien': 4660, 'aifrom': 4661, 'aijuan': 4662, 'ailut(d': 4663, 'aily': 4664, 'aim': 4665, 'aingObmaadepot': 4666, 'aio': 4667, 'aisNOL': 4668, 'aiter': 4669, 'aithetcal': 4670, 'ajajajaj': 4671, 'ak': 4672, 'akanssoyproblems': 4673, 'akin': 4674, 'aking': 4675, 'alays': 4676, 'aldlder': 4677, 'ales': 4678, 'algaprovee': 4679, 'alien': 4680, 'aliens': 4681, 'alking': 4682, 'alkng': 4683, 'alkrs': 4684, 'all!#ow': 4685, 'allPres': 4686, 'alle': 4687, 'alled': 4688, 'alleged': 4689, 'allegel': 4690, 'allegons': 4691, 'allhtt://t.c': 4692, 'allmaking': 4693, 'allng': 4694, 'allot': 4695, 'allowed': 4696, 'allowwomento': 4697, 'alng': 4698, 'alo': 4699, 'alone': 4700, 'along': 4701, 'already': 4702, 'als': 4703, \"also'Wilar\": 4704, 'alsofaing': 4705, 'alth': 4706, 'aluty': 4707, 'am.now': 4708, \"ama'Organizational\": 4709, 'amaatt': 4710, 'aman': 4711, 'amaoriy': 4712, 'amazin': 4713, 'ame': 4714, 'amer': 4715, 'amin': 4716, 'ammy': 4717, 'amomo': 4718, 'ampaig': 4719, 'ampain': 4720, 'ampgn': 4721, 'amricans': 4722, \"an'telieve\": 4723, 'anLary': 4724, 'anbroke': 4725, 'ancocaine': 4726, 'and#Romeigal': 4727, 'and44': 4728, 'andI': 4729, 'andaundebate': 4730, 'anddn': 4731, 'andfun': 4732, 'andnes': 4733, 'ando': 4734, 'andocaie': 4735, 'andocaine': 4736, 'andotestellngkis': 4737, 'android': 4738, 'andromne': 4739, 'andsaidI': 4740, 'andsay': 4741, 'andshae': 4742, 'andshed': 4743, 'andthen': 4744, 'andwe': 4745, 'andwer': 4746, 'aneeryone': 4747, 'aneffrt': 4748, 'aner': 4749, 'ange': 4750, 'angeros': 4751, 'anhing': 4752, 'anill': 4753, 'anishe': 4754, 'aniulative': 4755, 'ankrupt': 4756, 'anmore': 4757, 'ann106': 4758, 'anne': 4759, 'annit': 4760, 'annot': 4761, 'anocaine': 4762, 'anodern': 4763, 'anone': 4764, 'anothr': 4765, 'anpraisin': 4766, 'ans': 4767, 'answ': 4768, 'answrs': 4769, 'ant': 4770, 'anthing': 4771, \"antithetca't\": 4772, 'antrum': 4773, 'anwer': 4774, 'anyconctsof': 4775, 'anyconflcts': 4776, 'anynecan': 4777, 'anyod': 4778, 'anyon': 4779, 'anyone': 4780, 'anyoneelse': 4781, 'anysteet': 4782, 'anythig': 4783, 'anything': 4784, 'anytin': 4785, 'anyways': 4786, 'ao': 4787, 'aoher': 4788, 'aoidighonest': 4789, 'aool': 4790, 'aormer': 4791, 'aoud': 4792, 'aound': 4793, 'aoutObama': 4794, 'aowling': 4795, 'apaign': 4796, 'apain': 4797, 'apainwnt': 4798, 'apin': 4799, 'apologizeyoumut': 4800, 'appals': 4801, 'appeals': 4802, 'appealscout': 4803, 'appeas': 4804, 'applaud': 4805, 'appreciate': 4806, 'appvd': 4807, 'apresient': 4808, 'ara': 4809, 'arack\"eeProptr': 4810, 'arackObamai': 4811, 'arak': 4812, 'arative': 4813, 'arckOba': 4814, 'arcolaining': 4815, 'areet': 4816, 'aregoingt': 4817, 'arehttp://t.co/VhURtO': 4818, 'aremons.(GIven': 4819, 'aresee': 4820, 'arge': 4821, 'argees': 4822, 'argetedassssnations': 4823, 'arh2009': 4824, 'arhto#Jerusalm': 4825, 'aring': 4826, 'ariot': 4827, 'arkknolle': 4828, 'army': 4829, 'arns': 4830, 'aron': 4831, 'arond': 4832, 'aroud': 4833, 'arrck': 4834, 'arrgat#lazy': 4835, 'arrogantcoeptuos': 4836, 'arry': 4837, 'arry_Syls': 4838, 'arsorigt': 4839, 'arstylesdecred': 4840, 'art': 4841, 'arury': 4842, 'arvrd': 4843, 'ary': 4844, 'as2012': 4845, 'asNes!.tepaty': 4846, 'asRmneHiing': 4847, 'asRmneyHidig': 4848, 'asa': 4849, 'asalkinginsohaad': 4850, 'asb': 4851, 'ase': 4852, 'aseany': 4853, 'aset': 4854, 'ash': 4855, 'asiple': 4856, 'askessofbusiess': 4857, 'asng': 4858, 'asnot': 4859, 'asolutely': 4860, 'asre': 4861, 'asrn': 4862, 'ass': 4863, 'ass\"#WhasRomeyHing': 4864, 'assObamafor': 4865, 'asses.http://t.co/zneCZUo': 4866, 'assess': 4867, 'assin': 4868, 'assinouhj': 4869, 'association': 4870, 'assoveraddress': 4871, 'assre': 4872, 'asssan': 4873, 'assumg': 4874, 'assureIran': 4875, 'astard': 4876, 'astde': 4877, 'aster': 4878, 'astng': 4879, 'asws': 4880, 'at70': 4881, 'atHarvard': 4882, 'atactive': 4883, 'atakusng': 4884, 'atbowling': 4885, 'atch': 4886, 'atcking': 4887, 'ates': 4888, 'atheFFcts': 4889, 'athic': 4890, 'athug': 4891, 'athug#oa202': 4892, 'atiObma': 4893, 'atinal': 4894, 'atio': 4895, 'atns': 4896, 'atny': 4897, 'aton': 4898, 'atorm': 4899, 'atorney': 4900, 'atpoliticllyansnedup': 4901, 'atracti': 4902, 'atromehidin': 4903, 'ats': 4904, 'atsRomeHidng': 4905, 'atsoneyHidin': 4906, 'att://t.o': 4907, 'attac': 4908, 'attacks': 4909, 'attckng': 4910, 'attenion': 4911, 'attepto': 4912, 'atthe': 4913, 'attmpts': 4914, 'attractie': 4915, 'atul': 4916, 'atwittrfight': 4917, 'atwork': 4918, 'atycacead': 4919, 'aunque': 4920, 'ause': 4921, 'auto': 4922, 'av': 4923, 'avard.http//t.coabgNT': 4924, 'avatar?If': 4925, 'avd': 4926, 'aveneverirectl': 4927, 'average': 4928, 'avetewth': 4929, 'avgNT57': 4930, 'avge': 4931, 'avt': 4932, 'awas': 4933, 'awasak': 4934, 'away': 4935, 'awe': 4936, 'awesruck': 4937, 'awinism': 4938, 'axistomie': 4939, 'ayanti': 4940, 'aybe': 4941, 'ayi': 4942, 'aymansml#obama': 4943, 'aymes': 4944, 'aymnts': 4945, 'aymore': 4946, 'aymr': 4947, 'ayood': 4948, 'ays': 4949, 'ays#Obamcar': 4950, 'aysErc': 4951, 'aysPre': 4952, 'ayvMarti': 4953, 'b#oama': 4954, 'b/': 4955, 'b4': 4956, 'b7hy5n1http://t.co2gwBt': 4957, 'b87afx1': 4958, 'bFZPlb': 4959, \"baa'sBlodest\": 4960, 'baa,%a': 4961, 'baacmments|The': 4962, 'baaecession': 4963, 'baalie': 4964, 'baas': 4965, 'baby': 4966, 'bac': 4967, 'backfing': 4968, 'backing': 4969, 'backt': 4970, 'backtage': 4971, 'backto': 4972, 'backtrak': 4973, 'bacstag': 4974, 'bahes': 4975, 'bahh': 4976, 'bahhh': 4977, 'bailuts': 4978, 'bak': 4979, 'baking': 4980, 'bakingoff': 4981, 'bamAdministrain': 4982, \"bama'sBudget\": 4983, \"bama'sPretel\": 4984, \"bama'sold\": 4985, 'bama,4': 4986, 'bama2012': 4987, 'bamaHe': 4988, 'bamabe': 4989, 'bamacampins#WhRmnyHidg': 4990, \"bamadesn't\": 4991, 'bamarealymeanhtp://t.co/ATmWclx': 4992, 'bamasbudg': 4993, 'bamatan': 4994, 'bamatells': 4995, 'bamwere': 4996, 'banyak': 4997, 'barackobma': 4998, 'barrack': 4999, 'base': 5000, 'baseball': 5001, 'basks': 5002, 'bastinPresidebama': 5003, 'basts': 5004, 'batad': 5005, 'bby': 5006, 'bc': 5007, 'bcause': 5008, 'bcgrond': 5009, 'bckfierom': 5010, 'bckoffdumies': 5011, 'bckstage': 5012, 'bcyl': 5013, 'bdhtsfly': 5014, 'bdthey': 5015, 'bea': 5016, 'bean': 5017, 'becam': 5018, 'becaseits': 5019, 'becaue': 5020, 'because': 5021, 'becktis': 5022, 'beclar': 5023, 'becoms': 5024, 'becse': 5025, 'bed': 5026, 'bedesye': 5027, 'beef': 5028, 'beeknownt': 5029, 'beeve': 5030, 'befr': 5031, 'beie': 5032, 'beiee': 5033, 'beig': 5034, 'being': 5035, 'beingsuuremonew': 5036, 'beive': 5037, 'beleveinsocal': 5038, 'beleves': 5039, 'believin': 5040, \"belivI'm\": 5041, 'belive': 5042, 'ben': 5043, 'bench': 5044, 'beng': 5045, 'benkwn': 5046, 'bership': 5047, 'betsyros': 5048, 'better': 5049, 'bettr': 5050, 'betweentheCnituio': 5051, 'beunable': 5052, 'bey': 5053, 'beyond': 5054, 'bfgbBW': 5055, 'bfoe': 5056, 'bfor': 5057, 'bge': 5058, 'bggesbrother': 5059, 'bgining': 5060, 'bginnin': 5061, 'bicleourier^': 5062, 'bidbte': 5063, 'bier': 5064, 'bieves': 5065, 'bigCicomdono$': 5066, 'bigdete': 5067, 'bigere': 5068, 'bigipotat': 5069, 'bil': 5070, 'billto': 5071, 'biner': 5072, 'birh': 5073, 'bitch': 5074, 'bith': 5075, 'bk': 5076, 'black': 5077, 'blacks': 5078, 'blaing': 5079, 'blak': 5080, 'blam': 5081, 'blamin': 5082, 'blasting': 5083, 'blastingPrident': 5084, 'blats': 5085, 'blion': 5086, 'bllshit': 5087, 'blmg': 5088, 'blng': 5089, 'blue': 5090, \"bm'way\": 5091, 'bma2012': 5092, 'bmaCae': 5093, 'bmaWrs': 5094, 'bmaand': 5095, 'bmaastalking': 5096, 'bmay': 5097, 'bmsi': 5098, 'bnkrupt': 5099, 'bo': 5100, 'boed': 5101, 'bohers': 5102, 'boho': 5103, 'bok': 5104, 'boldy': 5105, 'bolutel': 5106, 'bom': 5107, 'bon': 5108, 'bond': 5109, 'bonthsway': 5110, 'boo': 5111, 'boost': 5112, 'borerfo': 5113, 'borntswy': 5114, 'bost': 5115, 'botely': 5116, 'both': 5117, 'bothers': 5118, 'bout95': 5119, 'bracele': 5120, 'brain': 5121, 'bralism': 5122, 'branches': 5123, 'breakfastJss': 5124, 'breks': 5125, 'brer': 5126, 'brigfaud': 5127, 'brillantpeole': 5128, 'bringcan': 5129, 'brn': 5130, 'brnches': 5131, 'broke': 5132, 'broken': 5133, 'broter': 5134, \"brothe'skeepe\": 5135, 'brr': 5136, 'brthr': 5137, 'bsActint': 5138, 'bsand': 5139, 'bsbalcrnk': 5140, 'bsiess': 5141, 'bsiness': 5142, 'bst': 5143, 'bteen': 5144, 'btit': 5145, 'buddiellls': 5146, 'budet': 5147, 'budg': 5148, 'budge': 5149, 'budget.o': 5150, 'budgetin': 5151, 'budgt': 5152, 'budgtsocial': 5153, 'bue': 5154, 'bueCity': 5155, 'bug': 5156, 'buget': 5157, 'buhe': 5158, 'buil': 5159, 'buineslegislati-': 5160, 'bull\"for': 5161, 'bullshit': 5162, 'bully\"frcots': 5163, \"bullywellI'm\": 5164, 'buly': 5165, 'bush': 5166, 'busnesses': 5167, 'busnessstarup': 5168, 'butI': 5169, \"butcan't\": 5170, 'buth': 5171, 'buthybelieen': 5172, 'butthey': 5173, 'butwecanotalow': 5174, 'buybogus': 5175, 'bwling': 5176, 'byfar': 5177, 'bygoing': 5178, 'byname': 5179, 'byourfarite': 5180, 'bys': 5181, 'byso': 5182, 'c*tsd': 5183, 'cND7jK': 5184, 'cNrr3': 5185, 'cace': 5186, 'cad': 5187, 'cadnal3:#eds': 5188, 'cae': 5189, 'caer': 5190, 'caie': 5191, 'caignudaisr': 5192, 'caim': 5193, 'caims#OamaCare': 5194, 'cale': 5195, 'caled': 5196, 'caledthe': 5197, 'calingObamao': 5198, 'calle': 5199, 'calledhe': 5200, 'calling': 5201, 'callres': 5202, 'calre': 5203, 'camagn': 5204, 'camaign': 5205, 'campai': 5206, \"campaign's#WhatsRneHdin\": 5207, 'campaign-': 5208, 'campain': 5209, 'campans': 5210, 'campi': 5211, 'campign': 5212, \"can'aw\": 5213, \"can'tatunti\": 5214, 'canLie': 5215, 'canando': 5216, 'canassess': 5217, 'canassure': 5218, 'cance': 5219, 'cange': 5220, 'canno': 5221, 'cannt': 5222, 'cano': 5223, 'canot': 5224, 'cantwi2vt': 5225, 'capaign': 5226, 'capitlist': 5227, 'cardrfcation': 5228, 'careaw': 5229, 'careet': 5230, 'carig': 5231, 'carof': 5232, 'cartel': 5233, 'cas': 5234, 'caswrfare': 5235, 'cat': 5236, 'cau': 5237, 'caught': 5238, 'caus': 5239, 'cause': 5240, 'cbs': 5241, 'ccept': 5242, 'ccess': 5243, 'ccine': 5244, 'ccs': 5245, 'cculateth': 5246, 'cd': 5247, 'cd?R': 5248, 'cdads': 5249, 'cdalds': 5250, 'cdnads': 5251, 'cdoaldswitOama': 5252, 'cdonaldwitOama': 5253, 'cdons': 5254, 'ceaios': 5255, 'ceated': 5256, 'cein': 5257, 'cel': 5258, 'cele': 5259, 'celebrte': 5260, 'celle': 5261, 'cer': 5262, 'certandetais': 5263, 'certfcat': 5264, 'certficae': 5265, 'certficate': 5266, 'certficatetweets': 5267, 'certficte': 5268, 'certifiate': 5269, 'certificate': 5270, 'certtain': 5271, 'certtin': 5272, 'cetain': 5273, 'cetta': 5274, 'ch': 5275, 'chabei': 5276, 'challnging': 5277, 'chalsfrith': 5278, 'champio': 5279, 'chance': 5280, 'change': 5281, 'changes': 5282, 'changing': 5283, 'characterasasintontime': 5284, 'check': 5285, 'cheezin': 5286, 'chele': 5287, 'chelle': 5288, 'chocolate': 5289, 'choolate': 5290, 'chose': 5291, 'chs': 5292, 'cialit': 5293, 'cicos': 5294, 'ciece': 5295, 'ciizensundetnd': 5296, 'ciizensunitd': 5297, 'cime': 5298, 'cincs': 5299, 'citicl': 5300, 'citizenunited': 5301, 'citzennited': 5302, 'ciy': 5303, 'clai': 5304, 'claimIra': 5305, 'clan': 5306, 'clasiied': 5307, 'class': 5308, 'classified': 5309, 'clb': 5310, 'clea': 5311, 'clean': 5312, 'clear': 5313, 'click': 5314, 'climbing': 5315, 'clintn': 5316, 'clld': 5317, 'clledthe': 5318, 'clleerecords': 5319, 'cllege': 5320, 'clost': 5321, 'cls': 5322, 'clset': 5323, 'clu': 5324, 'club': 5325, 'club-': 5326, 'clubd': 5327, 'cmagn': 5328, 'cmaign': 5329, 'cmbnd': 5330, 'cmi': 5331, 'cmng': 5332, 'cmpag': 5333, 'cmpaign': 5334, 'cmpanies': 5335, 'cmpnie': 5336, \"cn't\": 5337, 'cnflicts': 5338, 'cnit&gt': 5339, 'cnno': 5340, 'cnnt': 5341, 'cnservtves': 5342, 'cnsnc': 5343, 'cnt': 5344, 'co.game': 5345, 'coain': 5346, 'coaindsty': 5347, 'coainusry': 5348, 'coal': 5349, 'coas': 5350, 'cocae': 5351, 'cocai': 5352, 'cocain': 5353, 'cocevednd': 5354, 'cocine': 5355, 'code': 5356, 'coe': 5357, 'coes': 5358, 'coetent': 5359, 'coffee': 5360, 'coicidc': 5361, 'coig': 5362, 'cold': 5363, 'colee': 5364, 'colegereo': 5365, 'colegetranscrpts': 5366, 'colg': 5367, 'collapse': 5368, 'collary': 5369, 'collee': 5370, 'collegetancris': 5371, 'collegetrarpt': 5372, 'com': 5373, 'comb': 5374, 'cometell': 5375, 'comi': 5376, 'commenonhelthcare': 5377, 'comments': 5378, 'commes': 5379, 'commie': 5380, 'commonream': 5381, 'commst': 5382, 'como': 5383, 'comort?)#hhrs': 5384, 'company': 5385, 'concedes': 5386, 'conecr': 5387, 'coneence': 5388, 'conflctsof': 5389, 'conflitof': 5390, 'conflitsof': 5391, 'congratulate': 5392, 'congrssoal': 5393, 'conicted': 5394, 'conitutioal': 5395, 'connco': 5396, 'conncton': 5397, 'connecton': 5398, 'cono': 5399, 'conr': 5400, 'conservatives': 5401, 'consnc': 5402, 'contanly': 5403, 'contempt': 5404, 'controes': 5405, 'cooSo': 5406, 'coolSo': 5407, 'cops': 5408, 'copy': 5409, 'cords': 5410, 'cosehat': 5411, 'cosrvaives': 5412, 'cotro': 5413, 'coud': 5414, 'country': 5415, \"country'sproes\": 5416, 'countrydosentge': 5417, 'county': 5418, 'couple': 5419, 'coupls': 5420, 'courer': 5421, 'coutrya': 5422, 'covert': 5423, 'cptax': 5424, 'cpy': 5425, 'cr': 5426, 'cra': 5427, 'crappy': 5428, 'crazy': 5429, 'creaionism': 5430, 'creationis': 5431, 'creationsm': 5432, 'credi': 5433, 'creenin': 5434, 'creioni': 5435, 'cris': 5436, 'crl': 5437, 'cronestake': 5438, 'crowdfunding': 5439, 'crp': 5440, 'crs': 5441, 'crtiicate': 5442, 'crtism': 5443, 'crying': 5444, 'csecuv': 5445, 'cst': 5446, 'ctfcatewet': 5447, 'cttt://t.co/xYdHGtK#med': 5448, 'cub': 5449, 'cup': 5450, 'curt': 5451, 'cuse': 5452, 'cuzs': 5453, 'cvila': 5454, 'cviliannuclearrr': 5455, 'cvnke': 5456, 'cvnuke': 5457, 'cymi': 5458, 'cyognaly': 5459, 'd\"You\\'re': 5460, 'd2tf10': 5461, 'd8jzwo': 5462, 'd:\"yo': 5463, 'dKy7CI8': 5464, 'dThs': 5465, 'daa': 5466, 'daage': 5467, 'dabecredt': 5468, 'dad': 5469, 'daling': 5470, 'damonds': 5471, 'dangeousicompeent': 5472, 'dat': 5473, 'days': 5474, 'dbate': 5475, 'dcisv': 5476, 'dd': 5477, 'ddMichell': 5478, 'ddening': 5479, 'ddition': 5480, 'ddle': 5481, 'ddomestic': 5482, 'deObam': 5483, 'dea': 5484, 'deails': 5485, 'dealbefoe': 5486, 'dealbeore': 5487, 'dealng': 5488, 'deatead': 5489, 'deb': 5490, 'debae\"e': 5491, 'debatbaus': 5492, 'debatbecause': 5493, 'debate\"on': 5494, 'decd2': 5495, 'decetio': 5496, 'decide': 5497, 'deciding': 5498, 'decption': 5499, 'decribea': 5500, 'dect': 5501, 'deeanaainNovember': 5502, 'deeperrecessionreated': 5503, 'deeres': 5504, 'deerte': 5505, 'defeated': 5506, 'defen': 5507, 'defending': 5508, 'defensive': 5509, 'definitel': 5510, 'degees': 5511, 'degres': 5512, 'deide': 5513, 'delivrsthree': 5514, 'dem': 5515, 'demad': 5516, 'demanded': 5517, 'demandin': 5518, 'demnd': 5519, 'demnded': 5520, 'democrats': 5521, 'democrats#romny': 5522, 'denar': 5523, 'dendherelease': 5524, 'dene': 5525, 'denouncd': 5526, 'denounced': 5527, 'denounces': 5528, 'denound': 5529, 'denr': 5530, 'denuned': 5531, 'deos': 5532, 'deounced': 5533, 'deral': 5534, 'derdreleis': 5535, 'dere': 5536, 'derees': 5537, 'ders': 5538, 'desat?The': 5539, 'describ': 5540, 'describes': 5541, 'desdela': 5542, 'dese': 5543, 'deseres': 5544, 'deserves': 5545, 'deservesrespt': 5546, 'designd': 5547, 'designed': 5548, \"desn'eed\": 5549, 'desperte': 5550, 'desprate': 5551, 'desrvs': 5552, 'destroy': 5553, 'det': 5554, 'detaisofhis': 5555, 'detil': 5556, 'detrmtalto': 5557, 'detroyUScoal': 5558, 'dfense': 5559, 'dfensetoRssia': 5560, 'dficitbma': 5561, 'dges': 5562, 'dget': 5563, 'dgrees': 5564, 'dhow': 5565, 'di': 5566, 'dicuss': 5567, 'didam': 5568, 'diferee': 5569, 'diggin': 5570, 'dignit': 5571, 'diminish': 5572, 'dimish': 5573, 'dimit': 5574, \"din't\": 5575, 'ding': 5576, 'dings': 5577, 'dintblame': 5578, 'dioe': 5579, 'diot#Obama': 5580, 'direct': 5581, 'directioners': 5582, 'direspt': 5583, 'diry': 5584, 'disabed': 5585, 'disappears': 5586, 'disaster': 5587, 'disclosg': 5588, 'disclosing': 5589, 'discosng': 5590, 'disgree': 5591, 'disguyix': 5592, 'dislikesblk': 5593, 'disracAeca': 5594, 'distract': 5595, 'distractAmerians': 5596, 'distrct': 5597, 'distron': 5598, 'dit': 5599, 'ditact': 5600, 'diviiv': 5601, 'divir': 5602, 'divisive': 5603, 'dk': 5604, 'dlla': 5605, 'dlos': 5606, 'dmand': 5607, 'dministra': 5608, \"dn't\": 5609, 'dnalds': 5610, 'dnationfrma': 5611, 'dnd': 5612, 'dnneprty': 5613, 'dnt': 5614, \"do't\": 5615, 'do.hs': 5616, 'doaton': 5617, 'docmena': 5618, 'docuetary': 5619, 'documenar': 5620, 'documenary': 5621, 'doe': 5622, 'doeseveryn': 5623, 'doeseveryonet': 5624, 'dollar': 5625, \"don'sayichelle\": 5626, 'donor': 5627, 'doou': 5628, \"dosn't\": 5629, 'dosnnee': 5630, 'doue': 5631, 'douenar': 5632, 'douncedMitt': 5633, 'dove': 5634, 'dowe': 5635, 'doyo': 5636, 'dreamnt': 5637, 'dressing': 5638, 'driving': 5639, 'drl': 5640, 'drop': 5641, 'drw': 5642, 'dsapprs': 5643, 'dscribea': 5644, 'dses': 5645, 'dsgise': 5646, 'dsho': 5647, 'dso': 5648, 'dstroy': 5649, 'durante': 5650, 'dutsrgiserd#vtesw': 5651, 'duty': 5652, 'dv_wt': 5653, 'dw': 5654, 'dyin': 5655, \"e'l\": 5656, \"e'shalf\": 5657, 'eBAY': 5658, 'eEWig': 5659, 'eMtomney': 5660, 'eR': 5661, 'eSupme': 5662, 'eaXDiO': 5663, 'eaaty': 5664, 'eabger': 5665, 'ead': 5666, 'eagn': 5667, 'eagr': 5668, 'eaith': 5669, 'eak': 5670, 'ealClearPoitis': 5671, 'ealh': 5672, 'ealy': 5673, 'eamVPg6w': 5674, 'eaparty': 5675, 'eaprty': 5676, 'ear': 5677, 'earis': 5678, 'earn': 5679, 'earned': 5680, 'ease': 5681, 'easilydefet': 5682, 'easn': 5683, 'eat': 5684, 'eatean': 5685, 'eath': 5686, 'eawith': 5687, 'eawth': 5688, 'eba': 5689, 'ebacle': 5690, 'ebate\"we': 5691, 'ebay': 5692, 'ebitywrshpprs': 5693, 'ebt': 5694, 'ecap': 5695, 'ecause-': 5696, 'eced': 5697, 'ecessry4': 5698, 'ech': 5699, 'echo': 5700, 'ecods': 5701, 'ecome': 5702, 'ecomi': 5703, 'ecomic': 5704, 'econderm': 5705, 'econmis': 5706, 'econo': 5707, 'econoic': 5708, 'economy': 5709, 'ecord': 5710, 'ecre': 5711, 'ecs': 5712, 'edagood': 5713, 'edera': 5714, 'edgs': 5715, 'edh': 5716, 'edhoPres': 5717, 'edhw': 5718, 'edistribuio': 5719, 'edshow#Obma2012': 5720, 'edshowWhenevr': 5721, 'edsw': 5722, 'educate': 5723, 'eea': 5724, 'eease': 5725, 'eectiohttp:/t.co': 5726, 'eedin': 5727, 'eeds': 5728, 'eei': 5729, 'eenknown': 5730, 'eent': 5731, 'eentless': 5732, 'eeral': 5733, 'eeril': 5734, 'eerv': 5735, 'eet': 5736, 'eeth': 5737, 'eeting': 5738, 'eetion': 5739, 'eets': 5740, 'ef': 5741, 'efense': 5742, 'efersonObama': 5743, 'efersto': 5744, 'effecive': 5745, 'effecs': 5746, 'effrt': 5747, 'efore': 5748, 'eformin': 5749, 'eforming': 5750, 'efued': 5751, 'egalize': 5752, 'egees': 5753, 'eges': 5754, 'eggs': 5755, 'egree': 5756, 'eher': 5757, 'ei': 5758, 'eian': 5759, 'eican': 5760, 'eiev': 5761, 'eif': 5762, 'eime': 5763, 'ein..ttp://t.co/pb9uec': 5764, 'einnin': 5765, 'eire': 5766, 'eislaion': 5767, 'eithr': 5768, 'eitriutin': 5769, 'ejRChn': 5770, 'eklesses': 5771, 'eknowntoe': 5772, 'elainthngs': 5773, 'elansthings': 5774, 'elbakstagede': 5775, 'eleap': 5776, 'elebritis': 5777, 'electd': 5778, 'electio': 5779, 'election': 5780, 'elections02': 5781, 'eleti': 5782, 'eletorally': 5783, 'elgolf': 5784, 'eliee': 5785, 'eliev': 5786, 'eligbility': 5787, 'eligiilit': 5788, 'eliver': 5789, 'elot': 5790, 'elp': 5791, 'els': 5792, 'elsehi': 5793, 'eltdn': 5794, 'ely': 5795, 'em': 5796, 'emand': 5797, 'emars': 5798, 'embleti': 5799, 'embr': 5800, 'emploment': 5801, 'emryi': 5802, 'ems': 5803, \"en'tatter\": 5804, 'enaterods': 5805, 'encantarcasarecon': 5806, 'encesother': 5807, 'end': 5808, 'ends': 5809, 'enerated': 5810, 'engadi': 5811, 'engan': 5812, 'enged': 5813, 'enjadi': 5814, 'enouned': 5815, 'enseofhumor': 5816, 'entertnng': 5817, 'entire': 5818, 'entndo': 5819, 'enyarsObama': 5820, 'eoloues': 5821, 'eomy': 5822, 'eonom': 5823, 'eonomic': 5824, 'eople': 5825, 'eors': 5826, 'eough': 5827, 'eplnat': 5828, 'eprter': 5829, 'epublican': 5830, 'er': 5831, 'eraBaker?amn': 5832, 'eran': 5833, 'ercptin': 5834, 'erd': 5835, 'ereat': 5836, 'ereju': 5837, 'erevtedown': 5838, 'erform': 5839, 'ergypolicy': 5840, 'eria': 5841, 'erin': 5842, 'erk': 5843, 'ern': 5844, 'errahttp://.coSGo5zdHy': 5845, 'ers': 5846, 'ersago': 5847, 'erso': 5848, 'ertficat': 5849, 'ertifice': 5850, 'erttin': 5851, 'ese': 5852, 'ese(i.e': 5853, 'eseves': 5854, 'eshowWheeve': 5855, 'esiden': 5856, 'esla': 5857, 'espects': 5858, 'espets': 5859, 'espite': 5860, 'espotgive': 5861, 'espouses': 5862, 'esribe': 5863, 'esroy': 5864, 'estrS': 5865, 'estroyjobs': 5866, 'esult': 5867, 'etOam': 5868, 'etThere': 5869, 'etain': 5870, 'etan': 5871, 'etc': 5872, 'ete': 5873, 'eteenthihts': 5874, 'eteoce': 5875, 'eter': 5876, 'eteran': 5877, 'etificate': 5878, 'etificate#WhatsomneHiding': 5879, 'etionng': 5880, 'etit': 5881, 'etiveimaes': 5882, 'etns': 5883, 'etropoltanMuseum': 5884, 'etrs': 5885, 'etshavea': 5886, 'etthepesdentie': 5887, 'etunssinc2000': 5888, 'euliation': 5889, 'eurytheatre': 5890, 'euters': 5891, 'ev': 5892, 'even': 5893, 'evenrllybeigmarrid': 5894, 'everben': 5895, 'everome': 5896, 'everthin': 5897, 'everything': 5898, 'eveyoneele': 5899, 'evr': 5900, 'ewbas\"flexpoes': 5901, 'ews': 5902, 'ewsCanada': 5903, 'ewth': 5904, 'exas': 5905, 'excetili': 5906, 'exchnge': 5907, 'excssive': 5908, 'executieorde': 5909, 'exemptionheywant': 5910, 'exist': 5911, 'explaation': 5912, 'explanation': 5913, 'explasthigs': 5914, 'explasthings': 5915, 'exposed': 5916, 'exprChals': 5917, 'exsmo': 5918, 'extremeheatwav': 5919, 'eybelve': 5920, 'eyst': 5921, 'ezko': 5922, 'fCoss': 5923, 'fCuFtbWmbusiness': 5924, 'fObm': 5925, 'fZKYkLF': 5926, 'fac': 5927, 'face': 5928, 'facin': 5929, 'facts': 5930, 'fae': 5931, 'fail': 5932, 'faild': 5933, 'failed': 5934, 'fake': 5935, 'faledeer': 5936, 'farce': 5937, 'fat': 5938, 'fault': 5939, \"favoriedrawingI've\": 5940, 'favoriteprs': 5941, 'favorteprson': 5942, 'favrite': 5943, 'fctd': 5944, 'fdera': 5945, 'fe': 5946, 'feae': 5947, 'featuring': 5948, 'fecklessess': 5949, 'federal': 5950, 'fedr': 5951, 'feed': 5952, 'feelings': 5953, 'feet': 5954, 'fel': 5955, 'feling': 5956, 'felonTny': 5957, 'feral': 5958, 'fewoing': 5959, 'ff': 5960, 'ffas': 5961, 'fficials': 5962, 'fficil': 5963, 'fghting': 5964, 'fhe': 5965, 'fiction': 5966, 'fid': 5967, 'fig': 5968, 'fightng': 5969, 'file': 5970, 'fim': 5971, 'final': 5972, 'financig.http://tc': 5973, 'fip': 5974, 'fippr': 5975, 'firig': 5976, 'firms': 5977, 'firs': 5978, 'firsnae': 5979, 'first': 5980, 'fist': 5981, 'fit': 5982, 'fixthe': 5983, 'flaps': 5984, 'flexble#rogan': 5985, 'fli': 5986, 'flibl': 5987, 'flip': 5988, 'fllowers': 5989, 'floig': 5990, 'floor#thnkmelater': 5991, 'flushing': 5992, 'fly': 5993, 'fmr': 5994, 'fncilocuentsfom': 5995, 'fnd': 5996, 'fnding': 5997, 'fne': 5998, 'fniers': 5999, 'fnn': 6000, 'focu': 6001, 'focuson': 6002, 'foled': 6003, 'followed': 6004, 'folowers': 6005, 'folwfrm': 6006, 'fomBaak': 6007, 'fomer': 6008, 'fooling': 6009, 'for201': 6010, 'forMitt': 6011, 'forWOMEN#eshw': 6012, 'forbama': 6013, 'forcdbanks': 6014, 'force': 6015, 'forgt': 6016, 'forhisupport': 6017, 'forisuppo': 6018, 'form': 6019, 'formbirth': 6020, 'formerican': 6021, \"forountry'sproblm\": 6022, 'forrai': 6023, 'forstartups': 6024, 'forte': 6025, 'forway': 6026, 'fosupporti': 6027, 'fota': 6028, 'fote': 6029, 'foun': 6030, 'found': 6031, 'found-': 6032, 'foundes': 6033, 'fpndin': 6034, 'frAirg': 6035, 'frbm': 6036, 'frces': 6037, 'fre': 6038, 'fred': 6039, 'freedofeerobaa': 6040, 'freedom': 6041, 'freedoms': 6042, 'frely': 6043, 'friedle': 6044, 'friens': 6045, 'fritue': 6046, 'frmte': 6047, 'frmth': 6048, 'frobondag': 6049, 'frohe': 6050, 'fromOama': 6051, 'fromaidShuter': 6052, 'fromhe': 6053, 'fromhis\"ailed\"comic': 6054, 'fromtheUK': 6055, 'fromtt': 6056, 'frveral': 6057, 'fs': 6058, 'fshin': 6059, 'ft': 6060, 'fthe': 6061, 'fthenitedStaes': 6062, 'fu': 6063, 'fukin': 6064, 'ful': 6065, 'fulill': 6066, 'fundaiser': 6067, 'fundete': 6068, 'fundraiseron': 6069, 'fundraser': 6070, 'funny': 6071, 'funraiser': 6072, 'funraisr': 6073, 'funy': 6074, 'furier': 6075, 'furius': 6076, 'furmoreyers': 6077, 'furte': 6078, 'furyears': 6079, 'futhe': 6080, 'g#oppro': 6081, 'g5qKE6R': 6082, 'gGn5E': 6083, 'gHQ3NrW': 6084, 'gI7UzdC': 6085, 'gIGm5E': 6086, 'gIGmn5': 6087, 'gIGmnkE': 6088, 'gIGnk': 6089, 'gImn5kE': 6090, 'gVSulN': 6091, 'gadese': 6092, 'gadyou': 6093, 'gainPresidn': 6094, 'gaint': 6095, 'gakrupt': 6096, 'galln': 6097, 'game': 6098, 'ganst': 6099, 'gauge': 6100, 'ge9ow': 6101, 'geent': 6102, 'gen44': 6103, 'geot': 6104, 'gers': 6105, 'ges': 6106, 'getingto': 6107, 'getinhee': 6108, 'gett': 6109, 'gettaken': 6110, 'gettis': 6111, 'gf': 6112, 'ggs': 6113, 'ghing': 6114, 'ght': 6115, 'ghtthe': 6116, 'gi': 6117, 'gif': 6118, 'gillike': 6119, 'gin': 6120, 'gio': 6121, 'give': 6122, 'glaxy': 6123, 'glf': 6124, 'glfin': 6125, 'gn': 6126, 'gnatius': 6127, 'gniu': 6128, 'gnoing': 6129, 'go9to8e': 6130, 'god': 6131, 'goeo': 6132, 'goes': 6133, 'goesafter': 6134, 'gog': 6135, 'goig': 6136, 'goingto': 6137, 'gong': 6138, 'gonn': 6139, 'gooMcdonls': 6140, 'goodonlds': 6141, 'goon': 6142, 'goow': 6143, 'gorin': 6144, 'gos': 6145, 'got2.Ron': 6146, 'gotelectend': 6147, 'goup': 6148, 'govenment': 6149, 'govennthan': 6150, 'govermt': 6151, 'governOma': 6152, 'governin': 6153, 'government': 6154, 'governmt': 6155, 'governng': 6156, 'govnen': 6157, 'govrnmnt': 6158, 'gowing': 6159, 'gp2012': 6160, 'gpst': 6161, 'gpt': 6162, 'grat': 6163, 'gray': 6164, 'greatrsent.e': 6165, 'gree': 6166, 'groups': 6167, 'grous': 6168, 'growin': 6169, 'growngtird': 6170, 'grtawie': 6171, 'gsa': 6172, 'gt;&t': 6173, 'gt;T': 6174, 'gto': 6175, 'gu': 6176, 'guaratee': 6177, 'guatveBnty': 6178, 'guess': 6179, 'guilyof': 6180, 'guns': 6181, 'gusta': 6182, 'gve': 6183, 'gvernment': 6184, 'gving': 6185, 'gwth': 6186, 'h.': 6187, 'hCourt': 6188, 'habeen': 6189, 'hadle': 6190, 'hadline': 6191, 'hads': 6192, 'hadsom': 6193, 'hadsomehing': 6194, 'haend': 6195, 'haer': 6196, 'hage': 6197, 'hahablg': 6198, 'hahageerObamaha': 6199, 'hahah': 6200, \"hahtagsthat'll\": 6201, 'haia': 6202, 'hairn': 6203, 'hake': 6204, 'halid': 6205, 'halthcare': 6206, 'hammer': 6207, 'hammr': 6208, 'hamr': 6209, 'hamybck': 6210, 'han': 6211, 'hance': 6212, 'handstoore': 6213, 'hangestscramle': 6214, 'haping': 6215, 'hapoons': 6216, 'har': 6217, 'hargs': 6218, 'haring': 6219, 'haris': 6220, 'harptonto': 6221, 'hasRneyHidin': 6222, 'hasRomneyHiding': 6223, 'hasbe': 6224, 'hasbeen': 6225, 'hasben': 6226, 'hasbenknown': 6227, 'hasco': 6228, 'hasen': 6229, 'hashag': 6230, 'hashtag': 6231, 'hashtags': 6232, 'hasid': 6233, 'hasmrefollowers': 6234, \"hat'sgood\": 6235, \"hat'swh\": 6236, 'hatOaamkng?#Cring': 6237, 'hatOamaHding': 6238, 'hatRomnyHiding#OWit': 6239, 'hate': 6240, 'hatool': 6241, 'hatrmnehiding': 6242, 'hatromneyhiding': 6243, 'hatsObamaSmong': 6244, 'hatsRmnyHidng': 6245, 'hatsRomeyiing': 6246, 'hatsRomneyHdingObamapting': 6247, 'hatsRomnyHidig': 6248, 'hatsRoneyHidinObama': 6249, 'hatsomneHiding': 6250, 'hatsonHiding': 6251, 'hatsromneyhidig': 6252, 'hatsromneyhiding': 6253, 'hatwas': 6254, 'hatws': 6255, 'haven': 6256, 'havesom': 6257, 'haveteawith': 6258, 'haveteawiththe': 6259, 'hbM9al': 6260, 'hbootyinhewhe': 6261, 'hddemded': 6262, 'hdlimited': 6263, \"he'd\": 6264, 'he\\'d\"have': 6265, 'heAnnMesag': 6266, 'heDeclartion': 6267, 'heQeen': 6268, 'heQuee': 6269, 'heUK': 6270, 'headline': 6271, 'headlne': 6272, 'healt': 6273, 'health': 6274, 'healthcre': 6275, 'hearings': 6276, 'hecinout': 6277, 'heconsttution': 6278, 'hedefinion': 6279, 'hedes': 6280, 'hedges': 6281, 'hedingBak': 6282, 'hedlook': 6283, 'hee': 6284, 'hees': 6285, 'heis': 6286, 'heks': 6287, 'helle': 6288, 'helomny': 6289, 'helped': 6290, 'helt': 6291, 'hemes': 6292, 'heni': 6293, 'heoffic': 6294, 'heothem': 6295, 'hep': 6296, 'hepollare': 6297, 'herEaster': 6298, 'heras': 6299, 'herings': 6300, 'hes': 6301, 'hestl': 6302, 'het': 6303, 'heth': 6304, 'heuen': 6305, 'hewill': 6306, 'hg': 6307, 'hha': 6308, 'hhas': 6309, 'hher': 6310, 'hhhcool': 6311, 'hhhool': 6312, 'hibesin': 6313, 'hiconnetiono': 6314, 'hide': 6315, 'hidig': 6316, 'hidin?Fa': 6317, 'hiding': 6318, 'hiding?TwetMitRomney': 6319, 'hidn': 6320, 'hidng': 6321, 'hier': 6322, 'higet': 6323, 'higher': 6324, 'higs': 6325, 'hiher': 6326, 'hiig': 6327, 'hiing': 6328, 'hima': 6329, 'himout': 6330, 'hings': 6331, 'hir': 6332, 'hirhrase': 6333, 'hirt': 6334, 'hisas': 6335, 'hisax': 6336, 'hisconnection': 6337, 'hiself': 6338, 'hisfac': 6339, 'hisinvovement': 6340, 'hislack': 6341, 'hislng': 6342, 'hisory': 6343, 'hisrecord': 6344, 'hissie': 6345, 'hissuppot': 6346, 'hissuppt': 6347, 'hisswhyirate': 6348, 'histeenyears': 6349, 'histen': 6350, 'historiy': 6351, 'histry': 6352, 'hisutobography': 6353, 'hit': 6354, 'hiteHose': 6355, 'hitory': 6356, 'hitr': 6357, 'hiy': 6358, 'hked': 6359, 'hled': 6360, 'hlenge': 6361, 'hll': 6362, 'hmencaassureIa': 6363, 'hndsover': 6364, 'hnks': 6365, 'hnnel': 6366, 'hnshke': 6367, 'hoOma': 6368, 'hocffee': 6369, 'hoe': 6370, 'hoes-': 6371, 'hoesgluting': 6372, 'hoing': 6373, 'holdhig': 6374, 'honesty': 6375, 'honet': 6376, 'hoohoo': 6377, 'hoops': 6378, 'hopePtin': 6379, 'hopeutin': 6380, 'hopig': 6381, \"horld'smot\": 6382, 'horthad': 6383, 'horthand': 6384, 'hose': 6385, 'hotolatomneytk': 6386, 'hou': 6387, 'houing': 6388, 'hout': 6389, 'howObama': 6390, 'howmart': 6391, 'hp': 6392, 'hp//.o': 6393, 'hp:/.co': 6394, 'hp:/.colFYgXSN': 6395, 'hp://.c': 6396, 'hp://.cfb7HLaf': 6397, 'hp://c': 6398, 'hp://t.co/4EJRbL': 6399, 'hp://t.co/ltBsc': 6400, 'hp://t.co/ztufxnCzech': 6401, 'hp://t.o': 6402, 'hp:/t.co': 6403, 'hprobem': 6404, 'hra': 6405, 'hrd': 6406, 'hreehtp:/to': 6407, 'hrlott': 6408, 'hs0positiv': 6409, 'hsdded': 6410, 'hse': 6411, 'hsee': 6412, 'hsicome': 6413, 'hsta': 6414, 'hsthetruth': 6415, 'hsting': 6416, 'ht//t.co': 6417, 'ht//t.o': 6418, 'ht//tco': 6419, 'ht://.co': 6420, 'ht://t.c': 6421, 'ht://t.co/3COeZ2F': 6422, 'ht://t.co/S5H0E1B': 6423, 'ht://t.co/gkvL0': 6424, 'ht://t.cokexX62X': 6425, 'ht://t.o': 6426, 'ht://t.o/48Oo6jd': 6427, 'ht:/t.c': 6428, 'ht:/t.coAu4TLV': 6429, 'ht:/tcoElKQ9': 6430, 'htBAMA': 6431, 'htRmeiding': 6432, 'htRoneying': 6433, 'hting': 6434, 'htlwys': 6435, 'htp//.co': 6436, 'htp//t./KkaAhGPq': 6437, 'htp//t.co': 6438, 'htp:.o': 6439, 'htp:/./BogeQ': 6440, 'htp:/.c/0TBmBaKB': 6441, 'htp:/.co': 6442, 'htp://./UxiTT': 6443, 'htp://./teLXMt': 6444, 'htp://.co': 6445, 'htp://.co/7W5qiS': 6446, 'htp://.co/9rpyv': 6447, 'htp://.cokiskUC': 6448, 'htp://t': 6449, 'htp://t./Q5Dfb': 6450, 'htp://t.c': 6451, 'htp://t.c/5JZbGSV': 6452, 'htp://t.co/2X6u2': 6453, 'htp://t.co/4XUW1Aliskyits': 6454, 'htp://t.co/7e8nbt': 6455, 'htp://t.co/JqlUcRc': 6456, 'htp://t.co/LojgGtGT': 6457, 'htp://t.co/OTHamKc': 6458, 'htp://t.co/OtHTRK': 6459, 'htp://t.co/QTdmKZQe': 6460, 'htp://t.co/ZqAuKOd': 6461, 'htp://t.co/bKUGLufH': 6462, 'htp://t.co/fOfWYMb': 6463, 'htp://t.co/fb7HLaf': 6464, 'htp://t.co/oLxGUJE0': 6465, 'htp://t.co/w77vkYru': 6466, 'htp://t.co/zHiGQqZi': 6467, 'htp://t.co/znCZUTo': 6468, 'htp://t.co2XhMwY': 6469, 'htp://t.coVGCUvWN': 6470, 'htp://t.cpdr1yC': 6471, 'htp://t.o/4PWUGs': 6472, 'htp://to': 6473, 'htp:/coSb2gr3f': 6474, 'htp:/t.coLPffo7a': 6475, 'htp:/t.com3Fh': 6476, 'htp:/t.o': 6477, 'htp:/t.o/4vxMWaZ': 6478, 'htp:/t.oX1RFKm': 6479, 'htp:/tco': 6480, 'hts': 6481, 'htsRomneydin': 6482, 'htsbamahidin': 6483, 'htt': 6484, 'htt/.coWCtWno': 6485, 'htt//.c': 6486, 'htt//.cocuHdVHYv': 6487, 'htt//co': 6488, 'htt//t': 6489, 'htt:/.co/3Ax2aBB': 6490, 'htt:/.coz4U2H': 6491, 'htt://.co/3qzFw1C': 6492, 'htt://.o': 6493, 'htt://.oDueme61': 6494, 'htt://cozhKrQE': 6495, 'htt://t.co/8Go8oCpf': 6496, 'htt://t.co/IP2xu3c': 6497, 'htt://t.co/TaopGDD': 6498, 'htt://t.co/VhUDtdO': 6499, 'htt://t.co/a46B8j': 6500, 'htt://t.co/gIGmn5kE': 6501, 'htt://t.oPZRq7U': 6502, 'htt:/co6I5Co': 6503, 'htt:/t./sqG7ysWO': 6504, 'htt:/t.co/35ETJG7': 6505, 'htt:/t.oS8YepCr': 6506, 'htt:/t.ozkUBVN': 6507, 'htt:/tcoOvI5CS': 6508, 'http/.co7LiV': 6509, 'http//.co/1yZO5d9': 6510, 'http//t.coavbgT5': 6511, 'http//t.cooohPzs': 6512, 'http//t.cotmsSKR0': 6513, 'http//t.cov5Co': 6514, 'http//tco/8SanDS': 6515, 'http//tco8HYLEeNW': 6516, 'http:/.c': 6517, 'http:/.co/7pYOSnI': 6518, 'http://': 6519, 'http://.co/4IOwqh1': 6520, 'http://.co/89tb9': 6521, 'http://.coaa8V': 6522, 'http://.coeC3MTg': 6523, 'http://.cohURDtdO': 6524, 'http://.o/3fW3n': 6525, 'http://c/1so0ULz': 6526, 'http://o': 6527, 'http://t./ppXXM': 6528, 'http://t./v6CoS': 6529, 'http://t./wG5D': 6530, 'http://t.cIMcTlsH': 6531, 'http://t.cOvICo': 6532, 'http://t.co': 6533, 'http://t.co/0AQGPl': 6534, 'http://t.co/0bk8kViG': 6535, 'http://t.co/37EFtMg': 6536, 'http://t.co/71R3': 6537, 'http://t.co/9JQdRBUs': 6538, 'http://t.co/D9qwck3': 6539, 'http://t.co/GzD7DkRObaa': 6540, 'http://t.co/JaHycnn': 6541, 'http://t.co/KkaAhGq': 6542, 'http://t.co/NFS1n9d@ClaireCMC': 6543, 'http://t.co/NKneIX': 6544, 'http://t.co/NPrvVD': 6545, 'http://t.co/NjjCWMB': 6546, 'http://t.co/Ov6I5C': 6547, 'http://t.co/R80dweD': 6548, 'http://t.co/WI0ajzX': 6549, 'http://t.co/Y7rGVL9': 6550, 'http://t.co/YFhSa': 6551, 'http://t.co/aOEDM': 6552, 'http://t.co/abgN57': 6553, 'http://t.co/avNxrgvia@ddThis': 6554, 'http://t.co/avbN': 6555, 'http://t.co/jCfZSd': 6556, 'http://t.co/kNdmIy': 6557, 'http://t.co/mpTGvRvw': 6558, 'http://t.co/pS9fQaa': 6559, 'http://t.co/qyEjCZR': 6560, 'http://t.co/svFPoHq': 6561, 'http://t.co/ta0Gs2Su': 6562, 'http://t.co/vQ7vnC': 6563, 'http://t.co/vsOYFha': 6564, 'http://t.co/wJVdoGy': 6565, 'http://t.co/znCZUTo': 6566, 'http://t.co14GbcXGO': 6567, 'http://t.co5DI2x': 6568, 'http://t.co5xqNFfD': 6569, 'http://t.co92fp6': 6570, 'http://t.coDmMaG': 6571, 'http://t.coUKlvxj': 6572, 'http://t.coW761OX': 6573, 'http://t.cogIGmn5k': 6574, 'http://t.corNdEIy': 6575, 'http://t.cosYSUwUJ': 6576, 'http://t.cov6EEZl': 6577, 'http://t.o/0NrH7GKj': 6578, 'http://t.oNZaqz3C': 6579, 'http://t.ozwNxV': 6580, 'http://tc/4INGfCYu': 6581, 'http://tc/5HkGMDg': 6582, 'http://tcoRtOhttp://t.c': 6583, 'http://tcorlPBKQ': 6584, 'http://tcovsOFhSa': 6585, 'http://tcozerPkAh': 6586, 'http://tcozqzCZO': 6587, 'http://toMYwN': 6588, 'http://toqCXeVlI': 6589, 'http:/c': 6590, 'http:/c/91ecaJAE': 6591, 'http:/o': 6592, 'http:/ovbgNT5': 6593, 'http:/t': 6594, 'http:/t.co/5QBOVrw': 6595, 'http:/t.coNKCZYqD.': 6596, 'http:/t.coOGyRYUk': 6597, 'http:/t.coSL4QMahe': 6598, 'http:/tc': 6599, 'http:/tco/4gUGJIG': 6600, 'httptco': 6601, 'hu': 6602, 'hug': 6603, 'hugh': 6604, 'hugs': 6605, 'huma': 6606, 'humanty': 6607, 'hundreds': 6608, 'hurday': 6609, 'husein': 6610, 'husseioa': 6611, 'hveawih': 6612, 'hwObama': 6613, 'hwait': 6614, 'hyarack': 6615, 'hypocritcalmarxit': 6616, 'hypocritical': 6617, \"i'sa\": 6618, 'i800': 6619, 'iChicago': 6620, 'iHe': 6621, 'iR2DAMfM': 6622, 'ia@youe': 6623, 'iaPOTICO': 6624, 'iaed': 6625, 'iaint': 6626, 'ianaHufingon': 6627, 'ib': 6628, 'ice': 6629, 'ichael': 6630, 'ichele': 6631, 'ichelle': 6632, 'icin': 6633, 'icmptent': 6634, 'ictureefect': 6635, 'icuemplyment': 6636, 'icym': 6637, 'id': 6638, 'id\"Do': 6639, 'id\"our': 6640, 'id:\"Do': 6641, 'id:\"o': 6642, 'iddin': 6643, 'ide': 6644, 'idefensbe': 6645, 'ideo': 6646, 'ideo&gt;&gt;&g;The': 6647, 'idep://t.co/MuovhZS': 6648, 'idio': 6649, 'idk': 6650, \"idn't\": 6651, 'idologues': 6652, 'ids': 6653, 'ie2': 6654, 'iece': 6655, 'ieg': 6656, 'ieral': 6657, 'ieresting': 6658, 'ies': 6659, 'ies.@MttRomne': 6660, 'ifKhamni': 6661, 'ifhameicanassure': 6662, 'ifhmn': 6663, 'ifs': 6664, 'ifyou': 6665, 'iggit': 6666, 'igh': 6667, 'ight': 6668, 'ighttan': 6669, 'ignaIra': 6670, 'ignal': 6671, 'ignbil': 6672, 'ignorant': 6673, 'igns': 6674, 'ignsFrad': 6675, 'igreso': 6676, 'igt': 6677, 'igtis': 6678, 'ihady': 6679, 'ihelle': 6680, 'ihellema': 6681, 'ihoen': 6682, 'ihte': 6683, 'ii': 6684, 'iig': 6685, 'iizenship': 6686, 'ikaboutalulus': 6687, 'ikely': 6688, 'ikes': 6689, 'ikjnewanich': 6690, 'iknow': 6691, 'ikow': 6692, 'ile': 6693, 'ilin': 6694, 'iling': 6695, 'illKistol': 6696, 'illd': 6697, 'illindoaon': 6698, 'illingreulations': 6699, 'illo': 6700, 'illoga': 6701, 'illortray': 6702, 'illuiatring': 6703, 'ilqutoast': 6704, 'ilrascal01': 6705, 'iltayecretly': 6706, 'imGOP': 6707, 'imGOPC': 6708, 'imKardashinNextBoyFriend': 6709, 'image': 6710, 'imlaityeten': 6711, 'imorta': 6712, 'imortant': 6713, 'imortantsse': 6714, 'imortnt': 6715, 'impeah': 6716, 'imple': 6717, 'imporaissue': 6718, 'importnt': 6719, 'improvements': 6720, 'imprtant': 6721, 'imptant': 6722, 'impve': 6723, 'in#China': 6724, 'in20': 6725, 'inNH': 6726, 'inNigeri': 6727, 'inSyia': 6728, 'inUS': 6729, 'ince': 6730, 'inchrgeo': 6731, 'inclair': 6732, 'incme': 6733, 'incoe': 6734, 'incompetent': 6735, 'incopanies': 6736, 'increased': 6737, 'increes': 6738, 'ind': 6739, 'inda': 6740, 'indebt': 6741, 'independents': 6742, 'indicator': 6743, 'indpendent#lot': 6744, 'industryhttp://t.co/NFOSnd': 6745, 'inept': 6746, 'inferedO': 6747, 'info': 6748, \"ing'sishesOam\": 6749, 'ingro': 6750, 'inhe': 6751, 'inhis': 6752, 'inhistory': 6753, 'inhmaniy': 6754, 'inhrited': 6755, 'ini': 6756, 'inionRomnebam': 6757, 'inionromOba': 6758, 'inlonstanin': 6759, 'inmostcnarios': 6760, 'inn': 6761, 'inngOf': 6762, 'inonthe': 6763, 'inpealty': 6764, 'ins': 6765, 'insayLoan': 6766, 'insead': 6767, 'inseverl': 6768, 'insider': 6769, 'insidescoopnthe': 6770, 'insocial': 6771, 'insocialetionsm': 6772, 'intd': 6773, 'inteet': 6774, 'integrity': 6775, 'intellecua': 6776, 'intende': 6777, 'interes': 6778, 'interst': 6779, 'interve': 6780, 'interviw': 6781, 'intmidaion': 6782, 'intrest': 6783, 'ints': 6784, 'intse': 6785, 'investiation': 6786, 'inviedthe': 6787, 'iowahakblog': 6788, 'iqg1xaLvi@youtube': 6789, 'iqgxaLayutube': 6790, 'iquid': 6791, 'iraculos': 6792, 'irectlyto': 6793, 'irinya': 6794, 'irixlt': 6795, 'irlfrids': 6796, 'irlphraseAmicn': 6797, 'irs': 6798, 'irst': 6799, 'irtco...http://t.co/GgkOo': 6800, 'is#Obaa': 6801, \"is'antithetical'tohtry\": 6802, 'is?': 6803, 'isOama': 6804, 'isOwnWords': 6805, 'isal': 6806, 'isanoher': 6807, 'isanother': 6808, 'isat': 6809, 'ischarge': 6810, 'isdoing': 6811, 'ish': 6812, 'ishe': 6813, 'ishiersate': 6814, 'ishowing': 6815, 'islaughin': 6816, 'islsng': 6817, 'ismos': 6818, 'ismost': 6819, 'ismostimpotnt': 6820, 'isput': 6821, 'isqte': 6822, 'isrong': 6823, 'isse': 6824, 'issecret': 6825, 'issede': 6826, 'isses': 6827, 'issin18': 6828, 'issles': 6829, 'isstanding': 6830, 'issu': 6831, 'issue': 6832, 'ist': 6833, 'istaing': 6834, 'istat': 6835, 'isten': 6836, 'isteyeas': 6837, 'isth': 6838, 'isthe': 6839, 'isu': 6840, 'isue': 6841, 'isue-': 6842, 'isues': 6843, 'isus': 6844, \"it'sPRESIDENT\": 6845, \"it'snot\": 6846, 'itBrck': 6847, 'itHousi': 6848, 'itagain': 6849, 'ite': 6850, 'ithbaa': 6851, 'ithother': 6852, 'ithr': 6853, 'ithte': 6854, 'itizensnted': 6855, 'ito': 6856, 'ittRome': 6857, 'itthoT': 6858, 'ittns': 6859, 'itwuld': 6860, 'iued': 6861, 'iunconstitutal': 6862, 'iute': 6863, 'ivghttp:/t.co': 6864, 'ivilin': 6865, 'ivilnukesoffer': 6866, 'ivited': 6867, 'ixon': 6868, 'iy': 6869, 'iym': 6870, 'izzaesde': 6871, 'j': 6872, 'j3K58zO': 6873, 'j9IJJsL5': 6874, 'jargn': 6875, 'jaw': 6876, 'jazzcttrio': 6877, 'jbs': 6878, 'jdica': 6879, 'jim351': 6880, 'jmcrmr': 6881, 'jo': 6882, 'job&lRomney': 6883, 'jobdtes': 6884, 'jogowt': 6885, 'joinAdams': 6886, 'joking': 6887, 'journalism': 6888, 'jssayin': 6889, 'jstseen': 6890, 'jswRZA': 6891, 'jswopg': 6892, 'judicial': 6893, 'juge': 6894, 'justicshttp://t./RKHSwfn': 6895, 'justindicted': 6896, 'justpissd': 6897, 'justwana': 6898, 'jutooumbto': 6899, 'kJefKgtt://.co': 6900, 'kNdEmy': 6901, 'kaAG': 6902, 'kastut': 6903, 'kd\"You\\'r': 6904, \"kdou're\": 6905, 'ke': 6906, 'ked': 6907, 'keep': 6908, 'keepskickingus': 6909, 'kein': 6910, 'kepr': 6911, 'ki\"You\\'reromth': 6912, 'ki:\"Do': 6913, 'ki:\"o': 6914, 'ki:\"oyou': 6915, 'kiYoe': 6916, 'kid\"Yo\\'re': 6917, 'kid\"You\\'re': 6918, 'kid\"o\\'e': 6919, 'kid:\"D': 6920, 'kid:\"Do': 6921, 'kid:\"Doulik': 6922, \"kidYo're\": 6923, 'kids': 6924, 'kier': 6925, 'kiled': 6926, 'killd': 6927, 'killed': 6928, 'kiln': 6929, 'kingdom': 6930, 'kis': 6931, 'kisser&soialistas': 6932, 'kllheathcare': 6933, 'kne': 6934, 'knohw': 6935, 'knowObama': 6936, 'knowlegeregarding': 6937, 'knowtouse': 6938, 'knssys:#IWantTouhPeoleWho': 6939, 'knwn': 6940, 'knws': 6941, 'ko': 6942, 'konto': 6943, 'kownto': 6944, 'ks': 6945, 'kwn': 6946, 'l9EKN8f': 6947, 'lNOam': 6948, 'lPX0Z[ike': 6949, 'la.e': 6950, 'lae': 6951, 'laechelt': 6952, 'lah': 6953, 'lam': 6954, 'lana': 6955, 'lanca': 6956, 'lapdog': 6957, 'lapg': 6958, 'largenumbr': 6959, 'las': 6960, 'lasting': 6961, 'lasuitagainst': 6962, 'late': 6963, 'later': 6964, 'latest': 6965, 'launches': 6966, 'laws': 6967, 'laz': 6968, 'lbetari': 6969, 'lct': 6970, 'ld3usps': 6971, 'lder': 6972, 'lead': 6973, 'leading': 6974, 'leaking': 6975, 'lealption': 6976, 'lean': 6977, 'learnfrom': 6978, 'leave': 6979, 'lecon': 6980, 'led': 6981, 'leder': 6982, 'ledg': 6983, 'left': 6984, 'leg': 6985, 'lega': 6986, 'legiimac': 6987, 'legl': 6988, 'leing': 6989, 'leking': 6990, 'lely': 6991, 'lerance': 6992, 'les': 6993, \"let'skeep\": 6994, 'letbam': 6995, 'letter': 6996, 'lexil': 6997, 'lfe': 6998, 'lgislain': 6999, 'lgs': 7000, 'liar': 7001, 'liber': 7002, 'liberalminds': 7003, 'libertario#lot': 7004, 'libertariolo': 7005, 'libertariotlot': 7006, 'libety': 7007, 'lid': 7008, 'lieal': 7009, 'lierai': 7010, 'lies': 7011, 'lights': 7012, 'lighty': 7013, 'liit': 7014, 'likd': 7015, 'liked': 7016, 'likego': 7017, 'line': 7018, \"line'-Times\": 7019, 'linidicator': 7020, 'linkd': 7021, 'linked': 7022, 'linof': 7023, 'lisk': 7024, 'listof': 7025, 'lits': 7026, 'litte': 7027, 'little': 7028, 'live': 7029, 'living': 7030, 'lkea': 7031, 'lkego': 7032, 'lketrying': 7033, 'lki': 7034, 'lking': 7035, 'llege': 7036, 'llegl': 7037, 'llowe': 7038, 'lluminatiAntichrist': 7039, 'lmejor': 7040, 'lmf': 7041, 'ln\"': 7042, 'lnefdefense': 7043, 'lnht': 7044, 'lnteered': 7045, 'lo': 7046, 'loans': 7047, 'lobbin': 7048, 'lof': 7049, 'logi': 7050, 'lohtp': 7051, 'lokayI': 7052, 'loking': 7053, 'lolikeTrayvon': 7054, 'lololol': 7055, 'long': 7056, 'looks': 7057, 'loolol': 7058, 'losKA': 7059, 'loses': 7060, 'losingJewish': 7061, 'loso': 7062, 'loss!a': 7063, 'lov': 7064, 'lovers': 7065, 'loves': 7066, 'lowering': 7067, 'loypla': 7068, 'lpaz': 7069, 'lse': 7070, 'lses': 7071, 'lso': 7072, 'lsrsin': 7073, 'lss': 7074, 'lstngresiet': 7075, 'ltObaaclear': 7076, 'lta': 7077, 'lter': 7078, 'lth': 7079, 'lu': 7080, 'lur': 7081, 'lwsuit': 7082, 'lwyer': 7083, 'ly': 7084, 'lyhbt#withnewt': 7085, 'lyi': 7086, 'ma1000': 7087, 'mabe': 7088, 'mac': 7089, 'maces': 7090, 'machiavelansno': 7091, 'maddeningand': 7092, 'made': 7093, 'maesm': 7094, 'mage': 7095, 'maijana': 7096, 'mailwebsite': 7097, 'majrit': 7098, 'makepblic': 7099, 'makingiteasier': 7100, 'makubc': 7101, 'makublc': 7102, 'male': 7103, 'man\"tels': 7104, 'maoLb5Ia': 7105, 'marclamothillWharen': 7106, 'marijua': 7107, 'marijuana': 7108, 'marijuna': 7109, 'mariua': 7110, 'mariunaan': 7111, 'markkller': 7112, 'markknoler': 7113, 'markknoller': 7114, 'markt': 7115, 'married': 7116, 'mart': 7117, 'maruana': 7118, 'marxisteet#fl': 7119, 'massive': 7120, 'mauc23': 7121, 'maut': 7122, 'mb': 7123, 'mbarrassin': 7124, 'mbrcing': 7125, 'mch': 7126, 'mchelle': 7127, 'mchle': 7128, 'mcks': 7129, 'mcne': 7130, 'mcsand': 7131, 'mdaives': 7132, 'mdeninadun': 7133, 'mdia': 7134, 'me-': 7135, 'me22': 7136, 'mea': 7137, 'meano': 7138, 'mebes': 7139, 'meca': 7140, 'mees': 7141, 'meetingMuslim': 7142, 'meets': 7143, 'meica': 7144, 'meican': 7145, 'meicn': 7146, 'meicns': 7147, 'meit': 7148, 'meits': 7149, 'memberhp': 7150, 'memers': 7151, 'men(obama&GWKAPU': 7152, 'menOnlyCourse': 7153, 'menacs': 7154, 'menat': 7155, 'menghadiri': 7156, 'mentWill': 7157, 'meof': 7158, 'meonyo': 7159, 'merahas': 7160, 'merca': 7161, 'mercan': 7162, 'meria': 7163, 'merian': 7164, 'meric': 7165, 'merica': 7166, 'mericankid': 7167, 'mericn': 7168, 'mes': 7169, 'mesg': 7170, 'messaerou': 7171, 'messing': 7172, 'metfield': 7173, 'meth': 7174, 'mets': 7175, 'mgneton': 7176, 'mh': 7177, 'mian': 7178, 'michelle': 7179, 'mid': 7180, 'midle': 7181, 'mike': 7182, 'millenia': 7183, 'milleniaatha': 7184, 'millionne': 7185, 'millionof': 7186, 'millon': 7187, 'milnso': 7188, 'min': 7189, 'mintes': 7190, 'mirors': 7191, 'misiesesosladosytal': 7192, 'mising': 7193, 'missig': 7194, 'missions': 7195, 'mistrtion': 7196, 'miunerstadin': 7197, 'miute': 7198, 'mjeres': 7199, 'mjorty': 7200, 'mking': 7201, 'mlake': 7202, 'mllio': 7203, 'mlo': 7204, 'mm4erZJ': 7205, 'mmelt': 7206, 'mment': 7207, 'mmetson': 7208, 'mmgrantsndMueres': 7209, 'mncan': 7210, 'mncesik': 7211, 'mnh': 7212, 'mnsendshonyAnn': 7213, 'mnyspast': 7214, 'mo': 7215, 'mocks': 7216, 'mode': 7217, 'moen': 7218, 'moey': 7219, 'moeyearsof': 7220, 'moks': 7221, 'mom': 7222, 'monin': 7223, 'montsago': 7224, 'mony': 7225, 'mora': 7226, 'moreabutour': 7227, 'moreyears': 7228, 'mos': 7229, 'mostimportan': 7230, 'mot': 7231, 'motherjones': 7232, 'mouth': 7233, 'move': 7234, 'moviebattleshi': 7235, 'movin': 7236, 'mporant': 7237, 'mportant': 7238, 'mportn': 7239, 'mrcan': 7240, 'mrcans': 7241, 'mrcas': 7242, 'mrch': 7243, 'mricn': 7244, 'mrijuan': 7245, 'mrijuana': 7246, 'mrijuanaandcoaine': 7247, 'mrjuana': 7248, 'mrkknlle': 7249, 'mrkknoe': 7250, 'mrtant': 7251, 'mst': 7252, 'mu': 7253, 'muchWE': 7254, 'muchveryoniplngon': 7255, 'muic': 7256, 'muito': 7257, 'mujrmuatrctiva': 7258, 'muli': 7259, 'must': 7260, 'mutetgs': 7261, 'muyatractiv': 7262, 'mve': 7263, 'myPesid': 7264, 'myblly': 7265, 'myboy': 7266, 'mygoupprojects': 7267, 'n#codunding': 7268, 'n209': 7269, 'n9': 7270, 'nBAjvfWA': 7271, 'nDIf3y': 7272, 'nFo': 7273, 'nFul': 7274, 'nHu': 7275, 'nVSmdy': 7276, 'nae': 7277, 'namfor': 7278, 'nanueva': 7279, 'napresidntwih': 7280, 'nation': 7281, 'naw': 7282, 'nb': 7283, 'nclear': 7284, 'ncludig#woen': 7285, 'ndObm': 7286, 'ndThe': 7287, 'ndaa': 7288, 'ndcocaine': 7289, 'ndeendence': 7290, 'nder': 7291, 'nderweas': 7292, 'ndi': 7293, 'ndicts6#whisebower': 7294, 'ndsmall': 7295, 'ndtose': 7296, 'ndutryrebounds': 7297, 'neCZTo': 7298, 'needttagObama': 7299, 'neer': 7300, 'neerget': 7301, 'neighborhodoay': 7302, 'nejosNOREATED': 7303, 'neleted': 7304, 'nemployment': 7305, 'neo': 7306, 'nere': 7307, 'nerstand': 7308, 'neverwrked\"http://t.co': 7309, 'nevr': 7310, 'newbedon': 7311, 'newet': 7312, 'news': 7313, 'nex': 7314, 'nextmonth': 7315, 'nges-': 7316, 'nha': 7317, 'nhi': 7318, 'nicipation': 7319, 'nier': 7320, 'nigg': 7321, 'nightis': 7322, 'nih': 7323, 'nihole': 7324, 'nihrkfr': 7325, 'nil': 7326, 'ninee': 7327, 'nirsal': 7328, 'nite': 7329, 'niteomen': 7330, 'njal': 7331, 'njoyour': 7332, 'nkes\"htpt.o': 7333, 'nkeweapos': 7334, 'nle': 7335, \"nle'drivers\": 7336, 'nltion': 7337, 'nlyoeepresetin': 7338, 'nm': 7339, 'nn': 7340, 'nobs': 7341, 'nobudgt': 7342, 'nocern': 7343, 'nohr': 7344, 'noing': 7345, 'noise': 7346, 'nonsne': 7347, 'nosn': 7348, 'notRomney': 7349, 'notctuallycnfirme#mittless': 7350, 'notherOama': 7351, 'nothin': 7352, 'notice': 7353, 'notieow': 7354, 'notlisteing': 7355, 'nowge': 7356, 'nowme': 7357, 'npce': 7358, 'nseemy': 7359, 'nta': 7360, 'ntcipatin': 7361, 'nterest': 7362, 'ntes': 7363, 'nthese': 7364, 'nthewhitehose': 7365, 'nthikae': 7366, 'nti': 7367, 'ntiJobs': 7368, 'nticipatonof': 7369, 'ntin': 7370, 'ntittion': 7371, 'nto': 7372, 'ntoa': 7373, 'ntres': 7374, 'ntrstPaymets': 7375, 'nts': 7376, 'ntsaisfid': 7377, 'nttt': 7378, 'ntwin': 7379, 'ntzSGeW': 7380, 'nukepgm': 7381, 'nukepif': 7382, 'nukes': 7383, 'nukpgmf': 7384, 'nult': 7385, 'nveworkd': 7386, 'nvited': 7387, 'nwI': 7388, 'nwhe': 7389, 'nwn': 7390, 'nwsfo': 7391, 'nxt': 7392, 'nyn': 7393, 'nynyi': 7394, 'nyone': 7395, 'o#Racial': 7396, 'o#sgp#tpart': 7397, \"o'e\": 7398, \"o'r\": 7399, \"o'reom\": 7400, 'o.': 7401, 'o@Ryecteau': 7402, 'oAmercans': 7403, 'oFB': 7404, 'oI': 7405, 'oJm': 7406, 'oMdls': 7407, 'oObama2012': 7408, 'oSC': 7409, 'oZ1VU1': 7410, 'oZoyoNN': 7411, 'o_l_l_e__n': 7412, 'oaa': 7413, 'oam': 7414, 'oantrillions': 7415, 'oat': 7416, 'oba': 7417, 'obaa?&lt': 7418, 'obaabut': 7419, 'obamais': 7420, 'obamaobama': 7421, 'obamarleases': 7422, 'obamwill': 7423, 'obby': 7424, 'obe': 7425, 'oc#tct': 7426, 'occuyos#onaul': 7427, 'och': 7428, 'ocilis': 7429, 'ocked': 7430, 'ockng': 7431, 'od': 7432, 'odI': 7433, 'odds': 7434, 'oder': 7435, 'odfund': 7436, 'odo': 7437, 'odstam': 7438, 'odu': 7439, 'oeChicago': 7440, 'oe[Putn]anbroker': 7441, 'oesoldttp:/t.co': 7442, 'oet': 7443, 'oethi': 7444, 'oeyear': 7445, 'of35': 7446, 'ofAeica': 7447, 'ofAgusta': 7448, 'ofAmerica': 7449, 'ofGdwis': 7450, 'ofObam': 7451, 'ofObama': 7452, 'ofObma': 7453, 'ofRT': 7454, 'ofU.S': 7455, 'ofWomen': 7456, 'ofalof': 7457, 'ofany': 7458, 'ofax': 7459, 'ofbama': 7460, 'ofbma': 7461, 'ofcals': 7462, 'ofdemocrcy': 7463, 'offee': 7464, 'officials': 7465, 'officilshope': 7466, 'offie': 7467, 'offiias': 7468, 'offiin': 7469, 'oficials': 7470, 'ofil': 7471, 'oflvih': 7472, \"ofmrendsarn't\": 7473, 'ofnive!RT': 7474, 'ofongres': 7475, 'ofourmone': 7476, 'ofpals': 7477, 'ofta': 7478, 'oftheUnite': 7479, 'ofu': 7480, 'ogoig': 7481, 'ogresies': 7482, 'oh': 7483, 'ohgilprase': 7484, 'ohgirlase': 7485, 'ohgirlprase': 7486, 'ohgirphra': 7487, 'ohgirphras': 7488, 'ohgirphrase': 7489, 'ohgrlphrase': 7490, 'ohirlprase': 7491, 'oiacreaiom': 7492, 'oig': 7493, 'oigtened': 7494, 'oing': 7495, 'oint': 7496, 'oiplicy': 7497, 'ojealous': 7498, 'olbe': 7499, 'oldbeatObama': 7500, 'oldduakin': 7501, 'ole': 7502, 'olege': 7503, 'olfoue': 7504, 'olitifac': 7505, 'olitzrcnn': 7506, 'oll': 7507, 'ollege': 7508, 'ombis': 7509, 'oment': 7510, 'omeonein': 7511, 'omesti': 7512, 'ometwittr': 7513, 'ommenon': 7514, 'omments': 7515, 'ommon': 7516, 'omne': 7517, 'omneyould': 7518, 'omny': 7519, 'omthin': 7520, 'omy': 7521, 'onB': 7522, 'onF': 7523, 'onNDA': 7524, 'onWahinton': 7525, 'onWalt': 7526, 'once': 7527, 'onceed': 7528, 'onealthcare': 7529, 'onediection': 7530, 'oneets': 7531, 'onerenehttp:/t.o': 7532, 'onerf': 7533, 'onerston': 7534, 'ongoing': 7535, 'ongs': 7536, 'onhe': 7537, 'onhis': 7538, 'onissof': 7539, 'onl': 7540, 'onlin': 7541, 'online': 7542, 'onna': 7543, 'onneor': 7544, 'onomic': 7545, 'onra': 7546, 'onrecr': 7547, 'onservtives': 7548, 'onspeeddial': 7549, 'onsttutional': 7550, 'onyof': 7551, 'oogle#ews': 7552, 'ooing': 7553, 'ook': 7554, 'ooks': 7555, 'oolwork': 7556, 'ooo': 7557, 'oos': 7558, 'ootrac': 7559, 'oou': 7560, 'opay': 7561, 'open': 7562, 'opere': 7563, 'opingthis': 7564, 'opone': 7565, 'opportnty': 7566, 'orGreeneergjust': 7567, 'orIs': 7568, 'orVERYONE': 7569, 'orchesrted': 7570, 'ord': 7571, 'ordenar': 7572, 'orecto': 7573, 'orfuture': 7574, 'orh': 7575, 'orheiWar': 7576, 'oris': 7577, 'orld': 7578, 'orme': 7579, 'orn': 7580, 'oromen': 7581, 'orriedtha': 7582, 'orrytae': 7583, 'orstPresidet': 7584, 'ort': 7585, 'ortenemy': 7586, 'orthad': 7587, 'ortre': 7588, 'orwad.@BarcObama': 7589, \"os't\": 7590, 'ospitals': 7591, 'ostAericans': 7592, 'otMdonlds': 7593, 'oteHil012': 7594, 'oteNbamain': 7595, 'otehout': 7596, 'otes': 7597, 'oth': 7598, 'othBgfoo': 7599, 'othe': 7600, 'otherrances': 7601, 'others': 7602, 'otice': 7603, 'oting': 7604, 'otjudiciary': 7605, 'otof': 7606, 'ott': 7607, 'ottles': 7608, \"ou'r\": 7609, \"ouYo're\": 7610, 'oudicai': 7611, 'ougot': 7612, 'ouhae': 7613, 'ouhave': 7614, 'ouhve': 7615, 'ouknow': 7616, 'ouldappreciate': 7617, 'oulmanthe': 7618, 'ouns': 7619, 'ountr': 7620, 'ouraist': 7621, 'ourfutre': 7622, 'oursd': 7623, 'ourtre': 7624, 'ousemrijna': 7625, 'outaevn': 7626, 'outi': 7627, 'outn': 7628, 'outoftoch': 7629, 'outube': 7630, 'ouver': 7631, 'overbyCnrvaties': 7632, 'overtzon': 7633, 'ovot': 7634, 'ovr': 7635, 'ovrning': 7636, 'owattracive': 7637, 'owcome': 7638, 'oweca': 7639, 'ower': 7640, 'owfu': 7641, 'owhe': 7642, 'own': 7643, 'owrgas': 7644, 'ows': 7645, 'ox': 7646, 'oxNew': 7647, 'oysto': 7648, 'oze': 7649, 'p2#glbt': 7650, 'p2#ocr': 7651, 'p2#ocra': 7652, 'p://t.co': 7653, 'pAe0YYI': 7654, 'pWArEGR': 7655, 'paces': 7656, 'papers': 7657, 'par.0l': 7658, 'parkn': 7659, 'partic': 7660, 'particulr': 7661, 'party': 7662, 'pased': 7663, 'pasedGOP': 7664, 'pasporttoo': 7665, 'passats': 7666, 'passe': 7667, 'passedby': 7668, 'passort': 7669, 'paty': 7670, 'payto': 7671, 'pc': 7672, 'pcexplains': 7673, 'peaking': 7674, 'pease': 7675, 'pectacl': 7676, 'pedentdhorrily': 7677, 'peed': 7678, 'peigat': 7679, 'pele': 7680, 'pells': 7681, 'pemios': 7682, 'pending': 7683, 'peolesay': 7684, 'peopl': 7685, 'people': 7686, 'peoplelkeMit': 7687, 'peoplepersoallywhos': 7688, 'percent': 7689, 'percptiono': 7690, 'perfec': 7691, 'persnwho': 7692, 'perso': 7693, 'personh': 7694, 'pesdent': 7695, 'pgVm3': 7696, 'pge': 7697, 'pgeletter': 7698, 'pgm': 7699, 'phne2': 7700, 'phoeall': 7701, 'phts': 7702, 'pickup': 7703, 'pics': 7704, 'pie': 7705, 'pierced': 7706, 'piexplai': 7707, 'piexplans': 7708, 'pionage': 7709, 'pissedoff': 7710, 'pitching': 7711, 'pivte': 7712, 'pl': 7713, 'plans': 7714, 'planso': 7715, 'played': 7716, 'pliciescontributed': 7717, 'plicyis': 7718, 'plife': 7719, 'plitic': 7720, 'plitis': 7721, 'plls': 7722, 'plnswith': 7723, 'plot': 7724, 'plticaexpertsay': 7725, 'plyed': 7726, 'pnal': 7727, 'pnews': 7728, 'poG': 7729, 'poa': 7730, 'pocets': 7731, 'pocket': 7732, 'poe': 7733, 'poetalso': 7734, 'pofesor\"Iam': 7735, 'pohbits': 7736, 'poicy': 7737, 'pointin': 7738, 'pointsarealead': 7739, 'pol': 7740, 'polices': 7741, 'policy': 7742, 'polies': 7743, 'polin': 7744, 'polis': 7745, 'politics': 7746, 'polls': 7747, 'poor': 7748, 'pop': 7749, 'popl': 7750, 'por': 7751, 'porn': 7752, 'porqe': 7753, 'posed.photos': 7754, 'posted': 7755, 'potected': 7756, 'poud': 7757, 'ppgting': 7758, 'pple': 7759, 'ppoite': 7760, 'pposie': 7761, 'pr': 7762, 'praiig': 7763, 'praisig': 7764, 'prces': 7765, 'precedents': 7766, 'precouslibety': 7767, 'preeptiv': 7768, 'preet': 7769, 'pregunto': 7770, 'preiden': 7771, 'preident': 7772, 'premeCourt': 7773, 'prepara': 7774, 'prepared': 7775, 'presden': 7776, 'presidetal': 7777, 'presidetwith': 7778, 'presidnt': 7779, 'presient': 7780, 'press': 7781, 'pressur': 7782, 'prettiest': 7783, 'preuno': 7784, 'preunto': 7785, 'prgnt': 7786, 'prgram': 7787, 'prhibit': 7788, 'pri': 7789, 'pric': 7790, 'prident': 7791, 'pris': 7792, 'prlie': 7793, 'proabl': 7794, 'proablnotte': 7795, 'probabl': 7796, 'proe': 7797, 'professo': 7798, 'professonals': 7799, 'profssosins': 7800, 'programif': 7801, 'progrm': 7802, 'prolife': 7803, 'prolingtp://tco': 7804, 'promise': 7805, 'promiseo': 7806, 'promse': 7807, 'prpared': 7808, 'prs': 7809, 'prsidentialcmpaign': 7810, 'prsidnt': 7811, 'prson': 7812, 'prtel': 7813, 'prty': 7814, 'pryer': 7815, 'ps': 7816, 'psed': 7817, 'psey': 7818, 'pss': 7819, 'pssd': 7820, 'ptected': 7821, 'pted': 7822, 'ptition': 7823, 'pts': 7824, 'pu': 7825, 'puObama': 7826, 'pubi': 7827, 'pue': 7828, 'puh': 7829, 'puli': 7830, 'punishwork': 7831, 'pursue': 7832, 'push': 7833, 'puu': 7834, 'puuenukes': 7835, 'pvrYRz': 7836, 'py': 7837, 'q04cYix': 7838, 'q50Fyq': 7839, 'qXWxnlw': 7840, 'qebdl': 7841, 'qiseraserlaij': 7842, 'qmaNjER#becktips': 7843, 'qmkaNjR': 7844, 'qson': 7845, 'queer': 7846, 'question': 7847, 'queston': 7848, 'quiing': 7849, 'quikstry': 7850, 'quite': 7851, 'qwIsdV2n#tcot': 7852, 'qxcS5HU': 7853, 'raal': 7854, 'rac': 7855, 'race': 7856, 'racist': 7857, 'racistbedshets': 7858, 'racists': 7859, 'rad': 7860, 'radrhtt:/t.co': 7861, 'raduat': 7862, \"rag've\": 7863, 'rainr': 7864, 'rally': 7865, 'rama': 7866, 'ranhes': 7867, 'ranill': 7868, 'ranin': 7869, 'ranscripts': 7870, 'raonI': 7871, 'rarch': 7872, 'rascipts': 7873, 'rascripts#WhatsRomeyHiding': 7874, 'rat': 7875, 'rate': 7876, 'rationism': 7877, 'rats': 7878, 'raud': 7879, 'ravda': 7880, 'rawill': 7881, 'raysgouplo': 7882, 'razy': 7883, 'rbaraE.': 7884, 'rcHolde': 7885, 'rceivd': 7886, 'rcet': 7887, 'rchbishoplan': 7888, 'rchitects': 7889, 'rcipe': 7890, 'rcords': 7891, 'rdiclous': 7892, 'rdnarpiza': 7893, \"re't\": 7894, 'rea': 7895, 'read': 7896, 'reaityf': 7897, 'realive': 7898, 'realls': 7899, 'reallyi': 7900, 'rease': 7901, 'reaso': 7902, 'reat': 7903, 'reationi': 7904, 'reawant': 7905, 'reaypray': 7906, 'reaysay': 7907, 'recevedn': 7908, 'recor': 7909, 'record': 7910, 'recordsand': 7911, 'recored': 7912, 'recors': 7913, 'recous': 7914, 'recr': 7915, 'recrdincl': 7916, 'recrds': 7917, 'redistrbut': 7918, 'redits': 7919, 'redlee': 7920, 'redtate#GA': 7921, 'redtributing': 7922, 'ree': 7923, 'reedom': 7924, 'reel': 7925, 'reelct': 7926, 'reelecObaa': 7927, 'reelectObama,4': 7928, 'reets': 7929, 'refueto': 7930, 'refus': 7931, 'refuss': 7932, 'refussto': 7933, 'regardinhe': 7934, 'reidet': 7935, 'reind': 7936, 'rel': 7937, 'relatd': 7938, 'reldollar': 7939, 'rele': 7940, 'releaseall': 7941, 'releed': 7942, 'relentles': 7943, 'relentlss': 7944, 'relet': 7945, 'reli': 7946, 'relly': 7947, 'relmad': 7948, 'reltionship': 7949, 'remaiunited': 7950, 'remmber': 7951, 'remrks': 7952, 'ren': 7953, 'reor': 7954, 'reords': 7955, 'reots': 7956, 'rep.actgin': 7957, 'repc': 7958, 'repeal': 7959, 'reponds': 7960, 'repor': 7961, 'repors': 7962, 'reporton': 7963, 'repots': 7964, 'reprt': 7965, 'repulansin': 7966, 'reringwhat': 7967, 'rerns': 7968, 'rers': 7969, 'resObama': 7970, 'resdent': 7971, 'resect': 7972, 'resentBrac': 7973, 'residen': 7974, 'residentObama': 7975, 'residenti': 7976, 'residet': 7977, 'residnt': 7978, 'residntil': 7979, 'resient': 7980, 'resimlar': 7981, 'resist44': 7982, 'resot': 7983, 'respectability': 7984, 'respectforomenhle': 7985, 'respetabilit': 7986, 'retioism': 7987, 'retn': 7988, 'retns': 7989, 'retuns': 7990, 'retur': 7991, 'return': 7992, 'returnfrth': 7993, 'returnso': 7994, 'retweet': 7995, 'reus': 7996, 'reviwingnd': 7997, 'revrs': 7998, 'rez': 7999, 'rgh': 8000, 'rght': 8001, 'ric': 8002, 'rican': 8003, 'rices': 8004, 'rich': 8005, 'richwhite': 8006, 'ridet': 8007, 'ridiclouspolices': 8008, 'ries': 8009, 'right': 8010, 'rightcane02': 8011, 'rigpubl': 8012, 'riish': 8013, 'rina': 8014, 'ringig': 8015, 'rinigDwn': 8016, 'rinof': 8017, 'riously': 8018, 'riple': 8019, 'rishkd\"Do': 8020, 'rising': 8021, 'rist': 8022, 'rit': 8023, 'riti': 8024, 'ritih': 8025, 'ritis': 8026, 'riuanaand': 8027, 'rknoller': 8028, 'rle': 8029, 'rleass': 8030, 'rles': 8031, 'rlin': 8032, 'rmatosincehitororteleprompterrepar': 8033, 'rmiss': 8034, 'rmo': 8035, 'rmp': 8036, 'rmtheUK?Ohhh': 8037, 'rnc': 8038, 'rnt': 8039, 'roa': 8040, 'robint': 8041, 'rofesshtp:/t.co': 8042, 'rogrm': 8043, 'rome': 8044, 'romey': 8045, 'romney': 8046, 'romotp://t.co/tFme7bZ': 8047, 'rong': 8048, 'rony#GOP': 8049, 'roterhood': 8050, 'rothersliked': 8051, 'roud': 8052, 'roughoutthe': 8053, 'rous': 8054, 'roves': 8055, 'rpaulrca201': 8056, 'rplacemnt': 8057, 'rpors': 8058, 'rprt': 8059, 'rrgulars': 8060, 'rrorit': 8061, 'rry': 8062, 'rsb': 8063, 'rscripts': 8064, 'rseach': 8065, 'rships': 8066, 'rsiet': 8067, 'rspct': 8068, 'rspec': 8069, 'rspod?#tcot': 8070, 'rst': 8071, 'rther': 8072, 'rticiingObam': 8073, 'rtish': 8074, 'rtrns': 8075, 'rtuns': 8076, 'rturns': 8077, 'ru': 8078, 'rug': 8079, 'rule': 8080, 'runs': 8081, 'rush': 8082, 'rvnt': 8083, 'ryigto': 8084, 'ryingo': 8085, 'ryingto': 8086, 'ryofBreiats': 8087, \"sNicoe'sdawi\": 8088, 'sTR0vyJ': 8089, 'sUW1h': 8090, 'sVTAW': 8091, 'sa': 8092, 'sactns': 8093, 'sad': 8094, 'sae': 8095, 'safi': 8096, 'safu': 8097, 'sai': 8098, 'saidObama': 8099, 'sal': 8100, 'sale': 8101, 'sallingon': 8102, 'salt': 8103, 'sams': 8104, 'samsun': 8105, 'sanins': 8106, 'sanions': 8107, 'sare': 8108, 'sas-': 8109, 'sasit': 8110, 'sateof': 8111, 'satiied': 8112, 'save': 8113, 'savng': 8114, 'saw': 8115, 'say\"I': 8116, 'sayI': 8117, 'sayIsrel': 8118, 'sayatt': 8119, 'sayd': 8120, 'sayd\"I': 8121, 'sayig': 8122, 'sayng': 8123, 'says-': 8124, 'saysPrs': 8125, \"saysit'll\": 8126, 'sc': 8127, 'scaeo': 8128, 'scam': 8129, 'scard': 8130, 'sce00': 8131, 'scfadave': 8132, 'schemewith': 8133, 'schingcat': 8134, 'schol.dn': 8135, 'scholars': 8136, 'scia': 8137, 'scialDrwinis': 8138, 'sciali': 8139, 'scil': 8140, 'sckenig': 8141, 'scl': 8142, 'scramble': 8143, 'screning': 8144, 'screwyees': 8145, 'scriy': 8146, 'sctions': 8147, 'sdomy': 8148, 'searc': 8149, 'searh': 8150, 'seat': 8151, 'sec': 8152, 'seccr': 8153, 'secrelBarck': 8154, 'secret': 8155, 'sedng': 8156, 'seenthe': 8157, 'sef': 8158, 'sehowObam': 8159, 'sei': 8160, 'seil': 8161, 'seiue': 8162, 'seizure': 8163, 'sekin': 8164, 'sel': 8165, 'sem4': 8166, 'sen': 8167, 'senatefor': 8168, 'senator': 8169, 'sending': 8170, 'senheHBO': 8171, 'senthe': 8172, 'serely': 8173, 'serouboutbeatn': 8174, 'serous': 8175, 'sesat': 8176, 'seting': 8177, 'setting': 8178, 'sexy': 8179, 'sezig': 8180, 'sffrs': 8181, 'sgale': 8182, 'sgie': 8183, 'sgnaled': 8184, 'sgnl': 8185, 'sgnle': 8186, 'sgp': 8187, 'sha': 8188, 'shape': 8189, 'shareon': 8190, 'shated': 8191, 'ship': 8192, 'shitOama': 8193, 'sho': 8194, 'shod': 8195, 'shorthanandw': 8196, 'shothad': 8197, 'shothan': 8198, 'shou': 8199, 'shoul': 8200, 'show': 8201, 'shp': 8202, 'shre': 8203, 'shul': 8204, 'shuldrepor': 8205, 'shut': 8206, 'si': 8207, 'sial': 8208, 'siden': 8209, 'sidentiaEletin': 8210, 'sidnt': 8211, 'sigare': 8212, 'signaled': 8213, 'signed': 8214, 'signleIrn': 8215, 'signng': 8216, 'signsthe': 8217, 'sigs': 8218, 'siicant': 8219, 'sijas': 8220, 'sill': 8221, 'sills': 8222, 'sinaed': 8223, 'sincehe': 8224, 'sine': 8225, 'sing': 8226, 'singe': 8227, 'single': 8228, 'sinners': 8229, 'sins': 8230, 'site': 8231, 'sition': 8232, 'sixtyoour': 8233, 'sizing': 8234, 'sked': 8235, 'skeltons': 8236, 'skingPres': 8237, 'skncolo': 8238, 'skyites': 8239, 'slamm': 8240, 'slammed': 8241, 'slepin': 8242, 'slesdescrbed': 8243, 'sliccck': 8244, 'slightly': 8245, 'slim': 8246, 'small': 8247, 'smallbsiess': 8248, 'smar': 8249, 'smarthe': 8250, 'smathe': 8251, 'sme': 8252, 'smel': 8253, 'smitalrswitjusti': 8254, 'smmit': 8255, 'smok': 8256, 'smr': 8257, 'smrt': 8258, 'smrterealy': 8259, 'smsts': 8260, 'smy': 8261, 'snd': 8262, 'sng': 8263, 'snoru': 8264, 'sntn': 8265, 'socia': 8266, 'socialDwinism': 8267, 'socialim': 8268, 'socilDinism': 8269, 'socilcatioi': 8270, 'socilrwiism': 8271, 'soeone': 8272, 'soialsm': 8273, 'sold': 8274, 'solomogeb': 8275, 'som': 8276, 'somericans': 8277, 'somethn': 8278, 'somne': 8279, 'somthing': 8280, 'soon': 8281, 'sopa': 8282, 'sopoud': 8283, 'sopping': 8284, 'soprou': 8285, 'sorr': 8286, 'sort': 8287, 'sorthnd': 8288, 'soul': 8289, 'sould': 8290, 'souldak': 8291, 'soulindicator^Covert': 8292, 'soupset': 8293, 'sowecan': 8294, 'sowhen': 8295, 'soy': 8296, 'spaker': 8297, 'spc': 8298, 'speak': 8299, 'speaks': 8300, 'speas': 8301, 'speing': 8302, 'spek': 8303, 'spendig': 8304, 'spending': 8305, 'spending\"o': 8306, 'spending\"too': 8307, 'spendng': 8308, 'spendng\"omuch': 8309, 'spening\"to': 8310, 'spet': 8311, 'spewing': 8312, 'spine': 8313, 'spll': 8314, 'spne': 8315, 'spnin': 8316, 'spoksman': 8317, 'spporef': 8318, 'spport': 8319, 'spporter': 8320, 'spporters': 8321, 'spportof': 8322, 'spprt': 8323, 'sprawl': 8324, 'sprt': 8325, 'spse': 8326, 'squ': 8327, 'srael': 8328, 'srategy': 8329, 'srglint': 8330, 'sricte': 8331, 'srry': 8332, 'srthand': 8333, 'sry': 8334, 'sses': 8335, 'ssess': 8336, 'sseto': 8337, 'ssm': 8338, 'ssociation': 8339, 'ssr': 8340, 'st': 8341, 'st#MSM': 8342, 'stading': 8343, 'stands': 8344, 'standsbtwen': 8345, 'stange': 8346, 'startnow': 8347, 'state': 8348, 'statof': 8349, 'sten': 8350, 'stent': 8351, 'sthe': 8352, 'sthisthe': 8353, 'sti': 8354, 'stil': 8355, 'stillthe': 8356, 'stles': 8357, 'stnds': 8358, 'sto': 8359, 'stole': 8360, 'straight': 8361, 'strangst': 8362, 'streetorganizigorganizaions': 8363, 'strikee': 8364, 'stted': 8365, 'sttes': 8366, 'sttup': 8367, 'student': 8368, 'stuf': 8369, 'stuff': 8370, 'stuhing': 8371, 'stun': 8372, 'stupidHasht': 8373, 'styl': 8374, 'sualecaffects': 8375, 'suc': 8376, 'such': 8377, 'sucks': 8378, 'sudde': 8379, 'sue.http//t.co/1IiLN01H': 8380, 'suedover': 8381, 'suer': 8382, 'suffwth': 8383, 'suh': 8384, 'suiec': 8385, 'sujt': 8386, 'suld': 8387, 'sumit': 8388, 'summit': 8389, 'summitnex': 8390, 'summt': 8391, 'suort': 8392, 'suportr': 8393, 'supporter': 8394, 'suppressig': 8395, 'supprt': 8396, 'supprts': 8397, 'suprme': 8398, 'sur': 8399, 'surg': 8400, 'suspicion': 8401, 'svxFPoHq': 8402, 'svxFoH': 8403, 'sw6mz': 8404, 'swearhes': 8405, 'swet': 8406, 'swhy': 8407, 'swing': 8408, 'swingstateoranzatin': 8409, 'swng': 8410, 'sxy': 8411, 'sxyad': 8412, 'syin': 8413, 'sykck': 8414, 'syle': 8415, 'sysaolutely': 8416, 'systt\"http:/t.o/19Fx8C': 8417, \"t'itimidate\": 8418, 't./Xurbw': 8419, 't.c/1ik0': 8420, 't.co/2GPDvLM': 8421, 't.co/5O2RIfx': 8422, 't.coXpXJJ9': 8423, 't.conxXZe': 8424, 't.cowEroyW': 8425, 't.cuMAWA7X': 8426, 't.o': 8427, 't.o/06rDlCL': 8428, 't9xniyJG': 8429, 't:/t.co': 8430, 'tBO': 8431, 'tEcomy': 8432, 'tHamas': 8433, 'tIS5Umhh': 8434, 'tP': 8435, 'tQueen\"': 8436, 'tThePres': 8437, 'taary#sgp': 8438, 'taasks': 8439, 'taaty': 8440, 'tabloid': 8441, 'tacic': 8442, 'tacking': 8443, 'tacticstwarthe': 8444, 'tae': 8445, \"taicTe'e\": 8446, 'taildanig': 8447, 'taingo': 8448, 'taith': 8449, 'takfve': 8450, 'taling': 8451, 'talk': 8452, 'talkin': 8453, 'tapar': 8454, 'tar': 8455, 'tarp': 8456, 'tarstuff': 8457, 'tarterrahing': 8458, 'tartidioti': 8459, 'tas': 8460, 'taticsTeyre': 8461, 'tatlke': 8462, 'tattt': 8463, 'tawith': 8464, 'taxpayr': 8465, 'taxreturns': 8466, 'taxrturns#WhatmneyHiding': 8467, 'taxrturns.#WhatsRomeyHidn': 8468, 'tban': 8469, 'tbe': 8470, 'tcdoalds': 8471, 'tco#p': 8472, 'tcsevative': 8473, 'teQue': 8474, 'teQuee': 8475, 'teQueen\"': 8476, 'teUK': 8477, 'teUS.Hmust': 8478, 'teUnie': 8479, 'teaih': 8480, 'teapat': 8481, 'teapaty': 8482, 'teapty': 8483, 'technicaly4': 8484, 'tedin': 8485, 'teenears': 8486, 'teenyears': 8487, 'teet': 8488, 'teeters': 8489, 'teets': 8490, 'teets.[arsedeveopmet': 8491, 'teith': 8492, 'tels': 8493, 'telsthe': 8494, 'tendin': 8495, 'tenyears': 8496, 'teoman': 8497, 'teoritsa': 8498, 'tep': 8499, 'tere': 8500, 'tereotypes': 8501, 'terplih': 8502, 'terrristBill': 8503, 'tes': 8504, 'tese': 8505, 'tetang': 8506, 'tets': 8507, 'tetwisters': 8508, 'tewith': 8509, 'thPresdent': 8510, 'thQuen': 8511, 'thaGOPca': 8512, 'thah': 8513, 'thanBrac': 8514, 'thankyou': 8515, \"that'sObamahttp://t.co/3fgWm3n4\": 8516, \"that'seause\": 8517, 'thatObaa': 8518, 'thathe': 8519, 'thatlttle': 8520, 'thatmigh': 8521, 'thatwillsow': 8522, 'thbig': 8523, 'thcout': 8524, 'the\"bg': 8525, 'theBEST': 8526, 'theBarack': 8527, 'theConsiutio': 8528, 'theDNCconention': 8529, 'theGOP': 8530, 'theHouse': 8531, 'theHousepasedG': 8532, 'theK': 8533, 'thePreidn': 8534, 'thePty': 8535, 'theQue': 8536, 'theStates': 8537, 'theU?Ohhcoo': 8538, 'theaccuseirs': 8539, 'theadminitra': 8540, 'theassre': 8541, 'theate': 8542, 'theaze': 8543, 'thebetchoice': 8544, 'thed': 8545, 'thee': 8546, 'theelection': 8547, 'thefree': 8548, 'thefuck': 8549, 'thehpcat': 8550, 'theintial': 8551, \"thenI'm\": 8552, 'thenbacktraked': 8553, 'thenhah': 8554, 'theonly': 8555, 'theprme': 8556, 'therapspewing': 8557, 'there': 8558, 'therel': 8559, 'therght': 8560, 'therporter': 8561, 'therth': 8562, 'thery': 8563, 'thetable': 8564, 'theyblve': 8565, 'thfre': 8566, 'thg': 8567, 'thhe': 8568, 'thig': 8569, 'thikit': 8570, 'thikprogress': 8571, 'thinkabout': 8572, 'thinksObama': 8573, 'thinpogrss': 8574, 'thinprogress': 8575, 'thins': 8576, 'thisis': 8577, 'thisist': 8578, 'thistime': 8579, 'thisue#p2#tco': 8580, 'thlanmak': 8581, 'thmoon': 8582, 'thn': 8583, 'thnObaagot': 8584, 'thnewt': 8585, 'thnk': 8586, 'thnkObaa': 8587, 'thns': 8588, 'tho': 8589, 'thoe': 8590, 'though': 8591, 'thpone': 8592, 'thr': 8593, 'thre': 8594, 'threatening': 8595, 'three': 8596, 'thrigsof': 8597, 'throw': 8598, 'thsundestanding': 8599, 'tht\"I': 8600, \"tht'sOba\": 8601, 'thth': 8602, 'thtuth': 8603, 'thug\"anbully\"forcommns': 8604, 'thugand': 8605, 'thwhle': 8606, \"thy'egoden\": 8607, 'thyaresuppressingvotes': 8608, \"thycn't\": 8609, 'tied': 8610, 'tiefo': 8611, 'tig': 8612, 'tight': 8613, 'tih': 8614, 'tik': 8615, 'til': 8616, 'timeorinar': 8617, 'tin]can': 8618, 'ting': 8619, 'tings': 8620, 'tink': 8621, 'tinkabutit': 8622, 'tinkprogres': 8623, 'titled': 8624, 'tke': 8625, 'tkes': 8626, 'tle': 8627, 'tlet': 8628, 'tlks': 8629, 'tll': 8630, 'tlot#sgp': 8631, 'tlowithew': 8632, 'tmpts': 8633, 'tmuch': 8634, 'tn': 8635, 'tnht': 8636, 'tnightres': 8637, 'to\"reerv': 8638, 'to$3.M': 8639, 'to56': 8640, 'toMcads': 8641, 'toMcdaldswithaa': 8642, 'toMcdas': 8643, 'toMcdnads': 8644, 'toMcdnaldwith': 8645, 'toMcdoald': 8646, 'toMcdonalds': 8647, 'toMcdonaldsih': 8648, 'toMconads': 8649, 'toYI': 8650, 'toasingle': 8651, 'toavoid': 8652, 'tobwore': 8653, 'tocdolds': 8654, 'tocdonaswih': 8655, 'tocdonds': 8656, 'toda': 8657, 'todg': 8658, 'toet': 8659, 'togh': 8660, 'togt': 8661, 'tohae': 8662, 'tohave': 8663, 'tohaveon': 8664, 'toht': 8665, 'toigh': 8666, 'toight': 8667, 'toilt': 8668, 'tojuslet': 8669, 'tol': 8670, 'tolanch': 8671, 'told': 8672, 'toldAIPAC': 8673, 'tolf': 8674, 'tomrow': 8675, 'tomusle': 8676, 'tongt': 8677, 'tonigh': 8678, 'toodumb': 8679, 'took': 8680, 'toouch': 8681, 'topic': 8682, 'topics': 8683, 'topod': 8684, 'tor': 8685, 'tora': 8686, 'tormifte': 8687, 'tosht': 8688, 'tosteal': 8689, 'tostop': 8690, 'tot#t': 8691, 'tot..ht://t.co/oVMu9fKA': 8692, 'totag': 8693, 'totrain': 8694, 'touch': 8695, 'toug': 8696, 'tougust': 8697, 'tounderstand': 8698, 'tousmarijuanaancocine': 8699, 'touus': 8700, 'tovote': 8701, 'tox': 8702, 'tp//.co/1Ps0UL': 8703, 'tp://o': 8704, 'tp://o9WGira5': 8705, 'tp://t.c': 8706, 'tp://t.co/B2cIX23': 8707, 'tp://t.co/Drl9zwA': 8708, 'tp://t.co/w1Rzm': 8709, 'tp://tco': 8710, 'tp:/tco': 8711, 'tp:/tco/2Akyq': 8712, 'tp:/tco/2bb5AIS': 8713, 'tphen': 8714, 'tpn#sgp': 8715, 'tquWJUt': 8716, 'tract': 8717, 'traitor': 8718, 'tranparen': 8719, 'transcripts': 8720, 'transcrpts': 8721, 'trascript': 8722, 'trategy': 8723, 'traveled': 8724, 'trdg': 8725, 'trekers': 8726, 'trending': 8727, 'trening': 8728, 'treson': 8729, 'trilion': 8730, 'trillns': 8731, 'trilnin': 8732, 'trilo': 8733, 'trilon': 8734, 'trin': 8735, 'trncript.#WhasRomeyHiding': 8736, 'trnsaret': 8737, 'tron': 8738, 'troughithyour': 8739, 'trrorist': 8740, 'trth': 8741, 'tru': 8742, 'trufirms': 8743, 'truhat': 8744, 'trups': 8745, 'trut': 8746, 'truy': 8747, 'trveling': 8748, 'tryin': 8749, 'trying': 8750, 'tryng': 8751, 'tsagliani': 8752, 'tsclen': 8753, 'tt://t.c': 8754, 'tt://t.co/9a1deP': 8755, 'tt://t.co/RhSzoU7via': 8756, 'tt://t.co/avbgN5': 8757, 'tt://t.co/svxFPoq': 8758, 'tt://t.coHi8NnhBT': 8759, 'tt:/t.coD6dSb': 8760, 'ttackon': 8761, 'ttactiv': 8762, 'ttle': 8763, 'ttled': 8764, 'ttp': 8765, 'ttp//t.co': 8766, 'ttp//t.covx8N': 8767, 'ttp:/.cUlXkp3': 8768, 'ttp:/.co': 8769, 'ttp:/.co/2gnXD0f': 8770, 'ttp:/.co/2khwK': 8771, 'ttp:/.o': 8772, 'ttp://./PBphC': 8773, 'ttp://.c': 8774, 'ttp://.co': 8775, 'ttp://t.c/0LxX': 8776, 'ttp://t.co/GLopiyOC': 8777, 'ttp://t.co/Sm9s2o9i': 8778, 'ttp://t.co/dFTju': 8779, 'ttp://t.co/xFPoHq': 8780, 'ttp://t.coUbLfVd': 8781, 'ttp://t.coxluoi3GU': 8782, 'ttp://t.orhDtpLs': 8783, 'ttp://tc': 8784, 'ttp://tco/2i4SmoP': 8785, 'ttp://toyh55hM': 8786, 'ttp:/t.c': 8787, 'ttp:/t.udCXC': 8788, 'ttsObama': 8789, 'tudn': 8790, 'tuemriuana': 8791, 'tuh': 8792, 'turned': 8793, 'twce': 8794, 'twco': 8795, 'twcot': 8796, 'twee': 8797, 'tween': 8798, 'tweetiabout': 8799, 'tweetsall': 8800, 'tweto': 8801, 'twit': 8802, 'two': 8803, 'twoHarvard': 8804, 'twsters': 8805, 'twstes': 8806, 'twter': 8807, 'twtter': 8808, 'txe': 8809, 'ty': 8810, 'tyles': 8811, 'typ': 8812, 'type': 8813, 'u0GrbKf': 8814, 'u73AEV': 8815, 'uKTidE': 8816, 'uMhu62nd': 8817, 'uOkvii8': 8818, 'uamjer': 8819, 'ubjct': 8820, 'uch': 8821, 'ucl': 8822, 'uder': 8823, 'udertad': 8824, 'udetsoial': 8825, 'udges': 8826, 'udiial': 8827, 'udt': 8828, 'ueen?\"': 8829, 'ueen?\".ritish': 8830, 'uel': 8831, 'uempoymen': 8832, 'ueploynt': 8833, 'ufouers': 8834, 'ug': 8835, 'uga': 8836, 'uge': 8837, 'uget': 8838, 'ugta': 8839, 'ugusta//': 8840, 'uhavtea': 8841, 'uigas': 8842, 'uios': 8843, 'ujeres': 8844, 'uke': 8845, 'uks\"http//t.co': 8846, 'uli': 8847, 'ullshi': 8848, 'ulrasecretvoba': 8849, 'uly': 8850, 'um': 8851, 'umait': 8852, 'umm': 8853, 'umt': 8854, 'una': 8855, 'unaainst': 8856, 'unabe': 8857, 'unch': 8858, 'uncl': 8859, \"uncle'rivrlicense\": 8860, 'und': 8861, 'undersan': 8862, 'undersand': 8863, 'understimae#tot': 8864, 'understn': 8865, 'undie': 8866, 'undiser': 8867, 'undngan': 8868, 'undstand': 8869, 'une': 8870, 'unisr': 8871, 'universite': 8872, 'unmerica': 8873, 'unmployent': 8874, 'unploymen': 8875, 'unqualified': 8876, 'unstans': 8877, 'until': 8878, 'upSupreme': 8879, 'upet': 8880, 'upot': 8881, 'upporterislike': 8882, 'upreme': 8883, 'upremeour': 8884, 'upset': 8885, 'upsetwe': 8886, 'upst': 8887, 'uptartu': 8888, 'upthe': 8889, 'urha': 8890, 'urniArud': 8891, 'ursnkes': 8892, 'usaf': 8893, 'usbadansthrgfor': 8894, 'usehis': 8895, 'usemarjuan': 8896, 'uses': 8897, 'ush': 8898, 'usic': 8899, 'usin': 8900, 'usli': 8901, 'usmarijuanand': 8902, 'usmc': 8903, 'usmourning': 8904, 'ussits': 8905, 'uthve': 8906, 'utices': 8907, 'utile': 8908, 'utimte': 8909, 'utoeMssng': 8910, 'utterfailure': 8911, 'uttnfood': 8912, 'uure': 8913, 'uuredeen': 8914, 'v': 8915, 'v.': 8916, 'v6ICoS': 8917, 'v@yutub': 8918, 'va@yahocadews': 8919, 'vale': 8920, 'vbHf1w9e': 8921, 'vdeo': 8922, 'ven': 8923, 'venfInsurance': 8924, 'veriicatin': 8925, 'vernown': 8926, 'verses': 8927, 'veryeiabl': 8928, 'verythingOam': 8929, 'vete': 8930, 'veteawhte': 8931, 'vi': 8932, 'vi@POTIC#p2': 8933, 'via@AddTh': 8934, 'via@bcpoitis': 8935, 'via@youtub': 8936, 'via@ytube': 8937, 'viayute': 8938, 'videtape': 8939, 'vido': 8940, 'vioence': 8941, 'viul': 8942, 'vlid': 8943, 'vlue': 8944, 'vng': 8945, 'vodoo': 8946, 'volunter': 8947, 'vot': 8948, 'voter': 8949, 'votes': 8950, 'votesnsvera': 8951, 'votingforhim': 8952, 'votrs': 8953, 'vots': 8954, 'vr': 8955, 'vrsonf': 8956, 'vry': 8957, 'vs.': 8958, 'vt': 8959, 'vte': 8960, 'vtea': 8961, 'vtefor': 8962, 'vvTNwON': 8963, 'w/': 8964, 'wIsV2': 8965, 'wNy7T6': 8966, 'wObama': 8967, 'wX1RzFKm': 8968, 'waccetci': 8969, 'waelcted': 8970, 'waging': 8971, 'waitTht': 8972, 'waitin': 8973, 'walk': 8974, 'wall': 8975, 'wanind': 8976, 'wank': 8977, 'warare': 8978, 'warfre': 8979, 'warming': 8980, 'wasOamano': 8981, 'wasinlved': 8982, 'wasssing': 8983, 'wasteful': 8984, 'waterbord': 8985, 'watous': 8986, 'watsromnehiding': 8987, 'wcHRM5': 8988, 'wd': 8989, 'weanshare': 8990, 'weaons': 8991, 'weapn': 8992, 'wearallinagemen': 8993, 'weare': 8994, 'weas': 8995, 'websie': 8996, 'wee': 8997, 'weejust': 8998, 'weet': 8999, 'wehave': 9000, 'wekesses': 9001, 'wel': 9002, 'well': 9003, 'wen': 9004, 'weneed': 9005, 'wenobama': 9006, 'wepns': 9007, 'wer': 9008, 'werejusttoo': 9009, 'werjus': 9010, 'wethepeol': 9011, 'wevedide': 9012, 'wewhit': 9013, 'wf': 9014, 'wg': 9015, 'whahegunsale': 9016, 'whale': 9017, 'wharomnyhiding': 9018, \"what'omney\": 9019, 'whatromeyhding': 9020, 'whatroneyidng': 9021, 'whatsRomneyHidiUm': 9022, 'whatsobaing': 9023, 'whatsomnyhdin': 9024, 'whatsrmneyhdin': 9025, 'whatsrmnhn': 9026, 'whatsroeyhig': 9027, 'whatsromnyhiding': 9028, 'whch': 9029, 'whe2': 9030, 'wheObm': 9031, 'whee': 9032, 'wheher': 9033, 'whenCOTUS': 9034, 'whene': 9035, 'where': 9036, 'wherethe': 9037, 'whh': 9038, 'whi': 9039, 'whis': 9040, 'whisacin': 9041, 'whit': 9042, 'whitehose': 9043, 'whitehoue#screyee': 9044, 'whiteoaa': 9045, 'whlebanstormig': 9046, 'whoes': 9047, 'whoh': 9048, 'whoha': 9049, 'whole': 9050, 'whosays': 9051, 'whostwo': 9052, 'whoworke': 9053, 'wht': 9054, 'whthe': 9055, 'whwas': 9056, 'whyi': 9057, 'whyot': 9058, 'wiOba': 9059, 'wid': 9060, 'wie': 9061, 'wier': 9062, 'wies': 9063, 'wife': 9064, 'wig': 9065, 'wigr': 9066, 'wihas': 9067, 'wihhe': 9068, 'wihheQuen': 9069, 'wilalk': 9070, 'wile': 9071, 'willbe': 9072, 'willeceedor': 9073, 'willnt': 9074, 'willtop': 9075, 'willvo': 9076, 'willwin': 9077, 'win': 9078, 'wins': 9079, 'wishes': 9080, 'witOama': 9081, 'witObama': 9082, 'witObm': 9083, 'witama': 9084, 'wite': 9085, 'withOam': 9086, 'withOba': 9087, 'withObaa': 9088, 'withObam': 9089, 'withObm': 9090, 'withObma': 9091, 'witha': 9092, 'withhe': 9093, 'withhis': 9094, 'withnet': 9095, 'withnewt': 9096, 'withnewt#tcot': 9097, 'witht': 9098, 'withte': 9099, 'withth': 9100, 'witth': 9101, 'wittheObama': 9102, 'wiut': 9103, 'wkfor': 9104, 'wl': 9105, 'wldaceptci': 9106, 'wlding': 9107, 'wllnever': 9108, 'wlnotprsue': 9109, 'wm': 9110, 'wmn': 9111, 'wnder': 9112, 'wne': 9113, \"wo'd\": 9114, \"wo't\": 9115, 'woan': 9116, 'woan\"BAMA': 9117, 'wodaccept': 9118, 'wodeh': 9119, 'woder': 9120, 'woen\"@dshow': 9121, 'woenshold': 9122, 'wohas': 9123, 'woi': 9124, 'wok': 9125, 'woks': 9126, 'woldreelect': 9127, 'womeaditted': 9128, 'womenft': 9129, 'wonderwhy': 9130, 'wondring': 9131, 'wondrwat': 9132, 'wong': 9133, 'woods': 9134, 'wor': 9135, 'wording': 9136, 'worstenemy': 9137, 'wory': 9138, 'woseob': 9139, 'woudreelctObma': 9140, 'wris': 9141, 'writes': 9142, 'wrkinmama': 9143, 'wrld&stil': 9144, 'wrng': 9145, 'wrog': 9146, 'wrry': 9147, 'wsmat': 9148, 'wspsed': 9149, 'wteful': 9150, 'wthObam': 9151, 'wtha': 9152, 'wthconctedelon': 9153, 'wththe': 9154, 'wtothersto': 9155, 'ww': 9156, 'wwer': 9157, 'wy90': 9158, 'x': 9159, 'x4UeqV': 9160, 'x5vw6y4': 9161, 'xQMcaa': 9162, 'xShwag': 9163, 'xooFjTO': 9164, 'xosed': 9165, 'xplins': 9166, 'xraof': 9167, 'xreturns': 9168, 'xst': 9169, 'y.': 9170, 'y12mGS': 9171, 'ya': 9172, 'yar': 9173, 'ybefor': 9174, 'yblog': 9175, 'ybt': 9176, 'yd': 9177, 'yea': 9178, 'yeail': 9179, 'yearf': 9180, 'yearsf': 9181, 'yete': 9182, 'yg8l99': 9183, 'yhaveteawith': 9184, 'yiadea': 9185, 'ymore': 9186, 'yn': 9187, 'yohave': 9188, 'yohaveea': 9189, 'yohaveteawth': 9190, 'yolike': 9191, 'yorcountr': 9192, \"you'e\": 9193, \"you'r\": 9194, 'youand': 9195, 'youay': 9196, 'youhav': 9197, 'youhavetea': 9198, 'youhe': 9199, 'youhve': 9200, 'youlie': 9201, 'youlke': 9202, 'younster': 9203, 'youoe': 9204, 'yourcaller': 9205, 'yourf': 9206, 'yourilements': 9207, 'youtellngthem': 9208, 'yrfavoiteeo': 9209, 'yrl': 9210, 'ys': 9211, 'ystray': 9212, 'yte': 9213, 'yuhae': 9214, 'yuhave': 9215, 'yup': 9216, 'yur': 9217, 'y|': 9218, 'z4KU2H': 9219, 'zD7kRt': 9220, 'zHkcmmybv': 9221, 'zcSK1Jd': 9222, 'zip': 9223, 'ztuxsn1': 9224, '|Spreme': 9225, '|lgbt': 9226})\n"
          ],
          "name": "stdout"
        }
      ]
    },
    {
      "cell_type": "markdown",
      "metadata": {
        "id": "1wV6WQUumL17"
      },
      "source": [
        "**Lots of stopwords!!**"
      ]
    },
    {
      "cell_type": "markdown",
      "metadata": {
        "id": "NEyYWOpNmL17"
      },
      "source": [
        "Now we need to create a data loader to feed into our training loop. Torchtext provides the BucketIterator method that will produce what it calls a Batch, which is almost, but not quite, like the data loader we used on images."
      ]
    },
    {
      "cell_type": "markdown",
      "metadata": {
        "id": "DNOvqwn4mL17"
      },
      "source": [
        "But at first declare the device we are using."
      ]
    },
    {
      "cell_type": "code",
      "metadata": {
        "id": "yRzw65y4mL17"
      },
      "source": [
        "device = torch.device(\"cuda\" if torch.cuda.is_available() else \"cpu\")"
      ],
      "execution_count": 257,
      "outputs": []
    },
    {
      "cell_type": "code",
      "metadata": {
        "id": "IWr2Nk1lmL17"
      },
      "source": [
        "train_iterator, valid_iterator = data.BucketIterator.splits((train, valid), batch_size = 32, \n",
        "                                                            sort_key = lambda x: len(x.tweets),\n",
        "                                                            sort_within_batch=True, device = device)"
      ],
      "execution_count": 258,
      "outputs": []
    },
    {
      "cell_type": "markdown",
      "metadata": {
        "id": "JaAeX_jXmL17"
      },
      "source": [
        "Save the vocabulary for later use"
      ]
    },
    {
      "cell_type": "code",
      "metadata": {
        "id": "nT18q1BNmL17"
      },
      "source": [
        "import os, pickle\n",
        "with open('s7_tokenizer.pkl', 'wb') as tokens: \n",
        "    pickle.dump(Tweet.vocab.stoi, tokens)"
      ],
      "execution_count": 259,
      "outputs": []
    },
    {
      "cell_type": "markdown",
      "metadata": {
        "id": "ZQq4aV4WmL17"
      },
      "source": [
        "## Defining Our Model"
      ]
    },
    {
      "cell_type": "markdown",
      "metadata": {
        "id": "vnBY-f12mL18"
      },
      "source": [
        "We use the Embedding and LSTM modules in PyTorch to build a simple model for classifying tweets.\n",
        "\n",
        "In this model we create three layers. \n",
        "1. First, the words in our tweets are pushed into an Embedding layer, which we have established as a 300-dimensional vector embedding. \n",
        "2. That’s then fed into a 2 stacked-LSTMs with 100 hidden features (again, we’re compressing down from the 300-dimensional input like we did with images). We are using 2 LSTMs for using the dropout.\n",
        "3. Finally, the output of the LSTM (the final hidden state after processing the incoming tweet) is pushed through a standard fully connected layer with three outputs to correspond to our three possible classes (negative, positive, or neutral)."
      ]
    },
    {
      "cell_type": "code",
      "metadata": {
        "id": "vRWAivrmmL18"
      },
      "source": [
        "import torch.nn as nn\n",
        "import torch.nn.functional as F\n",
        "\n",
        "class classifier(nn.Module):\n",
        "    \n",
        "    # Define all the layers used in model\n",
        "    def __init__(self, vocab_size, embedding_dim, hidden_dim, output_dim, n_layers, dropout):\n",
        "        \n",
        "        super().__init__()          \n",
        "        \n",
        "        # Embedding layer\n",
        "        self.embedding = nn.Embedding(vocab_size, embedding_dim)\n",
        "        \n",
        "        # LSTM layer\n",
        "        self.encoder = nn.LSTM(embedding_dim, \n",
        "                           hidden_dim, \n",
        "                           num_layers=n_layers, \n",
        "                           dropout=dropout,\n",
        "                           batch_first=True,\n",
        "                           bidirectional=False)\n",
        "        # try using nn.GRU or nn.RNN here and compare their performances\n",
        "        # try bidirectional and compare their performances\n",
        "        \n",
        "        # Dense layer\n",
        "        self.fc = nn.Linear(hidden_dim, output_dim)\n",
        "        \n",
        "    def forward(self, text, text_lengths):\n",
        "        \n",
        "        # text = [batch size, sent_length]\n",
        "        embedded = self.embedding(text)\n",
        "        # embedded = [batch size, sent_len, emb dim]\n",
        "      \n",
        "        # packed sequence\n",
        "        packed_embedded = nn.utils.rnn.pack_padded_sequence(embedded, text_lengths.cpu(), batch_first=True)  # one to actually execute padding\n",
        "        \n",
        "        packed_output, (hidden, cell) = self.encoder(packed_embedded)\n",
        "        #hidden = [batch size, num layers * num directions,hid dim]\n",
        "        #cell = [batch size, num layers * num directions,hid dim]\n",
        "    \n",
        "        # Hidden = [batch size, hid dim * num, directions]\n",
        "        dense_outputs = self.fc(hidden)   \n",
        "        \n",
        "        # Final activation function softmax\n",
        "        output = F.softmax(dense_outputs[0], dim=1)\n",
        "            \n",
        "        return output"
      ],
      "execution_count": 268,
      "outputs": []
    },
    {
      "cell_type": "code",
      "metadata": {
        "id": "OExhRL6OmL18"
      },
      "source": [
        "# Define hyperparameters\n",
        "size_of_vocab = len(Tweet.vocab)\n",
        "\n",
        "embedding_dim = 300\n",
        "\n",
        "num_hidden_nodes = 100\n",
        "\n",
        "num_output_nodes = 3\n",
        "\n",
        "num_layers = 2\n",
        "\n",
        "dropout = 0.2\n",
        "\n",
        "\n",
        "# Instantiate the model\n",
        "model = classifier(size_of_vocab, embedding_dim, num_hidden_nodes, num_output_nodes, num_layers, dropout = dropout)"
      ],
      "execution_count": 269,
      "outputs": []
    },
    {
      "cell_type": "code",
      "metadata": {
        "colab": {
          "base_uri": "https://localhost:8080/"
        },
        "id": "msnqcIgQmL18",
        "outputId": "eaaac6a4-39c0-49db-85cf-f94b7bf4f6bf"
      },
      "source": [
        "print(model)\n",
        "\n",
        "#No. of trianable parameters\n",
        "def count_parameters(model):\n",
        "    return sum(p.numel() for p in model.parameters() if p.requires_grad)\n",
        "    \n",
        "print(f'The model has {count_parameters(model):,} trainable parameters')"
      ],
      "execution_count": 270,
      "outputs": [
        {
          "output_type": "stream",
          "text": [
            "classifier(\n",
            "  (embedding): Embedding(9227, 300)\n",
            "  (encoder): LSTM(300, 100, num_layers=2, batch_first=True, dropout=0.2)\n",
            "  (fc): Linear(in_features=100, out_features=3, bias=True)\n",
            ")\n",
            "The model has 3,010,003 trainable parameters\n"
          ],
          "name": "stdout"
        }
      ]
    },
    {
      "cell_type": "markdown",
      "metadata": {
        "id": "WOJW-M-QmL18"
      },
      "source": [
        "## Model Training and Evaluation"
      ]
    },
    {
      "cell_type": "markdown",
      "metadata": {
        "id": "mFD3U_K_mL19"
      },
      "source": [
        "First define the optimizer and loss functions"
      ]
    },
    {
      "cell_type": "code",
      "metadata": {
        "id": "Ye4cYTwGmL1-"
      },
      "source": [
        "import torch.optim as optim\n",
        "\n",
        "# define optimizer and loss\n",
        "optimizer = optim.Adam(model.parameters(), lr=4e-5)\n",
        "criterion = nn.CrossEntropyLoss()\n",
        "\n",
        "# define metric\n",
        "def binary_accuracy(preds, y):\n",
        "    #round predictions to the closest integer\n",
        "    _, predictions = torch.max(preds, 1)  # max returns the max values and max indices, here we need only the max indices\n",
        "    \n",
        "    correct = (predictions == y).float() \n",
        "    acc = correct.sum() / len(correct)\n",
        "    return acc\n",
        "    \n",
        "# push to cuda if available\n",
        "model = model.to(device)\n",
        "criterion = criterion.to(device)"
      ],
      "execution_count": 271,
      "outputs": []
    },
    {
      "cell_type": "markdown",
      "metadata": {
        "id": "Rciwcx3tmL1-"
      },
      "source": [
        "The main thing to be aware of in this new training loop is that we have to reference `batch.tweets` and `batch.labels` to get the particular fields we’re interested in; they don’t fall out quite as nicely from the enumerator as they do in torchvision."
      ]
    },
    {
      "cell_type": "markdown",
      "metadata": {
        "id": "M5m-81SjmL1-"
      },
      "source": [
        "**Training Loop**"
      ]
    },
    {
      "cell_type": "code",
      "metadata": {
        "id": "kgpfwTI7mL1-"
      },
      "source": [
        "def train(model, iterator, optimizer, criterion):\n",
        "    \n",
        "    # initialize every epoch \n",
        "    epoch_loss = 0\n",
        "    epoch_acc = 0\n",
        "    \n",
        "    # set the model in training phase\n",
        "    model.train()  \n",
        "    \n",
        "    for batch in iterator:\n",
        "        \n",
        "        # resets the gradients after every batch\n",
        "        optimizer.zero_grad()   \n",
        "        \n",
        "        # retrieve text and no. of words\n",
        "        tweet, tweet_lengths = batch.tweets   \n",
        "        \n",
        "        # convert to 1D tensor\n",
        "        predictions = model(tweet, tweet_lengths).squeeze()  \n",
        "        \n",
        "        # compute the loss\n",
        "        loss = criterion(predictions, batch.labels)        \n",
        "        \n",
        "        # compute the binary accuracy\n",
        "        acc = binary_accuracy(predictions, batch.labels)   \n",
        "        \n",
        "        # backpropage the loss and compute the gradients\n",
        "        loss.backward()       \n",
        "        \n",
        "        # update the weights\n",
        "        optimizer.step()      \n",
        "        \n",
        "        # loss and accuracy\n",
        "        epoch_loss += loss.item()  \n",
        "        epoch_acc += acc.item()    \n",
        "        \n",
        "    return epoch_loss / len(iterator), epoch_acc / len(iterator)  # return average loss and average acc"
      ],
      "execution_count": 272,
      "outputs": []
    },
    {
      "cell_type": "markdown",
      "metadata": {
        "id": "BVvLxYOXmL1-"
      },
      "source": [
        "**Evaluation Loop**"
      ]
    },
    {
      "cell_type": "code",
      "metadata": {
        "id": "D9FlLLEPmL1-"
      },
      "source": [
        "def evaluate(model, iterator, criterion):\n",
        "    \n",
        "    # initialize every epoch\n",
        "    epoch_loss = 0\n",
        "    epoch_acc = 0\n",
        "\n",
        "    # deactivating dropout layers\n",
        "    model.eval()\n",
        "    \n",
        "    # deactivates autograd\n",
        "    with torch.no_grad():\n",
        "    \n",
        "        for batch in iterator:\n",
        "        \n",
        "            # retrieve text and no. of words\n",
        "            tweet, tweet_lengths = batch.tweets\n",
        "            \n",
        "            # convert to 1d tensor\n",
        "            predictions = model(tweet, tweet_lengths).squeeze()\n",
        "            \n",
        "            # compute loss and accuracy\n",
        "            loss = criterion(predictions, batch.labels)\n",
        "            acc = binary_accuracy(predictions, batch.labels)\n",
        "            \n",
        "            # keep track of loss and accuracy\n",
        "            epoch_loss += loss.item()\n",
        "            epoch_acc += acc.item()\n",
        "        \n",
        "    return epoch_loss / len(iterator), epoch_acc / len(iterator)"
      ],
      "execution_count": 273,
      "outputs": []
    },
    {
      "cell_type": "markdown",
      "metadata": {
        "id": "UQbDqAPvmL1-"
      },
      "source": [
        "**Let's Train and Evaluate**"
      ]
    },
    {
      "cell_type": "code",
      "metadata": {
        "colab": {
          "base_uri": "https://localhost:8080/"
        },
        "id": "JkYDlCavmL1-",
        "outputId": "8874cee0-a2e1-4354-b15a-4f6d0c319fee"
      },
      "source": [
        "N_EPOCHS = 100\n",
        "best_valid_loss = float('inf')  # initialize with float\n",
        "\n",
        "for epoch in range(N_EPOCHS):\n",
        "     \n",
        "    # train the model\n",
        "    train_loss, train_acc = train(model, train_iterator, optimizer, criterion)\n",
        "    \n",
        "    # evaluate the model\n",
        "    valid_loss, valid_acc = evaluate(model, valid_iterator, criterion)\n",
        "    \n",
        "    # save the best model\n",
        "    if valid_loss < best_valid_loss:\n",
        "        best_valid_loss = valid_loss\n",
        "        torch.save(model.state_dict(), 's7_saved_weights.pt')\n",
        "    \n",
        "    print(f'\\tTrain Loss: {train_loss:.3f} | Train Acc: {train_acc*100:.2f}%')\n",
        "    print(f'\\t Val. Loss: {valid_loss:.3f} |  Val. Acc: {valid_acc*100:.2f}% \\n')"
      ],
      "execution_count": 274,
      "outputs": [
        {
          "output_type": "stream",
          "text": [
            "\tTrain Loss: 1.097 | Train Acc: 35.53%\n",
            "\t Val. Loss: 1.084 |  Val. Acc: 46.05% \n",
            "\n",
            "\tTrain Loss: 1.085 | Train Acc: 47.59%\n",
            "\t Val. Loss: 1.073 |  Val. Acc: 57.83% \n",
            "\n",
            "\tTrain Loss: 1.073 | Train Acc: 55.19%\n",
            "\t Val. Loss: 1.060 |  Val. Acc: 59.17% \n",
            "\n",
            "\tTrain Loss: 1.060 | Train Acc: 58.36%\n",
            "\t Val. Loss: 1.047 |  Val. Acc: 60.51% \n",
            "\n",
            "\tTrain Loss: 1.047 | Train Acc: 59.71%\n",
            "\t Val. Loss: 1.034 |  Val. Acc: 62.95% \n",
            "\n",
            "\tTrain Loss: 1.033 | Train Acc: 62.67%\n",
            "\t Val. Loss: 1.021 |  Val. Acc: 66.52% \n",
            "\n",
            "\tTrain Loss: 1.020 | Train Acc: 64.78%\n",
            "\t Val. Loss: 1.007 |  Val. Acc: 68.30% \n",
            "\n",
            "\tTrain Loss: 1.006 | Train Acc: 66.72%\n",
            "\t Val. Loss: 0.995 |  Val. Acc: 68.75% \n",
            "\n",
            "\tTrain Loss: 0.992 | Train Acc: 67.31%\n",
            "\t Val. Loss: 0.981 |  Val. Acc: 68.75% \n",
            "\n",
            "\tTrain Loss: 0.976 | Train Acc: 68.58%\n",
            "\t Val. Loss: 0.967 |  Val. Acc: 68.75% \n",
            "\n",
            "\tTrain Loss: 0.961 | Train Acc: 69.17%\n",
            "\t Val. Loss: 0.954 |  Val. Acc: 68.75% \n",
            "\n",
            "\tTrain Loss: 0.945 | Train Acc: 69.34%\n",
            "\t Val. Loss: 0.940 |  Val. Acc: 68.30% \n",
            "\n",
            "\tTrain Loss: 0.929 | Train Acc: 69.34%\n",
            "\t Val. Loss: 0.926 |  Val. Acc: 68.30% \n",
            "\n",
            "\tTrain Loss: 0.911 | Train Acc: 69.26%\n",
            "\t Val. Loss: 0.911 |  Val. Acc: 68.30% \n",
            "\n",
            "\tTrain Loss: 0.894 | Train Acc: 69.51%\n",
            "\t Val. Loss: 0.898 |  Val. Acc: 68.30% \n",
            "\n",
            "\tTrain Loss: 0.878 | Train Acc: 69.43%\n",
            "\t Val. Loss: 0.888 |  Val. Acc: 68.30% \n",
            "\n",
            "\tTrain Loss: 0.867 | Train Acc: 69.43%\n",
            "\t Val. Loss: 0.883 |  Val. Acc: 68.30% \n",
            "\n",
            "\tTrain Loss: 0.860 | Train Acc: 69.43%\n",
            "\t Val. Loss: 0.881 |  Val. Acc: 68.30% \n",
            "\n",
            "\tTrain Loss: 0.855 | Train Acc: 69.59%\n",
            "\t Val. Loss: 0.879 |  Val. Acc: 68.30% \n",
            "\n",
            "\tTrain Loss: 0.850 | Train Acc: 69.76%\n",
            "\t Val. Loss: 0.878 |  Val. Acc: 68.30% \n",
            "\n",
            "\tTrain Loss: 0.846 | Train Acc: 70.61%\n",
            "\t Val. Loss: 0.877 |  Val. Acc: 67.86% \n",
            "\n",
            "\tTrain Loss: 0.841 | Train Acc: 71.11%\n",
            "\t Val. Loss: 0.876 |  Val. Acc: 67.86% \n",
            "\n",
            "\tTrain Loss: 0.836 | Train Acc: 71.71%\n",
            "\t Val. Loss: 0.874 |  Val. Acc: 67.41% \n",
            "\n",
            "\tTrain Loss: 0.831 | Train Acc: 72.47%\n",
            "\t Val. Loss: 0.873 |  Val. Acc: 67.41% \n",
            "\n",
            "\tTrain Loss: 0.827 | Train Acc: 73.48%\n",
            "\t Val. Loss: 0.872 |  Val. Acc: 67.86% \n",
            "\n",
            "\tTrain Loss: 0.822 | Train Acc: 74.41%\n",
            "\t Val. Loss: 0.871 |  Val. Acc: 67.86% \n",
            "\n",
            "\tTrain Loss: 0.818 | Train Acc: 74.83%\n",
            "\t Val. Loss: 0.871 |  Val. Acc: 67.86% \n",
            "\n",
            "\tTrain Loss: 0.813 | Train Acc: 74.92%\n",
            "\t Val. Loss: 0.870 |  Val. Acc: 68.30% \n",
            "\n",
            "\tTrain Loss: 0.809 | Train Acc: 75.34%\n",
            "\t Val. Loss: 0.869 |  Val. Acc: 68.30% \n",
            "\n",
            "\tTrain Loss: 0.805 | Train Acc: 75.76%\n",
            "\t Val. Loss: 0.868 |  Val. Acc: 68.75% \n",
            "\n",
            "\tTrain Loss: 0.800 | Train Acc: 76.44%\n",
            "\t Val. Loss: 0.867 |  Val. Acc: 69.20% \n",
            "\n",
            "\tTrain Loss: 0.796 | Train Acc: 76.60%\n",
            "\t Val. Loss: 0.867 |  Val. Acc: 69.20% \n",
            "\n",
            "\tTrain Loss: 0.792 | Train Acc: 76.86%\n",
            "\t Val. Loss: 0.866 |  Val. Acc: 69.20% \n",
            "\n",
            "\tTrain Loss: 0.788 | Train Acc: 77.11%\n",
            "\t Val. Loss: 0.866 |  Val. Acc: 69.20% \n",
            "\n",
            "\tTrain Loss: 0.784 | Train Acc: 77.36%\n",
            "\t Val. Loss: 0.865 |  Val. Acc: 68.75% \n",
            "\n",
            "\tTrain Loss: 0.780 | Train Acc: 77.79%\n",
            "\t Val. Loss: 0.865 |  Val. Acc: 68.75% \n",
            "\n",
            "\tTrain Loss: 0.776 | Train Acc: 77.79%\n",
            "\t Val. Loss: 0.865 |  Val. Acc: 69.20% \n",
            "\n",
            "\tTrain Loss: 0.772 | Train Acc: 78.80%\n",
            "\t Val. Loss: 0.864 |  Val. Acc: 68.75% \n",
            "\n",
            "\tTrain Loss: 0.768 | Train Acc: 78.89%\n",
            "\t Val. Loss: 0.864 |  Val. Acc: 68.30% \n",
            "\n",
            "\tTrain Loss: 0.764 | Train Acc: 79.56%\n",
            "\t Val. Loss: 0.864 |  Val. Acc: 68.75% \n",
            "\n",
            "\tTrain Loss: 0.760 | Train Acc: 80.07%\n",
            "\t Val. Loss: 0.865 |  Val. Acc: 68.75% \n",
            "\n",
            "\tTrain Loss: 0.757 | Train Acc: 80.41%\n",
            "\t Val. Loss: 0.865 |  Val. Acc: 68.75% \n",
            "\n",
            "\tTrain Loss: 0.753 | Train Acc: 81.00%\n",
            "\t Val. Loss: 0.866 |  Val. Acc: 68.30% \n",
            "\n",
            "\tTrain Loss: 0.749 | Train Acc: 81.33%\n",
            "\t Val. Loss: 0.866 |  Val. Acc: 68.30% \n",
            "\n",
            "\tTrain Loss: 0.746 | Train Acc: 81.76%\n",
            "\t Val. Loss: 0.866 |  Val. Acc: 69.64% \n",
            "\n",
            "\tTrain Loss: 0.742 | Train Acc: 82.60%\n",
            "\t Val. Loss: 0.867 |  Val. Acc: 69.20% \n",
            "\n",
            "\tTrain Loss: 0.739 | Train Acc: 82.77%\n",
            "\t Val. Loss: 0.867 |  Val. Acc: 69.20% \n",
            "\n",
            "\tTrain Loss: 0.735 | Train Acc: 83.45%\n",
            "\t Val. Loss: 0.867 |  Val. Acc: 69.20% \n",
            "\n",
            "\tTrain Loss: 0.732 | Train Acc: 84.12%\n",
            "\t Val. Loss: 0.868 |  Val. Acc: 69.20% \n",
            "\n",
            "\tTrain Loss: 0.728 | Train Acc: 84.38%\n",
            "\t Val. Loss: 0.869 |  Val. Acc: 69.20% \n",
            "\n",
            "\tTrain Loss: 0.725 | Train Acc: 85.56%\n",
            "\t Val. Loss: 0.870 |  Val. Acc: 68.75% \n",
            "\n",
            "\tTrain Loss: 0.722 | Train Acc: 86.15%\n",
            "\t Val. Loss: 0.871 |  Val. Acc: 68.75% \n",
            "\n",
            "\tTrain Loss: 0.719 | Train Acc: 86.82%\n",
            "\t Val. Loss: 0.871 |  Val. Acc: 67.86% \n",
            "\n",
            "\tTrain Loss: 0.715 | Train Acc: 87.16%\n",
            "\t Val. Loss: 0.872 |  Val. Acc: 66.96% \n",
            "\n",
            "\tTrain Loss: 0.712 | Train Acc: 87.25%\n",
            "\t Val. Loss: 0.874 |  Val. Acc: 66.96% \n",
            "\n",
            "\tTrain Loss: 0.709 | Train Acc: 87.42%\n",
            "\t Val. Loss: 0.875 |  Val. Acc: 66.07% \n",
            "\n",
            "\tTrain Loss: 0.705 | Train Acc: 87.58%\n",
            "\t Val. Loss: 0.876 |  Val. Acc: 66.52% \n",
            "\n",
            "\tTrain Loss: 0.702 | Train Acc: 87.75%\n",
            "\t Val. Loss: 0.877 |  Val. Acc: 66.52% \n",
            "\n",
            "\tTrain Loss: 0.699 | Train Acc: 88.18%\n",
            "\t Val. Loss: 0.878 |  Val. Acc: 66.52% \n",
            "\n",
            "\tTrain Loss: 0.696 | Train Acc: 88.60%\n",
            "\t Val. Loss: 0.879 |  Val. Acc: 66.96% \n",
            "\n",
            "\tTrain Loss: 0.693 | Train Acc: 89.10%\n",
            "\t Val. Loss: 0.879 |  Val. Acc: 66.52% \n",
            "\n",
            "\tTrain Loss: 0.690 | Train Acc: 89.27%\n",
            "\t Val. Loss: 0.879 |  Val. Acc: 66.52% \n",
            "\n",
            "\tTrain Loss: 0.687 | Train Acc: 89.61%\n",
            "\t Val. Loss: 0.881 |  Val. Acc: 66.07% \n",
            "\n",
            "\tTrain Loss: 0.684 | Train Acc: 89.70%\n",
            "\t Val. Loss: 0.881 |  Val. Acc: 66.07% \n",
            "\n",
            "\tTrain Loss: 0.681 | Train Acc: 90.12%\n",
            "\t Val. Loss: 0.881 |  Val. Acc: 66.07% \n",
            "\n",
            "\tTrain Loss: 0.678 | Train Acc: 90.37%\n",
            "\t Val. Loss: 0.881 |  Val. Acc: 65.18% \n",
            "\n",
            "\tTrain Loss: 0.675 | Train Acc: 90.54%\n",
            "\t Val. Loss: 0.882 |  Val. Acc: 66.52% \n",
            "\n",
            "\tTrain Loss: 0.673 | Train Acc: 90.54%\n",
            "\t Val. Loss: 0.883 |  Val. Acc: 66.52% \n",
            "\n",
            "\tTrain Loss: 0.671 | Train Acc: 90.96%\n",
            "\t Val. Loss: 0.883 |  Val. Acc: 65.62% \n",
            "\n",
            "\tTrain Loss: 0.667 | Train Acc: 91.13%\n",
            "\t Val. Loss: 0.884 |  Val. Acc: 65.62% \n",
            "\n",
            "\tTrain Loss: 0.665 | Train Acc: 91.30%\n",
            "\t Val. Loss: 0.884 |  Val. Acc: 65.62% \n",
            "\n",
            "\tTrain Loss: 0.662 | Train Acc: 91.39%\n",
            "\t Val. Loss: 0.883 |  Val. Acc: 65.62% \n",
            "\n",
            "\tTrain Loss: 0.660 | Train Acc: 91.47%\n",
            "\t Val. Loss: 0.882 |  Val. Acc: 65.62% \n",
            "\n",
            "\tTrain Loss: 0.658 | Train Acc: 91.47%\n",
            "\t Val. Loss: 0.881 |  Val. Acc: 65.62% \n",
            "\n",
            "\tTrain Loss: 0.656 | Train Acc: 91.55%\n",
            "\t Val. Loss: 0.882 |  Val. Acc: 66.07% \n",
            "\n",
            "\tTrain Loss: 0.656 | Train Acc: 91.55%\n",
            "\t Val. Loss: 0.875 |  Val. Acc: 66.07% \n",
            "\n",
            "\tTrain Loss: 0.654 | Train Acc: 91.72%\n",
            "\t Val. Loss: 0.880 |  Val. Acc: 66.52% \n",
            "\n",
            "\tTrain Loss: 0.653 | Train Acc: 91.64%\n",
            "\t Val. Loss: 0.883 |  Val. Acc: 65.62% \n",
            "\n",
            "\tTrain Loss: 0.655 | Train Acc: 91.47%\n",
            "\t Val. Loss: 0.880 |  Val. Acc: 65.18% \n",
            "\n",
            "\tTrain Loss: 0.651 | Train Acc: 91.72%\n",
            "\t Val. Loss: 0.878 |  Val. Acc: 65.62% \n",
            "\n",
            "\tTrain Loss: 0.650 | Train Acc: 91.72%\n",
            "\t Val. Loss: 0.877 |  Val. Acc: 66.07% \n",
            "\n",
            "\tTrain Loss: 0.648 | Train Acc: 91.72%\n",
            "\t Val. Loss: 0.876 |  Val. Acc: 66.07% \n",
            "\n",
            "\tTrain Loss: 0.647 | Train Acc: 91.72%\n",
            "\t Val. Loss: 0.876 |  Val. Acc: 66.07% \n",
            "\n",
            "\tTrain Loss: 0.646 | Train Acc: 91.72%\n",
            "\t Val. Loss: 0.876 |  Val. Acc: 66.07% \n",
            "\n",
            "\tTrain Loss: 0.646 | Train Acc: 91.72%\n",
            "\t Val. Loss: 0.876 |  Val. Acc: 65.62% \n",
            "\n",
            "\tTrain Loss: 0.644 | Train Acc: 91.81%\n",
            "\t Val. Loss: 0.876 |  Val. Acc: 65.62% \n",
            "\n",
            "\tTrain Loss: 0.643 | Train Acc: 91.98%\n",
            "\t Val. Loss: 0.876 |  Val. Acc: 65.62% \n",
            "\n",
            "\tTrain Loss: 0.643 | Train Acc: 92.06%\n",
            "\t Val. Loss: 0.876 |  Val. Acc: 65.62% \n",
            "\n",
            "\tTrain Loss: 0.642 | Train Acc: 92.06%\n",
            "\t Val. Loss: 0.877 |  Val. Acc: 65.62% \n",
            "\n",
            "\tTrain Loss: 0.641 | Train Acc: 92.06%\n",
            "\t Val. Loss: 0.877 |  Val. Acc: 65.62% \n",
            "\n",
            "\tTrain Loss: 0.640 | Train Acc: 92.06%\n",
            "\t Val. Loss: 0.876 |  Val. Acc: 65.18% \n",
            "\n",
            "\tTrain Loss: 0.640 | Train Acc: 92.23%\n",
            "\t Val. Loss: 0.877 |  Val. Acc: 65.18% \n",
            "\n",
            "\tTrain Loss: 0.639 | Train Acc: 92.23%\n",
            "\t Val. Loss: 0.877 |  Val. Acc: 65.62% \n",
            "\n",
            "\tTrain Loss: 0.638 | Train Acc: 92.23%\n",
            "\t Val. Loss: 0.876 |  Val. Acc: 66.96% \n",
            "\n",
            "\tTrain Loss: 0.637 | Train Acc: 92.40%\n",
            "\t Val. Loss: 0.876 |  Val. Acc: 66.96% \n",
            "\n",
            "\tTrain Loss: 0.637 | Train Acc: 92.40%\n",
            "\t Val. Loss: 0.876 |  Val. Acc: 66.52% \n",
            "\n",
            "\tTrain Loss: 0.636 | Train Acc: 92.48%\n",
            "\t Val. Loss: 0.876 |  Val. Acc: 66.96% \n",
            "\n",
            "\tTrain Loss: 0.636 | Train Acc: 92.48%\n",
            "\t Val. Loss: 0.875 |  Val. Acc: 66.96% \n",
            "\n",
            "\tTrain Loss: 0.635 | Train Acc: 92.48%\n",
            "\t Val. Loss: 0.875 |  Val. Acc: 66.52% \n",
            "\n",
            "\tTrain Loss: 0.635 | Train Acc: 92.48%\n",
            "\t Val. Loss: 0.875 |  Val. Acc: 66.96% \n",
            "\n"
          ],
          "name": "stdout"
        }
      ]
    },
    {
      "cell_type": "markdown",
      "metadata": {
        "id": "W6UUBKjDnRur"
      },
      "source": [
        "# SWAP"
      ]
    },
    {
      "cell_type": "code",
      "metadata": {
        "id": "SH31TY2hnNyl"
      },
      "source": [
        "example = [data.Example.fromlist([df.swap[i],df.labels[i]], fields) for i in range(df.shape[0])] "
      ],
      "execution_count": 275,
      "outputs": []
    },
    {
      "cell_type": "code",
      "metadata": {
        "id": "5HQO9r5ZnNyr"
      },
      "source": [
        "# Creating dataset\n",
        "#twitterDataset = data.TabularDataset(path=\"tweets.csv\", format=\"CSV\", fields=fields, skip_header=True)\n",
        "\n",
        "twitterDataset = data.Dataset(example, fields)"
      ],
      "execution_count": 276,
      "outputs": []
    },
    {
      "cell_type": "markdown",
      "metadata": {
        "id": "ANDY0bXZnNyr"
      },
      "source": [
        "Finally, we can split into training, testing, and validation sets by using the split() method:"
      ]
    },
    {
      "cell_type": "code",
      "metadata": {
        "id": "KTPAzxqOnNys"
      },
      "source": [
        "(train, valid) = twitterDataset.split(split_ratio=[0.85, 0.15], random_state=random.seed(SEED))"
      ],
      "execution_count": 277,
      "outputs": []
    },
    {
      "cell_type": "code",
      "metadata": {
        "colab": {
          "base_uri": "https://localhost:8080/"
        },
        "id": "CYChp7eknNys",
        "outputId": "8f743b6f-ed32-417f-d661-dfa8a50ad135"
      },
      "source": [
        "(len(train), len(valid))"
      ],
      "execution_count": 278,
      "outputs": [
        {
          "output_type": "execute_result",
          "data": {
            "text/plain": [
              "(1159, 205)"
            ]
          },
          "metadata": {
            "tags": []
          },
          "execution_count": 278
        }
      ]
    },
    {
      "cell_type": "markdown",
      "metadata": {
        "id": "Uqy-tW-ynNyt"
      },
      "source": [
        "An example from the dataset:"
      ]
    },
    {
      "cell_type": "code",
      "metadata": {
        "colab": {
          "base_uri": "https://localhost:8080/"
        },
        "id": "Vipnb2X7nNyt",
        "outputId": "6ef11808-efe3-4da3-c30c-1cd1dcab5367"
      },
      "source": [
        "vars(train.examples[10])"
      ],
      "execution_count": 279,
      "outputs": [
        {
          "output_type": "execute_result",
          "data": {
            "text/plain": [
              "{'labels': 0,\n",
              " 'tweets': ['Obama',\n",
              "  ',',\n",
              "  'Romney',\n",
              "  'agree',\n",
              "  ':',\n",
              "  'AdmiS',\n",
              "  'women',\n",
              "  'no',\n",
              "  'Augusta',\n",
              "  'golf',\n",
              "  'club',\n",
              "  ':',\n",
              "  'Ut',\n",
              "  'Presidett',\n",
              "  'Barack',\n",
              "  'Obama',\n",
              "  'believes',\n",
              "  'women',\n",
              "  'should',\n",
              "  'be',\n",
              "  'allowe',\n",
              "  '...',\n",
              "  'http://q.co/PVKreptI']}"
            ]
          },
          "metadata": {
            "tags": []
          },
          "execution_count": 279
        }
      ]
    },
    {
      "cell_type": "markdown",
      "metadata": {
        "id": "O2tHHV0nnNyu"
      },
      "source": [
        "## Building Vocabulary"
      ]
    },
    {
      "cell_type": "markdown",
      "metadata": {
        "id": "td63Y2j8nNyu"
      },
      "source": [
        "At this point we would have built a one-hot encoding of each word that is present in the dataset—a rather tedious process. Thankfully, torchtext will do this for us, and will also allow a max_size parameter to be passed in to limit the vocabu‐ lary to the most common words. This is normally done to prevent the construction of a huge, memory-hungry model. We don’t want our GPUs too overwhelmed, after all. \n",
        "\n",
        "Let’s limit the vocabulary to a maximum of 5000 words in our training set:\n"
      ]
    },
    {
      "cell_type": "code",
      "metadata": {
        "id": "x0HImZKgnNyu"
      },
      "source": [
        "Tweet.build_vocab(train)\n",
        "Label.build_vocab(train)"
      ],
      "execution_count": 280,
      "outputs": []
    },
    {
      "cell_type": "markdown",
      "metadata": {
        "id": "FS5Xjfc5nNyu"
      },
      "source": [
        "By default, torchtext will add two more special tokens, <unk> for unknown words and <pad>, a padding token that will be used to pad all our text to roughly the same size to help with efficient batching on the GPU."
      ]
    },
    {
      "cell_type": "code",
      "metadata": {
        "colab": {
          "base_uri": "https://localhost:8080/"
        },
        "id": "iZbeiI_WnNyv",
        "outputId": "67d51703-f3e6-4a6b-9ee6-ec4e8bf8b152"
      },
      "source": [
        "print('Size of input vocab : ', len(Tweet.vocab))\n",
        "print('Size of label vocab : ', len(Label.vocab))\n",
        "print('Top 10 words appreared repeatedly :', list(Tweet.vocab.freqs.most_common(10)))\n",
        "print('Labels : ', Label.vocab.stoi)\n",
        "print(Tweet.vocab.stoi)"
      ],
      "execution_count": 281,
      "outputs": [
        {
          "output_type": "stream",
          "text": [
            "Size of input vocab :  8242\n",
            "Size of label vocab :  3\n",
            "Top 10 words appreared repeatedly : [(':', 820), ('Obama', 750), ('.', 720), ('#', 718), (',', 592), ('\"', 512), ('RT', 435), ('the', 424), ('?', 390), (' ', 383)]\n",
            "Labels :  defaultdict(<function _default_unk_index at 0x7f58507d0598>, {0: 0, 1: 1, 2: 2})\n",
            "defaultdict(<function _default_unk_index at 0x7f58507d0598>, {'<unk>': 0, '<pad>': 1, ':': 2, 'Obama': 3, '.': 4, '#': 5, ',': 6, '\"': 7, 'RT': 8, 'the': 9, '?': 10, ' ': 11, 'to': 12, \"'s\": 13, 'a': 14, 'of': 15, '!': 16, 'you': 17, '-': 18, 'is': 19, '/': 20, 'with': 21, 'on': 22, 'I': 23, 'in': 24, 'and': 25, 'kid': 26, '...': 27, 'for': 28, 'he': 29, 'do': 30, 'like': 31, 'his': 32, \"'\": 33, 'that': 34, 'from': 35, 'So': 36, 'have': 37, '&': 38, 'go': 39, 'You': 40, 'UK': 41, 'at': 42, 'Do': 43, 'tea': 44, 'Ohhh': 45, 'cool': 46, \"'re\": 47, 'Romney': 48, 'has': 49, 'it': 50, 'British': 51, 'not': 52, 'President': 53, 'Queen': 54, 'American': 55, 'can': 56, 'The': 57, 'we': 58, 'be': 59, 'so': 60, 'Mcdonalds': 61, \"n't\": 62, 'Barack': 63, 'GOP': 64, 'Pres': 65, 'i': 66, '@ohgirlphrase': 67, 'was': 68, 'will': 69, 'says': 70, 'tcot': 71, '(': 72, ')': 73, '..': 74, 'are': 75, 'via': 76, 'years': 77, '%': 78, 'WhatsRomneyHiding': 79, 's': 80, 'but': 81, 't': 82, 'In': 83, 'all': 84, 'e': 85, 'A': 86, 'if': 87, 'who': 88, 'about': 89, 'd': 90, '@edshow': 91, 'get': 92, 'how': 93, 'just': 94, 'obama': 95, 'wait': 96, ';': 97, 'Iran': 98, 'Is': 99, 'Mitt': 100, 'Oh': 101, 'US': 102, 'this': 103, 'Harvard': 104, 'as': 105, 'by': 106, 'time': 107, '2': 108, 'Court': 109, 'o': 110, 'they': 111, 'would': 112, '2012': 113, 'too': 114, 'an': 115, 'any': 116, 'or': 117, 'your': 118, '$': 119, '4': 120, 'If': 121, 'h': 122, 'know': 123, 'n': 124, 'p2': 125, 'up': 126, '@markknoller': 127, 'He': 128, 'now': 129, 'r': 130, 'should': 131, 'tax': 132, 'use': 133, 'women': 134, 'It': 135, 'OBAMA': 136, 'That': 137, 'This': 138, 'budget': 139, 'campaign': 140, 'debate': 141, 'edshow': 142, 'http': 143, 'Supreme': 144, 'U.S.': 145, 'law': 146, 'more': 147, 'our': 148, 'say': 149, \"'m\": 150, 'O': 151, 'believe': 152, 'gas': 153, 'him': 154, 'make': 155, 'me': 156, 'need': 157, 'really': 158, 'social': 159, 'what': 160, '|': 161, 'been': 162, 'my': 163, 'teen': 164, 'tlot': 165, 'How': 166, 'Michelle': 167, 'T': 168, 'What': 169, 'ama': 170, 'known': 171, 'out': 172, 'over': 173, 't.co': 174, 'than': 175, 'were': 176, 'white': 177, 'Act': 178, 'Israel': 179, 'again': 180, 'am': 181, 'back': 182, 'going': 183, 'most': 184, 'nuke': 185, 'think': 186, 'w': 187, \"'d\": 188, '*': 189, 'does': 190, 'support': 191, 'when': 192, 'why': 193, '  ': 194, '....': 195, 'Americans': 196, 'Campaign': 197, 'His': 198, 'No': 199, 'Oba': 200, 'Syria': 201, 'bama': 202, 'ca': 203, 'cocaine': 204, 'de': 205, 'important': 206, 'nt': 207, 'records': 208, 'then': 209, 'tweet': 210, 'vote': 211, '=': 212, 'And': 213, 'Augusta': 214, 'Budget': 215, 'House': 216, 'Ignatius': 217, 'JOBS': 218, 'Muslim': 219, 'News': 220, 'To': 221, 'Why': 222, '[': 223, 'call': 224, 'college': 225, 'did': 226, 'good': 227, 'into': 228, 'l': 229, 'm': 230, 'much': 231, 'one': 232, 'them': 233, '@': 234, 'AT': 235, 'America': 236, 'Comment': 237, 'Nice': 238, 'Obam': 239, 'United': 240, 'With': 241, ']': 242, 'before': 243, 'big': 244, 'bully': 245, 'care': 246, 'co': 247, 'could': 248, 'fun': 249, 'golf': 250, 'issue': 251, 'name': 252, 'passed': 253, 'person': 254, 'returns': 255, 'there': 256, 'Holder': 257, 'NOT': 258, 'Says': 259, 'We': 260, 'White': 261, 'b': 262, 'g': 263, 'had': 264, 'hope': 265, 'let': 266, 'marijuana': 267, 'public': 268, 'respect': 269, 'side': 270, 'still': 271, 'try': 272, 'two': 273, 'want': 274, 'y': 275, '23': 276, '62': 277, 'Bill': 278, 'DC': 279, 'For': 280, 'Harry': 281, 'Jews': 282, 'My': 283, 'National': 284, 'Not': 285, 'One': 286, 'Women': 287, 'al': 288, 'because': 289, 'birth': 290, 'ht': 291, 'http://t.co/avbgNT57': 292, 'interest': 293, 'lol': 294, 'never': 295, 'p': 296, 'pic': 297, 'right': 298, 'said': 299, 'see': 300, 'sgp': 301, 'spending': 302, 'talking': 303, 'teaparty': 304, 'th': 305, 'thug': 306, 'truth': 307, 'u': 308, \"'ll\": 309, '--': 310, '@BarackObama': 311, '@MittRomney': 312, 'Bush': 313, 'But': 314, 'Darwinism': 315, 'FB': 316, 'From': 317, 'Gagme': 318, 'Law': 319, 'S': 320, 'Saul': 321, 'THE': 322, 'USA': 323, '^': 324, 'against': 325, 'always': 326, 'bad': 327, 'c': 328, 'civ': 329, 'come': 330, 'comments': 331, 'como': 332, 'degrees': 333, 'dumb': 334, 'end': 335, 'eo': 336, 'even': 337, 'health': 338, 'her': 339, 'hot': 340, 'icymi': 341, 'issues': 342, 'its': 343, 'la': 344, 'le': 345, 'man': 346, 'menaces': 347, 'no': 348, 'only': 349, 'pgm': 350, 'praising': 351, 're': 352, 'real': 353, 'record': 354, 'reelect': 355, 'reports': 356, 'smart': 357, 'way': 358, 'wld': 359, 'wrong': 360, '//t.co': 361, '1000': 362, '@AddThis': 363, '@JeffersonObama': 364, '@thinkprogress': 365, 'Administration': 366, 'Arianna': 367, 'C': 368, 'HE': 369, 'IS': 370, 'KCA': 371, 'Lindsay': 372, 'M': 373, 'New': 374, 'Of': 375, 'Party': 376, 'Respects': 377, 'Review': 378, 'Secret': 379, 'Top': 380, 'War': 381, 'Washington': 382, 'accept': 383, 'agree': 384, 'another': 385, 'assess': 386, 'better': 387, 'between': 388, 'blasting': 389, 'blasts': 390, 'called': 391, 'chance': 392, 'class': 393, 'club': 394, 'country': 395, 'denounced': 396, 'deserves': 397, 'el': 398, 'election': 399, 'else': 400, 'ever': 401, 'explains': 402, 'feel': 403, 'first': 404, 'four': 405, 'gives': 406, 'got': 407, 'hiding': 408, 'history': 409, 'http://t': 410, 'jobs': 411, 'less': 412, 'libertario': 413, 'meets': 414, 'next': 415, 'off': 416, 'oo': 417, 'people': 418, 'plan': 419, 'program': 420, 'seen': 421, 'share': 422, 'signaled': 423, 'signs': 424, 'some': 425, 'state': 426, 'take': 427, 'these': 428, 'thing': 429, 'things': 430, 'tweets': 431, 'understand': 432, 'unemployment': 433, 'upset': 434, 'us': 435, 'very': 436, 'wants': 437, 'well': 438, 'wo': 439, 'wonder': 440, \"'ve\": 441, '@Talkmaster': 442, 'Anticipation': 443, 'As': 444, 'Brotherhood': 445, 'Defense': 446, 'E': 447, 'Eric': 448, 'First': 449, 'G': 450, 'G-8': 451, 'Haaretz': 452, 'Huffington': 453, 'Interest': 454, 'Koch': 455, 'Like': 456, 'Lohan': 457, 'Ob': 458, 'Obaea': 459, 'Obama2012': 460, 'P': 461, 'Post': 462, 'REAL': 463, 'Santorum': 464, 'Signs': 465, 'State': 466, 'States': 467, 'TCOT': 468, 'Think': 469, 'Time': 470, 'Trayvon': 471, 'Will': 472, '_': 473, 'abama': 474, 'ad': 475, 'anti': 476, 'anyone': 477, 'anything': 478, 'assure': 479, 'being': 480, 'black': 481, 'boys': 482, 'case': 483, 'certificate': 484, 'certtain': 485, 'clear': 486, 'course': 487, 'creationism': 488, 'federal': 489, 'fundraiser': 490, 'guess': 491, 'guy': 492, 'http://t.co/VhURDtdO': 493, 'ia': 494, 'ing': 495, 'l0l': 496, 'los': 497, 'lot': 498, 'ma': 499, 'money': 500, 'new': 501, 'nukes': 502, 'ocra': 503, 'policy': 504, 'president': 505, 'reason': 506, 'release': 507, 'report': 508, 'run': 509, 'same': 510, 'sayd': 511, 'since': 512, 'sorry': 513, 'summit': 514, 'tT': 515, 'term': 516, 'those': 517, 'trying': 518, 'un': 519, 'una': 520, 'where': 521, 'which': 522, 'win': 523, '200': 524, '@BelleInABow': 525, '@DrewMTips': 526, '@Messina2012': 527, '@PAC43': 528, '@Professor_Why': 529, '@TPO_Hisself': 530, '@wcptersn': 531, 'Ame': 532, 'Birth': 533, 'By': 534, 'Can': 535, 'Chicago': 536, 'Congress': 537, 'Democrats': 538, 'EN': 539, 'Easter': 540, 'Election': 541, 'Exceed': 542, 'F': 543, 'Get': 544, 'HBO': 545, 'Into': 546, 'Jobs': 547, 'K': 548, 'Khamenei': 549, 'Khameni': 550, 'KkaAhGPq': 551, 'NDAA': 552, 'Nope': 553, 'OF': 554, 'Obamr': 555, 'Oboma': 556, 'Oo': 557, 'Orama': 558, 'Putin': 559, 'R': 560, 'Release': 561, 'Rick': 562, 'Righties': 563, 'STYLES': 564, 'TREASON': 565, 'TUS': 566, 'Tell': 567, 'VIENE': 568, 'Video': 569, 'Violence': 570, 'W': 571, 'Who': 572, 'Wo': 573, 'World': 574, 'Y': 575, 'ane': 576, 'backstage': 577, 'beat': 578, 'best': 579, 'blame': 580, 'both': 581, 'broker': 582, 'business': 583, 'certain': 584, 'change': 585, 'civilian': 586, 'coal': 587, 'courier': 588, 'court': 589, 'crap': 590, 'deal': 591, 'debt': 592, 'demand': 593, 'describe': 594, 'desde': 595, 'destroy': 596, 'documentary': 597, 'en': 598, 'er': 599, 'es': 600, 'fact': 601, 'failed': 602, 'fault': 603, 'favorite': 604, 'future': 605, 'give': 606, 'goes': 607, 'gop': 608, 'gun': 609, 'hacia': 610, 'http://t.co/Ov6I5CoS': 611, 'incl': 612, 'industry': 613, 'k': 614, 'letter': 615, 'lo': 616, 'look': 617, 'making': 618, 'mean': 619, 'move': 620, 'mujer': 621, 'ng': 622, 'nuclear': 623, 'ordenar': 624, 'ot': 625, 'other': 626, 'ou': 627, 'p://t.co': 628, 'para': 629, 'pick': 630, 'pizza': 631, 'politics': 632, 'prices': 633, 'proud': 634, 'pursue': 635, 'push': 636, 'she': 637, 'shorthand': 638, 'si': 639, 'son': 640, 'student': 641, 'tha': 642, 'tonight': 643, 'v': 644, 'video': 645, 'voted': 646, 'votes': 647, 'world': 648, 'year': 649, '.bama': 650, '0': 651, '1': 652, '2019': 653, '2nd': 654, '3': 655, ':)': 656, '@BORNCURIOUS': 657, '@HarryFacts1D': 658, '@POLITICO': 659, '@RandPaul': 660, '@SenJimDeMint': 661, '@addthis': 662, '@djtechchicago': 663, '@handrewschwartz': 664, '@youtube': 665, 'AM': 666, 'AP': 667, 'About': 668, 'Acts': 669, 'Alinsky': 670, 'All': 671, 'Also': 672, 'Anti': 673, 'Autopen': 674, 'Been': 675, 'Bible': 676, 'Billion': 677, 'Blanca': 678, 'Bro': 679, 'Care': 680, 'Constitution': 681, 'Continues': 682, 'Courts': 683, 'DEM': 684, 'DeMint': 685, 'Debt': 686, 'Did': 687, 'Dim': 688, 'Direction': 689, 'Dodd': 690, 'Does': 691, 'EPA': 692, 'ESCONDE': 693, 'ESPOSA': 694, 'Editorial': 695, 'Examiner': 696, 'Fox': 697, 'Future': 698, 'GO': 699, 'Gas': 700, 'Gop': 701, 'Green': 702, 'H': 703, 'HAS': 704, 'Have': 705, 'IM': 706, 'Iranian': 707, 'JOE': 708, 'Just': 709, 'KNOWS': 710, 'Kid': 711, 'L': 712, 'Let': 713, 'Liberal': 714, 'Libyan': 715, 'Likely': 716, 'MSM': 717, 'Marine': 718, 'Missing': 719, 'N': 720, 'NO': 721, 'Norquist': 722, 'Nothing': 723, 'Now': 724, 'Oaama': 725, 'Obamacare': 726, 'Obame': 727, 'Obaml': 728, 'Obamo': 729, 'Obamt': 730, 'Obana': 731, 'Obata': 732, 'Obaua': 733, 'Oblma': 734, 'Obnma': 735, 'Ocama': 736, 'On': 737, 'Ooama': 738, 'Organizational': 739, 'Otama': 740, 'Our': 741, 'POTUS': 742, 'Payments': 743, 'Piece': 744, 'Politics': 745, 'Pre': 746, 'Press': 747, 'Quee': 748, 'RUMORS': 749, 'RWNJ': 750, 'Re': 751, 'Read': 752, 'Reed': 753, 'Republican': 754, 'Reuters': 755, 'Right': 756, 'Ro': 757, 'Roll': 758, 'Ron': 759, 'Ryan': 760, 'SCOTUS': 761, 'SO': 762, 'ST': 763, 'Security': 764, 'Seeing': 765, 'Signing': 766, 'Speaking': 767, 'TO': 768, 'TU': 769, 'TV': 770, 'Taught': 771, 'Thanks': 772, 'Too': 773, 'Tweet': 774, 'U': 775, 'Unreal': 776, 'Walter': 777, 'Warns': 778, 'Yahoo': 779, 'Yeah': 780, 'admitted': 781, 'affairs': 782, 'also': 783, 'answer': 784, 'antithetical': 785, 'around': 786, 'asking': 787, 'ass': 788, 'assets': 789, 'atractiva': 790, 'attractive': 791, 'beginning': 792, 'bill': 793, 'bite': 794, 'blaming': 795, 'book': 796, 'bring': 797, 'brother': 798, 'brothers': 799, 'card': 800, 'claim': 801, 'coffee': 802, 'comes': 803, 'connection': 804, 'cont': 805, 'crowdfunding': 806, 'dad': 807, 'decided': 808, 'demanded': 809, 'details': 810, 'distract': 811, 'donation': 812, 'economic': 813, 'economy': 814, 'either': 815, 'elected': 816, 'energy': 817, 'everyone': 818, 'f': 819, 'face': 820, 'far': 821, 'fast': 822, 'find': 823, 'fired': 824, 'flip': 825, 'flop': 826, 'frtm': 827, 'fu': 828, 'game': 829, 'glad': 830, 'gon': 831, 'government': 832, 'great': 833, 'greets': 834, 'hah': 835, 'haha': 836, 'half': 837, 'hashtags': 838, 'heard': 839, 'hearings': 840, 'hell': 841, 'here': 842, 'hide': 843, 'hoo': 844, 'hosts': 845, 'http://': 846, 'http://t.co/gIGmn5kE': 847, 'ig': 848, 'illegal': 849, 'income': 850, 'incompetent': 851, 'instead': 852, 'invited': 853, 'job': 854, 'keep': 855, 'kids': 856, 'kn': 857, 'lame': 858, 'later': 859, 'legal': 860, 'linked': 861, 'list': 862, 'little': 863, 'lnyhbt': 864, 'love': 865, 'lt': 866, 'maddening': 867, 'market': 868, 'may': 869, 'media': 870, 'men': 871, 'mocks': 872, 'month': 873, 'must': 874, 'muy': 875, 'na': 876, 'nd': 877, 'news': 878, 'ney': 879, 'nhe': 880, 'obame': 881, 'ohe': 882, 'oil': 883, 'ongoing': 884, 'online': 885, 'oool': 886, 'oou': 887, 'others': 888, 'overt': 889, 'party': 890, 'pissed': 891, 'po': 892, 'policies': 893, 'porn': 894, 'promise': 895, 'question': 896, 'ra': 897, 'read': 898, 'refuses': 899, 'rights': 900, 'ro': 901, 'sT': 902, 'sbama': 903, 'se': 904, 'sec': 905, 'sign': 906, 'single': 907, 'slur': 908, 'socialist': 909, 'sort': 910, 'sot': 911, 'sport': 912, 'start': 913, 'startups': 914, 'stuff': 915, 'stupid': 916, 'supporter': 917, 'sure': 918, 'swing': 919, 'tactics': 920, 'tag': 921, 'talk': 922, 'taxes': 923, 'te': 924, 'tell': 925, 'their': 926, 'thn': 927, 'though': 928, 'tpp': 929, 'trending': 930, 'trillion': 931, 'ts': 932, 'turned': 933, 'twisters': 934, 'twitter': 935, 'understands': 936, 'uo': 937, 've': 938, 'vi': 939, 'voters': 940, 'weak': 941, 'withnewt': 942, 'wow': 943, 'ws': 944, 'yet': 945, \"'em\": 946, '+': 947, '.co': 948, '.he': 949, '.o': 950, '/e': 951, '/f': 952, '/t.co': 953, '10': 954, '12': 955, '15.2': 956, '18': 957, '19': 958, '1987': 959, '2000': 960, '5': 961, '50': 962, '9': 963, '90': 964, '99': 965, ':-)': 966, ':P': 967, '@17bbomb': 968, '@AlinskyDefeater': 969, '@ClaireCMC': 970, '@DS_CT': 971, '@Drudge_Report': 972, '@ForAmerica': 973, '@GEsfandiari': 974, '@ItsLoopzProd': 975, '@JoiningForces': 976, '@MarkWarner': 977, '@NatlWOW': 978, '@Nicky2Things': 979, '@Norsu2': 980, '@Our4thEstate': 981, '@RyanFecteau': 982, '@WhatTheFFacts': 983, '@YouTube': 984, '@anna12061': 985, '@baseballcrank': 986, '@betseyross': 987, '@blakehounshell': 988, '@derekahunter': 989, '@jodikyman': 990, '@kesgardner': 991, '@obama': 992, '@ohgirlphra': 993, '@preciousliberty': 994, '@searfoss70': 995, '@stinger5150': 996, '@theblaze': 997, 'ACA': 998, 'ACORN': 999, 'ALL': 1000, 'AND': 1001, 'ARE': 1002, 'ARPAIO': 1003, 'AS': 1004, 'Access': 1005, 'Admit': 1006, 'Advantage': 1007, 'Against': 1008, 'Aid': 1009, 'Al': 1010, 'Algae': 1011, 'Alinskyites': 1012, 'Amid': 1013, 'An': 1014, 'Analyst64': 1015, 'Another': 1016, 'Apparently': 1017, 'At': 1018, 'Attorney': 1019, 'Auto': 1020, 'Ayers': 1021, 'B': 1022, 'Backroom': 1023, 'Barry': 1024, 'Bd': 1025, 'Be': 1026, 'Ben': 1027, 'Bethesda': 1028, 'Biden': 1029, 'Black': 1030, 'BlameBush': 1031, 'Bringing': 1032, 'CAMINO': 1033, 'COLOR': 1034, 'COMING': 1035, 'CONTRARY': 1036, 'CREATED': 1037, 'Ca': 1038, 'Calling': 1039, 'Caring': 1040, 'Casa': 1041, 'Caught': 1042, 'Circuit': 1043, 'Clearance': 1044, 'Club': 1045, 'Co': 1046, 'Coalition': 1047, 'Concedes': 1048, 'Constitutional': 1049, 'Czech': 1050, 'D': 1051, 'DEPT': 1052, 'DRAFT': 1053, 'Daily': 1054, 'Damn': 1055, 'Day': 1056, 'Dem': 1057, 'Demand': 1058, 'Dems': 1059, 'Despot': 1060, 'Details': 1061, 'Dispute': 1062, 'Doiyou': 1063, 'Dolan': 1064, 'Down': 1065, 'Dr.': 1066, 'Dune': 1067, 'Egypt': 1068, 'En': 1069, 'End': 1070, 'Even': 1071, 'Ever': 1072, 'Exposing': 1073, 'FAU': 1074, 'FOR': 1075, 'Fail': 1076, 'Fraud': 1077, 'Free': 1078, 'Friendly': 1079, 'Frightened': 1080, 'Fruhling': 1081, 'Full': 1082, 'GET': 1083, 'GFW': 1084, 'GW': 1085, 'GW)KAPUT': 1086, 'Giving': 1087, 'Go': 1088, 'God': 1089, 'Goo': 1090, 'Good': 1091, 'HC': 1092, 'HIDE': 1093, 'HIJOS': 1094, 'Hamas': 1095, 'Hatch': 1096, 'Hh': 1097, 'Hidden': 1098, 'Hill': 1099, 'Hiring': 1100, 'Immigrants': 1101, 'Impact': 1102, 'Independent': 1103, 'Intel': 1104, 'Interesting': 1105, 'Issue': 1106, 'Itas': 1107, 'JURY': 1108, 'Jersey': 1109, 'Jesus': 1110, 'Jim': 1111, 'Kill': 1112, 'Killing': 1113, 'LETS': 1114, 'LIES': 1115, 'LYING': 1116, 'La': 1117, 'Lady': 1118, 'Laws': 1119, 'Leave': 1120, 'Lets': 1121, 'Lie': 1122, 'Live': 1123, 'Look': 1124, 'Lost': 1125, 'Love': 1126, 'MARICOPA': 1127, 'MOsen': 1128, 'MUCH': 1129, 'MUST': 1130, 'Maher': 1131, 'March': 1132, 'Marijuana': 1133, 'Marion': 1134, 'Martin': 1135, 'McConnell': 1136, 'Mcdonal': 1137, 'Me': 1138, 'Media': 1139, 'Medical': 1140, 'Meeting': 1141, 'Middle': 1142, 'Misquotes': 1143, 'Money': 1144, 'More': 1145, 'Mr': 1146, 'Mr.': 1147, 'Much': 1148, 'N.H.': 1149, 'NEW': 1150, 'NOLA': 1151, 'Napolitano': 1152, 'Nash': 1153, 'Nicole': 1154, 'Nixon': 1155, 'NoObama': 1156, 'Nov': 1157, 'Nugget': 1158, 'O@ama': 1159, 'OR': 1160, 'OUR': 1161, 'OWN': 1162, 'Oba.a': 1163, 'Obaia': 1164, 'Obamais': 1165, 'Obamc': 1166, 'Obamg': 1167, 'Obamh': 1168, 'Obamn': 1169, 'Obasa': 1170, 'Obema': 1171, 'Obey': 1172, 'Obima': 1173, 'Obsma': 1174, 'Occupy': 1175, 'Odama': 1176, 'Oil': 1177, 'Omama': 1178, 'Oops': 1179, 'Opposite': 1180, 'Os': 1181, 'Osama': 1182, 'Osawatomie': 1183, 'Oust': 1184, 'Own': 1185, 'P2': 1186, 'Palin': 1187, 'Paul': 1188, 'Photo': 1189, 'Pictures': 1190, 'Presitent': 1191, 'Pretty': 1192, 'Prices': 1193, 'Project': 1194, 'Puts': 1195, 'Qaeda': 1196, 'Que': 1197, 'Quren': 1198, 'RE': 1199, 'Raw': 1200, 'Reagan': 1201, 'Reforming': 1202, 'Regime': 1203, 'Remarks': 1204, 'Republicans': 1205, 'Ri': 1206, 'Rl': 1207, 'Romne': 1208, 'Romtey': 1209, 'RonPaul': 1210, 'Rosney': 1211, 'Rs': 1212, 'Rt': 1213, 'Russian': 1214, 'Ry': 1215, 'SKIN': 1216, 'SOPA': 1217, 'SPR': 1218, 'STOP': 1219, 'Sai': 1220, 'Sand': 1221, 'Sarah': 1222, 'Save': 1223, 'Say': 1224, 'Senate': 1225, 'Sexy': 1226, 'Sharing': 1227, 'Sheet': 1228, 'Shell': 1229, 'Shout': 1230, 'Sinclair': 1231, 'Slobbin': 1232, 'Society': 1233, 'Speech': 1234, 'Spending': 1235, 'Startups': 1236, 'Styles': 1237, 'THAT': 1238, 'THEIR': 1239, 'THUG': 1240, 'TOO': 1241, 'TRYIN': 1242, 'Tcot': 1243, 'TeaParty': 1244, 'Terrorist': 1245, 'Texas': 1246, 'They': 1247, 'Thug': 1248, 'Thursday': 1249, 'Tonight': 1250, 'Tou': 1251, 'Trending': 1252, 'Truth': 1253, 'UNELECTED': 1254, 'Un': 1255, 'Ut': 1256, 'VIOLATING': 1257, 'VPN': 1258, 'VT': 1259, 'VhURDtdO': 1260, 'Vote': 1261, 'WASHINGTON': 1262, 'WH': 1263, 'WHAT': 1264, 'Wait': 1265, 'Wealth': 1266, 'WhatsObamaHiding': 1267, 'WhatsObamaSmoking': 1268, 'WhatsRomnayHiding': 1269, 'WhatsRomneyHi': 1270, 'While': 1271, 'Wins': 1272, 'Words': 1273, 'YOU': 1274, 'Year': 1275, 'Yes': 1276, 'Yo': 1277, 'able': 1278, 'aboga': 1279, 'absolutely': 1280, 'actual': 1281, 'adds': 1282, 'admin': 1283, 'admit': 1284, 'after': 1285, 'age': 1286, 'ago': 1287, 'agr': 1288, 'ah': 1289, 'ahat': 1290, 'ahe': 1291, 'ai': 1292, 'ampaign': 1293, 'ao': 1294, 'appeals': 1295, 'appreciate': 1296, 'arrogant': 1297, 'art': 1298, 'ase': 1299, 'ask': 1300, 'asks': 1301, 'association': 1302, 'atsRomneyHiding': 1303, 'attacks': 1304, 'away': 1305, 'baby': 1306, 'backing': 1307, 'backtracked': 1308, 'bankrupt': 1309, 'bas': 1310, 'bed': 1311, 'bedsheets': 1312, 'believes': 1313, 'bicycle': 1314, 'boo': 1315, 'boost': 1316, 'branches': 1317, 'cal': 1318, 'cares': 1319, 'cause': 1320, 'cell': 1321, 'ces': 1322, 'chamber': 1323, 'changes': 1324, 'che': 1325, 'choice': 1326, 'city': 1327, 'closet': 1328, 'coming': 1329, 'conflicts': 1330, 'connector': 1331, 'consnc': 1332, 'control': 1333, 'convicted': 1334, 'cooh': 1335, 'copy': 1336, 'credit': 1337, 'cronies': 1338, 'dT': 1339, 'defense': 1340, 'designed': 1341, 'desperate': 1342, 'diminish': 1343, 'ding': 1344, 'directly': 1345, 'disappears': 1346, 'disclosing': 1347, 'divisive': 1348, 'doing': 1349, 'dollar': 1350, 'done': 1351, 'donor': 1352, 'down': 1353, 'draw': 1354, 'ds': 1355, 'du': 1356, 'dy': 1357, 'e.': 1358, 'eT': 1359, 'ea': 1360, 'echo': 1361, 'ed': 1362, 'een': 1363, 'effects': 1364, 'effort': 1365, 'ehug': 1366, 'enemy': 1367, 'engaged': 1368, \"eou're\": 1369, 'eresident': 1370, 'esident': 1371, 'et': 1372, 'etc': 1373, 'exist': 1374, 'ey': 1375, 'failedleader': 1376, 'favourite': 1377, 'feelings': 1378, 'fighting': 1379, 'fl': 1380, 'flexible': 1381, 'fly': 1382, 'fo': 1383, 'focus': 1384, 'follow': 1385, 'force': 1386, 'form': 1387, 'former': 1388, 'found': 1389, 'freedom': 1390, 'frem': 1391, 'friends': 1392, 'funding': 1393, 'funny': 1394, 'further': 1395, 'gay': 1396, 'gbama': 1397, 'girl': 1398, 'governing': 1399, 'governint': 1400, 'groups': 1401, 'gt': 1402, 'gtve': 1403, 'h.tp://ttco': 1404, 'hT': 1405, 'hair': 1406, 'hands': 1407, 'handshake': 1408, 'hash': 1409, 'hashtag': 1410, 'hat': 1411, 'hated': 1412, 'hatsRomneyHiding': 1413, 'hear': 1414, 'hedges': 1415, 'hhat': 1416, 'hi': 1417, 'high': 1418, 'higher': 1419, 'hive': 1420, 'hould': 1421, 'htt': 1422, 'http://t.c': 1423, 'http://t.co/': 1424, 'http://t.co/f8b7HLaf': 1425, 'http://t.co/iqg1xarL': 1426, 'http://t.co/qwIsdV2n': 1427, 'http://t.co/svxFPoHq': 1428, 'http://t.co/wX1RzFKm': 1429, 'http://tc.o': 1430, 'hudget': 1431, 'huh': 1432, 'hussein': 1433, 'ic': 1434, 'ican': 1435, 'ident': 1436, 'ideologues': 1437, 'idiot': 1438, 'ie': 1439, 'ihe': 1440, 'ike': 1441, 'ill': 1442, 'ina': 1443, 'indicator': 1444, 'info': 1445, 'inherited': 1446, 'ith': 1447, 'itt': 1448, 'judge': 1449, 'kein': 1450, 'kidr\"You\\'re': 1451, 'kill': 1452, 'kio': 1453, 'ko': 1454, 'laechelt': 1455, 'lapdog': 1456, 'last': 1457, 'lazy': 1458, 'leader': 1459, 'least': 1460, 'legislation': 1461, 'license': 1462, 'lies': 1463, 'lights': 1464, 'liked': 1465, 'likes': 1466, 'll': 1467, 'long': 1468, 'looking': 1469, 'looks': 1470, 'loses': 1471, 'losing': 1472, 'magnet': 1473, 'many': 1474, 'meeting': 1475, 'members': 1476, 'membership': 1477, 'message': 1478, 'mike': 1479, 'millenia': 1480, 'million': 1481, 'mm': 1482, 'mouth': 1483, 'mujeres': 1484, 'ne': 1485, 'needs': 1486, 'newbedon': 1487, 'nf': 1488, 'nn': 1489, 'notice': 1490, 'ns': 1491, 'ny': 1492, 'oa': 1493, 'oba': 1494, 'oe': 1495, 'office': 1496, 'officials': 1497, 'oftthe': 1498, 'oi': 1499, 'once': 1500, 'order': 1501, 'oresident': 1502, 'ow': 1503, 'own': 1504, 'page': 1505, 'pass': 1506, 'past': 1507, 'penalty': 1508, 'phone': 1509, 'photo': 1510, 'plans': 1511, 'played': 1512, 'pocket': 1513, 'political': 1514, 'polls': 1515, 'poop': 1516, 'power': 1517, 'pregunto': 1518, 'prepared': 1519, 'presidential': 1520, 'press': 1521, 'prolife': 1522, 'protected': 1523, 'pt': 1524, 'put': 1525, 'que': 1526, 'race': 1527, 'racist': 1528, 'rebels': 1529, 'received': 1530, 'regarding': 1531, 'released': 1532, 'remarks': 1533, 'res': 1534, 'resist44': 1535, 'responds': 1536, 'return': 1537, 'rich': 1538, 'ritish': 1539, 'rom': 1540, 'romney': 1541, 'rty': 1542, 'rule': 1543, 'sanctions': 1544, 'saying': 1545, 'scams': 1546, 'scramble': 1547, 'screening': 1548, 'sd': 1549, 'search': 1550, 'secret': 1551, 'security': 1552, 'seeking': 1553, 'seizure': 1554, 'self': 1555, 'sense': 1556, 'serious': 1557, 'setting': 1558, 'sexy': 1559, 'shat': 1560, 'ships': 1561, 'shit': 1562, 'shout': 1563, 'show': 1564, 'showing': 1565, 'shut': 1566, 'signal': 1567, 'sing': 1568, 'site': 1569, 'slammed': 1570, 'small': 1571, 'socialism': 1572, 'sodomy': 1573, 'something': 1574, 'spewing': 1575, 'squ': 1576, 'st': 1577, 'stands': 1578, 'states': 1579, 'strategy': 1580, 'strong': 1581, 'styles': 1582, 'suck': 1583, 'supporting': 1584, 'supports': 1585, 'tA': 1586, 'tB': 1587, 'ta': 1588, 'tae': 1589, 'taking': 1590, 'tal': 1591, 'talks': 1592, 'tbama': 1593, 'tco': 1594, 'tellshthe': 1595, 'theatre': 1596, 'thh': 1597, 'thi': 1598, 'thick': 1599, 'this?': 1600, 'tho': 1601, 'thought': 1602, 'throw': 1603, 'ti': 1604, 'tia': 1605, 'till': 1606, 'tired': 1607, 'titled': 1608, 'told': 1609, 'tomorrow': 1610, 'took': 1611, 'tor': 1612, 'touch': 1613, 'tpn': 1614, 'tse': 1615, 'tt': 1616, 'tte': 1617, 'tting': 1618, 'tw*ts': 1619, 'twcot': 1620, 'type': 1621, 'uae': 1622, 'um': 1623, 'uncle': 1624, 'under': 1625, 'until': 1626, 'using': 1627, 'ust': 1628, 'ut': 1629, 'v.': 1630, 'value': 1631, 'verification': 1632, 'visual': 1633, 'vs': 1634, 'wT': 1635, 'wasteful': 1636, 'weally': 1637, 'wealth': 1638, 'weapons': 1639, 'whatsromneyhiding': 1640, 'while': 1641, 'whitehouse': 1642, 'wife': 1643, 'wil': 1644, 'wishes': 1645, 'wit': 1646, 'wita': 1647, 'word': 1648, 'wording': 1649, 'work': 1650, 'worked': 1651, 'worried': 1652, 'worry': 1653, 'yHiding': 1654, 'yea': 1655, 'yoo': 1656, 'zneCZUTo': 1657, '   ': 1658, '\"lhttp://t.co': 1659, '#rbama': 1660, '&gt;&gt': 1661, '(:': 1662, '-#we': 1663, '--&gt': 1664, '----': 1665, '-.-': 1666, '-Ra': 1667, '-ampaign': 1668, '-b': 1669, '-dhugnificint': 1670, '-ehe': 1671, '-gTwo': 1672, '-h': 1673, '-me': 1674, '-ohis': 1675, '-ront': 1676, '.#tcot': 1677, '.....': 1678, '......': 1679, '.......': 1680, '.@USNavy': 1681, '.@aesistTyranny': 1682, '.assedpb': 1683, '.e': 1684, '.f': 1685, '.iolence': 1686, '.ithtmy': 1687, '.lasting': 1688, '.nelected': 1689, '/.': 1690, '/8HRLEeNW': 1691, '/Communal': 1692, '/DrZl9lwA': 1693, '/T': 1694, '/igns': 1695, '/jajajaj': 1696, '/oeEgypt': 1697, '/onference': 1698, '/ou': 1699, '/rn': 1700, '/t': 1701, '/trekkers': 1702, '0.6': 1703, '010': 1704, '02': 1705, '08': 1706, '0l': 1707, '0ne': 1708, '1.5': 1709, '1.92': 1710, '1.B': 1711, '1.N': 1712, '1/2': 1713, '100': 1714, '115.2': 1715, '15': 1716, '17': 1717, '1974': 1718, '1984': 1719, '1989': 1720, '19n7': 1721, '1Dfant': 1722, '1feicf': 1723, '1h1': 1724, '1o00': 1725, '1r10': 1726, '1s': 1727, '2/4': 1728, '20': 1729, '2004': 1730, '2007': 1731, '2008': 1732, '2009': 1733, '200A': 1734, '200daywar': 1735, '2012Rinarn': 1736, '2013': 1737, '2016': 1738, '2019B': 1739, '2019lhttp://t.co/dKygCI8': 1740, '2061': 1741, '20a2': 1742, '221': 1743, '222': 1744, '223': 1745, '24': 1746, '247': 1747, '270': 1748, '2d19': 1749, '2d2': 1750, '2e08': 1751, '2i00': 1752, '2m#ocra': 1753, '2r1/2': 1754, '3.5': 1755, '3.6': 1756, '3.6Meanti': 1757, '30': 1758, '3087': 1759, '30a': 1760, '345': 1761, '35': 1762, '35n#WhavsRomneyHidi': 1763, '35t#WhatsRomneyeiding': 1764, '3W6': 1765, '3http://t': 1766, '3o%': 1767, '3rdoflofr': 1768, '4%6say': 1769, '4/6/2012a4:25:20': 1770, '414': 1771, '43': 1772, '4:27:33': 1773, '4BarackObama': 1774, '4i6/2012': 1775, '56': 1776, '57': 1777, '57ostates': 1778, '599': 1779, '5rotherhood': 1780, '5th': 1781, '5x': 1782, '6': 1783, '6th': 1784, '7': 1785, '73': 1786, '76': 1787, '7aoTales': 1788, '7bama': 1789, '7icymi': 1790, '7nalyt64': 1791, '7ooffices': 1792, '7vkYru': 1793, '8': 1794, '80s': 1795, '87': 1796, '9212': 1797, '95': 1798, '97': 1799, ':-))': 1800, ':/': 1801, ':D': 1802, ';)': 1803, '@.ichelleOaama': 1804, '@/SheCallsMeLaXryThe': 1805, '@/ThirdlailersObama': 1806, '@0ryuge': 1807, '@1DfactsOMG': 1808, '@1Directionality': 1809, '@1Directionalityr': 1810, '@1Dlover_carrots': 1811, '@1LuisSandov': 1812, '@1LuisSandoval': 1813, '@:dshow': 1814, '@:effersonObamaJ': 1815, '@ABC': 1816, '@ABn': 1817, '@AC36a': 1818, '@AIsForOrg': 1819, '@AP_Ken_Thomas': 1820, \"@A_Khaniv're\": 1821, '@A_Khanivore': 1822, '@AddThms': 1823, '@Aekansasfoys': 1824, '@AmeIican1st': 1825, '@AmerI': 1826, '@AnitaMarks': 1827, '@Artco77': 1828, '@Atrios': 1829, '@Atriosb': 1830, '@AudreylPerry': 1831, '@Ausflatfish': 1832, '@Austin': 1833, '@BORNCURIoUS': 1834, '@BandDirFundkais': 1835, '@Barac': 1836, '@BaracWObama': 1837, '@Bdcochese': 1838, \"@Be'leInABow\": 1839, '@Bellaniev/': 1840, '@BelleInA': 1841, '@BelleInABowd': 1842, '@Boudicabpi': 1843, '@BrianBrownNet': 1844, '@BuckSexton': 1845, '@BunkerBlast': 1846, '@CAWright77': 1847, '@CArhpub': 1848, '@CBSSports': 1849, '@CBnielle5R': 1850, '@CNNnewsroom': 1851, '@COBriwn': 1852, '@COnrown': 1853, '@Ca': 1854, '@CarOc_Kbami': 1855, '@Cat': 1856, '@ChycoDelainky': 1857, '@Common_Sente4U': 1858, '@Creationtips': 1859, '@DAReEublican12': 1860, '@DSrCT': 1861, '@DanMokfTErfin': 1862, '@DavidCornDC': 1863, '@DavidShust': 1864, '@Deltagirl1326': 1865, '@Devils_for_Lifeblol': 1866, '@Drew': 1867, '@DrewMcKhssnck': 1868, '@DrowMTips': 1869, '@DrtwMTips': 1870, '@DruRge_Report': 1871, '@Duckinthedesert': 1872, \"@EMcLea'm982\": 1873, '@EWErickson': 1874, '@EanrenTnglsih3': 1875, '@EileenLeft': 1876, '@ErskineGrier': 1877, '@ErskineGriernRacism': 1878, '@ExtremeLiberal': 1879, '@FAU_Problems': 1880, '@FHQ': 1881, '@FRANCE24': 1882, '@Fake_Dispatch': 1883, '@Fake_eispatch': 1884, '@FiRgersflying': 1885, '@GEsfandiario': 1886, '@GEsftndiari': 1887, '@Gabbm_Hoffman': 1888, '@Gabby_H': 1889, '@Gabby_Hoffman': 1890, '@GatorNacion4o': 1891, '@GeorgeD_87': 1892, '@GetsGreased': 1893, '@GeyKawasaki': 1894, '@Ghutsch': 1895, '@GlobalGrond': 1896, '@GottaLaff': 1897, '@GottaLgff': 1898, '@Granh': 1899, '@GrassRortRevolt': 1900, '@GregWHoward6': 1901, '@Ha': 1902, '@Habibaty_Souria': 1903, '@Habibaty_Sourin': 1904, '@Har': 1905, '@HarryOacts1D': 1906, '@Harry_S': 1907, '@Harry_Styles': 1908, '@Harry_Stytes': 1909, '@HesDanTheMan': 1910, '@HoneMtsitt': 1911, '@HonestCo@serEat': 1912, '@HuffPostPol': 1913, '@HuffinWtonPoso': 1914, '@IBD': 1915, '@IamDonCheadle': 1916, '@Im_Taler': 1917, '@Im_Tylar': 1918, '@IndyEnigma': 1919, '@J?ffreyToobiS': 1920, '@JaySekulow': 1921, '@JeffersonObJma': 1922, '@JeffersonObaea': 1923, '@JeffersonObnma': 1924, '@JeffirsonObama': 1925, '@Jeffurso': 1926, '@JefwersonObama': 1927, '@JennyEbikson': 1928, '@JennyEr': 1929, '@Jennyori#son': 1930, '@Jeyi2': 1931, '@JnffersonObamr': 1932, '@JoeNBC': 1933, '@JoeNixpacsSays': 1934, '@JoeSixpa': 1935, '@John_37058': 1936, '@JohneMackenzie': 1937, '@Josh_Painter': 1938, '@JustAnotherMf': 1939, '@Justgod007': 1940, '@Kaibagan': 1941, '@KartRove': 1942, '@KatrinaNation': 1943, '@KayHagan': 1944, '@Kaytagan': 1945, '@KeithOlbeImwnn': 1946, '@Kerryepp': 1947, '@KevinWGlass': 1948, '@KovinWGlass': 1949, '@LMFAO': 1950, '@LauraFlyMe': 1951, '@LeslieMars': 1952, '@Lever_OFA_NH': 1953, '@Libertaaian_76': 1954, '@Libertarian_76': 1955, '@Lo': 1956, '@LoberaoManzena': 1957, '@LoeTommoBuma': 1958, '@LouT': 1959, '@LouTommoBuh': 1960, '@LouTommoBum': 1961, '@LouTomtoBu': 1962, \"@Lpura'lyMe\": 1963, '@Ludacris': 1964, '@LyndsayFarlow': 1965, '@MJ_Obama': 1966, '@MOPNF': 1967, '@MOPNS': 1968, '@MPeSixpackSays': 1969, '@MacehuaHarts': 1970, '@Mamadoxie': 1971, '@MaocrRubio': 1972, '@MarcoRuHyb': 1973, '@MarcoRubio': 1974, '@MarkCarner': 1975, '@Me)ia': 1976, '@Megansmiles': 1977, '@MeraAPearl': 1978, '@Messnna2012': 1979, '@MiamiH': 1980, '@MikeAllen': 1981, '@MikeLotito15': 1982, '@MiltShook': 1983, '@MintRamney': 1984, '@Miranoacan': 1985, '@MislusPowell': 1986, '@MitORomney': 1987, '@MnsicandFaith': 1988, '@MrPartisai': 1989, '@MrTinyPenis': 1990, '@Mr_JPatt': 1991, '@MsRock4Ever': 1992, '@MsRock4EverO': 1993, '@MttiRomney': 1994, '@NBCNews': 1995, '@NHLWingsfanKay': 1996, '@NHLWingsfanoay': 1997, '@NMsly': 1998, '@Notintheface1': 1999, '@NouvelleNom': 2000, '@OREILLY': 2001, '@Obama2012': 2002, '@OrwellForcH': 2003, '@OrwellForcer': 2004, '@Otama2012': 2005, '@P': 2006, '@PRIVAtE.SLEEPY': 2007, '@PamMcAllister': 2008, '@PeteXU': 2009, '@PeterSchiff': 2010, '@Pir': 2011, '@PiratePFrtyGa': 2012, '@PitchyPete': 2013, '@Po_st': 2014, '@PoliticalGal11': 2015, '@PresElections': 2016, '@Profesmor_Why': 2017, '@Psofesror_Why': 2018, '@RT_America': 2019, '@RandallHovem': 2020, '@RealClearSc': 2021, '@Real_eiam_Payne': 2022, '@RednaxalA': 2023, '@ReidioFrLibeety': 2024, '@Rickhattorum': 2025, '@RightWay2': 2026, '@River_Aity': 2027, '@RoeeszyaohsIt': 2028, '@SHxead': 2029, '@SamValleoW': 2030, '@SarahRoman11': 2031, '@SheCalLsMelarry': 2032, '@SolameaniesTruly': 2033, '@Steto33': 2034, '@SteveDeaceShon': 2035, '@Stewart7Donna': 2036, '@Straiahany#whatsRomneyHiding': 2037, '@SubSayEATTFREAH': 2038, '@TBCDG': 2039, '@TCOTvideos': 2040, '@TPO_Hissela': 2041, '@TPO_Hlsself': 2042, '@TPl_Hisaelf': 2043, '@Tacam': 2044, '@TaeDemoirats': 2045, '@Tal': 2046, '@Talkmtster': 2047, '@Tglkmaster': 2048, '@The': 2049, '@TheDemocrats': 2050, '@TheOnion': 2051, '@ThePlumLineGS': 2052, '@TheWrightWingv2': 2053, '@TiwOworks': 2054, '@TrarkVetecan': 2055, '@TrentOn_YouOff': 2056, '@Trigonis': 2057, '@Tylerxadonis': 2058, '@Un_OccupyWallSt': 2059, '@Un_ProgresRive': 2060, '@VRWCTeean': 2061, '@VoteHillary2012': 2062, '@WAMK': 2063, '@W_Paul_Willilms': 2064, '@WardinaP623:#edshot': 2065, '@Wary12': 2066, '@WestJ2urnalism': 2067, '@WestJournalism': 2068, '@WhatTheFFacis': 2069, '@WhatTheFcaFts': 2070, '@WhatTheFhacts': 2071, '@WhineNot': 2072, '@WhiteHouse': 2073, '@WilluamShatner': 2074, '@WlaircCMC': 2075, '@Wozniak1': 2076, '@YanooNews': 2077, '@YungdashK': 2078, '@ZekeJMiller': 2079, '@Zu#u_xod': 2080, '@_Ciroc_Obama': 2081, '@_H_w_T': 2082, '@addNhis': 2083, '@against_obama': 2084, '@agatnsl_obama': 2085, '@alexaforman': 2086, '@an6a120n1': 2087, '@angel__networb': 2088, '@angel__network': 2089, '@ann012a61': 2090, '@anthropocon': 2091, '@astroperf': 2092, '@atyackwatch': 2093, '@ba': 2094, '@baHeballcrant': 2095, '@barackobama': 2096, '@barackobtma': 2097, '@base': 2098, '@baseballc': 2099, '@beihurleycomyde': 2100, '@billmaher': 2101, '@blUkehounsnella@handrewschwartz': 2102, '@blakeho\"nsh': 2103, '@blakehounshell:.From': 2104, '@blakehuonshell': 2105, '@blessmyliberty': 2106, '@c_o_l_l_e_e_n': 2107, '@canna@is_times': 2108, '@carrotgravy': 2109, '@charlesdav': 2110, '@charlesfritw': 2111, '@commondreams': 2112, '@conaeNRO': 2113, '@daanxyelll': 2114, '@danweo': 2115, '@debv2': 2116, '@diercrelewis': 2117, '@dierdrelewiso': 2118, '@djt': 2119, '@domjuanw': 2120, '@e@show': 2121, '@earkknoller': 2122, '@ed': 2123, '@ed\"how': 2124, '@edelow': 2125, '@edrhow': 2126, '@edshaw': 2127, '@edshiw': 2128, '@edshoc': 2129, '@edshoh': 2130, '@edshoo': 2131, '@edshowcMreS': 2132, '@edstow': 2133, '@edswoh': 2134, '@edu_castillo': 2135, '@edwahdvirtually': 2136, '@egtPolite': 2137, '@eittoomney': 2138, '@esqcapadesO#WhalsRoOneyHiding': 2139, '@fredthompmon': 2140, '@freegalt': 2141, '@fu': 2142, '@gardenofthePods': 2143, '@gardenofthegods': 2144, '@ge.fersonObama': 2145, '@geoff9cow': 2146, '@gepff9how': 2147, '@globeandmail': 2148, '@globeandmaile': 2149, '@goe': 2150, '@gop': 2151, '@gretawiae': 2152, '@gretawire': 2153, '@handrawschwartz': 2154, '@handrewschKartz': 2155, '@handrewschw': 2156, '@hayma': 2157, '@huffingtonpost': 2158, '@iChicagoSco.t': 2159, '@iMitt4USA': 2160, '@idkmanilove1D': 2161, '@ihehealrc': 2162, '@ihgirlph': 2163, '@informedblackmn': 2164, '@iowahawkblog': 2165, '@ipartisanbJo': 2166, '@irewMTips': 2167, '@jagu': 2168, '@jamtshohmann': 2169, '@jaysekulaw': 2170, '@jazzcattrio': 2171, '@jeffreytoobin': 2172, '@jennykassan': 2173, '@jimcramSr': 2174, '@jltho': 2175, '@jmipac351': 2176, '@katiehiggins_a': 2177, '@keigardrer': 2178, '@kellfeo79lsave': 2179, '@keneardner': 2180, '@kesga': 2181, '@kesgard': 2182, '@kesoard': 2183, '@kkrebeka': 2184, '@kombiz': 2185, '@krauthammer': 2186, '@larryeldershow': 2187, '@letsrollforums': 2188, '@lilcode45': 2189, '@maddow': 2190, '@magkknoller': 2191, '@maikknoller': 2192, '@mar': 2193, '@marclamonthill': 2194, '@mark': 2195, '@markanoller': 2196, '@markknlller': 2197, '@markkno': 2198, '@markknollar': 2199, '@markknollsr': 2200, '@markkooller': 2201, '@markmnoller': 2202, '@maryfranholm': 2203, '@marymauldin': 2204, '@mbenzgt': 2205, '@megynkelly': 2206, '@mesanageryon': 2207, '@messila2012': 2208, '@mirkknoller': 2209, '@mitherjones': 2210, '@mittromney': 2211, '@mlake9': 2212, '@mlekea': 2213, '@mmfa': 2214, '@nakedsk8boy': 2215, '@nat_riverascott': 2216, '@nbcpolitics': 2217, '@nhinkgrogress': 2218, '@nicholle': 2219, '@nilrascal01': 2220, '@nprnewo': 2221, '@nprnews': 2222, '@oarkknoller': 2223, '@obamw': 2224, '@occupymarines': 2225, '@oetseyross': 2226, '@ohbirlphrase': 2227, '@ohcirlphrase': 2228, '@ohgTrlphrase': 2229, '@ohgerlphrase': 2230, '@ohgi\"lphrase': 2231, '@ohgirlphraDe': 2232, '@ohgirlphrace': 2233, '@ohgirlphraie': 2234, \"@ohgirlphrase:'American\": 2235, '@ohgirlphraseR?American': 2236, '@ohgirlphrasem': 2237, '@ohgirlphrast': 2238, '@ohgirlphrhse': 2239, '@ohgirlphruse': 2240, '@ohgiulphrase': 2241, '@ohgsrlphrase': 2242, '@ohhirlphrase': 2243, '@ohiirlplrase': 2244, '@ohiorlphrase': 2245, '@ohuirlphdase': 2246, '@oimothyNoah1': 2247, '@ol': 2248, '@orianBrownNet': 2249, '@osgirlphra': 2250, '@owg.rlphrase': 2251, '@politifact': 2252, '@poorconservativ': 2253, '@pourmecoffe': 2254, '@pourmesoffee': 2255, '@precrousliberty': 2256, '@pritikothari': 2257, '@psema4': 2258, '@r': 2259, '@rYvibe71': 2260, '@ric#jnewman': 2261, '@ridiamsdd': 2262, '@robertcobrien': 2263, '@robertcobrienR': 2264, '@roiningForces': 2265, '@ronpaulrca2012': 2266, '@roobishimmer': 2267, \"@rush'imbaugh777\": 2268, '@ryanjcroft': 2269, '@ryanjcsoft': 2270, '@sDarrowmedia': 2271, '@sam2ksami': 2272, '@scarlett_0hara': 2273, '@schwingcat': 2274, '@seanhannity': 2275, '@sefferJonObama': 2276, '@sevenlayercake': 2277, '@sgaui': 2278, '@sierchioM': 2279, '@skeeteronmy': 2280, '@solomon': 2281, '@southsaHem': 2282, '@sparrowm': 2283, '@stonerjesus420': 2284, '@sugarscape': 2285, '@sunnyright': 2286, '@susie_c': 2287, '@sweetbay': 2288, '@tarkknoller': 2289, '@taylorswRft13': 2290, '@terresamonroe': 2291, '@texasz': 2292, '@thdnkprogress': 2293, '@therighesarah': 2294, '@thinkprogr7ss': 2295, '@thinkprogsess': 2296, '@thoblaze': 2297, '@times247': 2298, '@timgRIGHTway': 2299, '@tmjan1': 2300, '@trueboInstark': 2301, '@truthbeam2012': 2302, '@truthout': 2303, '@truthteam2012': 2304, '@tsagliadi': 2305, '@tweetslikeagi': 2306, '@uscfandave': 2307, '@vaponte8': 2308, '@vaptiCatingNews': 2309, '@vflyby': 2310, '@washcngtonpost': 2311, '@wcpMersn': 2312, '@wcpter': 2313, '@wcpttrsn': 2314, '@whatevrer': 2315, '@wilycyotoe': 2316, '@wolfblitzercnn': 2317, '@workinmamae@RednaxalA': 2318, '@worktnmama': 2319, '@xShwag': 2320, '@yahoocanadanews': 2321, '@yaliberty': 2322, '@yoqtube': 2323, '@yottube': 2324, '@youtabe': 2325, '@youtuberSeeca': 2326, '@ysutube': 2327, \"A'ericansa\": 2328, 'A@erican': 2329, 'ABOST': 2330, 'ABOUT': 2331, 'ABTTANYTHING': 2332, 'AC360': 2333, 'ACTI': 2334, 'AETU': 2335, 'AGAIN': 2336, 'AH': 2337, 'AHAHUHAHAUHUAHUAHHAUHA': 2338, 'AID': 2339, 'AIP\"C': 2340, 'AIPAC': 2341, 'AIS': 2342, 'ALOt': 2343, 'ALREADY': 2344, 'ALWAYShsomeo': 2345, 'AMERICAN': 2346, 'AMEwICAN': 2347, 'AMiO': 2348, 'ANYONE': 2349, 'AOE': 2350, 'AOMNEY': 2351, 'ATpa': 2352, 'AWtOi': 2353, 'Aaakakaka': 2354, 'Abortion': 2355, 'Ac': 2356, 'AcM': 2357, 'Accusatgon': 2358, 'Accused': 2359, 'Accuses': 2360, 'Acp': 2361, 'Actahttp://t.co/fCuetbWm': 2362, 'ActfLikely': 2363, 'Actions': 2364, 'Ad': 2365, 'Adams': 2366, 'AdmiS': 2367, 'Admin': 2368, 'Administr': 2369, \"Administration'r\": 2370, 'Adoinistration': 2371, 'AdviIer': 2372, 'Aegusta': 2373, 'Aet': 2374, 'Afr': 2375, 'Africa': 2376, 'African': 2377, 'After': 2378, 'AgainstlObama': 2379, 'Agatn': 2380, 'Ahab': 2381, 'Ahave': 2382, 'Aheroca': 2383, 'Aiministratdon': 2384, 'Airingfthis': 2385, 'Airships': 2386, 'Ais': 2387, 'Already': 2388, 'Alright': 2389, 'AlwRys': 2390, 'Alzheimer': 2391, 'AmSrican': 2392, 'Ame\"ican': 2393, 'Ame@ican': 2394, 'AmeBican': 2395, 'Ameiicans': 2396, 'Amendment': 2397, 'Amenican': 2398, 'Ameracan': 2399, 'Amerecan': 2400, 'Americ\"n': 2401, 'AmericaT2012': 2402, 'AmericaU': 2403, 'Americah': 2404, 'AmericanBkid': 2405, 'Americandkid': 2406, 'Americanekid': 2407, 'Americanfkid': 2408, 'Americankkid': 2409, 'Americanl': 2410, 'Americanslfrom': 2411, 'Americansscan': 2412, 'Americanykid': 2413, 'Americat': 2414, 'Americaus': 2415, 'Americin': 2416, 'Americon': 2417, 'Ameriean': 2418, 'Amerioans': 2419, 'Ameriyan': 2420, 'Amerlca': 2421, 'Amevican': 2422, 'Amewican': 2423, 'Amhrican': 2424, 'Amp': 2425, 'Amter': 2426, 'AnRthBr': 2427, 'AnalOst64': 2428, 'Analyt64': 2429, 'Annou': 2430, 'Anosymoun': 2431, 'Anothe': 2432, 'Anotre': 2433, 'Answer': 2434, 'Anthony': 2435, 'Anti@hrist': 2436, 'Anticbpation': 2437, 'Antichoist': 2438, 'AnticiSation': 2439, 'Anticiuation': 2440, 'AntiiW': 2441, 'Antoher': 2442, 'Anvantage': 2443, 'Anyone': 2444, 'Aoerocan': 2445, 'Aomney': 2446, 'Ap': 2447, 'ApD': 2448, 'Apologies': 2449, 'Appeals': 2450, 'Apple': 2451, 'Approvn': 2452, 'April': 2453, 'Aprilb': 2454, 'Apuzzo': 2455, 'Archbishap': 2456, 'Archbishop': 2457, 'Architects': 2458, 'Are': 2459, 'AreuBut': 2460, 'Arianni': 2461, 'Arianns': 2462, 'Army': 2463, 'ArmyofBreitbarts': 2464, 'Around': 2465, 'Artt': 2466, 'Aserica': 2467, 'Asericans': 2468, 'Asked': 2469, 'Asking': 2470, 'Assad': 2471, 'Assaioing': 2472, 'Assignment': 2473, 'Attacks': 2474, 'Attemat': 2475, 'Attempt': 2476, 'Attortey': 2477, 'Au': 2478, 'Aud': 2479, 'Aueusta': 2480, 'Auformer': 2481, 'AugPsta': 2482, 'August': 2483, 'Augusta//': 2484, 'Augustw': 2485, 'Aulustaehttp://t.co/zh': 2486, 'Austan': 2487, 'AutoFollGwBack': 2488, 'AutopenoMissing': 2489, 'B.S.': 2490, 'B1outube': 2491, 'B2cYIX23': 2492, 'BACK': 2493, 'BASTARD': 2494, 'BEST': 2495, 'BHRACK': 2496, 'BI': 2497, 'BOCSTED': 2498, 'BOOSTED': 2499, 'BOP': 2500, 'BOSS': 2501, 'BQdget': 2502, 'BRAIN': 2503, 'BRING': 2504, 'BRUAOUue': 2505, 'BULLSHIT': 2506, 'BULLY': 2507, 'BULLYcELECTED': 2508, 'BUSH': 2509, 'BUT': 2510, 'BWAhahahahahaha': 2511, 'Ba#atk': 2512, 'Baaack': 2513, 'Baby': 2514, 'Back': 2515, 'Background': 2516, 'Bahack': 2517, 'Baier': 2518, 'Bakack': 2519, 'Balances': 2520, 'Bam': 2521, 'Baptist': 2522, 'Bara': 2523, 'Bara@k': 2524, 'Barac': 2525, 'Baraci': 2526, 'Baraco': 2527, 'Baracs': 2528, 'Baraek': 2529, 'Barbara': 2530, 'Barone': 2531, 'Barrack': 2532, 'Barsck': 2533, 'Based': 2534, 'Bastard': 2535, 'Bbaam': 2536, 'Bean': 2537, 'Beastiality': 2538, 'Because': 2539, 'Before': 2540, 'Bethesd': 2541, 'Bey': 2542, 'Beyond': 2543, 'Bhrry': 2544, 'BiRls': 2545, 'Biblc': 2546, 'Bide': 2547, 'Bigfoot': 2548, 'BillnO.': 2549, 'Bilo': 2550, 'Biober': 2551, 'Biz': 2552, 'Bl': 2553, 'BlancaJ': 2554, 'Blog': 2555, 'Bloodiest': 2556, 'Bluepriuts': 2557, 'Bo': 2558, 'Bob': 2559, 'Bobbt': 2560, 'Bogus': 2561, 'Booming': 2562, 'Bor': 2563, 'Both': 2564, 'Bottles': 2565, 'Bounty': 2566, 'Bratiso': 2567, 'Breakfast': 2568, 'Breaktng': 2569, 'Breitbartkacolytes': 2570, 'Briefing': 2571, 'Brikish': 2572, 'Brioish': 2573, 'Brit\"kh': 2574, 'Britesh': 2575, 'Briti': 2576, 'BritiOh': 2577, 'Britiih': 2578, 'Britishhkid': 2579, 'Britisk': 2580, 'Britiso': 2581, 'Britist': 2582, 'Britith': 2583, 'Broth': 2584, 'Brotheihood': 2585, 'Brotheroo': 2586, 'Brqsgc': 2587, 'Brttish': 2588, 'Bslli': 2589, 'Btyles': 2590, 'Bucco': 2591, 'Bucket': 2592, 'Bud7et': 2593, 'Buddyh': 2594, 'Budgat': 2595, 'Buffet': 2596, 'Buffett': 2597, 'Bully': 2598, 'Busch': 2599, 'Busieess': 2600, 'Business': 2601, 'Byloia': 2602, 'Bytevhttp://t.co/uakvibi8': 2603, \"C'mon\": 2604, 'C.mmon': 2605, 'CAMINF': 2606, 'CAROLINE,:NEXT': 2607, 'CATARPILLER': 2608, 'CBC': 2609, 'CBS': 2610, 'CEO': 2611, 'CIA': 2612, 'CITIZENS': 2613, 'CL': 2614, 'CLEARLY': 2615, 'COCMEcMIAL': 2616, 'COME': 2617, 'CORE': 2618, 'CRATS': 2619, 'CRMINO': 2620, 'CULE?Mr': 2621, 'CWN': 2622, 'Cake': 2623, 'Calls': 2624, 'Calzer': 2625, 'Campaig': 2626, 'Campcign': 2627, 'Canada': 2628, 'Canht': 2629, 'Capita': 2630, 'Carley': 2631, 'Carney': 2632, 'Casr': 2633, 'Catholic': 2634, 'Catholics': 2635, 'Caug': 2636, 'Cauhe': 2637, 'Cause': 2638, 'Cdurt': 2639, 'Center': 2640, 'Certificate': 2641, 'ChaSge': 2642, 'Chairman': 2643, 'Challenge': 2644, 'Chaoge': 2645, 'Charge': 2646, 'Charles': 2647, 'Charlotte': 2648, 'Chat': 2649, 'Checking': 2650, 'Checks': 2651, 'Chicken': 2652, 'Chicom': 2653, 'Chicren': 2654, 'Children': 2655, 'China': 2656, 'Christian': 2657, 'Christians': 2658, 'Churco': 2659, 'Chy': 2660, 'Civility': 2661, 'Cl': 2662, 'Clarifying': 2663, 'Cleaarnce': 2664, 'Clearly': 2665, 'Clinton': 2666, 'Cllls': 2667, 'Close': 2668, 'Cloward': 2669, 'Cmn': 2670, 'Coalitionphtt': 2671, 'Codgress': 2672, 'Cogmentary': 2673, 'Cohrts': 2674, 'Coina': 2675, 'Collection': 2676, 'CollegS': 2677, 'Colstitntional': 2678, 'Comes': 2679, 'Commie': 2680, 'Communist': 2681, 'Community': 2682, 'Compare': 2683, 'Completes': 2684, 'Comstitutional': 2685, 'ConArehs': 2686, 'ConRedes': 2687, 'ConRinues': 2688, 'Conce': 2689, 'Concerning': 2690, 'Conclu': 2691, 'Congres': 2692, 'Congresu': 2693, 'Conniff': 2694, 'Conpinues': 2695, 'Conrpiracy': 2696, 'ConservOtive': 2697, 'Conservatives': 2698, 'Consistently': 2699, 'Conspiracy': 2700, 'Constitotional': 2701, 'Constituaiont': 2702, 'Constitutian': 2703, 'Continuesni': 2704, 'Cool': 2705, 'Cooservative': 2706, 'Coprt': 2707, 'Corn': 2708, 'Cotholil': 2709, 'Could': 2710, 'Couot': 2711, 'Cour8': 2712, 'Court?\"e': 2713, 'Courte': 2714, 'Courteas': 2715, 'Covero': 2716, 'Covert': 2717, 'Cozies': 2718, 'Cr': 2719, 'Crackdown': 2720, 'Crashes': 2721, 'Create': 2722, 'Credit': 2723, 'Critical': 2724, 'CriticalsRace': 2725, 'Criticizes': 2726, 'Criticizing': 2727, 'Criticozing': 2728, \"Crn't\": 2729, 'Crntinues': 2730, 'Cross': 2731, 'Crotsea': 2732, 'Crude': 2733, 'Ctol': 2734, 'Cttholics': 2735, 'Cut': 2736, 'DATED': 2737, 'DBD': 2738, 'DBMm': 2739, 'DHEELS': 2740, \"DIDN'T\": 2741, 'DIE': 2742, 'DOTN': 2743, 'DRYMN': 2744, 'DUM': 2745, 'Dah': 2746, 'Dan': 2747, 'DanMoffTarein': 2748, 'Dapper': 2749, 'DarwhOism': 2750, 'Day&HalfnSupply': 2751, 'Ddngerous': 2752, 'De': 2753, 'Dea': 2754, 'Dealing': 2755, 'Dealing/': 2756, 'Dear': 2757, 'DebbieaWasserman': 2758, 'Declaratiln': 2759, 'Decwded': 2760, 'Defend': 2761, 'Defends': 2762, 'Delivers': 2763, 'Demtcrats': 2764, 'Deoocrats': 2765, 'Derwinism': 2766, 'Designers': 2767, 'Despite': 2768, 'Destruction': 2769, 'Dhhh': 2770, 'Dic': 2771, 'Diik': 2772, \"Dim'GOP\": 2773, 'Dine': 2774, 'Discu': 2775, 'Dismissal': 2776, 'Disobedience': 2777, 'Displayain': 2778, 'DnC': 2779, 'Dnews': 2780, 'Dnrwiaism': 2781, \"Do''t\": 2782, 'Doeyou': 2783, 'Dog': 2784, 'Donor': 2785, 'Doomsda': 2786, 'DrYg': 2787, 'DraeH': 2788, 'Dreams': 2789, 'DrillHereDrillNow': 2790, 'Drive': 2791, 'Dronesrhttp://t.uo/G2kQrEmd': 2792, 'Drool': 2793, 'Drug': 2794, 'Dsrwiniam': 2795, 'Du': 2796, 'Duemei61': 2797, 'Duh': 2798, 'Dumbest': 2799, 'Dunce': 2800, 'During': 2801, 'Dves': 2802, \"E'en\": 2803, 'E.': 2804, 'E2sterhPrayer': 2805, 'EARTH': 2806, 'EAS8WNdU': 2807, 'EBAMA': 2808, 'ED': 2809, 'EDITORIA/': 2810, 'EGA': 2811, 'ELECTED': 2812, 'ENDORVESuOBAMA': 2813, 'EOHMEET': 2814, 'EStIcA': 2815, 'EVERYONE': 2816, 'EVERYTH#NG': 2817, 'EXCLUSIVE': 2818, 'EaNtlmO0': 2819, 'Eaections': 2820, 'Ease': 2821, 'Easn': 2822, 'East': 2823, 'Eastei': 2824, 'EastereEgg': 2825, 'Ebinger': 2826, 'Ec': 2827, 'Echses': 2828, 'Economics101': 2829, 'Economist': 2830, 'Econxmy': 2831, 'Ed': 2832, 'Edaa': 2833, 'Edito': 2834, 'EgyptoAfter': 2835, 'Eiding': 2836, 'Eien': 2837, 'Elected': 2838, 'ElectioL': 2839, 'ElectioP2012##tcot': 2840, 'Electipns': 2841, 'Eleoticn': 2842, 'Emf': 2843, 'Emorgency': 2844, 'Enael': 2845, 'Enemies': 2846, 'ErHc': 2847, 'EriciHolder': 2848, 'Ermey': 2849, 'Escalades': 2850, 'Espionage': 2851, 'Eterynhitg': 2852, 'EvRrything': 2853, 'Every': 2854, 'Ewell': 2855, 'Exa.iner': 2856, 'Examiner-': 2857, 'Exapplem': 2858, 'Expect': 2859, 'Extends': 2860, 'Exterminction': 2861, 'FACT': 2862, 'FACTS': 2863, 'FAILUR': 2864, 'FAR': 2865, 'FAUsoo': 2866, 'FDAR': 2867, 'FEnally': 2868, 'FFX': 2869, 'FI': 2870, 'FINALLo': 2871, 'FINmLLY': 2872, 'FIRST': 2873, 'FLsen': 2874, 'FOOT': 2875, 'FORGET': 2876, 'FOS1n9d': 2877, 'FRAdDI#GOP': 2878, 'FRAiD': 2879, 'FREn': 2880, 'FTr': 2881, 'FUCK': 2882, 'FULLERTON': 2883, 'FUNoI.': 2884, 'FYI': 2885, 'FZxN': 2886, 'Face': 2887, 'FaceboiM': 2888, 'Facebook': 2889, 'FacefnDismissal': 2890, 'FactChecked': 2891, 'Fak': 2892, 'Fantasy': 2893, 'Fas': 2894, 'FastAndFurious': 2895, 'FastandFurious': 2896, 'FeQeral': 2897, 'Fed#ral': 2898, 'FedRupgwith': 2899, 'Feds': 2900, 'Fgnatius': 2901, 'Figurativt': 2902, 'Files': 2903, 'Finnish': 2904, 'FireObama': 2905, 'Fired': 2906, 'Fix': 2907, 'Fla': 2908, 'FlipFlop': 2909, 'Foot': 2910, 'Forbes': 2911, 'Forums': 2912, 'FoxNews': 2913, 'Fraui': 2914, 'Friendl': 2915, 'FuckGaW': 2916, 'FuckiYo': 2917, 'Fuel': 2918, 'Funring': 2919, 'Fwank': 2920, 'G&lf': 2921, 'G-': 2922, 'GA': 2923, 'GGp': 2924, 'GIven': 2925, 'GKOd': 2926, 'GLopiyOC': 2927, 'GONE': 2928, 'GOPasenator': 2929, 'GOPbsThis': 2930, 'GOPtBudge': 2931, 'GOPwis': 2932, 'GOg': 2933, 'GOl': 2934, 'GOn': 2935, 'GOr': 2936, 'GRAND': 2937, 'GRASD': 2938, 'GTmqufBo': 2939, 'GTod': 2940, 'Gadme': 2941, 'Gal': 2942, 'Gamers': 2943, 'Gay': 2944, 'GbsessiHr': 2945, 'Geither': 2946, 'Gender': 2947, 'GeneJal': 2948, 'General': 2949, 'Genetamion': 2950, 'George': 2951, 'GettNational': 2952, 'Getting': 2953, 'Ghandi': 2954, 'Gimme': 2955, 'Gingrich': 2956, 'GivingeHim': 2957, 'GkP': 2958, 'Globalistmcontrollers': 2959, 'GnP': 2960, 'GneR': 2961, 'Goaf': 2962, 'Goals&gt': 2963, 'GodfatPer': 2964, 'Godwins': 2965, 'Goes': 2966, 'GonTo': 2967, 'Gooesbel': 2968, 'Google': 2969, 'Gop2012': 2970, 'GotbBack': 2971, 'Gp2': 2972, 'Gr': 2973, 'Grammar': 2974, 'Grand': 2975, 'Graph': 2976, 'Grave': 2977, 'Great': 2978, 'Greaw': 2979, 'GreeH': 2980, 'Grimaces': 2981, 'Groups': 2982, 'Gtates': 2983, 'Gun': 2984, 'HAAsP': 2985, 'HARD': 2986, \"HASN'T\": 2987, 'HB': 2988, 'HBOfdocumeneary': 2989, 'HBOrdocumentary': 2990, 'HD': 2991, 'HDs': 2992, 'HI@': 2993, 'HIDNNG': 2994, 'HIJOn': 2995, 'HING': 2996, 'HINT': 2997, 'HIS': 2998, 'HNma': 2999, 'HOJE': 3000, 'HOJOS': 3001, 'HOLD': 3002, 'HOME': 3003, 'HOUSE': 3004, 'HOW': 3005, 'HObama': 3006, 'HT': 3007, 'HUa': 3008, 'HUmsH#Assad': 3009, 'HWhatsRomn.rHiding': 3010, 'Ha': 3011, 'HaOry': 3012, 'Haa': 3013, 'Haary': 3014, 'Had': 3015, 'Haeretz': 3016, 'Hag': 3017, 'Hannity': 3018, 'Harcard': 3019, 'HarryAStyles': 3020, 'Harv\"rd': 3021, 'Harvacd': 3022, 'Harvard.r': 3023, 'Harvardy': 3024, 'Harxard': 3025, 'Hashtag': 3026, 'Hate': 3027, 'Hatretz': 3028, 'Hazz': 3029, 'Hbama': 3030, 'Healthcare': 3031, 'Healthcarea&pJ': 3032, 'Heanth': 3033, 'Heard': 3034, 'Heat': 3035, 'Hedges': 3036, 'Heds': 3037, 'Herald': 3038, \"Here'seHow\": 3039, 'Hernandez': 3040, 'Hess': 3041, 'Het': 3042, 'Hey': 3043, 'Hf': 3044, 'Hi8NBhBT': 3045, 'Hiding': 3046, 'High': 3047, 'HilJary': 3048, 'Hillamys': 3049, 'Hillary': 3050, 'HinJeraker': 3051, 'Hints': 3052, 'Hio': 3053, 'HiringCMuslim': 3054, 'Histanic': 3055, 'Hm': 3056, 'Hmm': 3057, 'Hmw': 3058, 'Ho': 3059, 'Hoatt': 3060, 'Holder,': 3061, 'Holdertdelivers': 3062, 'Homework': 3063, 'Hone': 3064, 'HonestMitt': 3065, 'Hopinn': 3066, 'Hosting': 3067, 'Hot': 3068, 'Housecpassed': 3069, 'Houte': 3070, 'HowhSaul': 3071, 'Hse': 3072, 'Hsuse-': 3073, 'Ht': 3074, 'Huffingtoa': 3075, 'Huffingtonabl': 3076, 'Huffsngton': 3077, 'Hussein': 3078, \"I'M\": 3079, \"I'dolikeeto\": 3080, 'I.': 3081, 'IA': 3082, 'IBLoCOA': 3083, 'IBM': 3084, 'ID2': 3085, 'IDIC': 3086, 'IDK': 3087, 'IF': 3088, 'IL': 3089, 'ILENDER': 3090, 'ILikeObamacareabecapse': 3091, 'IMPORIANT': 3092, 'IMPORTANT': 3093, 'IN': 3094, 'INSIDE': 3095, 'INTERNSHIP': 3096, 'INteresting': 3097, 'IRS': 3098, 'IT': 3099, 'IT(Cover': 3100, 'ITS': 3101, 'IW': 3102, 'IWantToPuychPropleWho': 3103, 'IZXRte2e': 3104, 'Ia': 3105, 'Ib': 3106, 'Ibamaosayd': 3107, 'Iesea': 3108, 'Ifreedomfever': 3109, 'Ifuall': 3110, 'IgnCrant': 3111, 'Ignasius': 3112, 'Illegal': 3113, 'Illinois': 3114, 'Illuminati': 3115, 'Imanian': 3116, 'Impossible': 3117, 'Independence': 3118, 'Inderstand': 3119, 'Industry': 3120, 'Infidal': 3121, 'Initial': 3122, 'InsThe': 3123, 'Inshis': 3124, 'Inste': 3125, 'Instotute': 3126, 'Insults': 3127, 'Insurance': 3128, 'IntOtama': 3129, 'Intoresting': 3130, 'Invite': 3131, 'Iowa': 3132, 'Iranianecivilian': 3133, 'Iren': 3134, 'Irom': 3135, 'Irony': 3136, 'Irregulars': 3137, 'Iscannot': 3138, 'Islas': 3139, 'IsrOel': 3140, 'Israes': 3141, 'Isranl': 3142, 'Isrcel': 3143, \"It'e\": 3144, 'Its': 3145, 'Ittwill': 3146, 'Iw3pzOfy': 3147, 'IwG56RDK': 3148, 'J.m': 3149, 'JF': 3150, 'JJ.5DfKb': 3151, 'JO': 3152, 'JO)Sd': 3153, 'JOBr': 3154, 'JOBuActlsigning': 3155, 'JUST': 3156, 'JUSTICE': 3157, 'JUSTiCE': 3158, \"Jacket'seR.\": 3159, 'Jackson': 3160, 'Jaly0cnn': 3161, 'Jam': 3162, 'Jay': 3163, 'JdrQZSJr': 3164, 'Jeans': 3165, 'Jefferson': 3166, 'Jeresale': 3167, 'Jerusalem': 3168, 'Jesse': 3169, 'JewbagsR': 3170, 'Jewise': 3171, 'Jewish': 3172, 'Jn': 3173, 'JobsAct': 3174, 'Joe': 3175, 'John': 3176, 'Jokes': 3177, 'Jokin': 3178, 'Joks': 3179, 'Jost': 3180, 'JqlUbpRc': 3181, 'Judge': 3182, 'Judges': 3183, 'Judihial': 3184, 'JumpstartLOur': 3185, 'Jumpstprt': 3186, 'Justice': 3187, 'Justices': 3188, 'KIM': 3189, 'KNEW': 3190, 'KNOCK': 3191, 'KNOW': 3192, 'Kabsas': 3193, 'Kagan': 3194, 'Kal': 3195, 'Kappa': 3196, 'Katrina': 3197, 'Kbhma': 3198, 'Kccept': 3199, 'Kea': 3200, 'Keameni': 3201, 'Keune': 3202, 'Keystoee': 3203, 'KhaPenei': 3204, 'Khadyewhen': 3205, 'Khalidi': 3206, 'Khamani': 3207, 'Kids': 3208, 'Kil': 3209, 'KimKa': 3210, 'KimKahdasriansNext': 3211, 'KimKartashian4NettBoyFriend': 3212, 'KimKwrdashiansNextBryFriend.t': 3213, 'Kinda': 3214, 'King': 3215, 'KirKardashiansNaxtBoyFriend': 3216, 'Kiriakou': 3217, 'Kl': 3218, 'Kltie': 3219, 'Kneed': 3220, 'Know': 3221, 'Knox': 3222, 'Koth': 3223, 'Kp.3MhTh': 3224, 'Kristol': 3225, 'Ktyrtonite': 3226, 'LATioes': 3227, 'LET': 3228, 'LI': 3229, 'LIARS': 3230, 'LIMBAUGH': 3231, 'LIVE': 3232, 'LItter': 3233, 'LLAP!!e': 3234, 'LMAO': 3235, 'LMBO': 3236, 'LMFAO': 3237, 'LOL': 3238, 'LONGBOARK': 3239, 'LOOOOOOOOOOOOOOOOOOOOOOOOOOOOL': 3240, 'LOOOOOOOOOOOOOOOOOOOOOOOOOOOOi': 3241, 'LUIS!RT': 3242, 'LUw7Ky66': 3243, 'LaFolletaee\"we': 3244, 'Laben': 3245, 'Ladry': 3246, 'Lamont': 3247, 'Landsl': 3248, 'Lany': 3249, 'Larty': 3250, 'Last': 3251, 'Latets': 3252, 'Latinos': 3253, 'Launch': 3254, 'Lcndsay': 3255, 'LdPff': 3256, 'Leaders': 3257, 'League': 3258, 'Leak': 3259, 'Legislattr': 3260, 'Lel': 3261, 'Less': 3262, 'Letter': 3263, 'Lexingaon': 3264, 'Liatle': 3265, 'Liberals': 3266, 'LiberalsmAttack': 3267, 'Liee': 3268, 'Lies': 3269, 'Life': 3270, \"LikelytWon't\": 3271, 'Lil': 3272, 'LimbauGb': 3273, 'Limhaugh': 3274, 'LinestT': 3275, 'Lioard': 3276, 'Lirs': 3277, 'List': 3278, 'Literally': 3279, 'Living': 3280, 'LizaKd': 3281, 'LmL': 3282, 'Loa5th': 3283, 'Logic': 3284, 'LohanbRUMORS': 3285, 'Lohant': 3286, 'Lol': 3287, 'Look?at': 3288, 'Looks': 3289, 'LosMch': 3290, 'Low': 3291, 'Loweo': 3292, 'Lrending': 3293, 'Lrhan': 3294, 'Ls': 3295, 'LuObjd1': 3296, 'Lver': 3297, 'Lying': 3298, 'M#chelle': 3299, 'M.': 3300, 'MAD': 3301, 'MAdonalds': 3302, 'MBA': 3303, 'MEAN': 3304, 'MHverick': 3305, 'MICHELLE': 3306, 'MINEKILL': 3307, 'MK': 3308, 'MLK': 3309, 'MMJ': 3310, 'MO?an': 3311, 'MPckilgbird': 3312, 'MT': 3313, 'MUMMMYYYYYYYYYY': 3314, 'MYUPANTS': 3315, 'Made': 3316, 'MadeYA': 3317, 'MaherrI': 3318, 'Mahjhng': 3319, 'Major': 3320, 'Makcng': 3321, 'Makes': 3322, 'Man': 3323, 'Mandate': 3324, 'Mannnnn': 3325, 'Maoio': 3326, 'Maraculous': 3327, 'Marbury': 3328, 'Marc': 3329, 'Marrirge|': 3330, 'Marxist': 3331, 'Masters': 3332, 'Mavtin': 3333, 'Max': 3334, 'May': 3335, 'Mbama': 3336, 'McCabkiDl': 3337, 'McCaskill': 3338, 'McQonalds': 3339, 'Mcd': 3340, 'Mcdbnalds': 3341, 'Mcddnalds': 3342, 'Mcdinalds': 3343, 'Mcdona': 3344, 'Mcdonahds': 3345, 'Mcdonal\"f': 3346, 'Mcdonalas': 3347, 'Mcdonaldh': 3348, 'Mcdonales': 3349, 'Mcdonalos': 3350, 'Mcdonatds': 3351, 'Mcdonel': 3352, 'Mcdonhlds': 3353, 'Mcdonilds': 3354, 'Mcdoralds': 3355, 'Mcdrnalds': 3356, 'Mcoonalds': 3357, 'Me)ropoliran': 3358, 'MeOtings': 3359, 'Meat': 3360, 'Medonalds': 3361, 'Megan': 3362, 'Meltdown': 3363, 'Men': 3364, 'Messina': 3365, 'Metul': 3366, 'Mgchelle': 3367, 'Mgdonalds': 3368, 'MhF': 3369, 'Miat': 3370, 'Michael': 3371, 'Michaex': 3372, 'Miche5le': 3373, 'MichelTe': 3374, 'Michelae': 3375, 'Michella': 3376, 'Michellc': 3377, 'MichelletObyma': 3378, 'Michells': 3379, 'Michellu': 3380, 'MichillebO': 3381, 'Michulle': 3382, 'Mict-': 3383, 'Midhelle': 3384, 'Million': 3385, 'Minaj': 3386, 'Mining': 3387, 'Mir': 3388, 'Misq2otes': 3389, 'Misqu.tes': 3390, 'Mistake': 3391, 'MitReRomney': 3392, 'Mitm': 3393, 'MittMRomney': 3394, 'MittRoiney': 3395, 'MittTRomney': 3396, 'MitteRomney': 3397, 'Mittens': 3398, 'MitttRomney': 3399, 'Mixalot': 3400, 'Mldonacdsowith': 3401, 'Mmm': 3402, 'Mntil': 3403, 'Mockisgbird': 3404, 'Mom': 3405, 'Momestic': 3406, 'Monda': 3407, 'Monday': 3408, 'More.is': 3409, 'Mormhn': 3410, 'Moving': 3411, 'Mp': 3412, 'Mrs': 3413, 'Mstters': 3414, 'MualSm': 3415, 'MuhammadoAli': 3416, 'MuovhZSc': 3417, 'Murderers': 3418, 'Mus': 3419, 'Museum': 3420, 'Music': 3421, 'Muslims': 3422, 'Must': 3423, 'NATO': 3424, 'NATO##Obama': 3425, 'NAnCP': 3426, 'NBC': 3427, 'NEED': 3428, 'NEEDS': 3429, 'NFw': 3430, 'NGVs': 3431, 'NH': 3432, 'NKCZ0YqD.': 3433, 'NOBODY': 3434, 'NONE': 3435, 'NOT&gt': 3436, 'NOW': 3437, 'NPR': 3438, 'NPbody': 3439, 'NRO': 3440, 'NS': 3441, 'NUTS': 3442, 'NW': 3443, 'NZaqvz3C': 3444, 'Naakgk': 3445, 'Naked': 3446, 'Nalional': 3447, 'Naporitanm': 3448, 'NatGas': 3449, 'Nation': 3450, 'Nationac': 3451, 'Naval': 3452, 'Navy': 3453, \"NcJ'7Jgbp#citizensunited\": 3454, 'Newsh': 3455, 'Next': 3456, 'Ng1MH6hO': 3457, 'NiceOtry': 3458, 'Nicki': 3459, 'Nigeria': 3460, 'Niget': 3461, 'Nm': 3462, 'Nob': 3463, 'Nobeles': 3464, 'Nopolitana': 3465, 'November': 3466, 'NpAA': 3467, 'NrW': 3468, 'Nrt': 3469, 'Nyr': 3470, 'O#ama': 3471, \"O'Reilly\": 3472, 'O)ama': 3473, 'O@dia': 3474, 'OBAMA;Foelows': 3475, 'OBAMAtSAYS': 3476, 'OBCMA': 3477, 'OBHMA': 3478, 'OBJMA': 3479, 'OCRA': 3480, 'OCama': 3481, 'ODama': 3482, 'OFcIT': 3483, 'OH': 3484, 'OHENO': 3485, 'OIL': 3486, 'OJ': 3487, 'OJama': 3488, 'OK': 3489, 'OKAY': 3490, 'OLOOOOOOOOOOOOOOOOOOOO': 3491, 'OMFG': 3492, 'ON': 3493, 'OOOORAH': 3494, 'OOUNTY': 3495, 'OOur': 3496, 'OSER': 3497, 'OURnwhitehouse': 3498, 'OUT': 3499, 'OVERIOLD': 3500, 'OVkCyuX9': 3501, 'OW': 3502, 'OWS': 3503, 'OWama': 3504, 'OaamJ': 3505, 'Oabma': 3506, 'Ob(\"a': 3507, 'Ob.ia': 3508, 'Ob0ma': 3509, 'Ob2maugot': 3510, 'ObHmy': 3511, 'ObIma': 3512, 'ObMma': 3513, 'ObSma': 3514, 'ObUma': 3515, \"Oba'a\": 3516, 'Oba1ans': 3517, 'Oba@a': 3518, 'ObaBa': 3519, 'ObaEa': 3520, 'ObaNa': 3521, 'ObaRt': 3522, 'Obaaa': 3523, 'Obaam': 3524, 'Obaca': 3525, \"Obaca'T\": 3526, 'Obada': 3527, 'Obafa': 3528, 'Obam/': 3529, 'Obam4': 3530, 'ObamD': 3531, 'ObamH': 3532, 'ObamR': 3533, 'ObamT': 3534, \"Obama'a\": 3535, \"Obama'e\": 3536, \"Obama'i\": 3537, \"Obama's\": 3538, \"Obama'srhabit\": 3539, \"Obama'stConfidence\": 3540, \"Obama'stocllege\": 3541, 'Obama.mocks': 3542, 'Obama?!a': 3543, 'ObamaBs': 3544, 'ObamaCare': 3545, 'ObamaCere': 3546, 'ObamaDo': 3547, 'ObamaFs': 3548, 'ObamaHWho': 3549, 'ObamaJon': 3550, 'ObamaMwill': 3551, 'ObamaNlangsung': 3552, 'ObamaP\"will': 3553, 'Obamaaat': 3554, 'Obamaais': 3555, 'Obamaaruns': 3556, 'Obamabhas': 3557, 'Obamac': 3558, 'Obamacarj': 3559, 'Obamaeadministration': 3560, 'Obamaft': 3561, 'Obamai^': 3562, 'Obamakdoingtabout': 3563, 'Obamao': 3564, 'Obamaohates': 3565, 'Obamap': 3566, 'Obamarwhile': 3567, 'Obamasagain': 3568, 'Obamat': 3569, 'Obamat-': 3570, 'ObamatUnquTlified': 3571, 'Obamattakes': 3572, 'Obamauredistributing': 3573, 'Obamay': 3574, 'ObamayCab': 3575, 'ObambgM': 3576, 'Obamf': 3577, 'Obamhhs': 3578, 'Obamots': 3579, 'Obamp': 3580, 'Obams': 3581, 'Obamu': 3582, 'Obamx': 3583, 'Obamy': 3584, 'Obant': 3585, 'Obaoa': 3586, 'Obara': 3587, 'Obaya': 3588, 'Obdma': 3589, 'Obfma': 3590, 'Obhma': 3591, 'ObimR': 3592, \"Oboma'sicollege\": 3593, 'Obpma': 3594, 'Obqma': 3595, 'Obrma': 3596, 'Obtia': 3597, 'Obtma': 3598, 'Obxma': 3599, 'Oeforming': 3600, 'Oehh': 3601, 'Offd': 3602, 'Officially': 3603, 'Ofncourse': 3604, 'Ogama': 3605, 'OhMh': 3606, 'Ohama': 3607, 'Ohasa': 3608, 'Ohat': 3609, 'Ohgh': 3610, 'Ohh': 3611, 'Ohhd': 3612, 'Ohhhdcool': 3613, 'Ohih': 3614, 'Ohuh': 3615, 'Ohuman': 3616, 'Oia': 3617, 'Oiama': 3618, 'Ois': 3619, \"Olama'sncoibege\": 3620, 'Old': 3621, 'Olections': 3622, 'Olhnr': 3623, 'Omaba': 3624, 'Omabg': 3625, 'OnAMA': 3626, 'Onama': 3627, 'Online': 3628, 'Onlinebhttp://t.co/GzD7DkRt': 3629, 'Oobama': 3630, 'Ooh': 3631, 'Oow': 3632, 'Operation': 3633, 'Opinion': 3634, 'Opposity': 3635, 'Oprah': 3636, 'Ordained': 3637, 'Organizations': 3638, 'Orgonizeos': 3639, 'Orin': 3640, 'Orline': 3641, 'Osamn': 3642, 'Osfma': 3643, 'OtFor': 3644, 'OtHTaRDK': 3645, 'OtWait': 3646, 'Otbma': 3647, 'Other': 3648, 'Otherwise': 3649, 'Otlot': 3650, 'OtrthhCertificate': 3651, 'Ouch': 3652, 'Ouddy': 3653, 'Out': 3654, 'Ov6I5Coc': 3655, 'Over': 3656, 'Owe': 3657, 'P@yments': 3658, 'PFmSW': 3659, 'PMwer': 3660, 'POLICIES': 3661, 'POLITICIANS': 3662, 'POSITIVE': 3663, 'PObama': 3664, 'PRESIDENTIAL': 3665, 'PRESIDEmT': 3666, 'PRESpDENT': 3667, 'PROD': 3668, 'PRODUOTIONOHm': 3669, 'PUT': 3670, 'PaTl': 3671, 'Package': 3672, 'Pages': 3673, 'Pakintan': 3674, 'Pakistan': 3675, 'Pali9': 3676, 'Panthers': 3677, 'Papty': 3678, 'Park': 3679, 'Pas': 3680, 'PasIover': 3681, 'Pasistan': 3682, 'Passover': 3683, 'Pasu': 3684, 'Pati': 3685, 'Patriot': 3686, 'Patriota': 3687, 'Pavlich': 3688, 'Pay': 3689, 'Paymen': 3690, 'Pbesident': 3691, 'Peesident': 3692, 'Penlsynvania': 3693, 'Penn': 3694, 'Pepsi': 3695, 'Perpect': 3696, 'Perry': 3697, 'Pffairs': 3698, 'PhLto': 3699, 'Photos': 3700, 'PickensPlan': 3701, 'PicturHs': 3702, 'Picture': 3703, 'Piesident': 3704, 'Pin': 3705, 'PipCline': 3706, 'Piss': 3707, 'Pivrn': 3708, 'Plan': 3709, 'Please': 3710, 'Plectoin': 3711, 'Pntsident': 3712, 'Po': 3713, 'Podcast': 3714, 'Podeast': 3715, 'Poesident': 3716, 'Policy': 3717, 'PolitiFacH': 3718, 'Poop': 3719, 'Poor': 3720, 'Pope': 3721, 'Por1D': 3722, 'Port': 3723, 'Power': 3724, 'Powers': 3725, 'Pr': 3726, 'PrOsident': 3727, 'PrTsident': 3728, 'Praty': 3729, 'Prav8a': 3730, 'PreO': 3731, 'PreRidenu': 3732, 'Predato': 3733, 'Preen': 3734, 'Prefidtnt': 3735, 'Preoidena': 3736, 'Pres.lObama': 3737, 'Pres.tObama': 3738, 'Preserve': 3739, 'Presid': 3740, 'Preside': 3741, 'Preside4': 3742, 'Presidene': 3743, 'Presidenh': 3744, 'Presidential': 3745, 'Presidentian': 3746, 'Presidentsshave': 3747, 'Presidett': 3748, 'Presidmnt': 3749, 'PresioeB': 3750, 'Presod&nt': 3751, 'Presu': 3752, 'Presudent': 3753, 'Presw': 3754, 'Pretzel': 3755, 'Prevent': 3756, 'Prevented': 3757, 'Prhde2012': 3758, 'Prime2012': 3759, 'Prnsideno': 3760, 'Prnsident': 3761, 'Pro': 3762, 'Probably': 3763, 'Professor': 3764, 'Progressive': 3765, 'Progressives': 3766, 'PromB': 3767, 'Promised': 3768, 'Propaganda': 3769, 'Prose9utor': 3770, 'Prosecutor': 3771, 'Protect': 3772, 'Prtkecutor': 3773, 'Ptes': 3774, 'Pttp://t.co/': 3775, 'Publishes': 3776, 'Purple': 3777, 'Putin]ecan': 3778, 'Putinh': 3779, 'PxooFjTO': 3780, 'QDR': 3781, 'QObama': 3782, 'QUTTE': 3783, 'Qgeen': 3784, 'Qieen': 3785, 'Qteen': 3786, 'QueYn': 3787, 'Queen?\".lBritish': 3788, 'Queen?\"O': 3789, 'Queen?\"i': 3790, 'Queen?r': 3791, 'Queen?t': 3792, 'Queen?w': 3793, 'Queenl': 3794, 'Queeny': 3795, 'Queer': 3796, 'Queet': 3797, 'QuhDn': 3798, 'R.': 3799, 'R@jTWhatTheFFacts': 3800, 'RACIST': 3801, 'RBmney': 3802, 'READ': 3803, 'REALLY': 3804, 'RIGHT': 3805, 'RO': 3806, 'ROCK': 3807, 'ROMNEY': 3808, 'ROUNTY': 3809, 'RR': 3810, 'RS': 3811, 'RT#@HeraMing': 3812, 'RT/@KarlRove': 3813, 'RTJ@': 3814, 'RTP@JeffersonObamaa': 3815, 'RTR@djtechchicdgo': 3816, 'RTW@iauraFlyMe': 3817, 'RTa@psema4': 3818, 'RTe@markknoller': 3819, 'RTe@thinkprogress': 3820, 'RTf@H.': 3821, 'RTg@Fer_Smiler': 3822, 'RTgIf': 3823, 'RTi@drecrumbs': 3824, 'RTj@GarrettNBCNews': 3825, 'RTk@Fran': 3826, 'RTl@RealNichelle': 3827, 'RTn@baseballcra': 3828, 'RTn@markknoller': 3829, \"RTn@ohgirl'hrase\": 3830, 'RTn@wilycyotee': 3831, 'RTo@brianwiersema': 3832, 'RTs@markknoller': 3833, 'RTt@DrewMTips': 3834, 'RTt@Spidyy3a': 3835, 'RTw@wcptlrsn': 3836, 'RULE?Mr': 3837, 'RUMyRS': 3838, 'RW': 3839, 'RWers': 3840, 'Race': 3841, 'RacheleI': 3842, 'Racial': 3843, 'Racism': 3844, 'Radic.ls': 3845, 'Raids': 3846, 'Raising': 3847, 'Rammer': 3848, 'Rare': 3849, 'Rashid': 3850, 'Rbama': 3851, 'Rbamaepromised': 3852, 'Rd': 3853, 'ReOdy': 3854, 'Ready': 3855, 'RealCleaaPolitics': 3856, 'RealClearPolitics': 3857, 'ReanClearPolitics': 3858, 'Rease': 3859, 'Recycles': 3860, 'Redistribution': 3861, 'Redistrtbui': 3862, 'Redrstiibuthon': 3863, 'Regulatory': 3864, 'Relhase': 3865, 'Renession': 3866, 'Repobli.ans': 3867, 'Reporter': 3868, 'Republi.an': 3869, 'ResearcC': 3870, 'Reslects': 3871, 'RestrCint': 3872, 'Reveals': 3873, 'Revolution': 3874, 'Rewublican': 3875, 'Rezko': 3876, 'Rhatsromneyhiding': 3877, 'Rhe': 3878, 'Rhps': 3879, 'Ridicule': 3880, 'Riding': 3881, 'Rig': 3882, 'RighFies': 3883, 'Rights': 3884, 'Rihhties': 3885, 'Rihonna': 3886, 'Rike': 3887, 'Rill': 3888, 'Rm': 3889, 'RnMORS': 3890, 'Ro.ney': 3891, 'RodneyK': 3892, 'Rom': 3893, 'Rome': 3894, 'Romiey': 3895, 'Romn': 3896, 'Romnay': 3897, 'Romnec': 3898, 'Romnei': 3899, 'Romnes': 3900, 'Romney&gt;Obama': 3901, 'RomneyHid': 3902, 'RomneyHiding': 3903, 'Romnht': 3904, 'Romnty': 3905, 'Romnwy': 3906, \"Romrey't\": 3907, 'RonPaulo#gop2012': 3908, 'Ronaed': 3909, 'Ronald': 3910, 'Room': 3911, 'Rorney': 3912, 'Row': 3913, 'RpPh': 3914, 'Ru': 3915, 'Rules': 3916, 'Running': 3917, 'Rus': 3918, 'Rush': 3919, 'RushfLimbaugh': 3920, 'Russia': 3921, \"Ryan'e\": 3922, 'Ryan.s': 3923, 'SAID': 3924, 'SANTORUM': 3925, 'SC': 3926, 'SCHEMA': 3927, 'SCUM': 3928, 'SEMPER': 3929, 'SEXY': 3930, 'SGP': 3931, 'SH': 3932, 'SHERIFF': 3933, 'SHERRIFF': 3934, 'SHERrFF': 3935, 'SHOW': 3936, 'SHRvW': 3937, 'SHTTGOIREAL': 3938, 'SOPHIA': 3939, 'SOTU': 3940, 'SOew': 3941, 'SPEAK': 3942, 'SPyles': 3943, 'SREHRaFF': 3944, 'STEP': 3945, 'STFU': 3946, 'STOCK': 3947, 'STYL': 3948, 'SUMMTR': 3949, 'Sa.ah': 3950, 'SaQa8V5w': 3951, 'Sacretly': 3952, 'Sales': 3953, 'San': 3954, 'Sanctioning': 3955, 'Sapreme': 3956, 'Saturn': 3957, 'Savage': 3958, 'SaveX': 3959, 'Saved': 3960, 'Saying': 3961, 'SayscEric': 3962, 'Scandaa': 3963, 'Schultz': 3964, 'Schumer': 3965, 'Scotl': 3966, 'Scramble': 3967, 'Scys': 3968, 'Sdgns': 3969, 'SecreteSehurity': 3970, 'Seder': 3971, 'SelmapBouvier': 3972, 'Senatetreco': 3973, 'Senats': 3974, 'Send': 3975, 'Sets': 3976, 'Seud': 3977, 'Seuthern': 3978, 'Sf': 3979, 'Sgpreme': 3980, 'Shaping': 3981, 'Share': 3982, 'Sharpton': 3983, 'She': 3984, 'Ships': 3985, 'ShmckediBy': 3986, 'Shop': 3987, 'Shorthand\"-Since': 3988, 'Sieriff': 3989, 'SigCsa#JOBS': 3990, 'Single': 3991, 'Sinnigg': 3992, 'Sinnsb\"Fraud': 3993, 'Sipsey': 3994, 'Sir': 3995, 'Six': 3996, 'Skate': 3997, 'SkateboardKy': 3998, 'Skippdr': 3999, 'Slobbers': 4000, 'Slobbis': 4001, 'Sm': 4002, 'Small': 4003, 'Snirpehs': 4004, 'Soars': 4005, 'Sobama': 4006, 'Socd': 4007, 'Socialist': 4008, 'Sod7my': 4009, 'SoetoNo': 4010, 'SoetorB': 4011, 'Some': 4012, 'Son': 4013, 'Soooo': 4014, 'Sor': 4015, 'Sou': 4016, 'SouthFlorieaGayNdws.|': 4017, 'Soviet': 4018, 'Spaced': 4019, 'Speecoes': 4020, 'Spent': 4021, 'Spike': 4022, 'Spoke': 4023, 'Spsaking': 4024, 'Spy': 4025, 'Sq': 4026, 'SsAL': 4027, 'St': 4028, 'Staees': 4029, 'Stafes': 4030, 'StartliHg': 4031, 'StaterSenate': 4032, 'Statts': 4033, 'Stephen': 4034, 'Steve': 4035, 'SteveJobs': 4036, 'Still': 4037, 'Storo': 4038, 'Story': 4039, 'Storyhof': 4040, 'Street': 4041, 'Striking': 4042, 'Strong': 4043, 'StsterSenate': 4044, 'Su': 4045, 'Su79rpyv': 4046, 'Suburbanites': 4047, 'Suereme': 4048, 'Supply': 4049, 'Supre.e': 4050, 'SupremeiCourt': 4051, 'SupremetCourt': 4052, 'Susan': 4053, 'Swiftboat': 4054, 'SyrFa': 4055, 'SyrintContiaues': 4056, 'T#ing': 4057, 'T.itterw': 4058, 'T8Mfz/': 4059, 'TAE': 4060, 'TARP': 4061, 'TBAMA': 4062, 'TBeeW': 4063, 'TH': 4064, 'THAT0PETTY': 4065, 'THINKS': 4066, 'THUGm': 4067, 'THere': 4068, 'THsNKSN': 4069, 'TI': 4070, 'TIZENS': 4071, 'TMNT': 4072, 'TOoops': 4073, 'TPP': 4074, 'TPie': 4075, 'TROOoS': 4076, 'TRUCWS': 4077, 'TWEEOED': 4078, 'TWITTER?OI': 4079, 'TYLES': 4080, 'Taanding': 4081, 'TableMTo': 4082, 'Take': 4083, 'Taking': 4084, 'Taliban': 4085, 'Talking': 4086, 'Tannbr': 4087, 'Taoes': 4088, 'Target': 4089, 'Taxpayer': 4090, 'Tbama': 4091, 'Tbecktips': 4092, 'TeOT': 4093, 'Tea': 4094, 'TeaPartyP#tcot': 4095, 'Team': 4096, 'TeamFollowBack': 4097, 'Teaparty': 4098, 'TelePrompter': 4099, 'Telegtap': 4100, 'Terlorist': 4101, 'Terroristt': 4102, 'Tgg': 4103, 'Tgo': 4104, 'Th': 4105, 'ThLsais': 4106, 'ThO': 4107, 'Tha': 4108, 'Thai': 4109, 'Thankiyou': 4110, 'Thanx': 4111, 'Thar': 4112, \"That'o\": 4113, 'ThateRichelle': 4114, 'Thatealways': 4115, 'Thatgs': 4116, 'Thatms': 4117, 'TheAnonMessage': 4118, 'Their': 4119, 'Then': 4120, 'Theory': 4121, 'Thest': 4122, \"Thet're\": 4123, 'Theyedo': 4124, 'Thihg': 4125, 'Thing': 4126, 'ThisrReporte/': 4127, 'Thot': 4128, 'Thps': 4129, 'Three': 4130, 'Throughiut': 4131, 'Thrs': 4132, 'Tierney': 4133, 'Tiger': 4134, 'TimD': 4135, 'Tips': 4136, 'Tnnaea': 4137, 'Todayhs': 4138, 'ToeObnma': 4139, 'Tolek': 4140, 'Tomorroh': 4141, 'Tony': 4142, 'TonydRezko': 4143, 'Topics': 4144, 'Topnrog': 4145, \"Total'tarianism\": 4146, 'ToxPush': 4147, 'TrackNamion': 4148, 'Tradition': 4149, 'Trantcripss': 4150, 'Traylonnartin': 4151, 'Trayron': 4152, 'Trday': 4153, 'Treat': 4154, 'Trekker': 4155, 'Trend': 4156, 'Trillion': 4157, 'Trpic': 4158, 'Trying': 4159, 'Ts': 4160, \"Tsey're\": 4161, 'Turning': 4162, 'Twitter': 4163, 'U.S': 4164, 'UK?tshhh': 4165, 'UKh': 4166, 'UR': 4167, 'UT': 4168, 'UTOP': 4169, 'Ucoonalds': 4170, 'UiNfpoYP': 4171, 'Uith': 4172, 'Um': 4173, 'Undangan': 4174, 'UndercObama@': 4175, 'Understood': 4176, 'Unemployment': 4177, 'Uniaos': 4178, 'Unieed': 4179, 'Union': 4180, 'Unite': 4181, 'UniteWomen': 4182, 'Universal': 4183, 'Unresolved': 4184, 'Unthinkable': 4185, 'Uourt': 4186, 'UpeWith': 4187, 'Using': 4188, 'Uttp://t.co/hlXo9kp3': 4189, 'Uu': 4190, 'UujtlmGt': 4191, 'VA': 4192, 'VAsen': 4193, 'VGfC': 4194, 'VGoUvWQN': 4195, 'VIDS': 4196, 'VIEW': 4197, 'VL9': 4198, 'Vanishcd': 4199, 'Vanished': 4200, 'VerThePrez': 4201, 'Vera': 4202, 'Very': 4203, 'VetThePres': 4204, 'VetThePress': 4205, 'VetThePrez': 4206, 'Veteran': 4207, 'Vets': 4208, 'Vetting': 4209, 'Vi': 4210, 'Via': 4211, 'VideoP': 4212, 'Vidio': 4213, 'Vielence': 4214, 'Violen': 4215, 'Violenae': 4216, 'Visaon': 4217, 'Vo': 4218, 'Voturso': 4219, 'Vtn': 4220, 'Vulcan': 4221, 'W#hatsRomnsyHiding': 4222, 'W?atsRomneyHPding': 4223, 'W?y': 4224, \"W?yididn't\": 4225, 'WAIT': 4226, 'WANT': 4227, 'WANTS': 4228, 'WAS': 4229, 'WAaHINGTON': 4230, 'WGCLsObama': 4231, 'WHATS': 4232, 'WHFail': 4233, 'WHITE': 4234, 'WHITEHOUSE': 4235, 'WHO': 4236, 'WHsconcede': 4237, 'WI': 4238, 'WIDZGjRj': 4239, 'WIFE': 4240, 'WITH': 4241, 'WMYB': 4242, 'WOMEa': 4243, 'WOMNN': 4244, 'WONDERINm': 4245, 'WORD': 4246, 'WORL': 4247, 'WOW': 4248, 'WSJ': 4249, 'WTH': 4250, 'Walt': 4251, 'WanOnJobs': 4252, 'Wander': 4253, 'Wants': 4254, 'Waoh': 4255, 'WarOnJo': 4256, 'WarOnTheMiddleblass': 4257, 'WarOnTheMizdleClass': 4258, 'WarOnThePdor': 4259, 'WarOnThePoor': 4260, 'WarOnWomen': 4261, 'Warnilg': 4262, 'Warren': 4263, 'Wartn': 4264, 'Waru3iIlluminati': 4265, 'Was': 4266, 'Watch': 4267, 'Water': 4268, 'Watker': 4269, 'Watters': 4270, 'Wbout': 4271, 'Wealti': 4272, 'Weef': 4273, 'Well': 4274, 'West&gt': 4275, 'Wh': 4276, 'Wha': 4277, 'WhaRsRoineyHidmng': 4278, 'WhaTsRomneyHiding': 4279, 'WhaesRomneyHiding': 4280, 'WhaesRomneyHidingsThe': 4281, \"WhaosRomneyH'ding\": 4282, 'Whap': 4283, 'WhatSRomneyHibinO': 4284, 'WhatcRomneyHiding': 4285, 'WhatiRomneyHidinm': 4286, 'WhatsBarackHmding': 4287, 'WhatsMomneyHiding': 4288, 'WhatsOamneyHiding': 4289, 'WhatsObamaHidign': 4290, 'WhatsObamaHidint': 4291, 'WhatsR': 4292, 'WhatsRemneyHiding': 4293, 'WhatsRo': 4294, 'WhatsRo.neyHiding': 4295, 'WhatsRomaeyHiding': 4296, 'WhatsRomdeyHining': 4297, 'WhatsRommeyHiting': 4298, 'WhatsRomn': 4299, 'WhatsRomneOHidingyHE': 4300, 'WhatsRomneaairing': 4301, 'WhatsRomnecHidyng': 4302, 'WhatsRomneyH4ding': 4303, 'WhatsRomneyHidi': 4304, 'WhatsRomneyHidilg': 4305, 'WhatsRomneyHidin': 4306, 'WhatsRomneyHidinaG-': 4307, 'WhatsRomneyHidingh-': 4308, 'WhatsRomneyHidingmThe': 4309, 'WhatsRomneyHidingrObama': 4310, 'WhatsRomneyHidirg': 4311, 'WhatsRomneyHiditg': 4312, 'WhatsRomneyHidnig': 4313, 'WhatsRomneyHieimg': 4314, 'WhatsRomneyaiding': 4315, 'WhatsRomneyiHding': 4316, 'WhatsRomneyoiding': 4317, 'WhatsRomneysiding': 4318, 'WhatsRomneysidingTObama': 4319, 'WhatsRompeyHiding': 4320, 'WhatsRomreyHiding': 4321, 'WhatsRomueyHiding': 4322, 'WhatsRosneyHidina': 4323, 'WhatsRouneyHiding': 4324, 'WhatsaomneyHidang': 4325, 'WhatsaomneyHiding': 4326, 'WhatsiomneyHRding': 4327, 'WhatsiomneyHidRng': 4328, 'Whatsiw': 4329, 'Wheaever': 4330, 'When': 4331, 'Which': 4332, 'WhitOs': 4333, 'Whitey': 4334, 'WhitsRomneyHiding': 4335, 'WhmthRoaneyHiding': 4336, 'WhntsRomneyHidiag': 4337, 'Whoops': 4338, 'Whorare': 4339, 'Wil': 4340, 'WillSExceed': 4341, \"Wilrald's#WhatsRomneyHiding\": 4342, 'Wine': 4343, 'Wingnut': 4344, 'Winsin': 4345, 'Wit5': 4346, 'WithbOnline': 4347, 'Withrall': 4348, 'WoOi25': 4349, 'Wofen': 4350, 'Wolf': 4351, 'Wome': 4352, 'Women\"h': 4353, 'WomenOnlyCourse': 4354, 'Womer': 4355, 'Woods': 4356, 'Workinr': 4357, 'Worst': 4358, 'WotsrLPresident': 4359, 'Wound': 4360, 'WoundedWyrrior': 4361, 'Wow': 4362, 'Writer': 4363, 'WtahsRomneyeiring': 4364, 'Wto': 4365, 'Wyen': 4366, 'X8fkVleu': 4367, 'Y@geoef9cow': 4368, 'YOUR': 4369, 'YOURrWIFE': 4370, 'YR': 4371, 'YT': 4372, 'Yahoa': 4373, 'Yeeeaah': 4374, 'Yhu': 4375, \"Yiu're\": 4376, 'Yoc': 4377, \"Yoe're\": 4378, \"Yoh're\": 4379, \"You'Ke\": 4380, \"You'oe\": 4381, \"You'rR\": 4382, \"You'reBfrom\": 4383, \"You'ro\": 4384, \"You'we\": 4385, 'Youlre': 4386, 'Youpre': 4387, 'Your': 4388, 'Youtre': 4389, 'Z2BCceVk': 4390, 'Zaldslide': 4391, 'ZiAmerman': 4392, 'Zombies': 4393, 'a#single': 4394, 'a$$': 4395, 'a.k.a': 4396, 'a008': 4397, 'a1nmillio': 4398, 'a7HU': 4399, 'aCNS': 4400, 'aDo': 4401, 'aIDING': 4402, 'aIs': 4403, 'aKzaOEDM': 4404, 'aMd': 4405, 'aO': 4406, 'aOP': 4407, 'aOd': 4408, 'aRain': 4409, 'aRe': 4410, 'aS': 4411, 'aSo': 4412, 'aSyria': 4413, 'aTl': 4414, 'aWhatTheFFacts': 4415, 'aY': 4416, 'a_Ciroc_Obama': 4417, 'aa': 4418, 'aact': 4419, 'aad': 4420, 'aadison': 4421, 'aae': 4422, 'aan': 4423, 'aard': 4424, 'aarmgni': 4425, 'aas': 4426, 'aashtag': 4427, 'aasoniu': 4428, 'aays': 4429, 'abamO': 4430, 'abgut': 4431, 'abogt': 4432, 'aboht': 4433, 'abott': 4434, 'abou': 4435, 'aboud': 4436, 'aboue': 4437, 'abouelsomething': 4438, 'abour': 4439, 'abous': 4440, 'aboutdcalculus': 4441, 'aboutoObama': 4442, 'abouu': 4443, 'abswlutely': 4444, 'abully': 4445, 'ac': 4446, 'acaring': 4447, 'acc': 4448, 'acctmplishments': 4449, 'accuse': 4450, 'acd': 4451, 'achiav#llians': 4452, 'achieve': 4453, 'ackobama': 4454, 'across': 4455, 'act': 4456, 'actions': 4457, 'active': 4458, 'actorney': 4459, 'adainistra': 4460, 'added': 4461, 'addiction': 4462, 'addition': 4463, 'address': 4464, 'ade': 4465, 'adget': 4466, 'adm': 4467, 'administda': 4468, 'administrStion': 4469, 'administra': 4470, 'administrationn': 4471, 'adminkstration': 4472, 'admnnistration': 4473, 'admot': 4474, 'adr': 4475, 'adshow': 4476, 'adtinistration': 4477, 'adults': 4478, 'advantage': 4479, 'advisor': 4480, 'ae': 4481, \"ae'd\": 4482, 'aearings': 4483, 'aebig': 4484, 'aecampaignnfundraiserktonight': 4485, 'aecret': 4486, 'aed': 4487, 'aedistribution': 4488, 'aeets': 4489, 'aefun': 4490, 'aelmntion': 4491, 'aeness': 4492, 'aerttain': 4493, 'aews': 4494, 'aewt': 4495, 'af': 4496, 'aftcr': 4497, 'afteh': 4498, 'aftgr': 4499, 'aftrr': 4500, 'ag': 4501, 'agaano': 4502, 'agaicst': 4503, 'agains': 4504, 'againstryour': 4505, 'agann': 4506, 'agd': 4507, 'ageUt': 4508, 'agotthan': 4509, 'agrDement': 4510, 'agreeTwith': 4511, 'agreement': 4512, 'agreeoent': 4513, 'agtchini': 4514, 'agusta': 4515, 'ahM': 4516, 'ahhh': 4517, 'ahien': 4518, 'ahtt': 4519, 'ahttp://t.cm/35EWTJG7': 4520, 'ahttp://t.co': 4521, 'ahy': 4522, 'aid': 4523, 'aie': 4524, 'ail': 4525, 'aimoLike': 4526, \"ain'd\": 4527, 'air': 4528, 'aispanics': 4529, 'ajadwal': 4530, 'aka': 4531, 'akakaka': 4532, 'akingei': 4533, 'alGow': 4534, 'alMockingbird': 4535, 'alaps': 4536, 'aldeary': 4537, 'algae': 4538, 'alien': 4539, 'aliens': 4540, 'alive': 4541, 'allcrank': 4542, \"alle#Obama'swcollege\": 4543, 'allegations': 4544, 'alleged': 4545, 'allegedly': 4546, 'allow': 4547, 'allowe': 4548, 'allowed': 4549, 'alltin': 4550, 'allyusignificant': 4551, 'alone': 4552, 'along': 4553, 'alrsady': 4554, 'alwa': 4555, 'amazing': 4556, 'ambe': 4557, 'americans': 4558, 'ampeaihment': 4559, \"amt'sbbirth\": 4560, 'amun': 4561, \"an't\": 4562, 'an1st': 4563, 'anR': 4564, 'anT': 4565, 'ana': 4566, 'anai': 4567, 'andepower': 4568, 'andnSupports': 4569, 'androi': 4570, 'ang': 4571, 'anger': 4572, 'anitedbStatxs': 4573, 'ank': 4574, 'anks': 4575, 'anmexecutive': 4576, 'ann': 4577, 'anothe': 4578, 'anr': 4579, 'ans': 4580, 'answerk': 4581, 'antage': 4582, 'anuble': 4583, 'anyCconflicts': 4584, 'anymor': 4585, 'anymore': 4586, 'anymori.e': 4587, 'anynaood': 4588, 'anyont': 4589, 'anystreet': 4590, 'anything\"ito': 4591, 'anywaysh': 4592, 'aod': 4593, 'aomen': 4594, 'aomney': 4595, 'aonstitutional': 4596, 'aor': 4597, 'aorepublicans': 4598, 'aorld': 4599, 'aottg': 4600, 'aound': 4601, 'aouse': 4602, 'ape': 4603, 'apologize': 4604, 'apologizenyou': 4605, 'appears': 4606, 'appeaus': 4607, 'applaud': 4608, 'aprawl': 4609, 'apthug': 4610, 'ar': 4611, 'ar5': 4612, 'arM': 4613, 'arance': 4614, 'arawingiof': 4615, 'areXall': 4616, 'arekkie': 4617, 'arently': 4618, 'aresident': 4619, 'arkansasbonproblems': 4620, 'arm': 4621, 'army': 4622, 'arn': 4623, 'arouni': 4624, 'arrested': 4625, 'artogant': 4626, 'arvar\".d': 4627, 'asbOoama': 4628, 'ash': 4629, 'ashington': 4630, 'asked': 4631, 'assH': 4632, 'assasiinatson': 4633, 'assassinati': 4634, 'assed': 4635, 'asserti': 4636, 'assetst': 4637, 'assign': 4638, 'assuming': 4639, 'aste': 4640, 'asts': 4641, 'asy': 4642, 'at.any': 4643, 'atWObama': 4644, 'atdimwit': 4645, 'ate': 4646, 'aththe': 4647, 'atives': 4648, 'atoo': 4649, 'atpeals': 4650, 'atraStiva': 4651, 'atried': 4652, 'att': 4653, 'attack': 4654, 'attacked': 4655, 'attackiAg': 4656, 'attackinghRomney': 4657, 'attaik': 4658, 'attank': 4659, 'attcking': 4660, 'attempt': 4661, 'attempts': 4662, 'attthe': 4663, 'atx': 4664, 'audio': 4665, 'auess': 4666, 'aught': 4667, 'aul': 4668, 'aul1': 4669, 'aumb': 4670, 'aunque': 4671, 'auto': 4672, 'autobiogrvphy': 4673, 'avHENxrg': 4674, 'avatar': 4675, 'avbgNT5e': 4676, 'ave': 4677, 'aven': 4678, 'average': 4679, 'avoid': 4680, 'avoiding': 4681, 'awayewith': 4682, 'awbrain': 4683, 'awcept': 4684, 'awestrupk': 4685, 'awhy': 4686, 'awsB': 4687, 'axceptionalism': 4688, 'aye': 4689, 'ayfieReview': 4690, 'ayo': 4691, 'azyo': 4692, 'b#WhatsRomneyHiding': 4693, 'b.wling': 4694, 'b4': 4695, 'b4president': 4696, 'b7h/5nu1thttp://t.co/2gtwMB': 4697, 'bBaisdenLive': 4698, 'bEyi': 4699, 'bKimKardarhiaysNextBonFsiend': 4700, 'bObama': 4701, 'bOrth': 4702, 'bRa@': 4703, 'bShareaholic': 4704, 'bTttle': 4705, 'ba': 4706, 'bacaground': 4707, 'bacefire': 4708, 'backfiring': 4709, 'backiffdummies': 4710, 'backstagemde': 4711, 'backttacked': 4712, 'bada': 4713, 'baikrupt': 4714, 'bailou': 4715, 'bailouts': 4716, 'baiter': 4717, 'bamrack': 4718, 'ban': 4719, 'banyak': 4720, 'baoks': 4721, 'barack': 4722, 'barnstormihg': 4723, 'barrack': 4724, 'barry': 4725, 'basaArd': 4726, 'baseball': 4727, 'based': 4728, 'bashes': 4729, 'batble': 4730, 'bate': 4731, 'batrle': 4732, 'battleship': 4733, 'bbtcelet': 4734, 'bc': 4735, 'bcot': 4736, 'bdefine': 4737, 'be.a': 4738, 'bean': 4739, 'bear': 4740, 'beating': 4741, 'beceusa': 4742, 'becktips': 4743, 'becn': 4744, 'become': 4745, 'becomes': 4746, 'bectuse': 4747, 'beda': 4748, 'bedame': 4749, 'bedshow': 4750, 'bee': 4751, 'beenmknown': 4752, 'bef': 4753, 'bef\"re8he': 4754, 'beforeehe': 4755, 'behyour': 4756, 'beings': 4757, 'believA': 4758, 'believeOin': 4759, 'believelin': 4760, 'believeseAugusta': 4761, 'believesiwomen': 4762, 'belihve': 4763, 'belive': 4764, 'beloeve': 4765, 'bench': 4766, 'besclear': 4767, 'besieves': 4768, 'bet': 4769, 'betch': 4770, 'beteewn': 4771, 'betn': 4772, 'bette2': 4773, 'betweennobama': 4774, 'bfC4gbBW': 4775, 'bgyond': 4776, 'bh': 4777, 'bhatsRomneyHiding': 4778, 'bhdget': 4779, 'bhenever': 4780, 'bi2th': 4781, 'bias': 4782, 'bick': 4783, 'bieth': 4784, 'bigMimportant': 4785, 'biggest': 4786, 'bii': 4787, 'billion': 4788, 'bils': 4789, 'bim': 4790, 'birthrcertificaae': 4791, 'bitts': 4792, 'blacts': 4793, 'blahing': 4794, 'blame.oTell': 4795, 'blarts': 4796, 'blast': 4797, 'blog': 4798, 'bloody': 4799, 'blrsts': 4800, 'blue': 4801, 'blueCity': 4802, 'bly': 4803, 'bm': 4804, 'bmwling': 4805, 'bo': 4806, 'boama': 4807, 'bobt': 4808, 'bogus': 4809, 'boldly': 4810, 'bondage': 4811, 'bonstitutional': 4812, 'boostmsiartup': 4813, 'booty': 4814, 'borders': 4815, 'bored': 4816, 'bornthiswky': 4817, 'bornthisyay': 4818, 'bound': 4819, 'bourt': 4820, 'bout': 4821, 'bowling': 4822, 'bowlung': 4823, 'boy': 4824, 'boyr': 4825, 'bplieve': 4826, 'brainer': 4827, 'brancheswof': 4828, 'breakfast': 4829, 'breaks': 4830, 'breationism': 4831, 'brez': 4832, 'brilliant': 4833, 'bro': 4834, 'brok': 4835, 'brokAn': 4836, \"broth'r\": 4837, 'brothpr': 4838, 'brown': 4839, 'bs': 4840, 'bsan': 4841, 'bsg': 4842, 'bsmart': 4843, 'bsolutely': 4844, 'bt': 4845, 'btae': 4846, 'btg': 4847, 'btlly': 4848, 'btma': 4849, 'bu0get': 4850, 'buGgat': 4851, 'bud': 4852, 'buddies': 4853, 'budget@r': 4854, 'budgets': 4855, 'build': 4856, 'bulls': 4857, 'bullscit': 4858, 'bullshit': 4859, 'buloc': 4860, 'buo': 4861, 'buoly': 4862, 'bus': 4863, 'bush': 4864, 'businCls': 4865, 'businesses': 4866, 'but@Illegal': 4867, 'butaI': 4868, 'butfo': 4869, 'butithey': 4870, 'butiwith': 4871, 'buttbn': 4872, 'buy': 4873, 'bynits': 4874, 'c\"ol': 4875, \"c#Wha'sRamneyHiding\": 4876, 'c*ntR': 4877, 'c*nts': 4878, 'c0ffee': 4879, 'cBme': 4880, 'cOlled': 4881, 'cOntem)tnos': 4882, 'cPffee': 4883, 'cT': 4884, 'cWGiMaa5': 4885, 'cWhat@RomneyHrding': 4886, 'cWhatsRomneyHiding': 4887, 'caa': 4888, 'cacaine': 4889, 'cadpaign': 4890, 'caee': 4891, 'caepaign': 4892, 'cahling': 4893, 'caine': 4894, 'cake': 4895, 'cal3ed': 4896, 'cala': 4897, 'calculate': 4898, 'call1him': 4899, 'calla': 4900, 'caller': 4901, 'calli': 4902, 'callinA': 4903, 'calling': 4904, 'calls': 4905, 'campaigg': 4906, 'campaignWs': 4907, 'campaigns': 4908, 'campaignsfundraiser': 4909, 'campaogn': 4910, 'campeig': 4911, 'camtaign': 4912, 'candidate': 4913, 'cann\"ttwait': 4914, 'cannoi': 4915, 'cannotbwait\"f': 4916, 'canntt': 4917, 'cantando': 4918, 'cantwait2vote': 4919, 'cap': 4920, 'capitalist': 4921, 'career': 4922, 'carttl': 4923, 'casarte': 4924, 'cat': 4925, 'cate': 4926, 'catls': 4927, 'caught': 4928, 'caule': 4929, 'cblled': 4930, 'cbs': 4931, 'ccept': 4932, 'ccnflicts': 4933, 'ccuses': 4934, 'cdatsohttp://t.ao/NCe2nJzX': 4935, 'cdol': 4936, 'cdonalds': 4937, 'ceapons': 4938, 'cedeats': 4939, 'cedtmnmh': 4940, 'celeb': 4941, 'celebm#tabooid': 4942, 'celebrate': 4943, 'ceraificate': 4944, 'cernificate': 4945, 'certaficate': 4946, 'certificat': 4947, 'certificate?r': 4948, 'certifscate': 4949, 'certtair': 4950, 'ceview': 4951, 'cfffej': 4952, 'cgllege': 4953, 'ch': 4954, 'cha8ges': 4955, 'cha?ber': 4956, 'cha?ge': 4957, 'challengOng': 4958, 'chaltenge': 4959, 'champion': 4960, 'chanct': 4961, 'changen': 4962, 'changing': 4963, 'channel': 4964, 'character': 4965, 'chargI': 4966, 'charge': 4967, 'chaxce': 4968, 'chchicago': 4969, 'cheatina': 4970, 'check': 4971, 'chected': 4972, 'cheeks': 4973, 'cheezin': 4974, 'chelle': 4975, 'chicos': 4976, 'chocolate': 4977, 'chol': 4978, 'chonolate': 4979, 'choose': 4980, 'ci#izensunited': 4981, 'cieated': 4982, 'cied': 4983, 'cigh': 4984, 'cin': 4985, 'citizenship': 4986, 'citizinsunited': 4987, 'claig': 4988, 'claims': 4989, 'classified': 4990, 'classifitd': 4991, 'clea': 4992, 'clean': 4993, 'cli.bing': 4994, 'click': 4995, 'clinton': 4996, 'clsim': 4997, 'cmerican': 4998, 'cn': 4999, 'cnHRuUBZ': 5000, 'cnewspin': 5001, 'cnn': 5002, 'co.': 5003, 'coArt': 5004, 'coas': 5005, 'coats': 5006, 'cocOine': 5007, 'cocaenie': 5008, 'cocai': 5009, 'cocaiie': 5010, 'cocainen': 5011, 'cocainn': 5012, 'cocaiue': 5013, 'cocanne': 5014, 'coclege': 5015, 'code': 5016, 'coeflicts': 5017, 'coenection': 5018, 'coglegt': 5019, 'cohl': 5020, 'cohments': 5021, 'cohor': 5022, 'coild': 5023, 'coilege': 5024, 'coincidence': 5025, 'coleege': 5026, 'collapse': 5027, 'collegg': 5028, 'collgee': 5029, 'collnge': 5030, 'collsgs': 5031, 'colrt': 5032, 'comUhtt/:/pt.co': 5033, 'comb': 5034, 'combiDed': 5035, 'comen': 5036, 'comfort': 5037, 'commenis': 5038, 'commie': 5039, 'common': 5040, 'communist': 5041, 'companies': 5042, 'companiesego': 5043, 'company': 5044, 'comparison': 5045, 'complaining': 5046, 'complete': 5047, 'con': 5048, 'conceded': 5049, 'conceivud': 5050, 'condidate': 5051, 'conference': 5052, 'conflcetsmof': 5053, 'conflictsnof': 5054, 'conflryts': 5055, 'congratelaee': 5056, 'congreslional': 5057, 'connectoe': 5058, 'consecutive': 5059, 'conser': 5060, 'conservative': 5061, 'conservatives': 5062, 'conservativns': 5063, 'consists': 5064, 'constantly': 5065, 'constitution': 5066, 'constitutional': 5067, 'contempt': 5068, 'contrats': 5069, 'contributed': 5070, 'conventioN': 5071, 'coo': 5072, \"coo'h\": 5073, 'coolh': 5074, 'coolk': 5075, 'coon': 5076, 'copt': 5077, 'corollary': 5078, 'correction': 5079, 'cosiconocteron': 5080, 'cosrt': 5081, 'cost': 5082, 'cott': 5083, 'cou': 5084, 'countryacan': 5085, 'countryewe': 5086, 'countsy': 5087, 'couple': 5088, 'couples': 5089, 'courhe': 5090, 'courl': 5091, 'cover': 5092, 'cowversation': 5093, 'cozied': 5094, 'cr': 5095, 'craHs': 5096, 'crappy': 5097, 'crazy': 5098, 'crde': 5099, 'created': 5100, 'createdyhashtag': 5101, 'creationbsm': 5102, 'creatyonism': 5103, 'cries': 5104, 'crit#cism': 5105, 'critical': 5106, 'crlling': 5107, 'cross': 5108, 'crosshs': 5109, 'crush': 5110, 'cryitg': 5111, 'cryogenically': 5112, 'csappy': 5113, 'csery': 5114, 'ctarge': 5115, 'ctear': 5116, 'ctsBa': 5117, 'cttp://t.co/DmMaGbBz': 5118, 'ctvil': 5119, 'cudget': 5120, 'cut': 5121, 'cuz': 5122, 'cwll': 5123, 'cyout': 5124, 'd2X461u2': 5125, 'dOP': 5126, 'dPres': 5127, 'dWarrioo': 5128, \"dYou're\": 5129, 'da': 5130, 'daggers': 5131, 'dam2machine': 5132, 'damafe': 5133, 'damaue': 5134, 'dampaign': 5135, 'dancing': 5136, 'dangerous': 5137, 'dasriansNextgoyFriendh-&Bt': 5138, 'dat': 5139, 'dates': 5140, 'dax': 5141, 'day': 5142, 'days': 5143, 'dayt': 5144, 'dcbt': 5145, 'dcing': 5146, 'dd': 5147, 'ddnt': 5148, 'deBounced': 5149, 'deai': 5150, 'dealing': 5151, 'dealnng': 5152, 'debDte': 5153, 'debaae': 5154, 'debabe': 5155, 'debacle': 5156, 'debatr': 5157, 'debkte': 5158, 'deceit': 5159, 'decent': 5160, 'deceptioe': 5161, 'deception': 5162, 'decide': 5163, 'deciding': 5164, 'decisive': 5165, 'dedateo': 5166, 'deeense': 5167, 'deeper': 5168, 'defeating': 5169, 'defend': 5170, 'defending': 5171, 'defensd': 5172, 'definitely': 5173, 'defperate': 5174, 'del': 5175, 'delivers': 5176, 'dem': 5177, 'demanding': 5178, 'demandkhe': 5179, 'deml': 5180, 'democracytin': 5181, 'democrat': 5182, 'democrats': 5183, 'dene': 5184, 'dengan': 5185, 'denoinced': 5186, 'denounce': 5187, 'denounces': 5188, 'dent': 5189, 'deo': 5190, 'depends': 5191, 'deprees': 5192, 'des': 5193, 'desceibes': 5194, 'described': 5195, 'deserve': 5196, 'deserveh': 5197, 'desine': 5198, 'despot': 5199, 'despothgives': 5200, 'despste': 5201, 'dessroying': 5202, 'destronedd': 5203, 'destroysObama': 5204, 'detail': 5205, 'detailssof': 5206, 'detrimental': 5207, 'development': 5208, 'dey': 5209, 'dfeaunt': 5210, 'dght': 5211, 'di': 5212, 'diae': 5213, 'dial': 5214, 'diamotds': 5215, \"didn'tuObama\": 5216, 'dif': 5217, 'difference': 5218, 'dig': 5219, 'dignitt': 5220, 'dihtract': 5221, 'diiclosing': 5222, 'diilin': 5223, 'dime': 5224, 'dimectioners': 5225, 'dinenr': 5226, 'dir': 5227, 'direct': 5228, 'direction': 5229, 'dirinya': 5230, 'dirst': 5231, 'dirth': 5232, 'dirty': 5233, 'disLikes': 5234, 'disabled': 5235, 'disabnedtcredit': 5236, 'disagree': 5237, 'disaster': 5238, 'discharge': 5239, 'disclosinR': 5240, 'discuss': 5241, 'disguise': 5242, 'divider': 5243, 'divorte': 5244, 'dlinFO': 5245, 'dlm': 5246, 'dlnor$hto': 5247, 'dm': 5248, 'dmv_twitter': 5249, 'dnbt': 5250, 'dner': 5251, 'doEyou': 5252, 'doGyI': 5253, 'doPs': 5254, \"doa't\": 5255, 'documentcry': 5256, 'documents': 5257, 'doe': 5258, \"doeen't\": 5259, 'doesnrt': 5260, 'dohn': 5261, 'doieg': 5262, 'dollars': 5263, 'domestac': 5264, 'domses': 5265, \"don'H\": 5266, \"don't\": 5267, \"don'tieven\": 5268, 'donated': 5269, 'doprank': 5270, \"doseg'tfget\": 5271, 'dou': 5272, 'double': 5273, 'dove': 5274, 'dow': 5275, 'drEstados': 5276, 'dranscripts': 5277, 'draving': 5278, 'drawin': 5279, 'drawing': 5280, 'dres': 5281, 'driverT': 5282, 'drivers': 5283, 'drn': 5284, 'drop': 5285, 'drug': 5286, 'dtd': 5287, 'dttp://t.co/42Ak8yAq': 5288, 'dudes': 5289, 'due': 5290, 'dueen': 5291, 'duestioningtObama': 5292, 'duh': 5293, 'dum': 5294, 'dumtcelebrmty': 5295, 'duranie': 5296, 'duties': 5297, 'duty': 5298, 'dwilycyotee': 5299, 'dwo': 5300, 'dying': 5301, 'e.eryone': 5302, 'e.ichellemalkin': 5303, 'e9': 5304, 'eArctic': 5305, 'eBAY': 5306, 'eHi': 5307, 'eIs': 5308, 'eNEWSXOOMcom': 5309, 'eRomn': 5310, 'eTd@OrwellForce': 5311, 'eWhatsRomneyHidino': 5312, 'eXJZbGSV': 5313, 'eade': 5314, 'eager': 5315, 'eait': 5316, 'eal': 5317, 'ealRoseanne': 5318, 'ealah': 5319, 'ealf': 5320, 'eally': 5321, 'eaoma': 5322, 'eaparty': 5323, 'earn': 5324, 'earned': 5325, 'earry': 5326, 'earth': 5327, 'easier': 5328, 'easilytdefeat': 5329, 'eated': 5330, 'eax': 5331, 'eba8a': 5332, 'ebaRa': 5333, 'ebama': 5334, 'ebamd': 5335, 'ebay': 5336, 'ebbs': 5337, 'ebsAmerican': 5338, 'ebsOimate': 5339, 'ebsolutely.gRomney': 5340, 'ebsponge': 5341, 'eche': 5342, 'echool': 5343, 'eciability': 5344, 'eco': 5345, 'economdc': 5346, 'economie': 5347, 'economist': 5348, 'ecopSmic': 5349, 'ecords': 5350, 'edit': 5351, 'edo': 5352, 'edshnw': 5353, 'edshog': 5354, 'edsiow': 5355, 'educated': 5356, 'eeahecrazy': 5357, 'eebate': 5358, 'eeen': 5359, 'eeft': 5360, 'eeod': 5361, 'eeport': 5362, 'eeripy': 5363, 'ees': 5364, 'effected': 5365, 'effective': 5366, 'effersonObama': 5367, 'efsnitton': 5368, 'egCIST': 5369, 'egelse': 5370, 'eggc': 5371, 'eggs': 5372, 'ehatsRbmneyHiding': 5373, 'ehct': 5374, 'ehe': 5375, 'ehis': 5376, 'ehxt': 5377, 'ei': 5378, 'eid': 5379, 'eiding': 5380, 'eieber': 5381, 'eieryhfew': 5382, 'eim': 5383, \"ein't\": 5384, 'eings': 5385, 'eis': 5386, 'eitizensunited': 5387, 'ekly': 5388, 'el.ction': 5389, 'eleAugusta': 5390, 'eleVtion': 5391, 'elean': 5392, 'elect': 5393, 'elections2': 5394, 'electo': 5395, 'elf.sHe': 5396, 'elge': 5397, 'eligibilityt': 5398, 'elle': 5399, 'elsa': 5400, 'else(i.e': 5401, 'elshow': 5402, 'elsingreso': 5403, 'embarrassing': 5404, 'emblema': 5405, 'embraciag': 5406, 'embryonic': 5407, 'emerica': 5408, 'emericans': 5409, 'enRugh': 5410, 'encantaria': 5411, 'ends': 5412, 'ened': 5413, 'engoing': 5414, 'enjoy': 5415, 'enounced': 5416, 'enown': 5417, 'enplains': 5418, 'enshow': 5419, 'ent': 5420, 'entire': 5421, 'entirf': 5422, 'entitlement': 5423, 'entlthat': 5424, 'entrando': 5425, 'eoer': 5426, 'eoes': 5427, 'eoff9cow': 5428, 'eoises': 5429, 'eonight': 5430, 'eop': 5431, 'eoposed': 5432, 'eor': 5433, 'eory': 5434, 'eost': 5435, 'eou': 5436, 'ep': 5437, 'epara': 5438, 'eprints': 5439, 'epsl': 5440, 'equalizatioo.rThat': 5441, 'era': 5442, 'eran': 5443, 'eranchbs': 5444, 'erate': 5445, 'ere': 5446, 'ers': 5447, 'erses': 5448, 'escretle': 5449, 'esoeveryohednate': 5450, 'esos': 5451, 'espouses': 5452, 'essues': 5453, 'esta': 5454, 'etaga': 5455, 'etcot': 5456, 'ethe': 5457, 'ethinks': 5458, 'etoro': 5459, 'ets': 5460, 'etting': 5461, 'ettp://t.co/9a1dheP0': 5462, 'ettp://t.co/TUqvEApu': 5463, 'ettp://t.co/vHxp18EN': 5464, 'etz': 5465, 'euckGFW': 5466, 'euddy': 5467, 'eust': 5468, 'ev': 5469, 'eve': 5470, 'eveaything': 5471, 'every': 5472, 'everything': 5473, 'evtr': 5474, 'ewaiting': 5475, 'ews': 5476, 'ex': 5477, 'exceed': 5478, 'excessive': 5479, 'exchange': 5480, 'exemption': 5481, 'exierts': 5482, 'exnlains': 5483, 'experts': 5484, 'explanatilns': 5485, 'explanation': 5486, 'explanatton': 5487, 'exposed': 5488, 'exposes': 5489, 'extreme': 5490, 'eyria': 5491, 'f2': 5492, 'fAmeriea': 5493, 'fPostPol': 5494, 'fRomney': 5495, 'facing': 5496, 'facts': 5497, 'faee': 5498, 'fail': 5499, 'faileii': 5500, 'faiture': 5501, 'fake': 5502, 'farce': 5503, 'farward.@Barac': 5504, 'fashion': 5505, 'fave': 5506, 'favoriteaperson': 5507, 'fcom': 5508, 'fdom': 5509, 'fe': 5510, \"fe'on\": 5511, 'featuiing': 5512, 'featur': 5513, 'fec': 5514, 'fecklessness.oAmereca': 5515, 'fedekal': 5516, 'fedmral': 5517, 'fee': 5518, 'feedOinto': 5519, \"feel'and\": 5520, 'felon': 5521, 'fet#tloti#sgp': 5522, 'few': 5523, 'ff': 5524, 'ffice': 5525, 'ffman': 5526, 'fhe': 5527, 'fhink': 5528, 'fhrces': 5529, 'fi': 5530, 'fi6e': 5531, 'fia': 5532, 'ficit': 5533, 'fict': 5534, 'field': 5535, 'figancial': 5536, 'fike': 5537, 'file': 5538, 'film': 5539, 'final': 5540, 'financing': 5541, 'findoiny': 5542, 'finger': 5543, 'fir': 5544, 'firing': 5545, 'firms': 5546, 'firrt': 5547, 'flexibhen': 5548, 'flipper': 5549, 'flushing': 5550, 'fmr': 5551, 'fnd': 5552, 'fnom': 5553, 'fnterest': 5554, 'foO': 5555, 'foa': 5556, 'foee': 5557, 'foilow': 5558, 'foir': 5559, 'followed': 5560, 'followers': 5561, 'folluwersithan': 5562, 'follwoing': 5563, 'food': 5564, 'foodstamps': 5565, 'fool': 5566, 'fooling': 5567, 'foom': 5568, 'foosed': 5569, 'foot': 5570, 'footrace': 5571, 'forHspending': 5572, 'foreehe': 5573, 'forever': 5574, 'forgote': 5575, 'forkPresident': 5576, 'form2012': 5577, 'fortitude': 5578, 'founde&s': 5579, 'founders': 5580, 'fox': 5581, 'fr': 5582, 'frabd': 5583, 'fredthnmpson': 5584, 'free': 5585, 'freedoms': 5586, 'freely': 5587, 'frhm': 5588, 'frienmlier': 5589, 'frnm': 5590, 'fro': 5591, 'froA': 5592, 'froa': 5593, 'froi': 5594, 'from.the': 5595, 'fromMthe\"UK': 5596, 'fromethe': 5597, 'fromkthe': 5598, 'fromnhis': 5599, 'fromoa': 5600, 'fromthhe': 5601, 'frum': 5602, 'ftght': 5603, 'ftr': 5604, 'fuck': 5605, 'fucking': 5606, 'fufure': 5607, 'fuhdraiser': 5608, 'fulfFll': 5609, 'full': 5610, 'fundra.ser': 5611, 'fundrai': 5612, 'fundraioer': 5613, 'fundraisers': 5614, 'fune': 5615, 'furiius': 5616, 'fusny': 5617, 'futile': 5618, 'futuremdonNewt': 5619, 'g#bt': 5620, 'g?nnbama': 5621, 'gB': 5622, 'gHQ3NrWP': 5623, 'gIGmn5ks': 5624, 'gIb7UzdCSto': 5625, 'gT': 5626, 'gackinb': 5627, 'galloe': 5628, 'gasa$2.50': 5629, 'gauge': 5630, 'gave': 5631, 'gay!gThat': 5632, 'gb87a': 5633, 'ge@': 5634, 'gears': 5635, 'geese': 5636, 'geme': 5637, 'gen44': 5638, 'generated': 5639, 'geninsom1n': 5640, 'genio': 5641, 'getchaObamnoaO#retweea': 5642, 'gets': 5643, 'gh': 5644, 'ghat': 5645, 'ghe': 5646, 'ghere': 5647, 'ght': 5648, 'gibilityh': 5649, 'giblnriefds': 5650, 'gif': 5651, 'gifthing': 5652, 'giing': 5653, 'givev': 5654, 'giving': 5655, 'gloves': 5656, 'glutting': 5657, 'gm': 5658, 'gmessl': 5659, 'gns': 5660, 'goZv1VU1': 5661, 'godto': 5662, 'goi': 5663, 'goieg': 5664, 'goigg': 5665, 'goin': 5666, 'golden': 5667, 'golfaclub': 5668, 'golfeds': 5669, 'golm': 5670, 'gomney': 5671, 'gondown': 5672, 'goo': 5673, 'goodVfor': 5674, 'goon': 5675, 'gorced': 5676, 'gorng': 5677, 'gotng': 5678, 'goto2': 5679, 'gottaoeake': 5680, 'govednment': 5681, 'govelnment': 5682, \"governmenr'N\": 5683, 'governmentm': 5684, 'governmett': 5685, 'gr': 5686, 'grad': 5687, 'grades': 5688, 'graduete': 5689, 'grain': 5690, 'grayl': 5691, 'great.oObama': 5692, 'green': 5693, 'grees': 5694, 'grending': 5695, 'grithsh': 5696, 'gro': 5697, 'groring': 5698, 'groupih': 5699, 'growing': 5700, 'growth': 5701, 'grtat': 5702, 'grwnh': 5703, 'gsks': 5704, 'gslf': 5705, 'gt;&gt': 5706, 'gt;RT': 5707, 'gt;__elt': 5708, 'gte19': 5709, 'gthat': 5710, 'gtl': 5711, 'gtnne': 5712, 'gtt': 5713, 'gtte://tCco': 5714, 'guarantee': 5715, 'guerra': 5716, 'guilty': 5717, 'guing': 5718, 'guns': 5719, 'gw': 5720, 'h#WhatsRomneyHiding': 5721, \"h've\": 5722, 'h.reta': 5723, 'h.tp://ttco/2gnDXo0f': 5724, 'h0s': 5725, 'h0tp://t.co/Shvm3ZtF': 5726, 'hCding': 5727, 'hO': 5728, 'hSM': 5729, 'hStp://t.co/pAe0TYYI': 5730, 'hTng': 5731, 'ha': 5732, 'haOe': 5733, 'haThtag': 5734, 'habit': 5735, 'hahaha': 5736, 'hama': 5737, 'hammer': 5738, 'han': 5739, 'handle': 5740, 'handsote': 5741, 'hane': 5742, 'hare': 5743, 'harpoons': 5744, 'hasbbeen': 5745, 'hasdapproved': 5746, 'hashcalled': 5747, \"hasn'tt\": 5748, 'hasnbm': 5749, 'hasnbte': 5750, 'hasnthd': 5751, 'hasobeen': 5752, 'hasobemI': 5753, 'hastbnen': 5754, 'hasy': 5755, 'hateraof': 5756, 'hates': 5757, 'hatin': 5758, 'hato': 5759, 'haty': 5760, 'havc': 5761, 'haveaa': 5762, 'havegtea': 5763, 'havertea': 5764, 'havo': 5765, 'hbama': 5766, 'hbs': 5767, 'hcdonalds': 5768, 'hcs': 5769, 'hcss': 5770, 'hctp.//t': 5771, 'hd': 5772, 'hding': 5773, \"he'debe\": 5774, 'he\\'dt\"have': 5775, \"he'm\": 5776, \"he'sil\": 5777, \"he'ss\": 5778, 'he.e': 5779, 'heHs': 5780, 'hea': 5781, 'heading': 5782, 'headliPe': 5783, 'headlint': 5784, 'headwine': 5785, 'heaeth': 5786, 'heages': 5787, 'heahad': 5788, 'healtacare': 5789, 'healtg': 5790, 'heartngs': 5791, 'heat': 5792, 'hedshow': 5793, 'heel': 5794, 'hehgirlphrase': 5795, 'heiAugusta': 5796, 'heist': 5797, 'hella': 5798, 'help': 5799, 'helpRomney': 5800, 'helped': 5801, 'hels': 5802, 'helwi': 5803, 'hemreally': 5804, 'hen': 5805, 'heop://t.co/PUZRq7HU': 5806, 'heos': 5807, 'here.d': 5808, 'herhood': 5809, 'herway': 5810, 'hese': 5811, 'hetdoing': 5812, 'hf': 5813, 'hftp://t.co/AVMu9oKt': 5814, 'hgd': 5815, 'hgrs': 5816, 'hgs': 5817, \"hh'd\": 5818, 'hhe': 5819, 'hhpocritical': 5820, 'hhy': 5821, 'hiW': 5822, 'hiaing': 5823, 'hid': 5824, 'hidin': 5825, 'hidingPhic': 5826, 'hidinga': 5827, 'hidsng': 5828, 'highest': 5829, 'higser': 5830, 'hijaade': 5831, 'hijas': 5832, 'himHarry': 5833, 'himnworkmRT': 5834, 'himothe': 5835, 'hinest': 5836, 'hint': 5837, 'hirher': 5838, 'his.college': 5839, 'hisnfollowers': 5840, 'hissteen': 5841, 'histEry': 5842, 'histKry': 5843, 'historichlly': 5844, 'hit': 5845, 'hite': 5846, 'hith': 5847, 'hitp://t.c./pS9fQaaL': 5848, 'hitp://t.co/R80dwTeD': 5849, 'hj': 5850, 'hkvs': 5851, 'hl': 5852, 'hlo': 5853, 'hltp://t.co/2kXhMwKY': 5854, 'hnb': 5855, 'hntp://t.coiUaKlvxaj': 5856, 'ho': 5857, 'hobpitals': 5858, 'hocra': 5859, 'holdsch': 5860, 'holitics': 5861, 'holved': 5862, 'homes': 5863, 'honest': 5864, 'honest@Obama': 5865, 'honestly': 5866, 'honesty': 5867, 'hope.no': 5868, 'hoper': 5869, 'hoping': 5870, 'hor': 5871, 'horribly': 5872, 'hos': 5873, 'host': 5874, 'hosting': 5875, 'hotaIoffee.c': 5876, 'hotchoclateRomney': 5877, 'hotels': 5878, 'hourtroom': 5879, 'housing': 5880, 'houstng': 5881, 'hove': 5882, 'howerline': 5883, 'howesmart': 5884, 'howiI': 5885, 'hptt://t.co/vsOYFhSa': 5886, 'hrard': 5887, 'hree': 5888, 'hrr': 5889, 'hrutt': 5890, 'hse': 5891, 'hss': 5892, 'hstp://t.co/GLoeiyOC': 5893, 'hstp://t.co/OGyR4YUk': 5894, 'ht-p://t.co/Taa46B8j': 5895, 'ht.p://ttct': 5896, 'ht5p://t.co/IwGt6RDK': 5897, 'ht@p://t.co': 5898, 'htAp:./t.co': 5899, 'htWp://tlco': 5900, 'htap://t.co/Auu9TLVs': 5901, 'htap://t.co/fFZKukLF': 5902, 'htap://t.co/svxFPoHq': 5903, 'htap://t.cy/MuLmPaB2': 5904, 'hte': 5905, 'htep://t.co/nVQfUzir': 5906, 'hthp://t.co/asaEviZ5': 5907, 'htlp://t.co/NZaqvz3C': 5908, 'htnp://t.co/D9qwakJ3': 5909, 'htnp://t.co/qSyEjCZR': 5910, 'htnts': 5911, 'htpp://t.coyQTdmKZQe': 5912, 'hts': 5913, 'htt#://t.co': 5914, 'htt/:p': 5915, 'httN': 5916, 'httSc//tn': 5917, 'httW://tobo': 5918, 'httX://t.6o': 5919, 'htta://t.co/hRbM9jal': 5920, 'httacks': 5921, 'httc://t.cb/1iimJk0Z': 5922, 'htte': 5923, 'httg://t.co/KkaAhGPq': 5924, 'htto': 5925, \"http'//h.co\": 5926, 'http1//t.co': 5927, 'http:,/t': 5928, 'http:./t': 5929, 'http:/': 5930, 'http:/#t.co': 5931, 'http://,.co': 5932, 'http://.tco': 5933, 'http://.tco/3Ax22aBB': 5934, 'http:///.cotKkaAhGPq': 5935, 'http://T.co': 5936, 'http://T.co/5ER2RIfx': 5937, 'http://a.co/91ecaJAE': 5938, 'http://a.co/YuBShHrj': 5939, 'http://e.lo/Z552mkRc': 5940, 'http://i.co/7W5qni2S': 5941, 'http://i.co/z4KU2HkN': 5942, 'http://o.co/MzerPkAh': 5943, 'http://o.co/NkIYIkj1': 5944, 'http://q.co/PVKreptI': 5945, 'http://q.co/egOWimEY': 5946, \"http://s.co/'FTjxuKB\": 5947, 'http://s.co/YtzeLXMt': 5948, 'http://t.c3': 5949, 'http://t.c:/z4KU2HkN': 5950, 'http://t.cC': 5951, 'http://t.ca/XjuQru5w': 5952, 'http://t.ce/j3K58zDO': 5953, 'http://t.ci/akaAhGPq': 5954, 'http://t.cn/BX2ogeQN': 5955, 'http://t.co/02AQUGPl': 5956, 'http://t.co/06rD6': 5957, 'http://t.co/0Nro7GKj': 5958, 'http://t.co/0TBmBaKB': 5959, 'http://t.co/0wNSy7T6': 5960, 'http://t.co/14GbcXGO': 5961, 'http://t.co/1Pso0ULz': 5962, 'http://t.co/1Psx0ULz': 5963, 'http://t.co/22GPDvLM': 5964, 'http://t.co/2Yy8Srct': 5965, 'http://t.co/2eaXDiOP': 5966, 'http://t.co/37kEFtMg': 5967, 'http://t.co/3fgWm3nb': 5968, 'http://t.co/3qzdFw1C': 5969, 'http://t.co/4IOwLqh1': 5970, 'http://t.co/4LtEJRbL': 5971, 'http://t.co/4PEbWUGs': 5972, 'http://t.co/4vxMWaZv': 5973, 'http://t.co/5DLIc25x': 5974, 'http://t.co/5QBOVrBw': 5975, 'http://t.co/5xHkGMDg': 5976, 'http://t.co/7UpYOSnI': 5977, 'http://t.co/7jswRZAQ': 5978, 'http://t.co/8IhorwzV': 5979, 'http://t.co/8Mp8Bg3y': 5980, 'http://t.co/8iSanDSS': 5981, 'http://t.co/AnSszxJn': 5982, 'http://t.co/AnxszxJn': 5983, 'http://t.co/B3b4vkeX': 5984, 'http://t.co/BKn8RpkI': 5985, 'http://t.co/BnBgHox0': 5986, 'http://t.co/CK84NpUq': 5987, 'http://t.co/CQpMvkDJ': 5988, 'http://t.co/DHvGqb1Z': 5989, 'http://t.co/DbYlHnSh': 5990, 'http://t.co/EmIhIiWh': 5991, 'http://t.co/FnPrvVDK': 5992, 'http://t.co/G6dJEmkz': 5993, 'http://t.co/GHi5maQk': 5994, 'http://t.co/GZDMIGVy': 5995, 'http://t.co/GaLalbKb': 5996, 'http://t.co/Gnbb5AIS': 5997, 'http://t.co/GzD7DkRt': 5998, 'http://t.co/H1YRpYlV': 5999, 'http://t.co/Hl52R0Ar': 6000, 'http://t.co/I00Ho46s': 6001, 'http://t.co/I22xu3cW': 6002, 'http://t.co/IMcTUlsH': 6003, 'http://t.co/IwG56RDK': 6004, 'http://t.co/JGbJwE9L': 6005, 'http://t.co/JIGmn5kE': 6006, 'http://t.co/L5xqNFfD': 6007, 'http://t.co/LSCUC7P4': 6008, 'http://t.co/LUw7Ky66': 6009, 'http://t.co/NDp6dISb': 6010, 'http://t.co/NFOS1n9d': 6011, 'http://t.co/NU1LDvhR': 6012, 'http://t.co/NcJ&7Jgb': 6013, 'http://t.co/NqjjCWMB': 6014, 'http://t.co/OGi7vdUq': 6015, 'http://t.co/ONKneI5X': 6016, 'http://t.co/ONvpI': 6017, 'http://t.co/OSb2gr3f': 6018, 'http://t.co/OTpHamKc': 6019, 'http://t.co/Ov6IoC5S': 6020, 'http://t.co/Ov6h5CoS': 6021, 'http://t.co/PsXJ71R3': 6022, 'http://t.co/Pu73AOEV': 6023, 'http://t.co/QDV1qQKn': 6024, 'http://t.co/QJYdOvLj': 6025, 'http://t.co/R0LJqx8': 6026, 'http://t.co/REuKvbgg': 6027, 'http://t.co/RaKHSwfn': 6028, 'http://t.co/RhSzoEU7': 6029, 'http://t.co/RoLhLTt2': 6030, 'http://t.co/S4UHjSVS': 6031, 'http://t.co/S8YeotCr': 6032, 'http://t.co/SFzSh3iz': 6033, 'http://t.co/SGo5zdHy': 6034, 'http://t.co/SPn6jMXH': 6035, 'http://t.co/Sm2s9o9i': 6036, 'http://t.co/T4aopGDD': 6037, 'http://t.co/TGgLdkOo': 6038, 'http://t.co/UbLfVfdK': 6039, 'http://t.co/VhURDtbO': 6040, 'http://t.co/W76yOyXD': 6041, 'http://t.co/WEbiZPlb': 6042, 'http://t.co/WYKgE3LZ': 6043, 'http://t.co/XfXJJp9c': 6044, 'http://t.co/XliEImvs': 6045, 'http://t.co/XwY62sep': 6046, 'http://t.co/YT7r': 6047, 'http://t.co/Yd8jzwoV': 6048, 'http://t.co/YiFqiPKT': 6049, 'http://t.co/Zgs': 6050, 'http://t.co/ZqA': 6051, 'http://t.co/ZuKdTidE': 6052, 'http://t.co/a,5aHUve': 6053, 'http://t.co/aVVCL1ai': 6054, 'http://t.co/avbgNT5': 6055, 'http://t.co/bKUGLufH': 6056, 'http://t.co/bgk2uOdY': 6057, 'http://t.co/cNr0Sr3c': 6058, 'http://t.co/cuHdVHYv': 6059, 'http://t.co/eamVPgcw': 6060, 'http://t.co/fOrfWYMb': 6061, 'http://t.co/fOrfiYMb': 6062, 'http://t.co/gIG%n5kE': 6063, 'http://t.co/gP27CETj': 6064, 'http://t.co/gVSs6ulN': 6065, 'http://t.co/gaGmn5kE': 6066, 'http://t.co/ghuKE6RS': 6067, 'http://t.co/gpdr1y1C': 6068, 'http://t.co/hbWWnIsJ': 6069, 'http://t.co/iR2DAMfM': 6070, 'http://t.co/j92pfp6': 6071, 'http://t.co/kdxX62X8': 6072, 'http://t.co/l': 6073, 'http://t.co/l54NpNfC': 6074, 'http://t.co/ld3uspIs': 6075, 'http://t.co/mC1aHVLs': 6076, 'http://t.co/n9LEKN8f': 6077, 'http://t.co/nATmWclx': 6078, 'http://t.co/nBAjvfWA': 6079, 'http://t.co/njCfZuSd': 6080, 'http://t.co/oLxGUJE0': 6081, 'http://t.co/p2vrYRFz': 6082, 'http://t.co/pWArEos': 6083, 'http://t.co/pp8XLXM4': 6084, 'http://t.co/q04cVYix': 6085, 'http://t.co/q5iS0Fyq': 6086, 'http://t.co/qHrUeRoO': 6087, 'http://t.co/qmkaNjER': 6088, 'http://t.co/qvcmS5HU': 6089, 'http://t.co/rVWI6S1Y': 6090, 'http://t.co/rhDUtpLs': 6091, 'http://t.co/rkNdEmIy': 6092, 'http://t.co/s4XUUW1h': 6093, 'http://t.co/sYSnUwUJ': 6094, 'http://t.co/scTTAKbW': 6095, 'http://t.co/svxFPoHe': 6096, 'http://t.co/svxFmoHq': 6097, 'http://t.co/t9tb9uIl': 6098, 'http://t.co/tFame7bZ': 6099, 'http://t.co/tdJiGsMe': 6100, 'http://t.co/tmsSKR0': 6101, 'http://t.co/uMbAgA7X': 6102, 'http://t.co/uMhun2nd': 6103, 'http://t.co/uddCXCjt': 6104, 'http://t.co/v68EEZhl': 6105, 'http://t.co/vbHf1w9e': 6106, 'http://t.co/vdBXgsyk': 6107, 'http://t.co/vsOYFhSa': 6108, 'http://t.co/vvaTNwON': 6109, 'http://t.co/yhJ55xho': 6110, 'http://t.co/zcSKd1Jd': 6111, 'http://t.co/zejRCsDn': 6112, 'http://t.co/zkUbbGVN': 6113, 'http://t.co/zneCZUTi': 6114, 'http://t.co/zneCZUTo': 6115, 'http://t.co/zpg0TVm3': 6116, 'http://t.co/ztufx:n1': 6117, 'http://t.coBmm@eGrZJ': 6118, 'http://t.coS0TPBphCt': 6119, 'http://t.coaLojgGtGT': 6120, 'http://t.cobgo9toJ8e': 6121, 'http://t.cojSEpt/7zZ': 6122, 'http://t.cold2Rf13n0': 6123, 'http://t.com48O3o6jd': 6124, 'http://t.corx5vw6vy4': 6125, 'http://t.cot1kiskMUC': 6126, 'http://t.cotS8lPX0SZ': 6127, 'http://t.cotoZUoyoNN': 6128, 'http://t.cs/9JQdRBUs': 6129, 'http://t.cx/ocNDC7jK': 6130, 'http://t.eo/NFOS1n9d': 6131, 'http://t.no/rkNeEmIy': 6132, 'http://t.ro/RQQpZJHd': 6133, 'http://t.to/TlfMmi0': 6134, 'http://t.to/t9xnoyJG': 6135, 'http://tOco': 6136, 'http://tQco': 6137, 'http://tUco/0bk8kViG': 6138, 'http://tac./UnVSPmdy': 6139, 'http://tcco': 6140, 'http://teco': 6141, 'http://tfco': 6142, 'http://tlco': 6143, 'http://tmco/1IiLN01H': 6144, 'http://toco': 6145, 'http://trco': 6146, 'http://ttco': 6147, 'http://tuco/2kXhMwKY': 6148, 'http://tvco': 6149, 'http://x.co/ntXJrxZe': 6150, 'http:/4tccu': 6151, 'http:/Ct.co': 6152, 'http:/L,.co': 6153, 'http:/Lt.co': 6154, 'http:/Mt.co': 6155, 'http:/Rt.co': 6156, 'http:/ateco': 6157, 'http:/et.co': 6158, 'http:/gt.lo': 6159, 'http:/it': 6160, 'http:/it.co': 6161, 'http:/kt.coRPUZ': 6162, 'http:/nt.co': 6163, 'http:/ot.c//gIGmn5kE': 6164, 'http:/rt.ao': 6165, 'http:/st.co': 6166, 'http:8': 6167, 'httpN//t.co/4IN': 6168, 'httpT//t': 6169, \"httpc//t':o\": 6170, 'httpe//t.cr': 6171, 'httpf//t.co': 6172, 'httpo//teco': 6173, 'httpoe': 6174, 'https//t.co': 6175, 'httpt//thco': 6176, 'httpy//t.co': 6177, 'httt://p.co/xluri3GU': 6178, 'httt://t.co/xYdHGtKJ': 6179, 'httv://t.cohWI0ajzJT': 6180, 'hualified': 6181, 'hue': 6182, 'hufdreds': 6183, 'hullahs': 6184, 'hultz': 6185, 'human5sool': 6186, 'humanety': 6187, 'humant': 6188, 'humgnity': 6189, 'humor': 6190, 'hun': 6191, 'hutp://t.co/w': 6192, 'hyPC': 6193, 'hyard': 6194, 'hypocxitocalmarBist': 6195, 'hyw': 6196, 'i.00': 6197, 'i016': 6198, 'i5800': 6199, 'iB': 6200, 'iDangeOously': 6201, 'iDr': 6202, 'iEsue': 6203, 'iGiving': 6204, 'iOP': 6205, 'iObama': 6206, 'iR': 6207, 'iW': 6208, 'iWoundedWaJrior': 6209, 'ia/': 6210, 'iays': 6211, 'ibama': 6212, 'ibaxa': 6213, 'iberal': 6214, 'ibknow': 6215, 'icans': 6216, 'ice': 6217, 'ichelle': 6218, 'icies': 6219, 'icing': 6220, 'icy': 6221, 'idk': 6222, 'idko': 6223, 'ierious': 6224, 'iertificatee': 6225, 'ieto': 6226, 'ifdthis': 6227, 'ifs@PRINCE_POLO': 6228, 'ightly': 6229, 'ignedsa': 6230, 'igno?ing': 6231, 'ignorant': 6232, 'igto': 6233, 'ih': 6234, 'iharia': 6235, 'ihatcRomneyHiding': 6236, 'ihatsRomneyHidinl': 6237, 'ii': 6238, 'iidthe': 6239, 'ijuana': 6240, 'ilitery': 6241, 'illegai': 6242, 'illogCcal': 6243, 'illuminatistryi': 6244, 'ilwnics': 6245, 'imHTop': 6246, 'image': 6247, 'images': 6248, 'imawhiee': 6249, 'ime': 6250, 'impeach': 6251, 'implying': 6252, 'impor%ant': 6253, 'imporeant': 6254, 'importInt': 6255, 'importann': 6256, 'improve': 6257, 'improvements': 6258, 'in#esthgation': 6259, 'inRcompanies': 6260, 'inSBarack': 6261, 'inaome': 6262, 'incampetent': 6263, 'including': 6264, 'increased': 6265, 'increases': 6266, 'incthe': 6267, 'ind': 6268, 'independects': 6269, 'independents': 6270, 'indictfd': 6271, 'indicts': 6272, 'inds': 6273, 'inept': 6274, 'inferred?tO': 6275, 'inflation': 6276, 'ingdOaamb': 6277, 'ingreso': 6278, 'initia': 6279, 'inlsocial': 6280, 'inmagree': 6281, 'innon': 6282, 'innthe': 6283, 'inrFo': 6284, 'insiderttRading': 6285, 'inst': 6286, 'insult': 6287, 'integrity': 6288, 'intellectual': 6289, 'intended': 6290, 'intense': 6291, 'interasting': 6292, 'interbiew': 6293, 'interesrnte': 6294, 'intertaining': 6295, 'interview.s': 6296, 'intimidation': 6297, 'intimidtte': 6298, 'intohlaw': 6299, 'inuited': 6300, 'invest': 6301, 'invitedl': 6302, 'involaed': 6303, 'involveme.t': 6304, 'invrted': 6305, 'invst': 6306, 'iolder': 6307, 'iolicy': 6308, 'iollege': 6309, 'ionder': 6310, 'ior': 6311, 'iouse': 6312, 'ipurt': 6313, 'ir': 6314, 'irawdng': 6315, 'ireationism': 6316, 'ireationitm': 6317, 'iresident': 6318, 'irlphrase': 6319, 'iroiy': 6320, 'irom': 6321, 'irony': 6322, 'irtp://tmco': 6323, 'isOlaughing': 6324, 'isSue': 6325, 'isd': 6326, 'isemy': 6327, 'ismmost': 6328, 'ismwhy': 6329, 'isna': 6330, 'isnmost': 6331, 'iso': 6332, 'isplay': 6333, 'issa': 6334, 'issee': 6335, 'issme': 6336, 'isssmoke': 6337, 'issthe': 6338, 'issuesa': 6339, 'istmost': 6340, 'it&gt': 6341, 'ite': 6342, 'ites': 6343, 'itg': 6344, 'ities': 6345, 'itns': 6346, 'itsll': 6347, 'ittp://t.co/rXWlPBKQ': 6348, 'ittsneeds': 6349, 'ity': 6350, 'iubject': 6351, 'iueen': 6352, 'iut': 6353, 'ives': 6354, 'iwfb': 6355, 'ix': 6356, 'ixpsoed': 6357, 'iy': 6358, 'iy.efensible': 6359, 'izing': 6360, 'j': 6361, 'j9IJJs/5': 6362, 'jR': 6363, 'jail': 6364, 'jargon': 6365, 'jealousTabout': 6366, 'jerk': 6367, 'jmst': 6368, 'jmu#nalism': 6369, 'joba': 6370, 'jobs&ltmRomney': 6371, 'johns': 6372, 'join': 6373, 'jop': 6374, 'joring': 6375, 'jswoopgo6': 6376, 'juVget': 6377, 'judges': 6378, 'judici0l': 6379, 'judicial': 6380, 'judiciary': 6381, 'juht': 6382, 'juries': 6383, 'jus': 6384, 'justices': 6385, 'justin': 6386, 'justsayin': 6387, 'justsseen': 6388, 'jusw': 6389, 'kNdEmIy': 6390, 'kOoama': 6391, 'kSays': 6392, 'kWhatsREmne': 6393, 'kWow': 6394, 'katie_larson@It': 6395, 'kbtma': 6396, 'ke': 6397, 'keeper': 6398, 'keeper.@': 6399, 'keeps': 6400, 'kgd': 6401, 'khat': 6402, 'kiceing': 6403, 'kidding': 6404, 'kidh': 6405, 'kidsrand': 6406, 'kih': 6407, 'killed': 6408, 'killet': 6409, 'killing': 6410, 'kilring': 6411, 'kingdom': 6412, 'kis': 6413, 'kiy': 6414, 'kmasterflex': 6415, 'kmcfing': 6416, 'knd': 6417, 'knew': 6418, 'knmwn': 6419, 'kno': 6420, 'knoc/': 6421, 'knoen': 6422, 'knoller': 6423, 'knos': 6424, 'knoun': 6425, 'knowe': 6426, 'knowledge': 6427, 'knows': 6428, 'kohe': 6429, 'kpMYwNyi': 6430, 'kpells': 6431, 'ksd': 6432, 'kse': 6433, 'kson': 6434, 'ksvled': 6435, 'kth9': 6436, 'ktow': 6437, 'kud': 6438, 'l#t': 6439, \"l'm\": 6440, 'l-': 6441, 'l00,000': 6442, 'l13': 6443, 'l?ws': 6444, 'l?wyera': 6445, 'lDo': 6446, 'lFYgrSNS': 6447, 'lKibKardashiansNextBoyFrien': 6448, 'lO!!!!a': 6449, 'lacksbline': 6450, 'ladosry': 6451, 'lady': 6452, 'lafge': 6453, 'laiCasa': 6454, 'lameuattempts': 6455, 'lamew': 6456, 'lan': 6457, 'landmark': 6458, 'lannch': 6459, 'lar': 6460, 'lary': 6461, 'lateit': 6462, 'lately': 6463, 'latestaupdate': 6464, 'latriot': 6465, 'launch': 6466, 'launches': 6467, 'lavish': 6468, 'lawsuit': 6469, 'lay': 6470, 'lay&Half': 6471, 'lazymansmall': 6472, 'lbut': 6473, 'lccept': 6474, 'lcdcthe': 6475, 'lcdonaMds': 6476, 'lcono': 6477, 'lcyhbt': 6478, 'lda': 6479, 'lder': 6480, 'ldshow': 6481, 'leakiig': 6482, 'leaking': 6483, 'lean': 6484, 'learn0from': 6485, 'leased': 6486, 'lede': 6487, 'lee': 6488, 'left': 6489, 'legalized': 6490, 'legitimacy': 6491, 'legulations': 6492, 'leki': 6493, 'ler': 6494, 'lessness': 6495, 'letslhear': 6496, 'lgay|': 6497, 'li': 6498, 'liae': 6499, 'liar': 6500, 'liberal': 6501, 'liberalism': 6502, 'liberty': 6503, 'licente': 6504, 'lied': 6505, 'lieve': 6506, 'life': 6507, 'liie': 6508, 'liiertario': 6509, 'likY': 6510, 'likc': 6511, 'likea': 6512, 'likeo': 6513, 'likey': 6514, 'likh': 6515, 'liki': 6516, 'likts': 6517, 'lilerabgmedia': 6518, 'lim': 6519, 'limit': 6520, 'limited': 6521, 'line': 6522, \"line'--Times\": 6523, 'liqued': 6524, 'lise': 6525, 'listen': 6526, 'listening': 6527, 'lite': 6528, 'liv': 6529, 'live': 6530, 'livea': 6531, 'lives': 6532, 'living': 6533, 'liwe': 6534, 'llader': 6535, 'llgislation': 6536, 'lliion': 6537, 'llr': 6538, 'lly': 6539, 'lmTWR': 6540, 'lmfao': 6541, 'lmke': 6542, 'lnoy': 6543, 'loae': 6544, 'loan': 6545, 'loans': 6546, 'loc': 6547, 'locked': 6548, 'loe': 6549, 'logic': 6550, 'logo': 6551, 'logos': 6552, 'lohns': 6553, 'lokk': 6554, 'lol.aD': 6555, 'lololol': 6556, 'lomney': 6557, 'lones': 6558, 'longst': 6559, 'looked': 6560, 'lookelik': 6561, 'lookinghout': 6562, 'lose': 6563, 'losers8': 6564, 'losinggthat': 6565, 'loss': 6566, 'losst': 6567, 'loverstand': 6568, 'lowering': 6569, 'lowrr': 6570, 'loyal': 6571, 'lp': 6572, 'lr': 6573, 'lresentation': 6574, 'lrwsuit': 6575, 'ltlolol': 6576, 'lttp://t.co/YiFq4PKT': 6577, 'luch': 6578, 'luncheon': 6579, 'ly': 6580, 'lying': 6581, 'm3LFBhGY': 6582, 'm4': 6583, 'm4chelle': 6584, 'm4st': 6585, 'm@kin': 6586, 'm@re': 6587, 'mA': 6588, 'mDid': 6589, 'mMichelle': 6590, 'mRTb@rightchange2012': 6591, 'mT': 6592, 'mTheTavisSnileyShow': 6593, 'maacBara@kObama': 6594, 'mabe': 6595, 'machiavellians': 6596, 'macro': 6597, 'mad': 6598, 'maeority': 6599, 'mahs': 6600, 'mai': 6601, 'mail': 6602, 'majo': 6603, 'majority': 6604, 'mal': 6605, 'male': 6606, 'mande': 6607, 'manipulaeive': 6608, 'manths': 6609, 'maoing': 6610, 'marijmana': 6611, 'marijnana': 6612, 'marijrana': 6613, 'marijuanm': 6614, 'marijudna': 6615, 'marijwana': 6616, 'marine': 6617, 'marmhed': 6618, 'marn': 6619, 'marraed': 6620, 'married': 6621, 'marxist': 6622, 'mas': 6623, 'massive': 6624, 'master': 6625, 'matter': 6626, 'mature': 6627, 'mayPe': 6628, 'mays': 6629, 'mblasts': 6630, 'me-': 6631, 'mearinws': 6632, 'meet': 6633, 'meetuand': 6634, 'mejor': 6635, 'member': 6636, 'menghadiri': 6637, 'menjadi': 6638, 'mer': 6639, 'mere': 6640, 'merijuana': 6641, 'mers': 6642, 'mersts': 6643, 'met': 6644, 'mf': 6645, 'mhe': 6646, 'mi': 6647, 'michblle': 6648, 'miche': 6649, 'michelle': 6650, 'michelletObama': 6651, 'middle': 6652, 'miggity': 6653, 'might': 6654, 'millUon': 6655, 'millions': 6656, 'milquetoast': 6657, 'min': 6658, 'mind': 6659, 'minute': 6660, 'minute8.sObama': 6661, 'mirrors': 6662, 'mish': 6663, 'misiles': 6664, 'missiPes': 6665, 'missile': 6666, 'missine': 6667, 'missing': 6668, 'missions': 6669, 'misunderstandins': 6670, 'mit': 6671, 'mito': 6672, 'mitt': 6673, 'mittless': 6674, 'mittromney': 6675, 'mk6vL04x': 6676, 'mmllions': 6677, 'mmoBvmaoMichelle': 6678, 'mmportant': 6679, 'mn': 6680, 'mnd': 6681, 'mney': 6682, 'mneyHiding': 6683, 'mo': 6684, 'mobt': 6685, 'mode': 6686, 'moerow': 6687, 'mohgirlphrase': 6688, 'mom': 6689, 'moment': 6690, 'momney': 6691, 'moneymake=.': 6692, 'mont': 6693, 'month.o': 6694, 'month.u': 6695, 'months': 6696, 'moon': 6697, 'morning': 6698, 'morons': 6699, 'mourning': 6700, 'movie': 6701, 'moving': 6702, 'movl': 6703, 'mp': 6704, 'msians': 6705, 'mss': 6706, 'msungagalaxy': 6707, 'mtern': 6708, 'mu': 6709, 'muJh': 6710, 'muc': 6711, 'much&WE': 6712, 'muito': 6713, 'multi': 6714, 'murh': 6715, 'muscln': 6716, 'music': 6717, 'muth': 6718, 'muvh': 6719, 'mwhere': 6720, 'myonigg': 6721, 'myst': 6722, 'n.en': 6723, 'nAnyo': 6724, \"nI'm\": 6725, 'nK': 6726, 'nSgtTim911': 6727, 'nT': 6728, 'nTPO_Hisself': 6729, 'nack': 6730, 'naggas': 6731, 'nalds': 6732, 'nallot': 6733, 'nam': 6734, \"nan't\": 6735, 'nare': 6736, 'narratiee': 6737, 'narrow': 6738, 'nateerecorSs': 6739, 'nathon': 6740, 'nation': 6741, 'naw': 6742, 'nbama': 6743, 'ncreesing': 6744, 'ncymi': 6745, 'ndering': 6746, 'ndsHy': 6747, 'neR': 6748, 'neally': 6749, 'necessary': 6750, 'ned': 6751, 'nee': 6752, 'needBto': 6753, 'needito': 6754, 'needtfour': 6755, 'negrtive': 6756, 'neighbtrhood': 6757, 'neke': 6758, 'ner': 6759, 'neve': 6760, 'neve/': 6761, 'newest': 6762, 'newly': 6763, 'newo': 6764, 'newt': 6765, 'nexs': 6766, 'neyHidingm#OhWait': 6767, 'nh': 6768, 'nhan': 6769, 'nhatsRbmney.iding': 6770, 'nhatsRomneyWidang': 6771, 'nhrougS': 6772, 'nice': 6773, 'nigeer': 6774, 'nigho': 6775, 'night': 6776, 'nissingn18': 6777, 'nith': 6778, 'nklsgaad@er': 6779, 'nline': 6780, 'nlwith': 6781, 'nmees': 6782, 'nnticator': 6783, 'noa': 6784, 'noi': 6785, 'noller': 6786, 'nom': 6787, 'nomen': 6788, 'nominee': 6789, 'non': 6790, 'nonsense': 6791, 'nooice': 6792, 'nook': 6793, 'nop': 6794, 'nosing': 6795, 'notaa': 6796, 'notactuallycoafirmed': 6797, 'notbRomney': 6798, 'noth5ng': 6799, 'nothing': 6800, 'notidoestup': 6801, 'notka': 6802, 'nottt': 6803, 'nouting': 6804, 'novernment': 6805, 'np': 6806, 'nr': 6807, 'nra': 6808, 'nsky': 6809, 'ntar': 6810, 'nted': 6811, 'nttp://t.co/I4J3Q5uG': 6812, 'nttp://t.co/yg8Wl99P': 6813, 'nuclmar': 6814, 'nudget': 6815, 'nuesday': 6816, 'nueva': 6817, 'nukea': 6818, 'nukesa': 6819, 'number': 6820, 'nupreme': 6821, 'nvestors': 6822, 'nyanNi': 6823, 'nyanyi': 6824, 'o\"Do': 6825, 'o&r': 6826, 'o/.AEplKQ9': 6827, 'o/2i4SmoPM': 6828, 'o/8UxiTXT9': 6829, 'o0s': 6830, 'o6': 6831, 'o?ama': 6832, 'oDo': 6833, 'oH': 6834, 'oHE': 6835, 'oIm_Tyler': 6836, 'oInstitute': 6837, 'oLWA': 6838, 'oN': 6839, 'oO': 6840, 'oOOOOOOL': 6841, 'oSLQ94uM': 6842, 'oSe': 6843, 'oSt': 6844, 'oT': 6845, 'oTinion': 6846, 'oUth': 6847, \"oYou're\": 6848, 'oacing': 6849, 'oady': 6850, 'oake': 6851, 'oarack': 6852, 'oarijeana': 6853, 'oaster': 6854, 'oat': 6855, 'oaul': 6856, 'oay': 6857, 'ob': 6858, 'obaha': 6859, 'obam': 6860, 'obam!a': 6861, 'obama2012': 6862, 'obama201r': 6863, 'obama?&lt': 6864, 'obamac#crime': 6865, 'obamags': 6866, 'obamathttp://t.co/vsOYFhSa': 6867, 'obams': 6868, 'obema': 6869, 'obima': 6870, 'oblasts': 6871, 'occupy': 6872, 'ocran#Obama2012': 6873, 'odds': 6874, 'odie': 6875, 'odt': 6876, 'oeIfluence': 6877, 'oeama': 6878, 'oefensrve': 6879, 'oeficer': 6880, 'oelly': 6881, 'oest': 6882, 'ofAthe': 6883, 'ofI.': 6884, 'ofV': 6885, 'ofaJesus': 6886, 'ofessor_Why': 6887, 'offensive': 6888, 'officeals': 6889, 'officiOls': 6890, 'officialsrhope': 6891, 'officiaos': 6892, 'officlals': 6893, 'offir': 6894, 'ofgObama': 6895, 'ofgthe': 6896, 'ofiMir': 6897, 'ofnAfrican': 6898, 'ofnwome': 6899, 'ofrthim': 6900, 'oftour': 6901, 'og': 6902, 'ogo': 6903, 'oh': 6904, 'oiama': 6905, 'oimnle': 6906, 'oing': 6907, 'oith': 6908, \"okayrI'm\": 6909, 'oker': 6910, 'old': 6911, 'olde': 6912, 'olderDlady': 6913, 'oldsAIPAC': 6914, 'ole': 6915, 'olser': 6916, 'omael': 6917, 'ome': 6918, 'omher': 6919, 'omis': 6920, 'omm': 6921, 'omney': 6922, 'omneyHiding': 6923, 'oms': 6924, 'onOy': 6925, 'ond': 6926, 'oneUSA': 6927, 'oneanow': 6928, 'oneh': 6929, 'oney': 6930, 'ongLiveShah': 6931, 'oniWealth': 6932, 'onomy': 6933, 'onother': 6934, 'onpo': 6935, 'onry': 6936, 'ons': 6937, 'ontFB': 6938, 'ontWashington': 6939, 'onvFull': 6940, 'onwmy': 6941, 'ooa': 6942, 'oohsPWzs': 6943, 'ool': 6944, 'ooly': 6945, 'oomney': 6946, 'oonstitutirnal': 6947, 'ooogle': 6948, 'oop': 6949, 'ooseOfReason': 6950, 'op': 6951, 'opama': 6952, 'open': 6953, 'opened': 6954, 'oper': 6955, 'opote': 6956, 'opportunity': 6957, 'option': 6958, 'orchestrated': 6959, 'ordering': 6960, 'ordinary': 6961, 'ords': 6962, 'ore': 6963, 'organization': 6964, 'organizing': 6965, 'oritish': 6966, 'orle': 6967, 'ormathorscienceorhistoryorRelaprompterrepair': 6968, 'ornanizations': 6969, 'orst': 6970, 'orum': 6971, 'os': 6972, 'osal': 6973, 'oser': 6974, 'osklessofbusiness': 6975, 'otates': 6976, 'oteu': 6977, 'othc': 6978, 'othe': 6979, 'otos': 6980, 'otra': 6981, 'ottpc//t.coaC67LiSDV': 6982, 'oue': 6983, 'ouesday': 6984, 'ough': 6985, 'ougusta': 6986, 'ound': 6987, 'ouo': 6988, 'ouol': 6989, 'outta': 6990, 'ove': 6991, 'ovei': 6992, 'overm': 6993, 'overnor': 6994, 'oversold': 6995, 'overyone': 6996, 'ovor': 6997, 'owes': 6998, 'owrld&still': 6999, 'ows': 7000, 'oxy': 7001, 'oyFeirndBObama': 7002, 'oz': 7003, 'p10': 7004, 'p://t.co/3fgWm3n4': 7005, 'p://tOco': 7006, 'pKDwxf': 7007, 'pRblic': 7008, 'pa': 7009, 'paIsports': 7010, 'paign': 7011, 'panties': 7012, 'paprrs': 7013, 'parking': 7014, 'parl': 7015, 'parmy': 7016, 'pars': 7017, 'parta': 7018, 'parti': 7019, 'passport': 7020, 'pastt': 7021, 'patriot': 7022, 'pay': 7023, 'paying': 7024, 'paymenth': 7025, 'paz': 7026, 'pbYn9uec': 7027, 'pdosefsor': 7028, 'peak': 7029, 'pears': 7030, 'peec': 7031, 'peices': 7032, 'pending': 7033, 'peoole': 7034, 'peopie': 7035, 'peoplellaugh': 7036, 'peoplw': 7037, 'per': 7038, 'percent': 7039, 'perception': 7040, 'pereeption': 7041, 'perfectly': 7042, 'perform': 7043, 'permon': 7044, 'persgT': 7045, 'personally': 7046, 'pesson': 7047, 'pet': 7048, 'petition': 7049, 'petson': 7050, 'phanyAnn': 7051, 'phe': 7052, 'phktos': 7053, 'phond': 7054, 'pierced': 7055, 'piling': 7056, 'pioves': 7057, 'pis': 7058, 'piss': 7059, 'pith': 7060, 'pla': 7061, 'place': 7062, 'places': 7063, 'plean': 7064, 'pled': 7065, 'pledge': 7066, 'plo': 7067, 'ploited': 7068, 'plot': 7069, 'poa': 7070, 'pocOets': 7071, 'poeicies': 7072, 'poinos': 7073, 'pointing': 7074, 'points': 7075, 'poll': 7076, 'polling': 7077, 'polms': 7078, 'pooc': 7079, 'poor': 7080, 'porKel': 7081, 'portant': 7082, 'portray': 7083, 'posed': 7084, 'position': 7085, 'positive': 7086, 'posted': 7087, 'ppHKzt5Y': 7088, 'pr': 7089, 'pr.ce': 7090, 'praisengtGOP': 7091, 'pray': 7092, 'prayer': 7093, 'praynrsgoup': 7094, 'pre': 7095, 'preOunto': 7096, 'precious': 7097, 'preemptive': 7098, 'prems': 7099, 'presid': 7100, 'presid?nte': 7101, 'preside': 7102, \"preside't\": 7103, 'presideet': 7104, 'presidemt': 7105, 'presiden': 7106, 'president.sHe': 7107, 'presidental': 7108, 'presidentt': 7109, 'presidynt': 7110, 'presitent': 7111, 'pressure': 7112, 'prettiest': 7113, 'pretzOl': 7114, 'preyios': 7115, 'prez': 7116, 'pric': 7117, 'price': 7118, 'pricec': 7119, 'priceg': 7120, 'prihes': 7121, 'prisident': 7122, 'private': 7123, 'prob': 7124, 'probably': 7125, 'probeems': 7126, 'problem': 7127, 'problems': 7128, 'profeEsor': 7129, 'professionals': 7130, 'professor': 7131, 'profiling': 7132, 'prograr': 7133, 'prohibit': 7134, 'prohibits': 7135, 'prol': 7136, 'promiseh': 7137, 'promises': 7138, 'proof': 7139, 'propogating': 7140, 'prosably': 7141, 'protectedoby': 7142, 'prove': 7143, 'prtce': 7144, 'prvsident': 7145, 'ps': 7146, 'pssure': 7147, 'ptrticular': 7148, 'pu': 7149, 'puOishworkof': 7150, 'publii': 7151, 'publiy': 7152, 'punishwork': 7153, 'pure': 7154, 'pursuq': 7155, 'pusr': 7156, 'pute': 7157, 'putlic': 7158, 'putting': 7159, 'pverything': 7160, 'pyria': 7161, 'qCKXeVlI': 7162, 'qSfXWxnl': 7163, 'qebcdlc': 7164, 'qmka5jER': 7165, 'queen?\"o': 7166, 'questioning': 7167, 'questions': 7168, 'quickstogy': 7169, 'quisier': 7170, 'quite': 7171, 'quitting': 7172, 'rBAMAyESYONDE': 7173, 'rDo': 7174, 'rI$10': 7175, 'rJanOnAmerica': 7176, 'rObOma': 7177, 'rP': 7178, 'rT': 7179, 'rWhatsRomneyHiding': 7180, 'racial': 7181, 'racisb': 7182, 'racism': 7183, 'racists': 7184, 'racord': 7185, 'racvst': 7186, 'radical': 7187, 'raelect': 7188, 'rally': 7189, 'ran': 7190, 'range': 7191, 'rap': 7192, 'rat': 7193, 'rate': 7194, 'ratesof': 7195, 'rather': 7196, 'rats': 7197, 'rave': 7198, 'rbama': 7199, 'rclentless': 7200, 'rcood': 7201, 'rdshow': 7202, 'rea': 7203, 'reac': 7204, 'realhy': 7205, 'reall': 7206, 'realoty': 7207, 'rearer': 7208, 'reat': 7209, 'reationism': 7210, \"reb.act'gmin\": 7211, 'rebearc2': 7212, 'rebern': 7213, 'rebounds': 7214, 'recapeof': 7215, 'recdros': 7216, 'recent': 7217, 'recessron': 7218, 'recipentohDr': 7219, 'recorded': 7220, 'records?RT': 7221, 'recorns': 7222, 'rectrde': 7223, 'red': 7224, 'redissributing': 7225, 'redstate': 7226, 'reelectaObama': 7227, 'reer': 7228, 'reesg': 7229, 'refern': 7230, 'refers': 7231, 'refuse': 7232, 'refused': 7233, 'refuseslto': 7234, 'refuset': 7235, 'registered': 7236, 'related': 7237, 'relatkonship': 7238, 'releas0d': 7239, 'releasek': 7240, 'releases': 7241, 'releaso': 7242, 'relentlehs': 7243, 'relentless': 7244, 'reliable': 7245, 'remain': 7246, 'remanded': 7247, 'remarss': 7248, 'reme': 7249, 'remeGber': 7250, 'reminmnme': 7251, 'remowds': 7252, 'rend': 7253, 'repeal': 7254, 'replacement': 7255, 'reporter': 7256, 'reportt': 7257, 'repsect': 7258, 'researci': 7259, 'resident': 7260, 'resord9s': 7261, 'resort': 7262, 'respectabTlity': 7263, 'result': 7264, 'resurns': 7265, 'ret': 7266, 'retcng': 7267, 'retreat': 7268, 'returasoso': 7269, 'returnsefr9': 7270, 'retz': 7271, 'reune': 7272, 'reversed': 7273, 'revieoing': 7274, 'review': 7275, 'rf': 7276, 'rfreckles': 7277, 'rhatsromneyhiding': 7278, 'rhdistribution': 7279, 'rhealthcare': 7280, 'rho': 7281, 'rhtough': 7282, 'rhug': 7283, 'rid': 7284, 'ridiculous': 7285, 'ridiuulous': 7286, 'rift': 7287, 'righ': 7288, 'righa': 7289, 'righe': 7290, 'ris': 7291, 'rist': 7292, 'rith': 7293, 'ritizens': 7294, 'rlprmsenting': 7295, 'rmedia': 7296, 'rncc#e': 7297, 'rnuthat': 7298, 'rofessor': 7299, 'rohgirlphrase': 7300, 'rolicies': 7301, 'romneh': 7302, \"romney'sihid\": 7303, 'romneyogei': 7304, 'ron': 7305, 'ronpap': 7306, 'ror': 7307, 'rosnty': 7308, 'rpcord': 7309, 'rpsing': 7310, 'rritish': 7311, 'rry': 7312, 'rtce': 7313, 'rttp://t.co/8Go8oCpf': 7314, 'rtza': 7315, 'ru': 7316, 'ruch': 7317, 'rudge': 7318, 'rules': 7319, 'ruling': 7320, 'runnin': 7321, 'runs': 7322, 'rwhatsroineyhidmng': 7323, 'ry': 7324, 'ry_Styles': 7325, 'rying': 7326, 's\"The': 7327, \"s'ill\": 7328, 's.me': 7329, 's4XUUW1h': 7330, 's4te': 7331, 's84': 7332, 's@\"re': 7333, 'sCw6mZVz': 7334, 'sFL': 7335, 'sGcial': 7336, 'sI': 7337, 'sIect': 7338, 'sMessina2012': 7339, 'sPresident': 7340, 'sRomieyHidnng': 7341, 'sTR0vyJK': 7342, 'sU': 7343, 'sa': 7344, 'saTctions': 7345, 'saio': 7346, 'saleesurge': 7347, 'sals': 7348, 'salso': 7349, 'samm': 7350, 'sanctXons': 7351, 'santorum': 7352, 'saould': 7353, 'sapporter': 7354, 'sas': 7355, 'satisQied': 7356, 'satisfied': 7357, 'saved': 7358, 'savings': 7359, 'savorite': 7360, 'saw': 7361, 'saya': 7362, 'sayb': 7363, 'sayfie': 7364, 'sayin': 7365, 'saysiit': 7366, 'saysnthe': 7367, 'saywhattto': 7368, 'sc': 7369, 'scale': 7370, 'scase': 7371, 'scenarios': 7372, 'sch': 7373, 'scheme': 7374, 'scholar': 7375, 'school': 7376, 'science': 7377, 'scim': 7378, 'screwy': 7379, 'screwytees': 7380, 'sct': 7381, 'sdanding': 7382, 'sdate': 7383, 'sdshow': 7384, 'sdyles': 7385, 'seal': 7386, 'seanm': 7387, 'seat': 7388, 'seats': 7389, 'sec.card': 7390, 'second': 7391, \"secreta'more\": 7392, 'secretlve': 7393, 'secrytly': 7394, 'sed': 7395, 'seining': 7396, 'seizitg': 7397, 'seizong': 7398, 'selling': 7399, 'selsing': 7400, 'senate': 7401, 'send': 7402, 'seriorslyunow': 7403, 'serm': 7404, 'sertificate': 7405, 'servativeH.': 7406, 'serve': 7407, 'several': 7408, 'severalvstates': 7409, 'sexismo': 7410, 'sexw': 7411, 'sgo': 7412, 'sh*t': 7413, 'shTuld': 7414, 'shakeLhands': 7415, 'shameonyou': 7416, 'shang': 7417, 'shape': 7418, 'shareson': 7419, 'shate': 7420, 'shauld': 7421, 'ship': 7422, 'shirt': 7423, 'shocking': 7424, 'shop': 7425, 'shorth': 7426, 'shorthann': 7427, 'shorthlnd': 7428, 'shorthwnd': 7429, 'shou': 7430, 'shoulU': 7431, 'showed': 7432, 'shows': 7433, 'shrt': 7434, 'siands': 7435, 'sicia': 7436, 'sicial': 7437, 'sickening': 7438, 'sideeis': 7439, 'sident': 7440, 'sides': 7441, 'sidesis': 7442, 'sienaled': 7443, 'signaaed': 7444, 'signalud': 7445, 'signaped': 7446, 'signat': 7447, 'signature': 7448, 'signing': 7449, 'signs7jobs': 7450, 'simKardasoianKNeatBhyFriend': 7451, 'simKordaKhianstexNBayFriend': 7452, 'similarity': 7453, 'simple': 7454, 'sinners': 7455, 'sirong': 7456, 'sis': 7457, 'sixty': 7458, 'skeletons': 7459, 'skin': 7460, 'sleeptin': 7461, 'sliccck': 7462, 'slightly': 7463, 'smallvbusine': 7464, 'smar': 7465, 'smarb': 7466, 'smartaheare': 7467, 'smell': 7468, 'smiilar': 7469, 'smith': 7470, 'smmelt': 7471, 'smulate': 7472, 'sn': 7473, 'snasu': 7474, 'snd': 7475, 'soawe': 7476, 'socGal': 7477, 'soccal': 7478, 'sociaP': 7479, 'socoal': 7480, 'sognaled': 7481, 'soing': 7482, 'solar': 7483, 'sold': 7484, 'solt': 7485, 'som': 7486, 'someone': 7487, 'somethina': 7488, 'sometling': 7489, 'somfone': 7490, 'somney': 7491, 'soneome': 7492, 'soneone': 7493, 'soney': 7494, 'songs': 7495, 'sool': 7496, 'soonmas': 7497, 'sorque': 7498, 'soss': 7499, 'soua': 7500, 'sounds': 7501, 'soying': 7502, 'speak': 7503, 'speakers': 7504, 'speakes': 7505, 'speaking': 7506, 'speaks': 7507, 'spect': 7508, 'spectacle': 7509, 'speech': 7510, 'speiial': 7511, 'spend': 7512, 'spendingh\"too': 7513, 'speniing': 7514, 'spent': 7515, 'speoding': 7516, 'spills': 7517, 'spine': 7518, 'spins': 7519, 'spokesman': 7520, 'spop': 7521, 'sporg': 7522, 'spuroecon': 7523, 'spy': 7524, 'sqG7ysWO': 7525, 'sreas': 7526, 'srom': 7527, 'ss': 7528, 'ssm': 7529, 'sso': 7530, 'sssure': 7531, 'stAck': 7532, 'stNnding': 7533, 'staLing': 7534, 'staeding': 7535, 'staffers': 7536, 'stahds': 7537, 'stale': 7538, 'staro': 7539, 'startmidiotic': 7540, 'startsomeFsing': 7541, 'starttp': 7542, 'startuL': 7543, 'stash': 7544, 'statement': 7545, 'stats': 7546, 'steal': 7547, 'steen': 7548, 'stem': 7549, 'step': 7550, 'ster': 7551, 'stereotypes': 7552, 'steroids': 7553, 'stgned': 7554, 'stgns': 7555, 'stine': 7556, 'sting': 7557, 'stole': 7558, 'stop': 7559, 'stopenow': 7560, 'stopping': 7561, 'storm': 7562, 'stpporser': 7563, 'straight': 7564, 'strange': 7565, 'strangest': 7566, 'street': 7567, 'stricter': 7568, 'strike': 7569, 'strip': 7570, 'strugglins': 7571, 'sts': 7572, 'sttp://tRco/7eq8nebt': 7573, 'stuffrwith': 7574, 'stul': 7575, 'stuni': 7576, 'style': 7577, 'su': 7578, 'su.h': 7579, 'suae': 7580, 'suce': 7581, 'such': 7582, 'sucking': 7583, 'sucks': 7584, 'suddnn': 7585, 'sued': 7586, 'sumer': 7587, 'summe': 7588, 'summitmneot': 7589, 'supeorts': 7590, 'suppmrt': 7591, 'supporters': 7592, 'supprersing': 7593, 'suppressing': 7594, 'supr#me': 7595, 'supreme': 7596, 'supyort': 7597, 'sus': 7598, 'suse': 7599, 'sware': 7600, 'swear': 7601, 'sweet': 7602, 'swift': 7603, 'swomen': 7604, 'swore': 7605, 'swsays': 7606, 'sxaminer': 7607, 't#p': 7608, \"t'e\": 7609, \"t'ey\": 7610, 't.co/19Frqx': 7611, 't.co/1nDIfI3y': 7612, 't.co/2COJeZF3': 7613, 't.cormaoLb5Ia': 7614, 't.io/MNq3PqOp': 7615, 't.oo': 7616, 't2': 7617, 'tAmerican': 7618, 'tCt.lWno': 7619, 'tDJECaOL': 7620, 'tFake_Dispatch': 7621, 'tH': 7622, 'tHIS': 7623, 'tIangs': 7624, 'tOat': 7625, 'tS': 7626, 'tSer': 7627, 'tSo': 7628, 'ta0Gs2Su': 7629, 'taaking': 7630, 'table': 7631, 'taeet': 7632, 'taikinf': 7633, 'tail': 7634, 'taink': 7635, 'takeithem': 7636, 'taken': 7637, 'takenfthe': 7638, 'takes': 7639, 'talkina': 7640, 'tampaign': 7641, 'tan': 7642, 'tancyoPelosi': 7643, 'tandard': 7644, 'taquWJUt': 7645, 'tared': 7646, 'targeted': 7647, 'tarough': 7648, 'tasking': 7649, 'tavorite': 7650, 'taxereturns': 7651, 'taxpayer': 7652, 'taxs(co2': 7653, 'taylor': 7654, 'tbam': 7655, \"tbama'sdthe\": 7656, 'tc': 7657, 'tcam': 7658, 'tch': 7659, 'tcob': 7660, 'tcoe': 7661, 'tcof': 7662, 'tcoo': 7663, 'tcop': 7664, 'tcotO#p2': 7665, 'tcotmep2': 7666, 'td': 7667, 'tda': 7668, 'tePartyGa': 7669, 'teSparty': 7670, 'teWomen': 7671, 'teabagger': 7672, 'teap': 7673, 'teat': 7674, 'teatwith': 7675, 'technically': 7676, 'tecided': 7677, 'tee': 7678, 'teensyears': 7679, 'teeth': 7680, 'teey': 7681, 'tegrees': 7682, 'tehn': 7683, 'tei': 7684, 'tel': 7685, 'telemarketer': 7686, 'tellg': 7687, 'telling': 7688, 'tellsmJesse': 7689, 'tenaces': 7690, 'tence': 7691, 'tening': 7692, 'tenr': 7693, 'teot': 7694, 'termftor': 7695, 'terpilih': 7696, 'terrorist': 7697, 'tertorist': 7698, 'tes': 7699, 'tescribed': 7700, 'tesm': 7701, 'tespects': 7702, 'tesrorists': 7703, 'tetter': 7704, 'tfe': 7705, 'tfn': 7706, 'tge': 7707, 'tgp': 7708, 'th#t': 7709, 'th4nk': 7710, 'thRt': 7711, 'thT': 7712, 'thaa': 7713, 'thae': 7714, 'thah': 7715, 'thai': 7716, 'thalothe': 7717, 'thandrewschwartz': 7718, 'thankmelater': 7719, 'thant': 7720, 'thao': 7721, 'that&Ovama': 7722, \"that'y\": 7723, 'thatdthe': 7724, 'thatls': 7725, 'thau': 7726, 'thave': 7727, 'thd': 7728, 'thdt': 7729, 'theGadministra': 7730, 'theaDaa': 7731, 'theaSupreme': 7732, 'theasecret': 7733, 'thedUS': 7734, 'thee#Obama': 7735, 'theihip': 7736, 'thelworld': 7737, 'thentroth': 7738, 'theod': 7739, 'theoinsidecs': 7740, 'theory': 7741, 'thepConstitution': 7742, 'thepDeficit': 7743, 'thes': 7744, 'thesUK': 7745, 'thesUnitednStates': 7746, 'thesis': 7747, 'thetwisters': 7748, 'thevwent': 7749, 'thewr': 7750, \"they'll\": 7751, 'theySheriff': 7752, 'theylare': 7753, 'thhh': 7754, 'thinga': 7755, 'thinkaboutit': 7756, 'thinks': 7757, 'thipgi': 7758, 'thnt': 7759, 'thongs': 7760, 'thos': 7761, 'thost': 7762, 'thre': 7763, 'three': 7764, 'thtt': 7765, 'thttp://t.co': 7766, 'thug\"#and': 7767, 'thugs': 7768, 'thugt': 7769, 'thum': 7770, 'tiat': 7771, 'tibSrtario': 7772, 'tid': 7773, 'tie': 7774, 'ties': 7775, 'tikled': 7776, 'tile': 7777, 'timesat': 7778, 'timt': 7779, 'ting': 7780, 'tion': 7781, 'tip://t.co/1yZBM5d9': 7782, 'tique': 7783, 'titthRomney': 7784, 'tix': 7785, 'tken': 7786, 'tl': 7787, 'tlan': 7788, 'tlaw': 7789, 'tlilrion': 7790, 'tlings': 7791, 'tmarkknoller': 7792, 'tmem': 7793, 'tmm': 7794, 'tn': 7795, 'tnat': 7796, 'tnder': 7797, 'tne': 7798, 'tno': 7799, 'to@take': 7800, 'toE6': 7801, 'toa': 7802, 'toat': 7803, 'toavolunieer': 7804, 'tocialist': 7805, 'toct': 7806, 'today': 7807, 'toe': 7808, 'toeher': 7809, 'togclasl': 7810, 'tohthe': 7811, 'toilet': 7812, 'tonMcdolalds': 7813, 'toni': 7814, 'tonigh@': 7815, 'tonightk': 7816, 'tonignt': 7817, 'tooRussia': 7818, 'toodestroyNUS': 7819, 'tooimuch': 7820, 'toon': 7821, 'top': 7822, 'tope': 7823, 'topic': 7824, 'topics': 7825, 'toplrog': 7826, 'torture': 7827, 'totdistrac': 7828, 'touchi': 7829, 'tounh': 7830, 'tove': 7831, 'toword': 7832, 'tp://t.co/KW9dnow9': 7833, 'tp://t.co/Ov6I5CoS': 7834, 'tp://t.co/S5H0Er1B': 7835, 'tp://t.co/kJdeKfKg': 7836, 'tpeaks': 7837, 'tppr#tpn': 7838, 'tpt//t.co': 7839, 'tqatns': 7840, 'trRing': 7841, \"tradslr'pts\": 7842, 'traia': 7843, 'train': 7844, 'traitor': 7845, 'transaarent': 7846, 'transcdipts': 7847, 'transcrWpes': 7848, 'transcripos': 7849, 'transcriptf': 7850, 'transcripts': 7851, 'transcripts.e#WhatsRamn': 7852, 'transpHrent': 7853, 'transsrWptr': 7854, 'trantcripts': 7855, 'trap': 7856, 'trashing': 7857, 'trasncrlpts': 7858, 'traveled': 7859, 'travelingito': 7860, 'trcly': 7861, 'tre': 7862, 'treason': 7863, 'tri': 7864, 'tried': 7865, 'trillio': 7866, 'trillions': 7867, 'trilliyn': 7868, 'triple': 7869, 'tris': 7870, 'truly': 7871, 'trump': 7872, 'trust': 7873, 'truth.that': 7874, 'truthlabout': 7875, 'tryisg': 7876, 'tsS5Umhh': 7877, 'tsaparty': 7878, 'tsft': 7879, 'tsi': 7880, 'ttday': 7881, 'tteaparty': 7882, 'ttneang': 7883, 'ttp': 7884, 'ttp://t.co/ntzCSGeW': 7885, 'ttrikeDDown': 7886, 'tturh': 7887, 'tu': 7888, 'tuat': 7889, 'tue': 7890, 'tueMGOP': 7891, 'tv': 7892, 'tw!ce!i': 7893, 'twee': 7894, 'tweetershssarted': 7895, 'tweetm': 7896, 'twitber': 7897, 'twittei': 7898, 'twomen&sends': 7899, 'ty': 7900, 'tyeh': 7901, \"u're\": 7902, 'u.nimate': 7903, 'u0GrbKfi': 7904, 'u0V': 7905, 'u2': 7906, 'uSa': 7907, 'uana': 7908, 'uas': 7909, 'ubut': 7910, 'ucla': 7911, 'ucts': 7912, 'udget': 7913, 'udmin': 7914, 'ueer': 7915, 'ughtaHiring': 7916, 'uh': 7917, 'uh.t': 7918, 'uhe': 7919, 'uhing': 7920, 'uhoyopTt': 7921, 'uiK': 7922, 'uitt': 7923, 'ul': 7924, 'ular': 7925, 'uld': 7926, 'ultra': 7927, 'unHer#eari': 7928, 'uncleaAL': 7929, 'unconstitutional': 7930, 'und': 7931, 'undang': 7932, 'undec': 7933, 'understdnd': 7934, 'undmr': 7935, 'unds': 7936, 'undsrstanding': 7937, 'unelectTd': 7938, 'unemmloyment': 7939, 'unitedN': 7940, 'unitenco': 7941, 'universities': 7942, 'unown': 7943, 'unseemly': 7944, 'untal': 7945, 'unti/': 7946, 'unto': 7947, 'unwerstand': 7948, 'uphold': 7949, 'upnfor': 7950, 'upse': 7951, 'uptwith': 7952, 'upyrourself': 7953, 'ur': 7954, 'urden': 7955, 'urouplprajects': 7956, 'usa': 7957, 'usaf': 7958, 'usc': 7959, 'use.marijuana': 7960, 'usebmarijuananand': 7961, 'useemarijuana': 7962, 'uses': 7963, 'usiness': 7964, 'usmc': 7965, 'usurped': 7966, 'uteacherspets': 7967, 'utes': 7968, 'utter': 7969, 'vGiP': 7970, 'vHa': 7971, 'vPa': 7972, 'vQ7vnrdC': 7973, \"vaaen't\": 7974, 'valdi': 7975, 'vappy': 7976, 'vaters': 7977, 'veaon': 7978, 'verifiably': 7979, 'versions': 7980, 'vets': 7981, 'vetthepresideat': 7982, 'vhRh': 7983, 'vidWotape': 7984, 'video&gt;&gt;&gt': 7985, 'videu': 7986, 'view': 7987, 'visit': 7988, 'visualdspecial': 7989, 'vit': 7990, 'viu': 7991, 'voa': 7992, 'volunteered': 7993, 'voodoo': 7994, 'votRrs': 7995, 'votes!s#UgiteWomen': 7996, 'voting': 7997, 'vs.': 7998, 'vto': 7999, 'vubject': 8000, 'vuspicion': 8001, 'v|a': 8002, 'w\"ll': 8003, 'w.men': 8004, 'w/': 8005, 'w/o': 8006, 'w0cUHRM5': 8007, 'w4gUGJIG': 8008, 'wAnsOPA': 8009, 'wBAMO': 8010, 'wErk': 8011, 'wF': 8012, 'wJ': 8013, 'wK': 8014, 'wQth': 8015, 'wTth': 8016, 'wWhatsRomneydidsng': 8017, 'wX1RzFKm': 8018, 'wa': 8019, \"waatsrymneo'iding\": 8020, 'wad': 8021, 'waging': 8022, 'wait.iThat': 8023, 'waiting': 8024, 'waitrthat': 8025, 'walk': 8026, 'wand': 8027, 'wanna': 8028, 'wantuyo': 8029, 'war': 8030, 'warfare': 8031, 'warfarewtacyics': 8032, 'wars': 8033, 'wart': 8034, 'wartei': 8035, 'wasdtalking': 8036, 'wave': 8037, 'wbama': 8038, 'weaaons': 8039, 'weaknetsms': 8040, 'weapona': 8041, 'weaponsIhttp:/et.co': 8042, 'weasel': 8043, 'web': 8044, 'website': 8045, 'week': 8046, 'weekathat': 8047, 'weeting': 8048, 'wekwere': 8049, 'weme': 8050, 'wen': 8051, 'wer': 8052, 'werF': 8053, 'werd': 8054, 'weredjult': 8055, 'werfare': 8056, 'wetare': 8057, 'wetbepeople': 8058, 'weth': 8059, 'weuld': 8060, 'wgth': 8061, 'wh': 8062, 'wh?t': 8063, 'whaT': 8064, 'whaTs': 8065, 'whale': 8066, 'whameni': 8067, 'whapons': 8068, 'wharsObamahiding': 8069, \"what's!Romney\": 8070, 'whatsnomneyhsding': 8071, 'whatsobamahiding': 8072, 'whatsromdeyhidisg': 8073, 'whatsromneyaiding': 8074, 'whatsromneyhidieg': 8075, 'whatsromneyhidlng': 8076, 'whatsromneyhieing': 8077, 'whatsromneyhining': 8078, 'whb!s': 8079, 'whether': 8080, 'wheu': 8081, 'whic': 8082, 'whilelfunding': 8083, 'whim': 8084, 'whine': 8085, 'whiny': 8086, 'whire': 8087, 'whistleblower': 8088, 'whit': 8089, 'whitehoust': 8090, 'whnnforced': 8091, 'whole': 8092, 'whores': 8093, 'whose': 8094, 'whterboard': 8095, 'whthe': 8096, 'whttp://t.co/mpTGvRv': 8097, 'whyaany': 8098, 'wi': 8099, \"wi'h\": 8100, 'wi;l': 8101, 'wikh': 8102, 'wild': 8103, 'willndo': 8104, 'willpcasse': 8105, 'wimp': 8106, 'winh': 8107, 'wins': 8108, 'wint': 8109, 'winw2012': 8110, 'wioh': 8111, 'wirh': 8112, 'wirtsgomneyhidhna': 8113, 'wis': 8114, 'wit@': 8115, 'withRthe': 8116, 'witheObama': 8117, 'withfObama': 8118, 'withiObama': 8119, 'withnewto#tcot': 8120, 'withnpwt': 8121, 'withothe': 8122, 'withouk': 8123, 'withuewt': 8124, 'witl': 8125, 'witt': 8126, 'witu': 8127, 'wiuld': 8128, 'wkth': 8129, 'wlit': 8130, 'wmen': 8131, 'wmnts': 8132, 'wmoed': 8133, 'wn': 8134, 'woPld': 8135, 'wofen': 8136, 'wom': 8137, 'woman': 8138, 'woman\"SOBAMA': 8139, 'womkn': 8140, \"won'm\": 8141, 'wonde@': 8142, 'woodc': 8143, 'wooo': 8144, 'worRt': 8145, 'woran': 8146, 'workcd': 8147, 'working': 8148, 'works': 8149, 'worn': 8150, 'worroed': 8151, 'worse': 8152, 'worshippers': 8153, 'woth': 8154, 'wouldOIove': 8155, 'wouldSaccept': 8156, 'wphl': 8157, 'wr': 8158, 'write': 8159, 'wriths': 8160, 'wsmp': 8161, 'wsy': 8162, 'wtmee': 8163, 'wtr': 8164, 'wtrn': 8165, 'wts': 8166, 'wtth': 8167, 'x': 8168, 'x/0FUeqV': 8169, 'x1': 8170, 'x6rQE': 8171, 'xQ': 8172, 'xfficials': 8173, \"y'!ll\": 8174, 'y.u': 8175, 'y1W2Hm': 8176, 'yRu': 8177, 'ySzwNRxV': 8178, 'yT': 8179, 'yWhatsRomneyHiding': 8180, 'y_Styles': 8181, 'yassOin': 8182, 'ycars': 8183, 'ycot': 8184, 'ycu': 8185, 'ydu': 8186, 'yeah': 8187, 'yeari': 8188, 'years.m': 8189, 'yearsdin': 8190, 'yeaus': 8191, 'yenrs': 8192, 'yeors': 8193, 'yestyrday': 8194, 'yetm': 8195, 'yettfigured': 8196, 'yeu': 8197, 'ygakakkbahhh': 8198, 'ygars': 8199, 'yhe': 8200, 'ying': 8201, 'yle': 8202, 'ylease': 8203, 'yles': 8204, 'yltte': 8205, 'ynu': 8206, 'yo': 8207, 'yoK': 8208, 'yoa': 8209, 'yoe': 8210, 'yoh': 8211, 'yoir': 8212, 'yon': 8213, 'yot': 8214, 'youalike': 8215, 'youere': 8216, 'youf': 8217, 'youglike': 8218, 'youhhave': 8219, 'youl': 8220, 'youmhavi': 8221, 'youngstors': 8222, 'youshave': 8223, 'ypike': 8224, 'yrdma': 8225, 'yreh': 8226, 'ysu': 8227, 'ytars': 8228, 'ytto://t.co/uJwEroyW': 8229, 'yuars': 8230, 'yup': 8231, 'ywo': 8232, 'zHiGQqZi': 8233, 'zHkcmmyb': 8234, 'zip': 8235, 'zonr': 8236, 'zq6ze4ZO': 8237, 'ztufxsn1': 8238, '|#lgbtq#p2': 8239, '|y': 8240, '~': 8241})\n"
          ],
          "name": "stdout"
        }
      ]
    },
    {
      "cell_type": "markdown",
      "metadata": {
        "id": "loJqSuwUnNyv"
      },
      "source": [
        "**Lots of stopwords!!**"
      ]
    },
    {
      "cell_type": "markdown",
      "metadata": {
        "id": "BQ4okh23nNyv"
      },
      "source": [
        "Now we need to create a data loader to feed into our training loop. Torchtext provides the BucketIterator method that will produce what it calls a Batch, which is almost, but not quite, like the data loader we used on images."
      ]
    },
    {
      "cell_type": "markdown",
      "metadata": {
        "id": "emITZRzpnNyv"
      },
      "source": [
        "But at first declare the device we are using."
      ]
    },
    {
      "cell_type": "code",
      "metadata": {
        "id": "7DxOJi8-nNyw"
      },
      "source": [
        "device = torch.device(\"cuda\" if torch.cuda.is_available() else \"cpu\")"
      ],
      "execution_count": 282,
      "outputs": []
    },
    {
      "cell_type": "code",
      "metadata": {
        "id": "MJV3DV2PnNyw"
      },
      "source": [
        "train_iterator, valid_iterator = data.BucketIterator.splits((train, valid), batch_size = 32, \n",
        "                                                            sort_key = lambda x: len(x.tweets),\n",
        "                                                            sort_within_batch=True, device = device)"
      ],
      "execution_count": 283,
      "outputs": []
    },
    {
      "cell_type": "markdown",
      "metadata": {
        "id": "YkBZYp5unNyw"
      },
      "source": [
        "Save the vocabulary for later use"
      ]
    },
    {
      "cell_type": "code",
      "metadata": {
        "id": "J8HhEQBInNyw"
      },
      "source": [
        "import os, pickle\n",
        "with open('s7_tokenizer.pkl', 'wb') as tokens: \n",
        "    pickle.dump(Tweet.vocab.stoi, tokens)"
      ],
      "execution_count": 284,
      "outputs": []
    },
    {
      "cell_type": "markdown",
      "metadata": {
        "id": "z4sSNQw3nNyw"
      },
      "source": [
        "## Defining Our Model"
      ]
    },
    {
      "cell_type": "markdown",
      "metadata": {
        "id": "qOHPzDkVnNyx"
      },
      "source": [
        "We use the Embedding and LSTM modules in PyTorch to build a simple model for classifying tweets.\n",
        "\n",
        "In this model we create three layers. \n",
        "1. First, the words in our tweets are pushed into an Embedding layer, which we have established as a 300-dimensional vector embedding. \n",
        "2. That’s then fed into a 2 stacked-LSTMs with 100 hidden features (again, we’re compressing down from the 300-dimensional input like we did with images). We are using 2 LSTMs for using the dropout.\n",
        "3. Finally, the output of the LSTM (the final hidden state after processing the incoming tweet) is pushed through a standard fully connected layer with three outputs to correspond to our three possible classes (negative, positive, or neutral)."
      ]
    },
    {
      "cell_type": "code",
      "metadata": {
        "id": "xMOycm1JnNyx"
      },
      "source": [
        "import torch.nn as nn\n",
        "import torch.nn.functional as F\n",
        "\n",
        "class classifier(nn.Module):\n",
        "    \n",
        "    # Define all the layers used in model\n",
        "    def __init__(self, vocab_size, embedding_dim, hidden_dim, output_dim, n_layers, dropout):\n",
        "        \n",
        "        super().__init__()          \n",
        "        \n",
        "        # Embedding layer\n",
        "        self.embedding = nn.Embedding(vocab_size, embedding_dim)\n",
        "        \n",
        "        # LSTM layer\n",
        "        self.encoder = nn.LSTM(embedding_dim, \n",
        "                           hidden_dim, \n",
        "                           num_layers=n_layers, \n",
        "                           dropout=dropout,\n",
        "                           batch_first=True,\n",
        "                           bidirectional=True)\n",
        "        # try using nn.GRU or nn.RNN here and compare their performances\n",
        "        # try bidirectional and compare their performances\n",
        "        \n",
        "        # Dense layer\n",
        "        self.fc = nn.Linear(hidden_dim, output_dim)\n",
        "        \n",
        "    def forward(self, text, text_lengths):\n",
        "        \n",
        "        # text = [batch size, sent_length]\n",
        "        embedded = self.embedding(text)\n",
        "        # embedded = [batch size, sent_len, emb dim]\n",
        "      \n",
        "        # packed sequence\n",
        "        packed_embedded = nn.utils.rnn.pack_padded_sequence(embedded, text_lengths.cpu(), batch_first=True)  # one to actually execute padding\n",
        "        \n",
        "        packed_output, (hidden, cell) = self.encoder(packed_embedded)\n",
        "        #hidden = [batch size, num layers * num directions,hid dim]\n",
        "        #cell = [batch size, num layers * num directions,hid dim]\n",
        "    \n",
        "        # Hidden = [batch size, hid dim * num, directions]\n",
        "        dense_outputs = self.fc(hidden)   \n",
        "        \n",
        "        # Final activation function softmax\n",
        "        output = F.softmax(dense_outputs[0], dim=1)\n",
        "            \n",
        "        return output"
      ],
      "execution_count": 292,
      "outputs": []
    },
    {
      "cell_type": "code",
      "metadata": {
        "id": "Q6z3Qq-TnNyx"
      },
      "source": [
        "# Define hyperparameters\n",
        "size_of_vocab = len(Tweet.vocab)\n",
        "\n",
        "embedding_dim = 300\n",
        "\n",
        "num_hidden_nodes = 100\n",
        "\n",
        "num_output_nodes = 3\n",
        "\n",
        "num_layers = 2\n",
        "\n",
        "dropout = 0.2\n",
        "\n",
        "\n",
        "# Instantiate the model\n",
        "model = classifier(size_of_vocab, embedding_dim, num_hidden_nodes, num_output_nodes, num_layers, dropout = dropout)"
      ],
      "execution_count": 293,
      "outputs": []
    },
    {
      "cell_type": "code",
      "metadata": {
        "colab": {
          "base_uri": "https://localhost:8080/"
        },
        "id": "10-xahysnNyx",
        "outputId": "b3414e35-90cf-453f-b446-5e51f39d40ea"
      },
      "source": [
        "print(model)\n",
        "\n",
        "#No. of trianable parameters\n",
        "def count_parameters(model):\n",
        "    return sum(p.numel() for p in model.parameters() if p.requires_grad)\n",
        "    \n",
        "print(f'The model has {count_parameters(model):,} trainable parameters')"
      ],
      "execution_count": 294,
      "outputs": [
        {
          "output_type": "stream",
          "text": [
            "classifier(\n",
            "  (embedding): Embedding(8242, 300)\n",
            "  (encoder): LSTM(300, 100, num_layers=2, batch_first=True, dropout=0.2, bidirectional=True)\n",
            "  (fc): Linear(in_features=100, out_features=3, bias=True)\n",
            ")\n",
            "The model has 3,036,103 trainable parameters\n"
          ],
          "name": "stdout"
        }
      ]
    },
    {
      "cell_type": "markdown",
      "metadata": {
        "id": "XoaOB-MgnNyy"
      },
      "source": [
        "## Model Training and Evaluation"
      ]
    },
    {
      "cell_type": "markdown",
      "metadata": {
        "id": "XQx2ZX6nnNyy"
      },
      "source": [
        "First define the optimizer and loss functions"
      ]
    },
    {
      "cell_type": "code",
      "metadata": {
        "id": "gBrgb-vznNyy"
      },
      "source": [
        "import torch.optim as optim\n",
        "\n",
        "# define optimizer and loss\n",
        "optimizer = optim.Adam(model.parameters(), lr=4e-5)\n",
        "criterion = nn.CrossEntropyLoss()\n",
        "\n",
        "# define metric\n",
        "def binary_accuracy(preds, y):\n",
        "    #round predictions to the closest integer\n",
        "    _, predictions = torch.max(preds, 1)  # max returns the max values and max indices, here we need only the max indices\n",
        "    \n",
        "    correct = (predictions == y).float() \n",
        "    acc = correct.sum() / len(correct)\n",
        "    return acc\n",
        "    \n",
        "# push to cuda if available\n",
        "model = model.to(device)\n",
        "criterion = criterion.to(device)"
      ],
      "execution_count": 295,
      "outputs": []
    },
    {
      "cell_type": "markdown",
      "metadata": {
        "id": "sRx5niJwnNyy"
      },
      "source": [
        "The main thing to be aware of in this new training loop is that we have to reference `batch.tweets` and `batch.labels` to get the particular fields we’re interested in; they don’t fall out quite as nicely from the enumerator as they do in torchvision."
      ]
    },
    {
      "cell_type": "markdown",
      "metadata": {
        "id": "s9yW_qzmnNyz"
      },
      "source": [
        "**Training Loop**"
      ]
    },
    {
      "cell_type": "code",
      "metadata": {
        "id": "rJd4U7MdnNyz"
      },
      "source": [
        "def train(model, iterator, optimizer, criterion):\n",
        "    \n",
        "    # initialize every epoch \n",
        "    epoch_loss = 0\n",
        "    epoch_acc = 0\n",
        "    \n",
        "    # set the model in training phase\n",
        "    model.train()  \n",
        "    \n",
        "    for batch in iterator:\n",
        "        \n",
        "        # resets the gradients after every batch\n",
        "        optimizer.zero_grad()   \n",
        "        \n",
        "        # retrieve text and no. of words\n",
        "        tweet, tweet_lengths = batch.tweets   \n",
        "        \n",
        "        # convert to 1D tensor\n",
        "        predictions = model(tweet, tweet_lengths).squeeze()  \n",
        "        \n",
        "        # compute the loss\n",
        "        loss = criterion(predictions, batch.labels)        \n",
        "        \n",
        "        # compute the binary accuracy\n",
        "        acc = binary_accuracy(predictions, batch.labels)   \n",
        "        \n",
        "        # backpropage the loss and compute the gradients\n",
        "        loss.backward()       \n",
        "        \n",
        "        # update the weights\n",
        "        optimizer.step()      \n",
        "        \n",
        "        # loss and accuracy\n",
        "        epoch_loss += loss.item()  \n",
        "        epoch_acc += acc.item()    \n",
        "        \n",
        "    return epoch_loss / len(iterator), epoch_acc / len(iterator)  # return average loss and average acc"
      ],
      "execution_count": 296,
      "outputs": []
    },
    {
      "cell_type": "markdown",
      "metadata": {
        "id": "f9dR8IffnNy0"
      },
      "source": [
        "**Evaluation Loop**"
      ]
    },
    {
      "cell_type": "code",
      "metadata": {
        "id": "Wu8gbt-InNy0"
      },
      "source": [
        "def evaluate(model, iterator, criterion):\n",
        "    \n",
        "    # initialize every epoch\n",
        "    epoch_loss = 0\n",
        "    epoch_acc = 0\n",
        "\n",
        "    # deactivating dropout layers\n",
        "    model.eval()\n",
        "    \n",
        "    # deactivates autograd\n",
        "    with torch.no_grad():\n",
        "    \n",
        "        for batch in iterator:\n",
        "        \n",
        "            # retrieve text and no. of words\n",
        "            tweet, tweet_lengths = batch.tweets\n",
        "            \n",
        "            # convert to 1d tensor\n",
        "            predictions = model(tweet, tweet_lengths).squeeze()\n",
        "            \n",
        "            # compute loss and accuracy\n",
        "            loss = criterion(predictions, batch.labels)\n",
        "            acc = binary_accuracy(predictions, batch.labels)\n",
        "            \n",
        "            # keep track of loss and accuracy\n",
        "            epoch_loss += loss.item()\n",
        "            epoch_acc += acc.item()\n",
        "        \n",
        "    return epoch_loss / len(iterator), epoch_acc / len(iterator)"
      ],
      "execution_count": 297,
      "outputs": []
    },
    {
      "cell_type": "markdown",
      "metadata": {
        "id": "0jx36FPenNy0"
      },
      "source": [
        "**Let's Train and Evaluate**"
      ]
    },
    {
      "cell_type": "code",
      "metadata": {
        "colab": {
          "base_uri": "https://localhost:8080/"
        },
        "id": "dnec7wiPnNy0",
        "outputId": "dc5c70dd-125e-4a17-ef18-18a496248380"
      },
      "source": [
        "N_EPOCHS = 100\n",
        "best_valid_loss = float('inf')  # initialize with float\n",
        "\n",
        "for epoch in range(N_EPOCHS):\n",
        "     \n",
        "    # train the model\n",
        "    train_loss, train_acc = train(model, train_iterator, optimizer, criterion)\n",
        "    \n",
        "    # evaluate the model\n",
        "    valid_loss, valid_acc = evaluate(model, valid_iterator, criterion)\n",
        "    \n",
        "    # save the best model\n",
        "    if valid_loss < best_valid_loss:\n",
        "        best_valid_loss = valid_loss\n",
        "        torch.save(model.state_dict(), 's7_saved_weights.pt')\n",
        "    \n",
        "    print(f'\\tTrain Loss: {train_loss:.3f} | Train Acc: {train_acc*100:.2f}%')\n",
        "    print(f'\\t Val. Loss: {valid_loss:.3f} |  Val. Acc: {valid_acc*100:.2f}% \\n')"
      ],
      "execution_count": 298,
      "outputs": [
        {
          "output_type": "stream",
          "text": [
            "\tTrain Loss: 1.090 | Train Acc: 42.74%\n",
            "\t Val. Loss: 1.093 |  Val. Acc: 40.45% \n",
            "\n",
            "\tTrain Loss: 1.078 | Train Acc: 58.28%\n",
            "\t Val. Loss: 1.081 |  Val. Acc: 50.45% \n",
            "\n",
            "\tTrain Loss: 1.066 | Train Acc: 61.57%\n",
            "\t Val. Loss: 1.068 |  Val. Acc: 54.91% \n",
            "\n",
            "\tTrain Loss: 1.053 | Train Acc: 64.61%\n",
            "\t Val. Loss: 1.055 |  Val. Acc: 58.04% \n",
            "\n",
            "\tTrain Loss: 1.040 | Train Acc: 66.47%\n",
            "\t Val. Loss: 1.041 |  Val. Acc: 58.48% \n",
            "\n",
            "\tTrain Loss: 1.026 | Train Acc: 67.82%\n",
            "\t Val. Loss: 1.028 |  Val. Acc: 60.71% \n",
            "\n",
            "\tTrain Loss: 1.013 | Train Acc: 68.41%\n",
            "\t Val. Loss: 1.014 |  Val. Acc: 60.27% \n",
            "\n",
            "\tTrain Loss: 0.998 | Train Acc: 68.79%\n",
            "\t Val. Loss: 1.001 |  Val. Acc: 61.16% \n",
            "\n",
            "\tTrain Loss: 0.983 | Train Acc: 69.88%\n",
            "\t Val. Loss: 0.988 |  Val. Acc: 61.16% \n",
            "\n",
            "\tTrain Loss: 0.969 | Train Acc: 69.97%\n",
            "\t Val. Loss: 0.976 |  Val. Acc: 63.39% \n",
            "\n",
            "\tTrain Loss: 0.953 | Train Acc: 70.22%\n",
            "\t Val. Loss: 0.964 |  Val. Acc: 65.62% \n",
            "\n",
            "\tTrain Loss: 0.938 | Train Acc: 69.63%\n",
            "\t Val. Loss: 0.952 |  Val. Acc: 66.07% \n",
            "\n",
            "\tTrain Loss: 0.923 | Train Acc: 69.80%\n",
            "\t Val. Loss: 0.940 |  Val. Acc: 66.07% \n",
            "\n",
            "\tTrain Loss: 0.907 | Train Acc: 69.63%\n",
            "\t Val. Loss: 0.928 |  Val. Acc: 68.30% \n",
            "\n",
            "\tTrain Loss: 0.890 | Train Acc: 69.72%\n",
            "\t Val. Loss: 0.914 |  Val. Acc: 67.86% \n",
            "\n",
            "\tTrain Loss: 0.873 | Train Acc: 69.29%\n",
            "\t Val. Loss: 0.901 |  Val. Acc: 66.96% \n",
            "\n",
            "\tTrain Loss: 0.859 | Train Acc: 69.21%\n",
            "\t Val. Loss: 0.891 |  Val. Acc: 66.96% \n",
            "\n",
            "\tTrain Loss: 0.850 | Train Acc: 69.63%\n",
            "\t Val. Loss: 0.885 |  Val. Acc: 66.07% \n",
            "\n",
            "\tTrain Loss: 0.842 | Train Acc: 70.48%\n",
            "\t Val. Loss: 0.884 |  Val. Acc: 68.75% \n",
            "\n",
            "\tTrain Loss: 0.835 | Train Acc: 71.74%\n",
            "\t Val. Loss: 0.880 |  Val. Acc: 69.64% \n",
            "\n",
            "\tTrain Loss: 0.827 | Train Acc: 74.19%\n",
            "\t Val. Loss: 0.878 |  Val. Acc: 69.64% \n",
            "\n",
            "\tTrain Loss: 0.820 | Train Acc: 75.51%\n",
            "\t Val. Loss: 0.876 |  Val. Acc: 68.75% \n",
            "\n",
            "\tTrain Loss: 0.814 | Train Acc: 75.76%\n",
            "\t Val. Loss: 0.875 |  Val. Acc: 69.20% \n",
            "\n",
            "\tTrain Loss: 0.809 | Train Acc: 76.60%\n",
            "\t Val. Loss: 0.873 |  Val. Acc: 69.64% \n",
            "\n",
            "\tTrain Loss: 0.804 | Train Acc: 76.86%\n",
            "\t Val. Loss: 0.871 |  Val. Acc: 69.20% \n",
            "\n",
            "\tTrain Loss: 0.799 | Train Acc: 77.03%\n",
            "\t Val. Loss: 0.870 |  Val. Acc: 69.20% \n",
            "\n",
            "\tTrain Loss: 0.794 | Train Acc: 77.45%\n",
            "\t Val. Loss: 0.868 |  Val. Acc: 70.98% \n",
            "\n",
            "\tTrain Loss: 0.790 | Train Acc: 77.28%\n",
            "\t Val. Loss: 0.869 |  Val. Acc: 70.98% \n",
            "\n",
            "\tTrain Loss: 0.786 | Train Acc: 77.53%\n",
            "\t Val. Loss: 0.868 |  Val. Acc: 70.98% \n",
            "\n",
            "\tTrain Loss: 0.782 | Train Acc: 77.79%\n",
            "\t Val. Loss: 0.866 |  Val. Acc: 70.98% \n",
            "\n",
            "\tTrain Loss: 0.779 | Train Acc: 78.04%\n",
            "\t Val. Loss: 0.868 |  Val. Acc: 70.54% \n",
            "\n",
            "\tTrain Loss: 0.775 | Train Acc: 78.38%\n",
            "\t Val. Loss: 0.867 |  Val. Acc: 70.54% \n",
            "\n",
            "\tTrain Loss: 0.772 | Train Acc: 79.14%\n",
            "\t Val. Loss: 0.867 |  Val. Acc: 69.64% \n",
            "\n",
            "\tTrain Loss: 0.769 | Train Acc: 79.48%\n",
            "\t Val. Loss: 0.866 |  Val. Acc: 70.54% \n",
            "\n",
            "\tTrain Loss: 0.766 | Train Acc: 79.56%\n",
            "\t Val. Loss: 0.866 |  Val. Acc: 69.64% \n",
            "\n",
            "\tTrain Loss: 0.763 | Train Acc: 80.07%\n",
            "\t Val. Loss: 0.867 |  Val. Acc: 69.20% \n",
            "\n",
            "\tTrain Loss: 0.760 | Train Acc: 80.15%\n",
            "\t Val. Loss: 0.867 |  Val. Acc: 69.20% \n",
            "\n",
            "\tTrain Loss: 0.757 | Train Acc: 80.57%\n",
            "\t Val. Loss: 0.865 |  Val. Acc: 69.20% \n",
            "\n",
            "\tTrain Loss: 0.753 | Train Acc: 80.83%\n",
            "\t Val. Loss: 0.865 |  Val. Acc: 68.75% \n",
            "\n",
            "\tTrain Loss: 0.750 | Train Acc: 81.33%\n",
            "\t Val. Loss: 0.865 |  Val. Acc: 69.20% \n",
            "\n",
            "\tTrain Loss: 0.747 | Train Acc: 81.93%\n",
            "\t Val. Loss: 0.865 |  Val. Acc: 70.09% \n",
            "\n",
            "\tTrain Loss: 0.744 | Train Acc: 82.43%\n",
            "\t Val. Loss: 0.864 |  Val. Acc: 70.09% \n",
            "\n",
            "\tTrain Loss: 0.741 | Train Acc: 82.85%\n",
            "\t Val. Loss: 0.865 |  Val. Acc: 70.09% \n",
            "\n",
            "\tTrain Loss: 0.739 | Train Acc: 83.45%\n",
            "\t Val. Loss: 0.872 |  Val. Acc: 69.20% \n",
            "\n",
            "\tTrain Loss: 0.736 | Train Acc: 84.12%\n",
            "\t Val. Loss: 0.865 |  Val. Acc: 70.09% \n",
            "\n",
            "\tTrain Loss: 0.733 | Train Acc: 84.21%\n",
            "\t Val. Loss: 0.865 |  Val. Acc: 70.09% \n",
            "\n",
            "\tTrain Loss: 0.731 | Train Acc: 84.80%\n",
            "\t Val. Loss: 0.865 |  Val. Acc: 70.09% \n",
            "\n",
            "\tTrain Loss: 0.728 | Train Acc: 85.05%\n",
            "\t Val. Loss: 0.865 |  Val. Acc: 70.09% \n",
            "\n",
            "\tTrain Loss: 0.726 | Train Acc: 85.05%\n",
            "\t Val. Loss: 0.865 |  Val. Acc: 69.64% \n",
            "\n",
            "\tTrain Loss: 0.723 | Train Acc: 85.14%\n",
            "\t Val. Loss: 0.867 |  Val. Acc: 70.09% \n",
            "\n",
            "\tTrain Loss: 0.721 | Train Acc: 85.30%\n",
            "\t Val. Loss: 0.867 |  Val. Acc: 69.64% \n",
            "\n",
            "\tTrain Loss: 0.718 | Train Acc: 85.56%\n",
            "\t Val. Loss: 0.866 |  Val. Acc: 69.64% \n",
            "\n",
            "\tTrain Loss: 0.716 | Train Acc: 85.98%\n",
            "\t Val. Loss: 0.866 |  Val. Acc: 69.20% \n",
            "\n",
            "\tTrain Loss: 0.714 | Train Acc: 86.15%\n",
            "\t Val. Loss: 0.866 |  Val. Acc: 69.64% \n",
            "\n",
            "\tTrain Loss: 0.712 | Train Acc: 86.15%\n",
            "\t Val. Loss: 0.867 |  Val. Acc: 68.75% \n",
            "\n",
            "\tTrain Loss: 0.710 | Train Acc: 86.40%\n",
            "\t Val. Loss: 0.867 |  Val. Acc: 68.75% \n",
            "\n",
            "\tTrain Loss: 0.707 | Train Acc: 86.49%\n",
            "\t Val. Loss: 0.866 |  Val. Acc: 68.75% \n",
            "\n",
            "\tTrain Loss: 0.705 | Train Acc: 86.74%\n",
            "\t Val. Loss: 0.865 |  Val. Acc: 68.75% \n",
            "\n",
            "\tTrain Loss: 0.703 | Train Acc: 87.16%\n",
            "\t Val. Loss: 0.866 |  Val. Acc: 69.20% \n",
            "\n",
            "\tTrain Loss: 0.701 | Train Acc: 87.33%\n",
            "\t Val. Loss: 0.865 |  Val. Acc: 69.20% \n",
            "\n",
            "\tTrain Loss: 0.699 | Train Acc: 87.58%\n",
            "\t Val. Loss: 0.865 |  Val. Acc: 69.64% \n",
            "\n",
            "\tTrain Loss: 0.696 | Train Acc: 87.67%\n",
            "\t Val. Loss: 0.865 |  Val. Acc: 69.64% \n",
            "\n",
            "\tTrain Loss: 0.694 | Train Acc: 87.84%\n",
            "\t Val. Loss: 0.865 |  Val. Acc: 70.09% \n",
            "\n",
            "\tTrain Loss: 0.692 | Train Acc: 87.92%\n",
            "\t Val. Loss: 0.865 |  Val. Acc: 69.64% \n",
            "\n",
            "\tTrain Loss: 0.690 | Train Acc: 88.18%\n",
            "\t Val. Loss: 0.863 |  Val. Acc: 69.64% \n",
            "\n",
            "\tTrain Loss: 0.688 | Train Acc: 88.34%\n",
            "\t Val. Loss: 0.862 |  Val. Acc: 69.64% \n",
            "\n",
            "\tTrain Loss: 0.686 | Train Acc: 88.51%\n",
            "\t Val. Loss: 0.863 |  Val. Acc: 69.64% \n",
            "\n",
            "\tTrain Loss: 0.684 | Train Acc: 88.51%\n",
            "\t Val. Loss: 0.861 |  Val. Acc: 69.20% \n",
            "\n",
            "\tTrain Loss: 0.682 | Train Acc: 88.77%\n",
            "\t Val. Loss: 0.860 |  Val. Acc: 69.20% \n",
            "\n",
            "\tTrain Loss: 0.680 | Train Acc: 88.94%\n",
            "\t Val. Loss: 0.860 |  Val. Acc: 69.20% \n",
            "\n",
            "\tTrain Loss: 0.678 | Train Acc: 89.02%\n",
            "\t Val. Loss: 0.855 |  Val. Acc: 69.20% \n",
            "\n",
            "\tTrain Loss: 0.678 | Train Acc: 89.02%\n",
            "\t Val. Loss: 0.854 |  Val. Acc: 70.54% \n",
            "\n",
            "\tTrain Loss: 0.675 | Train Acc: 89.10%\n",
            "\t Val. Loss: 0.849 |  Val. Acc: 70.09% \n",
            "\n",
            "\tTrain Loss: 0.673 | Train Acc: 89.19%\n",
            "\t Val. Loss: 0.848 |  Val. Acc: 70.54% \n",
            "\n",
            "\tTrain Loss: 0.671 | Train Acc: 89.27%\n",
            "\t Val. Loss: 0.847 |  Val. Acc: 70.98% \n",
            "\n",
            "\tTrain Loss: 0.669 | Train Acc: 89.36%\n",
            "\t Val. Loss: 0.845 |  Val. Acc: 70.98% \n",
            "\n",
            "\tTrain Loss: 0.667 | Train Acc: 89.61%\n",
            "\t Val. Loss: 0.847 |  Val. Acc: 71.43% \n",
            "\n",
            "\tTrain Loss: 0.666 | Train Acc: 89.61%\n",
            "\t Val. Loss: 0.840 |  Val. Acc: 70.98% \n",
            "\n",
            "\tTrain Loss: 0.664 | Train Acc: 89.95%\n",
            "\t Val. Loss: 0.838 |  Val. Acc: 71.88% \n",
            "\n",
            "\tTrain Loss: 0.662 | Train Acc: 90.03%\n",
            "\t Val. Loss: 0.837 |  Val. Acc: 72.77% \n",
            "\n",
            "\tTrain Loss: 0.660 | Train Acc: 90.03%\n",
            "\t Val. Loss: 0.836 |  Val. Acc: 72.77% \n",
            "\n",
            "\tTrain Loss: 0.659 | Train Acc: 90.29%\n",
            "\t Val. Loss: 0.837 |  Val. Acc: 72.32% \n",
            "\n",
            "\tTrain Loss: 0.657 | Train Acc: 90.37%\n",
            "\t Val. Loss: 0.838 |  Val. Acc: 72.32% \n",
            "\n",
            "\tTrain Loss: 0.656 | Train Acc: 90.46%\n",
            "\t Val. Loss: 0.838 |  Val. Acc: 72.32% \n",
            "\n",
            "\tTrain Loss: 0.655 | Train Acc: 90.46%\n",
            "\t Val. Loss: 0.837 |  Val. Acc: 74.11% \n",
            "\n",
            "\tTrain Loss: 0.658 | Train Acc: 90.12%\n",
            "\t Val. Loss: 0.832 |  Val. Acc: 73.21% \n",
            "\n",
            "\tTrain Loss: 0.654 | Train Acc: 90.29%\n",
            "\t Val. Loss: 0.837 |  Val. Acc: 73.21% \n",
            "\n",
            "\tTrain Loss: 0.654 | Train Acc: 90.20%\n",
            "\t Val. Loss: 0.829 |  Val. Acc: 73.66% \n",
            "\n",
            "\tTrain Loss: 0.653 | Train Acc: 90.54%\n",
            "\t Val. Loss: 0.829 |  Val. Acc: 73.66% \n",
            "\n",
            "\tTrain Loss: 0.651 | Train Acc: 90.71%\n",
            "\t Val. Loss: 0.829 |  Val. Acc: 74.11% \n",
            "\n",
            "\tTrain Loss: 0.650 | Train Acc: 90.71%\n",
            "\t Val. Loss: 0.828 |  Val. Acc: 74.11% \n",
            "\n",
            "\tTrain Loss: 0.649 | Train Acc: 90.79%\n",
            "\t Val. Loss: 0.828 |  Val. Acc: 73.66% \n",
            "\n",
            "\tTrain Loss: 0.648 | Train Acc: 90.79%\n",
            "\t Val. Loss: 0.828 |  Val. Acc: 73.66% \n",
            "\n",
            "\tTrain Loss: 0.647 | Train Acc: 90.96%\n",
            "\t Val. Loss: 0.828 |  Val. Acc: 73.66% \n",
            "\n",
            "\tTrain Loss: 0.646 | Train Acc: 91.05%\n",
            "\t Val. Loss: 0.828 |  Val. Acc: 73.66% \n",
            "\n",
            "\tTrain Loss: 0.646 | Train Acc: 91.05%\n",
            "\t Val. Loss: 0.827 |  Val. Acc: 73.66% \n",
            "\n",
            "\tTrain Loss: 0.645 | Train Acc: 91.22%\n",
            "\t Val. Loss: 0.828 |  Val. Acc: 73.66% \n",
            "\n",
            "\tTrain Loss: 0.644 | Train Acc: 91.39%\n",
            "\t Val. Loss: 0.828 |  Val. Acc: 73.66% \n",
            "\n",
            "\tTrain Loss: 0.643 | Train Acc: 91.47%\n",
            "\t Val. Loss: 0.828 |  Val. Acc: 73.66% \n",
            "\n",
            "\tTrain Loss: 0.643 | Train Acc: 91.47%\n",
            "\t Val. Loss: 0.828 |  Val. Acc: 73.21% \n",
            "\n"
          ],
          "name": "stdout"
        }
      ]
    },
    {
      "cell_type": "markdown",
      "metadata": {
        "id": "41ixqWphxUg6"
      },
      "source": [
        "# **OBSERVATIONS**\r\n",
        "\r\n",
        "\r\n",
        "---\r\n",
        "\r\n",
        "\r\n",
        "\r\n",
        "# Normal without text augmentation\r\n",
        "## *lr=4e-5*\r\n",
        "### for 50 epochs --> Simple LSTM --> tr:84%, valid:77%\r\n",
        "### for 50 epochs --> Bi-directional LSTM --> tr:85.90%, valid:77.68%\r\n",
        "\r\n",
        "\r\n",
        "## *lr=2e-4*\r\n",
        "### for 50 epochs --> Simple LSTM --> tr:92%, valid:83%\r\n",
        "### for 100 epochs --> Bi-directional LSTM --> tr:92%.74, valid:77.23%\r\n",
        "\r\n",
        "\r\n",
        "## *lr=6e-5*\r\n",
        "### for 50 epochs --> Bi-directional LSTM --> tr:90%, valid:80%\r\n",
        "\r\n",
        "\r\n",
        "---\r\n",
        "\r\n",
        "\r\n",
        "\r\n",
        "\r\n",
        "---\r\n",
        "\r\n",
        "\r\n",
        "-------------------------------------------\r\n",
        "\r\n",
        "\r\n",
        "---\r\n",
        "\r\n",
        "\r\n",
        "\r\n",
        "# With text augmentation\r\n",
        "## *lr=4e-5 and 'swap'* \r\n",
        "### for 100 epochs --> Simple LSTM --> tr:92.53%, valid:56.25%\r\n",
        "### for 100 epochs --> Bi-directional LSTM --> tr:91.47%, valid:73.21%\r\n",
        "\r\n",
        "## *lr=4e-5 and 'delete'* \r\n",
        "### for 100 epochs --> Simple LSTM --> tr:92.48%, valid:66.96%\r\n",
        "### for 100 epochs --> Bi-directional LSTM --> tr:91.98%, valid:67.41%\r\n",
        "\r\n",
        "## *lr=4e-5 and 'combined_aug'* \r\n",
        "### for 100 epochs --> Simple LSTM --> tr:84%, valid:77%\r\n",
        "### for 100 epochs --> Bi-directional LSTM --> tr:92.94%, valid:44.27%\r\n",
        "\r\n",
        "\r\n"
      ]
    }
  ]
}